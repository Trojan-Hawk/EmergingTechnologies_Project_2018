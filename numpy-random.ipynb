{
 "cells": [
  {
   "cell_type": "markdown",
   "metadata": {},
   "source": [
    "# Introduction\n",
    "[Numpy](http://www.numpy.org/) is a numerical package for Python. It has a subpackage called [random](https://docs.scipy.org/doc/numpy/reference/routines.random.html). This numpy.random subpackage will be the main focus of this Jupyter Notebook. This notebook is a collection of explainations and code snippets, most of which has been adapted, from the above references. The aim of this notebook is to show an understanding of the various functions contained within the numpy.random subpackage. This can also be used as a learning aid to those who wish to learn about this subpackage, this could be very useful because Jupyter Notebook allows the user to run/edit the various code snippets as they wish."
   ]
  },
  {
   "cell_type": "markdown",
   "metadata": {},
   "source": [
    "The numpy namespace includes all names under the numpy.core and numpy.lib namespaces as well. This numpy import will also import the names from numpy.core and numpy.lib. This is the recommended way to use numpy."
   ]
  },
  {
   "cell_type": "code",
   "execution_count": 1,
   "metadata": {},
   "outputs": [],
   "source": [
    "import numpy as np"
   ]
  },
  {
   "cell_type": "markdown",
   "metadata": {},
   "source": [
    "This Jupyter Notebook also contains some package imports which are not the core focus of this notebook. These packages are listed, imported and referenced below.\n",
    "-  [mathplotlib.pyplot](https://matplotlib.org/api/api_overview.html)\n",
    "-  [scipy.special](https://docs.scipy.org/doc/scipy/reference/special.html)"
   ]
  },
  {
   "cell_type": "code",
   "execution_count": 2,
   "metadata": {},
   "outputs": [],
   "source": [
    "import matplotlib.pyplot as plt\n",
    "import scipy.special as sps"
   ]
  },
  {
   "cell_type": "markdown",
   "metadata": {},
   "source": [
    "## Table Of Contents\n",
    "-  [Simple Random Data](#SimpleRandomData)\n",
    "    -  [random.rand](#random.rand)\n",
    "    -  [random.randn](#random.randn)\n",
    "    -  [random.randint](#random.randint)    \n",
    "    -  [random.random_integers](#random.random_integers)\n",
    "    -  [random.random_sample](#random.random_sample)\n",
    "    -  [random.random](#random.random)\n",
    "    -  [random.ranf](#random.ranf)\n",
    "    -  [random.sample](#random.sample)\n",
    "    -  [random.choice](#random.choice)\n",
    "    -  [random.bytes](#random.bytes)\n",
    "-  [Permutations](#Permutations)\n",
    "    -  [random.shuffle](#random.shuffle)\n",
    "    -  [random.permutation](#random.permutation)\n",
    "-  [Distributions](#Distributions)\n",
    "    -  [random.beta](#random.beta)\n",
    "    -  [random.binomial](#random.binomial)\n",
    "    -  [random.chisquare](#random.chisquare)\n",
    "    -  [random.dirichlet](#random.dirichlet)\n",
    "    -  [random.exponential](#random.exponential)\n",
    "    -  [random.f](#random.f)\n",
    "    -  [random.gamma](#random.gamma)\n",
    "    -  [random.geometric](#random.geometric)\n",
    "    -  [random.gumbel](#random.gumbel)\n",
    "    -  [random.hypergeometric](#random.hypergeometric)\n",
    "    -  [random.laplace](#random.laplace)\n",
    "    -  [random.logistic](#random.logistic)\n",
    "    -  [random.lognormal](#random.lognormal)\n",
    "    -  [random.logseries](#random.logseries)\n",
    "    -  [random.multinomial](#random.multinomial)\n",
    "    -  [random.multivariate_normal](#random.multivariate_normal)\n",
    "    -  [random.negative_binomial](#random.negative_binomial)\n",
    "    -  [random.noncentral_chisquare](#random.noncentral_chisquare)\n",
    "    -  [random.noncentral_f](#random.noncentral_f)\n",
    "    -  [random.normal](#random.normal)\n",
    "    -  [random.pareto](#random.pareto)\n",
    "    -  [random.poisson](#random.poisson)\n",
    "    -  [random.power](#random.power)\n",
    "    -  [random.rayleigh](#random.rayleigh)\n",
    "    -  [random.standard_cauchy](#random.standard_cauchy)\n",
    "    -  [random.standard_exponential](#random.standard_exponential)\n",
    "    -  [random.standard_gamma](#random.standard_gamma)\n",
    "    -  [random.standard_normal](#random.standard_normal)\n",
    "    -  [random.standard_t](#random.standard_t)\n",
    "    -  [random.triangular](#random.triangular)\n",
    "    -  [random.uniform](#random.uniform)\n",
    "    -  [random.vonmises](#random.vonmises)\n",
    "    -  [random.wald](#random.wald)\n",
    "    -  [random.weibull](#random.weibull)\n",
    "    -  [random.zipf](#random.zipf)\n",
    "-  [Random generator](#RandomGenerator)\n",
    "    -  [random.RandomState](#random.RandomState)\n",
    "    -  [random.seed](#random.seed)\n",
    "    -  [random.get_state](#random.get_state)\n",
    "    -  [random.set_state](#random.set_state)"
   ]
  },
  {
   "cell_type": "markdown",
   "metadata": {},
   "source": [
    "## Simple random data <a id=\"SimpleRandomData\"></a>"
   ]
  },
  {
   "cell_type": "markdown",
   "metadata": {},
   "source": [
    "### random.rand"
   ]
  },
  {
   "cell_type": "code",
   "execution_count": 3,
   "metadata": {},
   "outputs": [
    {
     "data": {
      "text/plain": [
       "array([[0.0248127 , 0.09264696, 0.13132957, 0.29086297, 0.53836086],\n",
       "       [0.92359573, 0.67523832, 0.44397276, 0.21951106, 0.43451626],\n",
       "       [0.74317526, 0.05624291, 0.47581471, 0.45752408, 0.56989892],\n",
       "       [0.24854089, 0.53318892, 0.94598451, 0.6632241 , 0.26162772]])"
      ]
     },
     "execution_count": 3,
     "metadata": {},
     "output_type": "execute_result"
    }
   ],
   "source": [
    "x = np.random.rand(4,5)\n",
    "x"
   ]
  },
  {
   "cell_type": "markdown",
   "metadata": {},
   "source": [
    "The above random.rand(*n*, *n*) outputs an array in the given shape, and popuates the array with random samples from a uniform distribution over [0, 1]."
   ]
  },
  {
   "cell_type": "code",
   "execution_count": 4,
   "metadata": {},
   "outputs": [
    {
     "data": {
      "image/png": "[encoded data removed]",
      "text/plain": [
       "<Figure size 432x288 with 1 Axes>"
      ]
     },
     "metadata": {},
     "output_type": "display_data"
    }
   ],
   "source": [
    "y = np.sin(x)\n",
    "plt.plot(x, y, 'b.')\n",
    "plt.show()"
   ]
  },
  {
   "cell_type": "code",
   "execution_count": 5,
   "metadata": {},
   "outputs": [
    {
     "data": {
      "image/png": "[encoded data removed]",
      "text/plain": [
       "<Figure size 432x288 with 1 Axes>"
      ]
     },
     "metadata": {},
     "output_type": "display_data"
    }
   ],
   "source": [
    "x = np.random.rand(5)\n",
    "y = np.sin(x)\n",
    "plt.plot(x, y, 'b.')\n",
    "plt.show()"
   ]
  },
  {
   "cell_type": "markdown",
   "metadata": {},
   "source": [
    "The dimensions of the returned array, should all be positive. If no argument is given a single Python float is returned."
   ]
  },
  {
   "cell_type": "code",
   "execution_count": 6,
   "metadata": {},
   "outputs": [
    {
     "data": {
      "text/plain": [
       "0.16747797470558068"
      ]
     },
     "execution_count": 6,
     "metadata": {},
     "output_type": "execute_result"
    }
   ],
   "source": [
    "np.random.rand()"
   ]
  },
  {
   "cell_type": "markdown",
   "metadata": {},
   "source": [
    "If an interface that takes a shape-tuple as the first argument is needed refer to the [random.random_sample()](#random.random_sample) below."
   ]
  },
  {
   "cell_type": "markdown",
   "metadata": {},
   "source": [
    "### random.randn"
   ]
  },
  {
   "cell_type": "code",
   "execution_count": 7,
   "metadata": {},
   "outputs": [
    {
     "data": {
      "image/png": "[encoded data removed]",
      "text/plain": [
       "<Figure size 432x288 with 1 Axes>"
      ]
     },
     "metadata": {},
     "output_type": "display_data"
    }
   ],
   "source": [
    "x = np.random.randn(3,4)\n",
    "y = np.sin(x)\n",
    "plt.plot(x, y, 'b.')\n",
    "plt.show()"
   ]
  },
  {
   "cell_type": "markdown",
   "metadata": {},
   "source": [
    "The above random.randn(*n*, *n*) returns a random sample (or samples) if positive, randn generates an array of a shape using the parameters provided. If parameters are specified an array is filled with random floats sampled from a univariate “normal” (Gaussian) distribution of mean 0 and variance 1, if any are floats, they are first converted to integers by truncation. \n",
    "\n",
    "If an interface that takes a tuple as the first argument is needed refer to [random.standard_normal](#random.standard_normal) outlined below."
   ]
  },
  {
   "cell_type": "code",
   "execution_count": 8,
   "metadata": {},
   "outputs": [
    {
     "data": {
      "text/plain": [
       "array([-0.0682454 ,  0.78140595, -0.17755363])"
      ]
     },
     "execution_count": 8,
     "metadata": {},
     "output_type": "execute_result"
    }
   ],
   "source": [
    "np.random.randn(3)"
   ]
  },
  {
   "cell_type": "markdown",
   "metadata": {},
   "source": [
    "A single float randomly sampled from the distribution is returned if no argument is provided."
   ]
  },
  {
   "cell_type": "code",
   "execution_count": 9,
   "metadata": {},
   "outputs": [
    {
     "data": {
      "text/plain": [
       "0.992310799609312"
      ]
     },
     "execution_count": 9,
     "metadata": {},
     "output_type": "execute_result"
    }
   ],
   "source": [
    "np.random.randn()"
   ]
  },
  {
   "cell_type": "markdown",
   "metadata": {},
   "source": [
    "For random samples from normal distribution, with mean vector μ and standard deviation σ, use: \n",
    "N(μ, σ ^2)\n",
    "\n",
    "Which is implemented as follows:"
   ]
  },
  {
   "cell_type": "code",
   "execution_count": 10,
   "metadata": {},
   "outputs": [
    {
     "data": {
      "image/png": "[encoded data removed]",
      "text/plain": [
       "<Figure size 432x288 with 1 Axes>"
      ]
     },
     "metadata": {},
     "output_type": "display_data"
    }
   ],
   "source": [
    "x = np.random.randn(2, 5) + 7\n",
    "y = np.sin(x)\n",
    "plt.plot(x, y, 'b.')\n",
    "plt.show()"
   ]
  },
  {
   "cell_type": "markdown",
   "metadata": {},
   "source": [
    "### random.randint"
   ]
  },
  {
   "cell_type": "markdown",
   "metadata": {},
   "source": [
    "This function returns random integers from low (inclusive) to high (exclusive).\n",
    "\n",
    "The parameters are as follows:\n",
    "\n",
    "low (int):<br>The lowest int to be drawn from the distribution, unless high=None, this parameter is one above the highest such integer."
   ]
  },
  {
   "cell_type": "code",
   "execution_count": 11,
   "metadata": {},
   "outputs": [
    {
     "data": {
      "text/plain": [
       "2"
      ]
     },
     "execution_count": 11,
     "metadata": {},
     "output_type": "execute_result"
    }
   ],
   "source": [
    "np.random.randint(3)"
   ]
  },
  {
   "cell_type": "markdown",
   "metadata": {},
   "source": [
    "high (int, optional):<br>If specified, one above the largest signed integer to be drawn from the distribution."
   ]
  },
  {
   "cell_type": "code",
   "execution_count": 12,
   "metadata": {},
   "outputs": [
    {
     "data": {
      "text/plain": [
       "7"
      ]
     },
     "execution_count": 12,
     "metadata": {},
     "output_type": "execute_result"
    }
   ],
   "source": [
    "np.random.randint(4, high=10)"
   ]
  },
  {
   "cell_type": "markdown",
   "metadata": {},
   "source": [
    "size (int or tuple of ints, optional):<br>Default is none which returns a single value, if specified defines the output shape."
   ]
  },
  {
   "cell_type": "code",
   "execution_count": 13,
   "metadata": {},
   "outputs": [
    {
     "data": {
      "text/plain": [
       "array([0, 0, 0, 1, 0, 0, 1])"
      ]
     },
     "execution_count": 13,
     "metadata": {},
     "output_type": "execute_result"
    }
   ],
   "source": [
    "np.random.randint(2, size=7)"
   ]
  },
  {
   "cell_type": "markdown",
   "metadata": {},
   "source": [
    "dtype (dtype, optional):<br>Desired data type object of the result."
   ]
  },
  {
   "cell_type": "code",
   "execution_count": 14,
   "metadata": {},
   "outputs": [
    {
     "data": {
      "text/plain": [
       "array([[3, 2],\n",
       "       [3, 3],\n",
       "       [2, 2]])"
      ]
     },
     "execution_count": 14,
     "metadata": {},
     "output_type": "execute_result"
    }
   ],
   "source": [
    "np.random.randint(2.0, high=4, size=(3,2), dtype='int_')"
   ]
  },
  {
   "cell_type": "markdown",
   "metadata": {},
   "source": [
    "This function returns an int or array of ints, depending on if the size is specified."
   ]
  },
  {
   "cell_type": "markdown",
   "metadata": {},
   "source": [
    "### random.random_integers"
   ]
  },
  {
   "cell_type": "markdown",
   "metadata": {},
   "source": [
    "Random integers of type np.int between low and high, inclusive.\n",
    "\n",
    "This function has been deprecated. Use [randint](#random.randint) instead.\n",
    "Deprecated since version 1.11.0."
   ]
  },
  {
   "cell_type": "markdown",
   "metadata": {},
   "source": [
    "### random.random_sample"
   ]
  },
  {
   "cell_type": "markdown",
   "metadata": {},
   "source": [
    "This function returns a random float (floats) in the half-open interval [0.0, 1.0]. Half-open interval is a set of numbers between two given numbers but including only one endpoint.\n",
    "\n",
    "Only has one optional parameter:\n",
    "size (int or tuple of ints, optional):\n",
    "If specified, outputs the given shape.\n",
    "\n",
    "Returns a float or an array of floats."
   ]
  },
  {
   "cell_type": "code",
   "execution_count": 15,
   "metadata": {},
   "outputs": [
    {
     "data": {
      "text/plain": [
       "0.24300422457030213"
      ]
     },
     "execution_count": 15,
     "metadata": {},
     "output_type": "execute_result"
    }
   ],
   "source": [
    "np.random.random_sample()"
   ]
  },
  {
   "cell_type": "code",
   "execution_count": 16,
   "metadata": {},
   "outputs": [
    {
     "data": {
      "text/plain": [
       "array([0.60292076, 0.23951654, 0.83376748])"
      ]
     },
     "execution_count": 16,
     "metadata": {},
     "output_type": "execute_result"
    }
   ],
   "source": [
    "np.random.random_sample(3)"
   ]
  },
  {
   "cell_type": "code",
   "execution_count": 17,
   "metadata": {},
   "outputs": [
    {
     "data": {
      "image/png": "[encoded data removed]",
      "text/plain": [
       "<Figure size 432x288 with 1 Axes>"
      ]
     },
     "metadata": {},
     "output_type": "display_data"
    }
   ],
   "source": [
    "x = np.random.random_sample((3, 3))\n",
    "y = np.sin(x)\n",
    "plt.plot(x, y, 'b.')\n",
    "plt.show()"
   ]
  },
  {
   "cell_type": "markdown",
   "metadata": {},
   "source": [
    "### random.random"
   ]
  },
  {
   "cell_type": "markdown",
   "metadata": {},
   "source": [
    "This function is an alias to [random.random_sample](#random.random_sample).\n",
    "\n",
    "Proof in code:"
   ]
  },
  {
   "cell_type": "code",
   "execution_count": 18,
   "metadata": {},
   "outputs": [
    {
     "data": {
      "text/plain": [
       "True"
      ]
     },
     "execution_count": 18,
     "metadata": {},
     "output_type": "execute_result"
    }
   ],
   "source": [
    "np.random.random is np.random.random_sample"
   ]
  },
  {
   "cell_type": "markdown",
   "metadata": {},
   "source": [
    "### random.ranf"
   ]
  },
  {
   "cell_type": "markdown",
   "metadata": {},
   "source": [
    "This function is an alias to [random.random_sample](#random.random_sample)\n",
    "\n",
    "Proof in code:"
   ]
  },
  {
   "cell_type": "code",
   "execution_count": 19,
   "metadata": {},
   "outputs": [
    {
     "data": {
      "text/plain": [
       "True"
      ]
     },
     "execution_count": 19,
     "metadata": {},
     "output_type": "execute_result"
    }
   ],
   "source": [
    "np.random.ranf is np.random.random_sample"
   ]
  },
  {
   "cell_type": "markdown",
   "metadata": {},
   "source": [
    "### random.sample"
   ]
  },
  {
   "cell_type": "markdown",
   "metadata": {},
   "source": [
    "This function is an alias to [random.random_sample](#random.random_sample)\n",
    "\n",
    "Proof in code:"
   ]
  },
  {
   "cell_type": "code",
   "execution_count": 20,
   "metadata": {},
   "outputs": [
    {
     "data": {
      "text/plain": [
       "True"
      ]
     },
     "execution_count": 20,
     "metadata": {},
     "output_type": "execute_result"
    }
   ],
   "source": [
    "np.random.sample is np.random.random_sample"
   ]
  },
  {
   "cell_type": "markdown",
   "metadata": {},
   "source": [
    "### random.choice"
   ]
  },
  {
   "cell_type": "markdown",
   "metadata": {},
   "source": [
    "This function generates a random sample from a given 1-D array.\n",
    "\n",
    "The parameters it takes are as follows:\n",
    "-  a (1-D array-like or int):<br>\n",
    "If an ndarray, a random sample is generated from its elements. If an int, the random sample is generated as if a were np.arange(a)\n",
    "-  size (int or tuple of ints, optional):<br>\n",
    "Defines the output shape, the default is None, in which case a single value is returned.\n",
    "-  replace (boolean, optional):<br>\n",
    "Whether the sample is with or without replacement.\n",
    "-  p (1-D array-like, optional):<br>\n",
    "The probabilities associated with each entry in a. If not given the sample assumes a uniform distribution over all entries in a.\n",
    "\n",
    "This function returns a single item or an array of random samples."
   ]
  },
  {
   "cell_type": "code",
   "execution_count": 21,
   "metadata": {},
   "outputs": [
    {
     "data": {
      "text/plain": [
       "1"
      ]
     },
     "execution_count": 21,
     "metadata": {},
     "output_type": "execute_result"
    }
   ],
   "source": [
    "np.random.choice(3)"
   ]
  },
  {
   "cell_type": "markdown",
   "metadata": {},
   "source": [
    "Generate a uniform random sample from np.arange(3) of size 5:"
   ]
  },
  {
   "cell_type": "code",
   "execution_count": 22,
   "metadata": {},
   "outputs": [
    {
     "data": {
      "text/plain": [
       "array([1, 0, 2, 1, 1])"
      ]
     },
     "execution_count": 22,
     "metadata": {},
     "output_type": "execute_result"
    }
   ],
   "source": [
    "np.random.choice(3, 5)"
   ]
  },
  {
   "cell_type": "markdown",
   "metadata": {},
   "source": [
    "Generate a non-uniform random sample from np.arange(3) of size 4:"
   ]
  },
  {
   "cell_type": "code",
   "execution_count": 23,
   "metadata": {},
   "outputs": [
    {
     "data": {
      "text/plain": [
       "array([2, 2, 2, 2], dtype=int64)"
      ]
     },
     "execution_count": 23,
     "metadata": {},
     "output_type": "execute_result"
    }
   ],
   "source": [
    "np.random.choice(3, 4, p=[0.2, 0.1, 0.7])"
   ]
  },
  {
   "cell_type": "markdown",
   "metadata": {},
   "source": [
    "Generate a uniform sample from np.arange(4) of size 3 with replacement:"
   ]
  },
  {
   "cell_type": "code",
   "execution_count": 24,
   "metadata": {},
   "outputs": [
    {
     "data": {
      "text/plain": [
       "array([0, 0, 1, 2])"
      ]
     },
     "execution_count": 24,
     "metadata": {},
     "output_type": "execute_result"
    }
   ],
   "source": [
    "np.random.choice(3, 4, replace=True)"
   ]
  },
  {
   "cell_type": "markdown",
   "metadata": {},
   "source": [
    "Any of the above can be repeated with an arbitrary array. For example:"
   ]
  },
  {
   "cell_type": "code",
   "execution_count": 25,
   "metadata": {},
   "outputs": [
    {
     "data": {
      "text/plain": [
       "array(['cat', 'cat', 'snake'], dtype='<U8')"
      ]
     },
     "execution_count": 25,
     "metadata": {},
     "output_type": "execute_result"
    }
   ],
   "source": [
    "pet_array = ['rabbit', 'dog', 'cat', 'lizard', 'snake', 'goldfish']\n",
    "np.random.choice(pet_array, 3, p=[0.1, 0.1, 0.1, 0.4, 0.2, 0.1])"
   ]
  },
  {
   "cell_type": "markdown",
   "metadata": {},
   "source": [
    "### random.bytes"
   ]
  },
  {
   "cell_type": "markdown",
   "metadata": {},
   "source": [
    "This function returns random bytes.\n",
    "\n",
    "It takes one parameter, length, which determines the number of random bytes.\n",
    "\n",
    "It returns a String of length *length*."
   ]
  },
  {
   "cell_type": "code",
   "execution_count": 26,
   "metadata": {},
   "outputs": [
    {
     "data": {
      "text/plain": [
       "b\":\\x7f\\x1f\\x8c\\x1e\\xb1\\xa8\\x8bp\\x8f\\xa1\\xe5\\x05\\xc3\\x90\\xeb \\x0b\\x89\\xd0\\xfb\\x12\\xa8\\x7f\\x90\\xca\\x1e\\xaadp\\x89\\x10D\\xdc?l\\r\\x0c\\x17\\xbf\\x1a\\xa8\\x9b\\xc6\\x1e2KT\\xdc\\x91\\xc7\\x8d\\xbaM\\x1ek\\xce^\\x13\\xbeU\\xf2'\\xc9\\xcb\\x02\\xc9\\x81z\\x831\\xef\\xfd\\x8d\\x80\\x16\\xb5!q\\x0b\\x10\\xaa\\xd6\\x92\\x90\\x04z:aQ\\xf8\\xb9)\\x8ap\\x11\\xce\\x94#\\xa3\""
      ]
     },
     "execution_count": 26,
     "metadata": {},
     "output_type": "execute_result"
    }
   ],
   "source": [
    "np.random.bytes(100)"
   ]
  },
  {
   "cell_type": "markdown",
   "metadata": {},
   "source": [
    "## Permutations"
   ]
  },
  {
   "cell_type": "markdown",
   "metadata": {},
   "source": [
    "### random.shuffle"
   ]
  },
  {
   "cell_type": "markdown",
   "metadata": {},
   "source": [
    "This function is used to modify a sequesnce in-place by shuffling its contents."
   ]
  },
  {
   "cell_type": "code",
   "execution_count": 27,
   "metadata": {},
   "outputs": [
    {
     "data": {
      "text/plain": [
       "['Yellow', 'Red', 'Blue', 'Black', 'Green']"
      ]
     },
     "execution_count": 27,
     "metadata": {},
     "output_type": "execute_result"
    }
   ],
   "source": [
    "colour_array = [\"Black\", \"Blue\", \"Red\", \"Green\", \"Yellow\"]\n",
    "np.random.shuffle(colour_array)\n",
    "colour_array"
   ]
  },
  {
   "cell_type": "markdown",
   "metadata": {},
   "source": [
    "This function only shuffles the array along the first axis of a multi-dimensional array, the order of sub-arrays are changed but contents remain the same."
   ]
  },
  {
   "cell_type": "code",
   "execution_count": 28,
   "metadata": {},
   "outputs": [
    {
     "name": "stdout",
     "output_type": "stream",
     "text": [
      "[[ 0  1  2  3  4]\n",
      " [ 5  6  7  8  9]\n",
      " [10 11 12 13 14]]\n"
     ]
    }
   ],
   "source": [
    "array = np.arange(15).reshape((3, 5))\n",
    "print(array)"
   ]
  },
  {
   "cell_type": "code",
   "execution_count": 29,
   "metadata": {},
   "outputs": [
    {
     "name": "stdout",
     "output_type": "stream",
     "text": [
      "[[ 0  1  2  3  4]\n",
      " [10 11 12 13 14]\n",
      " [ 5  6  7  8  9]]\n"
     ]
    }
   ],
   "source": [
    "np.random.shuffle(array)\n",
    "print(array)"
   ]
  },
  {
   "cell_type": "markdown",
   "metadata": {},
   "source": [
    "### random.permutation"
   ]
  },
  {
   "cell_type": "markdown",
   "metadata": {},
   "source": [
    "This function randomly permutes a sequence, or returns a permuted range.\n",
    "\n",
    "This method takes one parameter, which can be either be an int or an array.\n",
    "If an int, randomly permute *np.arange(int)*.\n",
    "If an array, make a copy and shuffle the elements randomly."
   ]
  },
  {
   "cell_type": "code",
   "execution_count": 30,
   "metadata": {},
   "outputs": [
    {
     "data": {
      "text/plain": [
       "array([0, 3, 9, 5, 7, 8, 2, 1, 4, 6])"
      ]
     },
     "execution_count": 30,
     "metadata": {},
     "output_type": "execute_result"
    }
   ],
   "source": [
    "np.random.permutation(10)"
   ]
  },
  {
   "cell_type": "code",
   "execution_count": 31,
   "metadata": {},
   "outputs": [
    {
     "data": {
      "text/plain": [
       "array([[ 0,  1,  2,  3,  4],\n",
       "       [ 5,  6,  7,  8,  9],\n",
       "       [10, 11, 12, 13, 14]])"
      ]
     },
     "execution_count": 31,
     "metadata": {},
     "output_type": "execute_result"
    }
   ],
   "source": [
    "array = np.arange(15).reshape((3, 5))\n",
    "array"
   ]
  },
  {
   "cell_type": "code",
   "execution_count": 32,
   "metadata": {},
   "outputs": [
    {
     "data": {
      "text/plain": [
       "array([[ 0,  1,  2,  3,  4],\n",
       "       [ 5,  6,  7,  8,  9],\n",
       "       [10, 11, 12, 13, 14]])"
      ]
     },
     "execution_count": 32,
     "metadata": {},
     "output_type": "execute_result"
    }
   ],
   "source": [
    "np.random.permutation(array)"
   ]
  },
  {
   "cell_type": "markdown",
   "metadata": {},
   "source": [
    "## Distributions"
   ]
  },
  {
   "cell_type": "markdown",
   "metadata": {},
   "source": [
    "### random.beta"
   ]
  },
  {
   "cell_type": "markdown",
   "metadata": {},
   "source": [
    "This function is used to draw samples from a Beta distribution. The Beta distribution is a special case of the Dirichlet distribution, and is related to the Gamma distribution.<br><br>\n",
    "This function can take three parameters:\n",
    "-  a (float or array of floats):<br>\n",
    "Alpha, must be a positive value.\n",
    "-  b (float or array of floats):<br>\n",
    "Beta, must be a positive value.\n",
    "-  size (int or tuple of ints, optional):<br>\n",
    "Defines the output shape. If size=None (default), a single value is returned if a and b are both scalars. Otherwise, np.broadcast(a, b).size samples are drawn."
   ]
  },
  {
   "cell_type": "code",
   "execution_count": 33,
   "metadata": {},
   "outputs": [
    {
     "data": {
      "text/plain": [
       "0.29711992369112117"
      ]
     },
     "execution_count": 33,
     "metadata": {},
     "output_type": "execute_result"
    }
   ],
   "source": [
    "np.random.beta(2.1, 5.3)"
   ]
  },
  {
   "cell_type": "code",
   "execution_count": 34,
   "metadata": {},
   "outputs": [
    {
     "data": {
      "text/plain": [
       "array([0.34398002, 0.07132453, 0.41897329, 0.37057156, 0.22396178])"
      ]
     },
     "execution_count": 34,
     "metadata": {},
     "output_type": "execute_result"
    }
   ],
   "source": [
    "np.random.beta(2.4, 4.5, 5)"
   ]
  },
  {
   "cell_type": "markdown",
   "metadata": {},
   "source": [
    "### random.binomial"
   ]
  },
  {
   "cell_type": "markdown",
   "metadata": {},
   "source": [
    "This function is used to draw samples from a binomial distribution.\n",
    "\n",
    "Samples are drawn with specified parameters, n trials and p probability of success where n an integer >= 0 and p is in the interval [0,1]. (n may be input as a float, but it is truncated to an integer in use)\n",
    "\n",
    "This function takes the following parameters:\t\n",
    "-  n (int or array_like of ints):<br>\n",
    "Must be >= 0. Floats are also accepted, but they will be truncated to integers.\n",
    "-  p (float or array_like of floats):<br>\n",
    "Must be between 0 and 1 inclusive.\n",
    "-  size (int or tuple of ints, optional):<br>\n",
    "Defines the output shape. If size is None (default), a single value is returned if n and p are both scalars. Otherwise, np.broadcast(n, p).size samples are drawn.\n",
    "\n",
    "This function returns an *n* dimensional array or scalar.\n",
    "\n",
    "Draw samples from the distribution:"
   ]
  },
  {
   "cell_type": "code",
   "execution_count": 35,
   "metadata": {},
   "outputs": [
    {
     "data": {
      "text/plain": [
       "array([5, 7, 4, 7, 7, 4, 4, 4, 7, 7, 8, 2, 6, 2, 8, 5, 7, 4, 3, 7, 6, 5,\n",
       "       4, 5, 7, 7, 6, 7, 6, 3, 7, 4, 9, 2, 8, 5, 4, 4, 5, 6, 6, 4, 6, 6,\n",
       "       6, 6, 1, 4, 6, 5, 1, 6, 7, 6, 6, 6, 7, 6, 4, 6, 8, 7, 4, 5, 2, 3,\n",
       "       6, 7, 3, 5, 5, 5, 6, 2, 5, 3, 8, 3, 7, 4, 5, 6, 5, 6, 7, 6, 5, 6,\n",
       "       5, 5, 4, 6, 6, 5, 3, 8, 5, 6, 6, 5])"
      ]
     },
     "execution_count": 35,
     "metadata": {},
     "output_type": "execute_result"
    }
   ],
   "source": [
    "n, p = 10, .5  # number of trials, probability of each trial\n",
    "s = np.random.binomial(n, p, 100)\n",
    "# result of flipping a coin 10 times, tested 100 times.\n",
    "s"
   ]
  },
  {
   "cell_type": "markdown",
   "metadata": {},
   "source": [
    "### random.chisquare"
   ]
  },
  {
   "cell_type": "markdown",
   "metadata": {},
   "source": [
    "This function is used to draw samples from a chi-square distribution.\n",
    "\n",
    "Independent random variables, each with standard normal distributions (mean 0, variance 1), are squared and summed, the resulting distribution is chi-square. This distribution is often used in hypothesis testing.\n",
    "    \n",
    "This function takes the following parameters:\t\n",
    "-  df (float or array_like of floats):<br>\n",
    "Number of degrees of freedom, should be > 0.\n",
    "-  size (int or tuple of ints, optional):<br>\n",
    "Defines the output shape. If size is None (default), a single value is returned if df is a scalar. Otherwise, np.array(df).size samples are drawn.\n",
    "\n",
    "This function returns an *n* dimensional array or scalar."
   ]
  },
  {
   "cell_type": "code",
   "execution_count": 36,
   "metadata": {},
   "outputs": [
    {
     "data": {
      "text/plain": [
       "array([4.0039789 , 0.09316376, 0.71778717, 1.84194516])"
      ]
     },
     "execution_count": 36,
     "metadata": {},
     "output_type": "execute_result"
    }
   ],
   "source": [
    "np.random.chisquare(2,4)"
   ]
  },
  {
   "cell_type": "markdown",
   "metadata": {},
   "source": [
    "### random.dirichlet"
   ]
  },
  {
   "cell_type": "markdown",
   "metadata": {},
   "source": [
    "This function is used to draw samples from the Dirichlet distribution.\n",
    "\n",
    "A Dirichlet-distributed random variable can be seen as a multivariate generalization of a Beta distribution. Dirichlet pdf is the conjugate prior of a multinomial in Bayesian inference.\n",
    "    \n",
    "This function takes the following parameters:\t\n",
    "-  alpha (array):<br>\n",
    "Parameter of the distribution (k dimension for sample of dimension k).<br>\n",
    "-  size (int or tuple of ints, optional):<br>\n",
    "Defines the output shape. Default is None, in which case a single value is returned.\n",
    "\n",
    "This function returns an *n* dimensional array.\t"
   ]
  },
  {
   "cell_type": "code",
   "execution_count": 37,
   "metadata": {},
   "outputs": [
    {
     "data": {
      "text/plain": [
       "array([[0.51624591, 0.57567641, 0.65432127, 0.35620047, 0.55328152,\n",
       "        0.52969469, 0.4907104 , 0.44189501, 0.43662837, 0.67306483,\n",
       "        0.48954789, 0.56678625, 0.7544532 , 0.63547371, 0.56540741,\n",
       "        0.60501409, 0.62165473, 0.47399633, 0.64728101, 0.73360454],\n",
       "       [0.27855453, 0.09503917, 0.28083264, 0.40901558, 0.26962861,\n",
       "        0.32765559, 0.3000408 , 0.39313888, 0.39692045, 0.11667416,\n",
       "        0.37170714, 0.15349175, 0.16458986, 0.29130913, 0.14058133,\n",
       "        0.34574491, 0.11933771, 0.47115481, 0.21401837, 0.2139416 ],\n",
       "       [0.20519956, 0.32928442, 0.06484609, 0.23478395, 0.17708987,\n",
       "        0.14264971, 0.20924881, 0.16496611, 0.16645118, 0.21026101,\n",
       "        0.13874497, 0.279722  , 0.08095694, 0.07321716, 0.29401126,\n",
       "        0.049241  , 0.25900756, 0.05484886, 0.13870062, 0.05245386]])"
      ]
     },
     "execution_count": 37,
     "metadata": {},
     "output_type": "execute_result"
    }
   ],
   "source": [
    "s = np.random.dirichlet((10, 5, 3), 20).transpose()\n",
    "s"
   ]
  },
  {
   "cell_type": "markdown",
   "metadata": {},
   "source": [
    "### random.exponential"
   ]
  },
  {
   "cell_type": "markdown",
   "metadata": {},
   "source": [
    "This function is used to draw samples from an exponential distribution.\n",
    "    \n",
    "The exponential distribution is a continuous analogue of the geometric distribution. \n",
    "\n",
    "This function takes the following parameters:<br>\n",
    "-  scale (float or array_like of floats):<br>\n",
    "This defines the scale.<br>\n",
    "-  size (int or tuple of ints, optional):<br>\n",
    "This parameter defines the output shape. If size is None (default), a single value is returned if scale is a scalar. Otherwise, np.array(scale).size samples are drawn.\n",
    "\n",
    "This function returns an *n* dimensional array or a scalar."
   ]
  },
  {
   "cell_type": "code",
   "execution_count": 38,
   "metadata": {},
   "outputs": [
    {
     "data": {
      "text/plain": [
       "array([0.76602925, 2.20070694, 0.24401313])"
      ]
     },
     "execution_count": 38,
     "metadata": {},
     "output_type": "execute_result"
    }
   ],
   "source": [
    "np.random.exponential(2.6, 3)"
   ]
  },
  {
   "cell_type": "markdown",
   "metadata": {},
   "source": [
    "### random.f"
   ]
  },
  {
   "cell_type": "markdown",
   "metadata": {},
   "source": [
    "This function is used to draw samples from an F distribution.\n",
    "\n",
    "The random variate of the F distribution (also known as the Fisher distribution) is a continuous probability distribution that arises in ANOVA tests, and is the ratio of two chi-square variates. The F statistic is used to compare in-group variances to between-group variances. Calculating the distribution depends on the sampling, and so it is a function of the respective degrees of freedom in the problem. The variable dfnum is the number of samples minus one, the between-groups degrees of freedom, while dfden is the within-groups degrees of freedom, the sum of the number of samples in each group minus the number of groups.\n",
    "\n",
    "The parameters this function takes are as follows:<br>\n",
    "-  dfnum (float or array_like of floats):<br>\n",
    "Degrees of freedom in numerator, should be > 0.<br>\n",
    "-  dfden (float or array_like of float)<br>\n",
    "Degrees of freedom in denominator, should be > 0.<br>\n",
    "-  size (int or tuple of ints, optional)<br>\n",
    "Defines the output shape. If size is None (default), a single value is returned if dfnum and dfden are both scalars. Otherwise, np.broadcast(dfnum, dfden).size samples are drawn.\n",
    "\n",
    "This function returns an *n* dimensional array or a scalar.\n",
    "\n",
    "\n",
    "Draw samples from the distribution:"
   ]
  },
  {
   "cell_type": "code",
   "execution_count": 39,
   "metadata": {},
   "outputs": [
    {
     "data": {
      "text/plain": [
       "array([2.95868915e-01, 1.31022941e+00, 1.16212511e+00, 5.30656699e-01,\n",
       "       1.66285443e-01, 1.23400734e-01, 3.41148123e+00, 1.35559727e+00,\n",
       "       1.38294351e+00, 1.63038276e-01, 4.93061450e+00, 1.03038795e-02,\n",
       "       4.96797492e-01, 2.34357824e-01, 8.92865532e-01, 2.36692496e+00,\n",
       "       6.26953331e-01, 6.78361575e-01, 1.57703873e-02, 1.66642762e-01,\n",
       "       9.86789207e-02, 3.16697614e+00, 1.33993593e-02, 1.08322622e-01,\n",
       "       1.16158939e+00, 4.84604574e-01, 1.11999429e+00, 2.55697731e+00,\n",
       "       1.00384342e+00, 3.83538093e-01, 3.03258743e-01, 1.55672633e+00,\n",
       "       1.03130791e+01, 1.33816528e-01, 2.02614662e-01, 9.86932240e-02,\n",
       "       2.37045614e+00, 1.52450024e+00, 3.23672257e-01, 7.92635548e-01,\n",
       "       1.26439185e+00, 8.25001852e-02, 4.34493202e-01, 9.25417643e-02,\n",
       "       2.19180290e-02, 2.96692028e-02, 1.07246369e+00, 1.43409129e+00,\n",
       "       3.83391086e-01, 1.91547699e+00, 5.90376589e-01, 3.51424081e-02,\n",
       "       7.32166449e-02, 2.88762941e-01, 6.29216512e-01, 5.82138039e-02,\n",
       "       3.99008749e+00, 4.91938675e-01, 1.47715092e-01, 5.33391704e-01,\n",
       "       1.30938537e-02, 3.58448044e+00, 2.23257199e+00, 3.76542016e+00,\n",
       "       7.45328680e-01, 2.78988783e-01, 1.62448281e-02, 2.27190200e-02,\n",
       "       1.59149663e+00, 3.46281261e-06, 4.43006015e-01, 2.32503836e+00,\n",
       "       1.38206166e+00, 2.70202753e-01, 5.15269001e-01, 1.61434296e+00,\n",
       "       6.37128548e-01, 1.49890673e+00, 1.99973457e-01, 5.32851490e-01,\n",
       "       6.27975861e-02, 1.03496519e-01, 3.48778502e-02, 5.59416140e-01,\n",
       "       4.73152457e+00, 8.31564742e-04, 1.66772960e-04, 5.06118251e+00,\n",
       "       2.95208198e-01, 7.69480964e-01, 5.05955859e-01, 7.95142891e-03,\n",
       "       7.08674132e-01, 1.22156069e+00, 2.47782621e+00, 1.36224950e-01,\n",
       "       1.86503050e-01, 1.29801095e-03, 5.28569685e-02, 1.07727451e-03,\n",
       "       2.85417803e-02, 4.63450834e-01, 5.57718699e-01, 3.26965335e+00,\n",
       "       2.11757778e+00, 5.02379881e-01, 2.03163334e-02, 5.99638109e-01,\n",
       "       1.83997293e+00, 2.72850699e-01, 1.13392991e+00, 3.01614478e-01,\n",
       "       3.28675770e-01, 4.68675864e-01, 5.89650656e+00, 8.82080044e+00,\n",
       "       2.04972005e-06, 2.04107544e+00, 4.37022796e-01, 1.49364428e-01,\n",
       "       1.55698865e+00, 5.63005916e-01, 1.10528844e-01, 1.81778855e-01,\n",
       "       2.13982797e+00, 8.27057014e-02, 3.85076251e-01, 2.29833922e-02,\n",
       "       1.70893978e-02, 2.21625091e-01, 5.07113068e+00, 2.42627817e+00,\n",
       "       8.76430778e-01, 7.44382035e+00, 3.10640842e-01, 5.12665005e-02,\n",
       "       4.82515777e+00, 2.71006940e+00, 1.36513269e+00, 2.27988013e+00,\n",
       "       2.51181089e-01, 4.27321149e-01, 2.65790484e+00, 7.52893338e-01,\n",
       "       1.18256972e+00, 5.84733299e-01, 1.60066547e+00, 1.70194841e+00,\n",
       "       1.05403694e+00, 2.23048465e-01, 2.52077435e-01, 1.67934543e-03,\n",
       "       9.37066122e-02, 3.85952605e-02, 4.69788525e-02, 3.12363970e-01,\n",
       "       1.64382689e+00, 2.17102894e+00, 6.26344869e+00, 1.17476901e+00,\n",
       "       4.22821377e-03, 1.06786424e-02, 1.45699657e+00, 5.83244116e-03,\n",
       "       1.35152163e+00, 4.52946054e-01, 8.28658316e-02, 1.37130199e+00,\n",
       "       6.54653055e-01, 7.46758785e-01, 3.99396060e-03, 6.23859557e-01,\n",
       "       1.04124219e+00, 3.25414899e-03, 3.27220409e+00, 1.13273055e+00,\n",
       "       7.45346504e-01, 3.54415321e-01, 1.07441243e-02, 1.77297232e+00,\n",
       "       2.75641992e-01, 4.66625699e-01, 1.81473472e+00, 1.07846255e+00,\n",
       "       1.51336420e+00, 3.95332450e-01, 3.67307735e-01, 1.49729435e+00,\n",
       "       5.44035297e-01, 2.03013843e-02, 7.53720454e-02, 1.31736765e+00,\n",
       "       4.17362949e-03, 4.31477934e-04, 1.65042470e-02, 9.50882658e-02,\n",
       "       5.26616111e+00, 2.83031287e-04, 1.52478583e-01, 1.17932541e+00,\n",
       "       7.98090893e-01, 2.24928739e+00, 4.89892527e-02, 3.94858005e-03,\n",
       "       3.04401042e+00, 1.55814512e-02, 1.52262071e+00, 1.44763818e+00,\n",
       "       3.68254386e+00, 7.01543229e+00, 8.73956037e-01, 4.51202528e-01,\n",
       "       1.80911253e-01, 1.59752286e+00, 5.52280000e+00, 1.83443086e-01,\n",
       "       2.56933709e+00, 7.69891892e-02, 5.01950730e-02, 2.27779738e-01,\n",
       "       7.51218421e-01, 1.34478004e+00, 4.58262522e-01, 9.24096107e-02,\n",
       "       2.77165737e-02, 3.69883244e+00, 4.53479753e-02, 1.27305673e+00,\n",
       "       2.77634975e-02, 3.45251131e+00, 6.92217363e-02, 4.14905870e-01,\n",
       "       2.88556708e+00, 1.57628249e-01, 1.96819705e+00, 8.20615567e-02,\n",
       "       8.98369855e-01, 1.05649163e+01, 7.47032004e-03, 1.93732541e-02,\n",
       "       1.62397917e+00, 4.94838184e-01, 2.40370328e-01, 4.11665168e-02,\n",
       "       3.12811433e-01, 3.38228382e-01, 1.89819264e-01, 9.92859402e-01,\n",
       "       3.34181186e+00, 6.11566191e-02, 2.90959192e+00, 4.75653161e-01,\n",
       "       1.32226823e-01, 5.78977397e-01, 2.38122775e-01, 4.18623503e-01,\n",
       "       1.74351818e+00, 1.24367437e+00, 7.58631047e-02, 9.45934935e-01,\n",
       "       1.74743834e-02, 1.16119132e+00, 1.44794763e-02, 7.21603447e-01,\n",
       "       4.90899990e-01, 1.79127958e-02, 1.93014912e-01, 1.80411104e+00,\n",
       "       6.45859503e-03, 2.92335373e+00, 1.63004691e-02, 3.72679245e-03,\n",
       "       5.95272691e-02, 3.52246008e+00, 1.24283427e+00, 5.43357824e+00,\n",
       "       6.62567934e-01, 1.56542974e+00, 2.82738843e-01, 6.22391997e-02,\n",
       "       6.23569826e-01, 2.51561264e+00, 3.12862786e-01, 3.82205052e-02,\n",
       "       1.99117209e+00, 4.34998257e-01, 1.19927677e+00, 9.11643365e-02,\n",
       "       2.57060105e+00, 1.91345492e-03, 1.73736228e-01, 2.01781782e-01,\n",
       "       8.69594029e-02, 1.64810303e-01, 6.05024714e-01, 1.29726649e-03,\n",
       "       1.26436544e-01, 4.82164433e-01, 2.64973645e-02, 4.10658416e-05,\n",
       "       1.47683403e-01, 5.05302472e-02, 7.59860254e-03, 4.61687360e-02,\n",
       "       3.35333187e+00, 6.70710938e-02, 2.32429187e-01, 1.55882901e+00,\n",
       "       1.64519218e-01, 1.24284512e-01, 1.07553050e-02, 1.09771681e+00,\n",
       "       3.09542915e+00, 1.14274187e+00, 3.48574602e-01, 5.54822528e+00,\n",
       "       8.83105403e-02, 9.05980855e-02, 6.29350209e-01, 2.56598497e-01,\n",
       "       2.15644169e+00, 1.39749454e+00, 4.65099778e+00, 3.28840531e+00,\n",
       "       3.33537312e-01, 2.01639746e-01, 1.38430687e-02, 3.39110825e-01,\n",
       "       5.60318368e-03, 2.28348186e+00, 1.17011016e-01, 2.71628568e-01,\n",
       "       6.69581428e-02, 7.50757590e-01, 6.34575539e-04, 5.25445991e-01,\n",
       "       1.55791975e-01, 8.79102860e-01, 1.42911674e-02, 6.29171623e-01,\n",
       "       6.78862949e-01, 4.50016525e-03, 4.84770186e-01, 1.01764630e+00,\n",
       "       6.32906128e-02, 7.13388796e-01, 4.94293631e-02, 2.38198287e-01,\n",
       "       1.21632557e+00, 2.89806805e-01, 8.12242916e-01, 5.65231686e-01,\n",
       "       3.63403199e+00, 8.77685715e-02, 1.77975301e-01, 2.38055535e+00,\n",
       "       6.09908675e-01, 2.38919758e+00, 2.05522967e+00, 8.77133813e-01,\n",
       "       1.49773671e-02, 2.19913334e-01, 1.83463034e+00, 4.28766051e-01,\n",
       "       4.46079781e-02, 6.41809211e-01, 1.30838172e-01, 3.85420823e+00,\n",
       "       4.26040942e-01, 8.23901576e-01, 4.69002054e-01, 4.27076149e-02,\n",
       "       1.88327837e-01, 2.54936814e-03, 9.72545610e-01, 2.96637866e+00,\n",
       "       2.18356732e+00, 8.94026817e+00, 3.08009054e-01, 4.97759714e+00,\n",
       "       2.73075485e-01, 3.00080060e-01, 1.00903500e+01, 2.80288246e+00,\n",
       "       3.45669106e-01, 6.20951413e-01, 1.49438143e+00, 7.86544834e+00,\n",
       "       3.93372066e-01, 4.06522601e-01, 2.64952687e-01, 2.93949424e-01,\n",
       "       1.79376738e-03, 5.11245729e-04, 1.53908517e+00, 2.68552290e+00,\n",
       "       3.66163539e-01, 1.51500795e-01, 6.01626063e-02, 3.53267712e+00,\n",
       "       2.89679441e-01, 3.59963308e-01, 3.14922930e-01, 3.22772128e-02,\n",
       "       1.70616228e-02, 9.35051322e+00, 8.61851312e-01, 1.93351319e-01,\n",
       "       5.28459174e-03, 7.77826755e-01, 1.04220802e-04, 1.60963025e+01,\n",
       "       4.31724018e-02, 8.06159515e-02, 1.16233319e+00, 6.77230934e-03,\n",
       "       1.12051640e-02, 3.92209254e-02, 3.46446241e+00, 4.52190069e-01,\n",
       "       2.60511795e-01, 1.63336872e-01, 1.26402556e+00, 3.44818985e-01,\n",
       "       3.15013251e-01, 4.10580064e-01, 2.59182562e-03, 3.02248595e+00,\n",
       "       1.61977848e+00, 2.03401264e+00, 2.39551083e-02, 1.27673566e+00,\n",
       "       5.35892514e-03, 2.41176067e+00, 1.64344247e-01, 1.98586429e+00,\n",
       "       2.30330419e-01, 2.36477119e+00, 7.78175802e-02, 3.85226315e-02,\n",
       "       3.70060711e-01, 7.42348365e-03, 5.98005959e-01, 7.29711440e-02,\n",
       "       1.13431693e+00, 4.12333327e-01, 6.02668027e-01, 1.66893747e+00,\n",
       "       8.81055944e+00, 2.36756527e-01, 3.76723005e-01, 3.58505363e-01,\n",
       "       5.44029947e-01, 8.67322124e-01, 2.16544089e+00, 1.29374540e-01,\n",
       "       1.02576669e-01, 1.00543684e+00, 7.50186200e-01, 9.00037700e-03,\n",
       "       1.80117580e-01, 2.69388455e-01, 1.00427809e+00, 2.98048275e-01,\n",
       "       1.32148436e+00, 1.26359143e+00, 5.55993873e-01, 4.37538896e-01,\n",
       "       2.54100211e-01, 5.65389354e-02, 1.26817537e+00, 3.70173684e-03,\n",
       "       3.16941506e+00, 2.99319979e+00, 4.54293105e-01, 5.58299325e-01,\n",
       "       2.59027225e-01, 1.86764775e-01, 3.58516746e-01, 1.20658254e+00,\n",
       "       1.68153557e+00, 1.65813513e-02, 1.04787735e-02, 3.68737774e+00,\n",
       "       6.04278202e-01, 1.36535447e+00, 5.95013544e-02, 1.06512225e-02,\n",
       "       1.21973028e+00, 1.55753936e-01, 1.37243394e-01, 2.18469580e-01,\n",
       "       6.42150056e-01, 7.96852603e-01, 1.71595020e-01, 1.18912049e-01,\n",
       "       1.35618388e+00, 6.13201279e-01, 1.89936554e+00, 1.48943782e+00,\n",
       "       3.99089974e-03, 2.21187854e-01, 1.08499538e-01, 1.11305048e+00,\n",
       "       6.87629370e+00, 5.19871253e-01, 1.20901017e-02, 1.25941639e-01,\n",
       "       1.35548787e+00, 1.59196606e-03, 3.91807719e-01, 1.59305086e-01,\n",
       "       4.15636142e-01, 2.77465167e-01, 1.29100938e-02, 8.35963401e-01,\n",
       "       4.65916885e-01, 5.16659687e+00, 7.38031099e-01, 3.49849692e-01,\n",
       "       2.29102356e+00, 2.15435715e-02, 1.09992709e-01, 4.14616608e+00,\n",
       "       9.62666095e-02, 3.43107154e-03, 2.53830881e+00, 7.17406958e-01,\n",
       "       4.34487981e-01, 2.05472134e+00, 1.02371870e-03, 1.58681853e+00,\n",
       "       1.44759284e-01, 1.85468057e+00, 1.32565682e+00, 1.17308477e-01,\n",
       "       3.80138501e-01, 1.26829266e-01, 4.43059044e-01, 1.48128517e+00,\n",
       "       3.91334315e-01, 3.07280287e-01, 4.72091484e-01, 2.59344630e-04,\n",
       "       2.45241958e+00, 1.52096055e-01, 4.74166340e-01, 8.17079530e-02,\n",
       "       4.95194349e-01, 5.56708771e+00, 1.21607155e-01, 2.09488818e-01,\n",
       "       1.91146585e-01, 5.97618292e-01, 1.50821992e+00, 1.31668015e-01,\n",
       "       9.21943645e-03, 4.84322210e-01, 1.55554919e+00, 4.81485691e-02,\n",
       "       2.17935577e+00, 1.06914526e+00, 2.79759475e-01, 1.58259397e-02,\n",
       "       3.85371010e-02, 2.05889941e-02, 9.14858434e-02, 7.09914486e-03,\n",
       "       1.80054119e-02, 1.99983795e-01, 4.64021627e-02, 9.32753900e-01,\n",
       "       8.32830740e-01, 6.41197346e-02, 2.30834857e-01, 8.22474036e-04,\n",
       "       1.33984974e+00, 1.03703668e-01, 1.10159657e-03, 4.83179884e-02,\n",
       "       1.23117285e+00, 1.00452384e+00, 1.33031914e-01, 1.48651859e+00,\n",
       "       3.16259631e-01, 1.61444815e+00, 2.46008564e+00, 3.42504612e-01,\n",
       "       7.29351167e-01, 2.73753279e-06, 1.01638311e-01, 4.51534503e+00,\n",
       "       2.67673137e-01, 8.24659067e-02, 3.26632190e-01, 1.64469145e-01,\n",
       "       9.80962200e-01, 1.16855424e+00, 7.95626864e-01, 1.98754273e+00,\n",
       "       9.16927462e-02, 2.37981282e-02, 1.09974245e+00, 2.35791883e-02,\n",
       "       8.79700071e-02, 1.19172985e-01, 7.19400809e-01, 5.63887422e+00,\n",
       "       9.40148929e-02, 2.97804051e+00, 1.68271001e+00, 1.60325931e+00,\n",
       "       8.87476327e-01, 1.85675743e+00, 1.44089714e+00, 5.47386315e-03,\n",
       "       5.88169532e+00, 5.46474609e-01, 8.66604879e-02, 7.29362943e-01,\n",
       "       2.54669808e-01, 3.60491213e+00, 2.42561254e-01, 2.47128039e-02,\n",
       "       4.63650111e+00, 1.55881201e+00, 3.19878676e-01, 2.35891506e-01,\n",
       "       4.73835851e+00, 2.34321353e+00, 8.88616519e-01, 2.74913628e-01,\n",
       "       2.96376346e+00, 2.24969185e-01, 1.09483207e-01, 2.99220289e-01,\n",
       "       8.98099716e-01, 1.14448951e+00, 3.82411312e-01, 4.00451524e-02,\n",
       "       1.61746525e-02, 1.02800283e+00, 3.02649834e-01, 2.71270000e+00,\n",
       "       1.62640794e-02, 3.36342473e+00, 1.77813833e-01, 1.91211085e-02,\n",
       "       2.30753094e+00, 2.33956772e+00, 9.91613675e-01, 1.62390438e-01,\n",
       "       8.07801571e-02, 5.57487110e+00, 2.39858182e-02, 8.28393702e-01,\n",
       "       7.21802267e-05, 1.94045445e-02, 2.37363984e+00, 1.87627002e+00,\n",
       "       6.69185763e-02, 4.69647014e-01, 2.24340744e+00, 5.57626154e-01,\n",
       "       1.24877929e-03, 5.28617861e-01, 2.35150422e+00, 3.53468118e-06,\n",
       "       8.19971915e-02, 3.11721406e+00, 3.56008140e-01, 1.85320046e-02,\n",
       "       2.29411771e+00, 1.93803164e-01, 5.03612472e-01, 4.31444773e-01,\n",
       "       6.22619268e-01, 7.60918286e-02, 2.51646290e-01, 1.21508756e-01,\n",
       "       2.11348571e-02, 1.96705708e-01, 4.62325651e-02, 2.26033369e-03,\n",
       "       9.88742037e-02, 2.30426752e+00, 4.11698048e-01, 9.55497522e-01,\n",
       "       8.42990955e-01, 2.58944674e-01, 5.22632645e-01, 7.04185105e-01,\n",
       "       5.14108542e-04, 1.16585073e+00, 1.34963088e-01, 6.56784427e-01,\n",
       "       1.25476203e-03, 7.21593120e-01, 4.58671889e-02, 1.38872960e-01,\n",
       "       1.50295346e-01, 3.98975065e-03, 3.45093999e+00, 1.82479368e+00,\n",
       "       7.24601676e-01, 5.80565941e-03, 1.34252186e-01, 1.26792308e+00,\n",
       "       1.06029315e+00, 1.83628899e-01, 3.50673431e+00, 3.88393456e-02,\n",
       "       1.69147594e-01, 3.43198595e-02, 1.87708936e+00, 9.13871542e-01,\n",
       "       1.00595761e-01, 2.40566650e-01, 1.48578072e+00, 9.02002912e-01,\n",
       "       7.14262445e-02, 1.21774841e-01, 2.54158763e-02, 4.88160445e-01,\n",
       "       1.75459195e-02, 2.65346206e-01, 1.24496783e-01, 1.29088843e-01,\n",
       "       4.76531464e-01, 7.52126905e-02, 4.69890376e-03, 1.14525817e-04,\n",
       "       5.75034097e+00, 1.93092859e+00, 1.62185158e+00, 1.19163224e-04,\n",
       "       1.75071432e-03, 2.57452217e+00, 1.35970881e-01, 2.20964084e-01,\n",
       "       3.15511926e+00, 5.91167398e-01, 4.48859643e-02, 4.60013603e-01,\n",
       "       6.41015667e-01, 1.77776206e-01, 2.29014371e-01, 1.28377973e-03,\n",
       "       8.92073238e-01, 2.09518024e-01, 4.37747936e-01, 2.57452707e+00,\n",
       "       1.82522132e+00, 4.81732720e-01, 2.64416918e-01, 1.10888661e-01,\n",
       "       1.64179057e+00, 1.57670229e-01, 3.52727247e-01, 4.49765997e-02,\n",
       "       1.44613417e+00, 1.66361043e-01, 6.83848976e-01, 5.49428536e-01,\n",
       "       2.26565572e-01, 6.33058890e-01, 4.13736713e-01, 2.18673720e-01,\n",
       "       5.45521250e-01, 3.81898094e-02, 2.63156407e-05, 2.75899369e+00,\n",
       "       9.30419927e-04, 3.61410173e-02, 9.97681238e-01, 2.11504652e-01,\n",
       "       4.14304912e+00, 7.40659232e-01, 3.99134830e-01, 2.74357466e-01,\n",
       "       3.49603356e+00, 6.29650821e-01, 4.34499975e-01, 1.60688073e-03,\n",
       "       2.64014250e-01, 1.04871749e+00, 2.92331788e+00, 8.40085498e-02,\n",
       "       1.88862610e-01, 3.48226676e-01, 2.53349264e+00, 1.27917490e+00,\n",
       "       3.85814719e-02, 7.22849307e-02, 4.65139306e-01, 6.77447792e-01,\n",
       "       1.62530416e-01, 1.82239129e+00, 3.73970217e-01, 2.62665021e-01,\n",
       "       2.22454739e+00, 4.13510123e-02, 4.30678683e-01, 5.62139751e-02,\n",
       "       1.68849867e-01, 1.16213094e-01, 9.11378450e-01, 9.58784783e-03,\n",
       "       2.90381171e+00, 2.60273064e-01, 8.77090802e-01, 4.07840900e-02,\n",
       "       2.73216271e-03, 2.16108111e+00, 4.22765670e-01, 5.32724350e-01,\n",
       "       5.63919968e-01, 1.89245970e+00, 3.65552350e-03, 8.51306432e-01,\n",
       "       7.71448166e+00, 4.62982389e-01, 5.35547108e-01, 1.61077659e-01,\n",
       "       6.87351447e-01, 8.22580372e-01, 1.04163413e+00, 2.36940271e+00,\n",
       "       1.89640064e+00, 2.61942874e-01, 1.19546004e+00, 5.21815010e+00,\n",
       "       2.74113065e+00, 2.09721244e-02, 5.53179895e-01, 5.75054895e+00,\n",
       "       5.43344000e-01, 1.81871523e+00, 1.08136147e-01, 1.35516043e+00,\n",
       "       4.60617413e-01, 1.01783270e-01, 3.52552769e+00, 3.34890537e-01,\n",
       "       1.28954103e+00, 2.04214888e+00, 2.07347120e+00, 2.53501757e+00,\n",
       "       2.17041534e-01, 5.03662562e-01, 1.74029856e-02, 3.13101436e-01,\n",
       "       2.20484926e-02, 7.42578382e-01, 6.26813297e-01, 2.15968717e-03,\n",
       "       2.26580691e-02, 7.77417886e-01, 2.96616944e-01, 2.98478923e-01,\n",
       "       2.39560564e-02, 2.37658386e-01, 2.31774953e-01, 1.90633725e+00,\n",
       "       2.84756137e-01, 1.89568693e-01, 6.00004905e+00, 1.61191285e+00,\n",
       "       1.59653031e+00, 3.78056876e-01, 7.13730846e-01, 5.65179332e-01,\n",
       "       3.40215497e-02, 9.56693100e-01, 2.00395374e-01, 2.76247415e+00,\n",
       "       2.66323151e-02, 6.76261596e-03, 1.49916207e-02, 1.04157787e-01,\n",
       "       2.94303518e-01, 4.42989340e-02, 1.97696171e-01, 1.77884780e-01,\n",
       "       1.14013980e+00, 2.35957032e-01, 1.66727735e+00, 2.15264898e+00,\n",
       "       5.84735963e-01, 1.57049391e-03, 6.02943369e+00, 4.67746970e-02,\n",
       "       7.70223092e-04, 2.27975716e+00, 1.18042022e+00, 9.77533787e-01,\n",
       "       8.59155508e-02, 2.08769023e-01, 2.17741272e-01, 9.07973982e-02,\n",
       "       1.51102916e-01, 6.24341189e-02, 7.37831841e-01, 5.45561105e-01,\n",
       "       8.55850940e-02, 3.05451341e+00, 7.45024968e-01, 4.22606199e-01,\n",
       "       3.15559476e+00, 7.13852924e-01, 4.60867086e-01, 5.29655420e-01,\n",
       "       9.19000830e-03, 2.73263444e+00, 3.14575346e+00, 7.70047647e-03,\n",
       "       1.49855247e+00, 9.88079074e-02, 2.03894779e+00, 1.58410654e+00,\n",
       "       1.10931393e-02, 1.99135884e-01, 2.05476094e-01, 1.01359531e+00,\n",
       "       3.75337755e-02, 2.09334604e+00, 2.26499174e+00, 1.17332905e+00,\n",
       "       1.13516596e-01, 1.39620742e+00, 3.80383302e+00, 7.24630089e-03,\n",
       "       1.34273383e-01, 1.52135218e-02, 1.78866088e-03, 1.09985072e-01,\n",
       "       5.15381650e-01, 9.50719395e-02, 6.15801382e-01, 1.89916795e-01,\n",
       "       8.76107801e-01, 1.62953820e-01, 1.69604414e+00, 1.70165319e+00,\n",
       "       9.80703798e-01, 8.53731065e+00, 4.75638083e-02, 9.97613703e-01,\n",
       "       1.41149411e-01, 8.91062394e-01, 1.82794452e+00, 3.95438494e-01,\n",
       "       3.32236555e-01, 5.46136032e-04, 2.81439263e-02, 3.07344106e-01,\n",
       "       1.55968236e+00, 2.85748101e+00, 6.21404416e-01, 3.38713463e+00,\n",
       "       9.63268998e-02, 3.18325372e+00, 6.48132417e+00, 1.32200125e+00,\n",
       "       1.23470796e-03, 1.62246207e-02, 2.29174720e-01, 2.63067359e+00,\n",
       "       3.93914935e-01, 6.68307788e-01, 2.25696702e+00, 2.69081884e-01,\n",
       "       2.39725152e-01, 2.30836632e+00, 9.91027447e-04, 2.39925328e-01,\n",
       "       6.13664630e+00, 4.71201022e-01, 1.58778527e-01, 3.56891775e-01,\n",
       "       1.62032988e+00, 4.36764530e-01, 4.98555781e+00, 1.33187259e+00,\n",
       "       9.64029419e-01, 3.25137045e-02, 2.94015784e-02, 4.30608284e+00,\n",
       "       7.94944224e-01, 2.06026290e+00, 1.05753936e-02, 5.08530603e-01,\n",
       "       6.36300031e-02, 9.45940999e-04, 1.43974032e+00, 2.91508046e-03,\n",
       "       1.06077745e+00, 6.45659901e-01, 2.78698826e-01, 3.91440921e-01])"
      ]
     },
     "execution_count": 39,
     "metadata": {},
     "output_type": "execute_result"
    }
   ],
   "source": [
    "dfnum = 1. # between group degrees of freedom\n",
    "dfden = 48. # within groups degrees of freedom\n",
    "s = np.random.f(dfnum, dfden, 1000)\n",
    "s"
   ]
  },
  {
   "cell_type": "markdown",
   "metadata": {},
   "source": [
    "### random.gamma"
   ]
  },
  {
   "cell_type": "markdown",
   "metadata": {},
   "source": [
    "This function is used to draw samples from a Gamma distribution. The Gamma distribution is often used to model the times to failure of electronic components, and arises naturally in processes for which the waiting times between Poisson distributed events are relevant. Samples are drawn from a Gamma distribution with specified parameters. These parameters are as follows:\n",
    "\n",
    "-  shape (float or array_like of floats):<br>\n",
    "    The shape of the gamma distribution. Should be greater than zero.<br>\n",
    "-  scale (float or array_like of floats, optional):<br>\n",
    "    The scale of the gamma distribution. Should be greater than zero. Default is equal to 1.<br>\n",
    "-  size (int or tuple of ints, optional):<br>\n",
    "    This parameter defines the output shape. If size is None (default), a single value is returned if shape and scale are both scalars. Otherwise, np.broadcast(shape, scale).size samples are drawn.<br>\n",
    "\n",
    "This function returns an *n* dimensional array or a scalar."
   ]
  },
  {
   "cell_type": "code",
   "execution_count": 40,
   "metadata": {},
   "outputs": [],
   "source": [
    "shape, scale = 2., 2.  # mean=4, std=2*sqrt(2)\n",
    "s = np.random.gamma(shape, scale, 1000)"
   ]
  },
  {
   "cell_type": "markdown",
   "metadata": {},
   "source": [
    "Display the histogram of the samples, along with the probability density function:"
   ]
  },
  {
   "cell_type": "code",
   "execution_count": 41,
   "metadata": {},
   "outputs": [
    {
     "data": {
      "image/png": "[encoded data removed]",
      "text/plain": [
       "<Figure size 432x288 with 1 Axes>"
      ]
     },
     "metadata": {},
     "output_type": "display_data"
    }
   ],
   "source": [
    "count, bins, ignored = plt.hist(s, 50, density=True)\n",
    "y = bins**(shape-1)*(np.exp(-bins/scale) / (sps.gamma(shape)*scale**shape))\n",
    "plt.plot(bins, y, linewidth=2, color='r')\n",
    "plt.show()"
   ]
  },
  {
   "cell_type": "markdown",
   "metadata": {},
   "source": [
    "### random.geometric"
   ]
  },
  {
   "cell_type": "markdown",
   "metadata": {},
   "source": [
    "This function is used to draw samples from the geometric distribution.\n",
    "\n",
    "Bernoulli trials are experiments with one of two outcomes: success or failure (an example of such an experiment is flipping a coin). The geometric distribution models the number of trials that must be run in order to achieve success. It is therefore supported on the positive integers, k = 1, 2, ....\n",
    "\n",
    "This function takes the following parameters:<br>\n",
    "-  p (float or array_like of floats):<br>\n",
    "    The probability of success of an individual trial.<br>\n",
    "-  size (int or tuple of ints, optional):<br>\n",
    "    This parameter defines the output shape. If size is None (default), a single value is returned if p is a scalar. Otherwise, np.array(p).size samples are drawn.\n",
    "\n",
    "The return of this function is an *n* dimensional array or a scalar.\n",
    "\n",
    "Draw ten thousand values from the geometric distribution, with the probability of an individual success equal to 0.35:"
   ]
  },
  {
   "cell_type": "code",
   "execution_count": 42,
   "metadata": {},
   "outputs": [],
   "source": [
    "z = np.random.geometric(p=0.35, size=10000)"
   ]
  },
  {
   "cell_type": "markdown",
   "metadata": {},
   "source": [
    "How many trials succeeded after a single run?"
   ]
  },
  {
   "cell_type": "code",
   "execution_count": 43,
   "metadata": {},
   "outputs": [
    {
     "data": {
      "text/plain": [
       "0.3493"
      ]
     },
     "execution_count": 43,
     "metadata": {},
     "output_type": "execute_result"
    }
   ],
   "source": [
    "(z == 1).sum() / 10000."
   ]
  },
  {
   "cell_type": "markdown",
   "metadata": {},
   "source": [
    "### random.gumbel"
   ]
  },
  {
   "cell_type": "markdown",
   "metadata": {},
   "source": [
    "This function is used to draw samples from a Gumbel distribution with specified location and scale. \n",
    "\n",
    "The parameters this function takes are as follows:\t\n",
    "-  loc (float or array_like of floats, optional):<br>\n",
    "The location of the mode of the distribution. Default is 0.\n",
    "-  scale (float or array_like of floats, optional):<br>\n",
    "The scale parameter of the distribution. Default is 1.\n",
    "-  size (int or tuple of ints, optional):<br>\n",
    "This parameter defines the output shape. If size is None (default), a single value is returned if loc and scale are both scalars. Otherwise, np.broadcast(loc, scale).size samples are drawn.\n",
    "\n",
    "This function returns an *n* dimensional array or a scalar.\n",
    "\n",
    "The Gumbel (or Smallest Extreme Value (SEV) or the Smallest Extreme Value Type I) distribution is one of a class of Generalized Extreme Value (GEV) distributions used in modeling extreme value problems. The Gumbel is a special case of the Extreme Value Type I distribution for maximums from distributions with “exponential-like” tails.\n",
    "\n",
    "Draw samples from the distribution:"
   ]
  },
  {
   "cell_type": "code",
   "execution_count": 44,
   "metadata": {},
   "outputs": [],
   "source": [
    "mu, beta = 0, 0.1 # location and scale\n",
    "s = np.random.gumbel(mu, beta, 1000)"
   ]
  },
  {
   "cell_type": "markdown",
   "metadata": {},
   "source": [
    "Display the histogram of the samples, along with the probability density function:"
   ]
  },
  {
   "cell_type": "code",
   "execution_count": 45,
   "metadata": {},
   "outputs": [
    {
     "data": {
      "image/png": "[encoded data removed]",
      "text/plain": [
       "<Figure size 432x288 with 1 Axes>"
      ]
     },
     "metadata": {},
     "output_type": "display_data"
    }
   ],
   "source": [
    "count, bins, ignored = plt.hist(s, 30, density=True)\n",
    "plt.plot(bins, (1/beta)*np.exp(-(bins - mu)/beta)* np.exp( -np.exp( -(bins - mu) /beta) ), linewidth=2, color='r')\n",
    "plt.show()"
   ]
  },
  {
   "cell_type": "markdown",
   "metadata": {},
   "source": [
    "Show how an extreme value distribution can arise from a Gaussian process and compare to a Gaussian:"
   ]
  },
  {
   "cell_type": "code",
   "execution_count": 46,
   "metadata": {},
   "outputs": [
    {
     "data": {
      "image/png": "[encoded data removed]",
      "text/plain": [
       "<Figure size 432x288 with 1 Axes>"
      ]
     },
     "metadata": {},
     "output_type": "display_data"
    }
   ],
   "source": [
    "means = []\n",
    "maxima = []\n",
    "for i in range(0,1000) :\n",
    "    a = np.random.normal(mu, beta, 1000)\n",
    "    means.append(a.mean())\n",
    "    maxima.append(a.max())\n",
    "count, bins, ignored = plt.hist(maxima, 30, density=True)\n",
    "beta = np.std(maxima) * np.sqrt(6) / np.pi\n",
    "mu = np.mean(maxima) - 0.57721*beta\n",
    "plt.plot(bins, (1/beta)*np.exp(-(bins - mu)/beta) * np.exp(-np.exp(-(bins - mu)/beta)), linewidth=2, color='r')\n",
    "plt.plot(bins, 1/(beta * np.sqrt(2 * np.pi)) * np.exp(-(bins - mu)**2 / (2 * beta**2)), linewidth=2, color='g')\n",
    "plt.show()"
   ]
  },
  {
   "cell_type": "markdown",
   "metadata": {},
   "source": [
    "### random.hypergeometric"
   ]
  },
  {
   "cell_type": "markdown",
   "metadata": {},
   "source": [
    "This function is used to draw samples from a Hypergeometric distribution. These samples are drawn from a hypergeometric distribution with specified parameters, ngood (ways to make a good selection), nbad (ways to make a bad selection), and nsample which is the number of items sampled, which is less than or equal to the sum ngood + nbad.\n",
    "    \n",
    "The parameters this function takes are as follows:\t\n",
    "\n",
    "-  ngood (int or array_like of ints):<br>\n",
    "Number of ways to make a good selection. Must be nonnegative.\n",
    "-  nbad (int or array_like of ints)<br>\n",
    "Number of ways to make a bad selection. Must be nonnegative.\n",
    "-  nsample (int or array_like of ints):\n",
    "Number of items sampled. Must be at least 1 and at most ngood + nbad.\n",
    "-  size (int or tuple of ints, optional):\n",
    "This parameter defines the output shape. If size is None (default), a single value is returned if ngood, nbad, and nsample are all scalars. Otherwise, np.broadcast(ngood, nbad, nsample).size samples are drawn.\n",
    "\n",
    "This function returns a *n* dimensional array or a scalar.\n",
    "\n",
    "Note that this distribution is very similar to the binomial distribution, except that in this case, samples are drawn without replacement, whereas in the Binomial case samples are drawn with replacement (or the sample space is infinite). As the sample space becomes large, this distribution approaches the binomial."
   ]
  },
  {
   "cell_type": "code",
   "execution_count": 47,
   "metadata": {},
   "outputs": [
    {
     "data": {
      "text/plain": [
       "(array([ 12.,   0.,   0.,   0.,   0., 172.,   0.,   0.,   0., 816.]),\n",
       " array([ 8. ,  8.2,  8.4,  8.6,  8.8,  9. ,  9.2,  9.4,  9.6,  9.8, 10. ]),\n",
       " <a list of 10 Patch objects>)"
      ]
     },
     "execution_count": 47,
     "metadata": {},
     "output_type": "execute_result"
    },
    {
     "data": {
      "image/png": "[encoded data removed]",
      "text/plain": [
       "<Figure size 432x288 with 1 Axes>"
      ]
     },
     "metadata": {},
     "output_type": "display_data"
    }
   ],
   "source": [
    "ngood, nbad, nsamp = 100, 2, 10\n",
    "s = np.random.hypergeometric(ngood, nbad, nsamp, 1000)\n",
    "plt.hist(s)"
   ]
  },
  {
   "cell_type": "code",
   "execution_count": 48,
   "metadata": {},
   "outputs": [
    {
     "data": {
      "text/plain": [
       "0.00267"
      ]
     },
     "execution_count": 48,
     "metadata": {},
     "output_type": "execute_result"
    }
   ],
   "source": [
    "s = np.random.hypergeometric(15, 15, 15, 100000)\n",
    "sum(s>=12)/100000. + sum(s<=3)/100000."
   ]
  },
  {
   "cell_type": "markdown",
   "metadata": {},
   "source": [
    "### random.laplace"
   ]
  },
  {
   "cell_type": "markdown",
   "metadata": {},
   "source": [
    "This function is used to draw samples from the Laplace or double exponential distribution with specified location (or mean) and scale (decay).\n",
    "\n",
    "The Laplace distribution is similar to the Gaussian/normal distribution, but is sharper at the peak and has fatter tails. It represents the difference between two independent, identically distributed exponential random variables.\n",
    "\n",
    "The parameters of this function are as follows:\t\n",
    "-  loc (float or array_like of floats, optional):<br>\n",
    "The position of the distribution peak. Default is 0.\n",
    "-  scale (float or array_like of floats, optional):<br>\n",
    "lambda, the exponential decay. Default is 1.\n",
    "-  size : int or tuple of ints, optional<br>\n",
    "This parameter defines the output shape. If size is None (default), a single value is returned if loc and scale are both scalars. Otherwise, np.broadcast(loc, scale).size samples are drawn.\n",
    "\n",
    "This function returns a *n* dimensional array or a scalar.\n",
    "\n",
    "The first law of Laplace, from 1774, states that the frequency of an error can be expressed as an exponential function of the absolute magnitude of the error, which leads to the Laplace distribution. For many problems in economics and health sciences, this distribution seems to model the data better than the standard Gaussian distribution."
   ]
  },
  {
   "cell_type": "code",
   "execution_count": 49,
   "metadata": {},
   "outputs": [],
   "source": [
    "loc, scale = 0., 1.\n",
    "s = np.random.laplace(loc, scale, 1000)"
   ]
  },
  {
   "cell_type": "markdown",
   "metadata": {},
   "source": [
    "Displaying the histogram of samples, along with the probability density function:"
   ]
  },
  {
   "cell_type": "code",
   "execution_count": 50,
   "metadata": {},
   "outputs": [
    {
     "data": {
      "text/plain": [
       "[<matplotlib.lines.Line2D at 0x241e8b11c50>]"
      ]
     },
     "execution_count": 50,
     "metadata": {},
     "output_type": "execute_result"
    },
    {
     "data": {
      "image/png": "[encoded data removed]",
      "text/plain": [
       "<Figure size 432x288 with 1 Axes>"
      ]
     },
     "metadata": {},
     "output_type": "display_data"
    }
   ],
   "source": [
    "count, bins, ignored = plt.hist(s, 30, density=True)\n",
    "x = np.arange(-8., 8., .01)\n",
    "pdf = np.exp(-abs(x-loc)/scale)/(2.*scale)\n",
    "plt.plot(x, pdf)"
   ]
  },
  {
   "cell_type": "markdown",
   "metadata": {},
   "source": [
    "### random.logistic"
   ]
  },
  {
   "cell_type": "markdown",
   "metadata": {},
   "source": [
    "This function is used to draw samples from a logistic distribution.\n",
    "\n",
    "The parameters this function takes are as follows:\t\n",
    "-  loc (float or array_like of floats, optional):<br>\n",
    "Parameter of the distribution. Default is 0.\n",
    "-  scale (float or array_like of floats, optional):<br>\n",
    "This is the parameter of the distribution. Should be greater than zero. Default is 1.\n",
    "-  size (int or tuple of ints, optional):<br>\n",
    "This parameter defines the output shape. If size is None (default), a single value is returned if loc and scale are both scalars. Otherwise, np.broadcast(loc, scale).size samples are drawn.\n",
    "\n",
    "This function returns an *n* dimensional array or a scalar.\n",
    "\n",
    "The Logistic distribution is used in Extreme Value problems where it can act as a mixture of Gumbel distributions, in Epidemiology, and by the World Chess Federation (FIDE) where it is used in the Elo ranking system, assuming the performance of each player is a logistically distributed random variable.\n",
    "\n",
    "Draw samples from the distribution:"
   ]
  },
  {
   "cell_type": "code",
   "execution_count": 51,
   "metadata": {},
   "outputs": [
    {
     "data": {
      "image/png": "[encoded data removed]",
      "text/plain": [
       "<Figure size 432x288 with 1 Axes>"
      ]
     },
     "metadata": {},
     "output_type": "display_data"
    }
   ],
   "source": [
    "loc, scale = 10, 1\n",
    "s = np.random.logistic(loc, scale, 10000)\n",
    "count, bins, ignored = plt.hist(s, bins=50)"
   ]
  },
  {
   "cell_type": "markdown",
   "metadata": {},
   "source": [
    "### random.lognormal"
   ]
  },
  {
   "cell_type": "markdown",
   "metadata": {},
   "source": [
    "This function is udes to draw samples from a log-normal distribution with specified mean, standard deviation, and array shape. Note that the mean and standard deviation are not the values for the distribution itself, but of the underlying normal distribution it is derived from.\n",
    "\n",
    "The parameters of this function are as follows:\n",
    "-  mean (float or array_like of floats, optional)<br>\n",
    "The mean value of the underlying normal distribution. Default is 0.\n",
    "-  sigma (float or array_like of floats, optional)<br>\n",
    "The standard deviation of the underlying normal distribution. Should be greater than zero. Default is 1.\n",
    "-  size (int or tuple of ints, optional)<br>\n",
    "This parameter defines the output shape. If size is None (default), a single value is returned if mean and sigma are both scalars. Otherwise, np.broadcast(mean, sigma).size samples are drawn.\n",
    "\n",
    "This function returns an *n* dimensional array or a scalar.\n",
    "\n",
    "A log-normal distribution results if a random variable is the product of a large number of independent, identically-distributed variables in the same way that a normal distribution results if the variable is the sum of a large number of independent, identically-distributed variables.\n",
    "\n",
    "Draw samples from the distribution:"
   ]
  },
  {
   "cell_type": "code",
   "execution_count": 52,
   "metadata": {},
   "outputs": [],
   "source": [
    "mu, sigma = 3., 1. # mean and standard deviation\n",
    "s = np.random.lognormal(mu, sigma, 1000)"
   ]
  },
  {
   "cell_type": "markdown",
   "metadata": {},
   "source": [
    "Display the histogram of the samples, along with the probability density function:"
   ]
  },
  {
   "cell_type": "code",
   "execution_count": 53,
   "metadata": {},
   "outputs": [
    {
     "data": {
      "image/png": "[encoded data removed]",
      "text/plain": [
       "<Figure size 432x288 with 1 Axes>"
      ]
     },
     "metadata": {},
     "output_type": "display_data"
    }
   ],
   "source": [
    "import matplotlib.pyplot as plt\n",
    "count, bins, ignored = plt.hist(s, 100, density=True, align='mid')\n",
    "\n",
    "x = np.linspace(min(bins), max(bins), 10000)\n",
    "pdf = (np.exp(-(np.log(x) - mu)**2 / (2 * sigma**2)) / (x * sigma * np.sqrt(2 * np.pi)))\n",
    "\n",
    "plt.plot(x, pdf, linewidth=2, color='r')\n",
    "plt.axis('tight')\n",
    "plt.show()"
   ]
  },
  {
   "cell_type": "markdown",
   "metadata": {},
   "source": [
    "Demonstrate that taking the products of random samples from a uniform distribution can be fit well by a log-normal probability density function."
   ]
  },
  {
   "cell_type": "code",
   "execution_count": 54,
   "metadata": {},
   "outputs": [
    {
     "data": {
      "image/png": "[encoded data removed]",
      "text/plain": [
       "<Figure size 432x288 with 1 Axes>"
      ]
     },
     "metadata": {},
     "output_type": "display_data"
    }
   ],
   "source": [
    "#Generate a thousand samples: each is the product of 100 random\n",
    "#values, drawn from a normal distribution.\n",
    "b = []\n",
    "for i in range(1000):\n",
    "    a = 10. + np.random.random(100)\n",
    "    b.append(np.product(a))\n",
    "\n",
    "b = np.array(b) / np.min(b) # scale values to be positive\n",
    "count, bins, ignored = plt.hist(b, 100, density=True, align='mid')\n",
    "sigma = np.std(np.log(b))\n",
    "mu = np.mean(np.log(b))\n",
    "\n",
    "x = np.linspace(min(bins), max(bins), 10000)\n",
    "pdf = (np.exp(-(np.log(x) - mu)**2 / (2 * sigma**2)) / (x * sigma * np.sqrt(2 * np.pi)))\n",
    "\n",
    "plt.plot(x, pdf, color='r', linewidth=2)\n",
    "plt.show()"
   ]
  },
  {
   "cell_type": "markdown",
   "metadata": {},
   "source": [
    "### random.logseries"
   ]
  },
  {
   "cell_type": "markdown",
   "metadata": {},
   "source": [
    "This function is used to draw samples from a logarithmic series distribution with specified shape parameter, 0 < p < 1.\n",
    "\n",
    "The parameters this function takes are as follows:\n",
    "-  p (float or array_like of floats)<br>\n",
    "Shape parameter for the distribution. Must be in the range (0, 1).\n",
    "-  size (int or tuple of ints, optional)<br>\n",
    "This parameter defines the output shape. If size is None (default), a single value is returned if p is a scalar. Otherwise, np.array(p).size samples are drawn.\n",
    "\n",
    "This function returns an *n* dimensional array or a scalar.\n",
    "\n",
    "The log series distribution is frequently used to represent species richness and occurrence, first proposed by Fisher, Corbet, and Williams in 1943. It may also be used to model the numbers of occupants seen in cars.\n",
    "\n",
    "Draw samples from the distribution:"
   ]
  },
  {
   "cell_type": "code",
   "execution_count": 55,
   "metadata": {},
   "outputs": [
    {
     "data": {
      "image/png": "[encoded data removed]",
      "text/plain": [
       "<Figure size 432x288 with 1 Axes>"
      ]
     },
     "metadata": {},
     "output_type": "display_data"
    }
   ],
   "source": [
    "a = .6\n",
    "s = np.random.logseries(a, 10000)\n",
    "count, bins, ignored = plt.hist(s)"
   ]
  },
  {
   "cell_type": "markdown",
   "metadata": {},
   "source": [
    "### random.multinomial"
   ]
  },
  {
   "cell_type": "markdown",
   "metadata": {},
   "source": [
    "This function is used to draw samples from a multinomial distribution, which is a multivariate generalisation of the binomial distribution. \n",
    "\n",
    "The parameters this function takes are as follows:\n",
    "-  n (int)\n",
    "The number of experiments.\n",
    "-  pvals (sequence of floats, length p)<br>\n",
    "The probabilities of each of the p different outcomes. These should sum to 1 (however, the last element is always assumed to account for the remaining probability, as long as sum(pvals[:-1]) <= 1).\n",
    "-  size (int or tuple of ints, optional)<br>\n",
    "This parameter defines the output shape. Default is None, in which case a single value is returned.\n",
    "\n",
    "This function returns an *n* dimensional array.\n",
    "\n",
    "Throw a dice 20 times:"
   ]
  },
  {
   "cell_type": "code",
   "execution_count": 56,
   "metadata": {},
   "outputs": [
    {
     "data": {
      "text/plain": [
       "array([[3, 5, 2, 6, 2, 2]])"
      ]
     },
     "execution_count": 56,
     "metadata": {},
     "output_type": "execute_result"
    }
   ],
   "source": [
    "np.random.multinomial(20, [1/6.]*6, size=1)\n",
    "# It landed for example: 4 times on 1, once on 2, etc."
   ]
  },
  {
   "cell_type": "markdown",
   "metadata": {},
   "source": [
    "Now, throw the dice 20 times, and 20 times again:"
   ]
  },
  {
   "cell_type": "code",
   "execution_count": 57,
   "metadata": {},
   "outputs": [
    {
     "data": {
      "text/plain": [
       "array([[2, 5, 2, 4, 5, 2],\n",
       "       [5, 2, 3, 3, 4, 3]])"
      ]
     },
     "execution_count": 57,
     "metadata": {},
     "output_type": "execute_result"
    }
   ],
   "source": [
    "np.random.multinomial(20, [1/6.]*6, size=2)"
   ]
  },
  {
   "cell_type": "markdown",
   "metadata": {},
   "source": [
    "For the first run, we threw 3 times 1, 4 times 2, etc. For the second, we threw 2 times 1, 4 times 2, etc.\n",
    "\n",
    "A loaded die is more likely to land on number 6:"
   ]
  },
  {
   "cell_type": "code",
   "execution_count": 58,
   "metadata": {},
   "outputs": [
    {
     "data": {
      "text/plain": [
       "array([16, 11, 11, 11, 19, 32])"
      ]
     },
     "execution_count": 58,
     "metadata": {},
     "output_type": "execute_result"
    }
   ],
   "source": [
    "np.random.multinomial(100, [1/7.]*5 + [2/7.])"
   ]
  },
  {
   "cell_type": "markdown",
   "metadata": {},
   "source": [
    "The probability inputs should be normalized. As an implementation detail, the value of the last entry is ignored and assumed to take up any leftover probability mass, but this should not be relied on. A biased coin which has twice as much weight on one side as on the other should be sampled like so:"
   ]
  },
  {
   "cell_type": "code",
   "execution_count": 59,
   "metadata": {},
   "outputs": [
    {
     "name": "stdout",
     "output_type": "stream",
     "text": [
      "[34 66]\n",
      "[100   0]\n"
     ]
    }
   ],
   "source": [
    "# like this:\n",
    "r = np.random.multinomial(100, [1.0 / 3, 2.0 / 3])  # RIGHT\n",
    "print(r)\n",
    "# not like this:\n",
    "w = np.random.multinomial(100, [1.0, 2.0])  # WRONG\n",
    "print(w)"
   ]
  },
  {
   "cell_type": "markdown",
   "metadata": {},
   "source": [
    "### random.multivariate_normal"
   ]
  },
  {
   "cell_type": "markdown",
   "metadata": {},
   "source": [
    "This function is used to draw random samples from a multivariate normal distribution.\n",
    "\n",
    "The multivariate normal, multinormal or Gaussian distribution is a generalization of the one-dimensional normal distribution to higher dimensions. Such a distribution is specified by its mean and covariance matrix. These parameters are analogous to the mean (average or “center”) and variance (standard deviation, or “width,” squared) of the one-dimensional normal distribution.\n",
    "\n",
    "The parameters of this function are as follows:\t\n",
    "-  mean (1-D array_like, of length *n*):<br>\n",
    "Mean of the N-dimensional distribution.\n",
    "-  cov (2-D array_like, of shape (*n*, *n*)):<br>\n",
    "Covariance matrix of the distribution. It must be symmetric and positive-semidefinite for proper sampling.\n",
    "-  size (int or tuple of ints, optional):<br>\n",
    "This defines the output shape. Because each sample is N-dimensional, the output shape is (m,n,k,N). If no shape is specified, a single (N-D) sample is returned.\n",
    "-  check_valid ({‘warn’, ‘raise’, ‘ignore’}, optional):<br>\n",
    "Behavior when the covariance matrix is not positive semidefinite.\n",
    "-  tol (float, optional):<br>\n",
    "Tolerance when checking the singular values in covariance matrix.\n",
    "\n",
    "This function returns an *n* dimensional array.\n",
    "\n",
    "The mean is a coordinate in N-dimensional space, which represents the location where samples are most likely to be generated. This is analogous to the peak of the bell curve for the one-dimensional or univariate normal distribution.\n",
    "\n",
    "Covariance indicates the level to which two variables vary together. From the multivariate normal distribution, we draw N-dimensional samples, X = [x_1, x_2, ... x_N]. The covariance matrix element C_{ij} is the covariance of x_i and x_j. The element C_{ii} is the variance of x_i (i.e. its “spread”).\n",
    "\n",
    "Instead of specifying the full covariance matrix, popular approximations include:\n",
    "-  Spherical covariance (cov is a multiple of the identity matrix)\n",
    "-  Diagonal covariance (cov has non-negative elements, and only on the diagonal)\n",
    "\n",
    "This geometrical property can be seen in two dimensions by plotting generated data-points:"
   ]
  },
  {
   "cell_type": "code",
   "execution_count": 60,
   "metadata": {},
   "outputs": [],
   "source": [
    "mean = [0, 0]\n",
    "cov = [[1, 0], [0, 100]]  # diagonal covariance"
   ]
  },
  {
   "cell_type": "markdown",
   "metadata": {},
   "source": [
    "Diagonal covariance means that points are oriented along x or y-axis:"
   ]
  },
  {
   "cell_type": "code",
   "execution_count": 61,
   "metadata": {},
   "outputs": [
    {
     "data": {
      "image/png": "[encoded data removed]",
      "text/plain": [
       "<Figure size 432x288 with 1 Axes>"
      ]
     },
     "metadata": {},
     "output_type": "display_data"
    }
   ],
   "source": [
    "x, y = np.random.multivariate_normal(mean, cov, 5000).T\n",
    "plt.plot(x, y, 'x')\n",
    "plt.axis('equal')\n",
    "plt.show()"
   ]
  },
  {
   "cell_type": "markdown",
   "metadata": {},
   "source": [
    "Note that the covariance matrix must be positive semidefinite (a.k.a. nonnegative-definite). Otherwise, the behavior of this method is undefined and backwards compatibility is not guaranteed."
   ]
  },
  {
   "cell_type": "code",
   "execution_count": 62,
   "metadata": {},
   "outputs": [
    {
     "data": {
      "text/plain": [
       "(3, 3, 2)"
      ]
     },
     "execution_count": 62,
     "metadata": {},
     "output_type": "execute_result"
    }
   ],
   "source": [
    "mean = (1, 2)\n",
    "cov = [[1, 0], [0, 1]]\n",
    "x = np.random.multivariate_normal(mean, cov, (3, 3))\n",
    "x.shape"
   ]
  },
  {
   "cell_type": "markdown",
   "metadata": {},
   "source": [
    "The following is probably true, given that 0.6 is roughly twice the standard deviation:"
   ]
  },
  {
   "cell_type": "code",
   "execution_count": 63,
   "metadata": {},
   "outputs": [
    {
     "data": {
      "text/plain": [
       "[True, True]"
      ]
     },
     "execution_count": 63,
     "metadata": {},
     "output_type": "execute_result"
    }
   ],
   "source": [
    "list((x[0,0,:] - mean) < 0.6)"
   ]
  },
  {
   "cell_type": "markdown",
   "metadata": {},
   "source": [
    "### random.negative_binomial"
   ]
  },
  {
   "cell_type": "markdown",
   "metadata": {},
   "source": [
    "This function is used to drawn samples from a negative binomial distribution with specified parameters, n successes and p probability of success where n is an integer > 0 and p is in the interval [0, 1].\n",
    "\n",
    "The parameters of this function are as follows:\n",
    "-  n (int or array_like of ints):<br>\n",
    "Parameter of the distribution, > 0. Floats are also accepted, but they will be truncated to integers.\n",
    "-  p (float or array_like of floats):<br>\n",
    "Parameter of the distribution, >= 0 and <=1.\n",
    "-  size (int or tuple of ints, optional):<br>\n",
    "This parameter defines the output shape. If size is None (default), a single value is returned if n and p are both scalars. Otherwise, np.broadcast(n, p).size samples are drawn.\n",
    "\n",
    "The return of this function is an *n* dimensional array or a scalar."
   ]
  },
  {
   "cell_type": "markdown",
   "metadata": {},
   "source": [
    "Draw samples from the distribution:<br>\n",
    "A real world example. A company drills wild-cat oil exploration wells, each with an estimated probability of success of 0.1. What is the probability of having one success for each successive well, that is what is the probability of a single success after drilling 5 wells, after 6 wells, etc.?"
   ]
  },
  {
   "cell_type": "code",
   "execution_count": 64,
   "metadata": {},
   "outputs": [
    {
     "name": "stdout",
     "output_type": "stream",
     "text": [
      "1 wells drilled, probability of one success = 0.09893\n",
      "2 wells drilled, probability of one success = 0.18887\n",
      "3 wells drilled, probability of one success = 0.2708\n",
      "4 wells drilled, probability of one success = 0.34408\n",
      "5 wells drilled, probability of one success = 0.41063\n",
      "6 wells drilled, probability of one success = 0.47141\n",
      "7 wells drilled, probability of one success = 0.52428\n",
      "8 wells drilled, probability of one success = 0.57225\n",
      "9 wells drilled, probability of one success = 0.61484\n",
      "10 wells drilled, probability of one success = 0.65313\n"
     ]
    }
   ],
   "source": [
    "s = np.random.negative_binomial(1, 0.1, 100000)\n",
    "for i in range(1, 11):\n",
    "    probability = sum(s<i) / 100000.\n",
    "    print (i, \"wells drilled, probability of one success =\", probability)"
   ]
  },
  {
   "cell_type": "markdown",
   "metadata": {},
   "source": [
    "### random.noncentral_chisquare"
   ]
  },
  {
   "cell_type": "markdown",
   "metadata": {},
   "source": [
    "This function is used to draw samples from a noncentral chi-square distribution, the noncentral  distribution is a generalisation of the  distribution.\n",
    "\n",
    "The parameters this function takes are as follows:\n",
    "-  df (float or array_like of floats):<br>\n",
    "Degrees of freedom, should be > 0. (Changed in version 1.10.0: Earlier NumPy versions required dfnum > 1.)\n",
    "-  nonc (float or array_like of floats):<br>\n",
    "Non-centrality, should be non-negative.\n",
    "-  size (int or tuple of ints, optional):<br>\n",
    "This parameter defines the output shape. If size is None (default), a single value is returned if df and nonc are both scalars. Otherwise, np.broadcast(df, nonc).size samples are drawn.\n",
    "\n",
    "This function returns an *n* dimensional array or a scalar.\n",
    "\n",
    "Draw values from the distribution and plot the histogram:"
   ]
  },
  {
   "cell_type": "code",
   "execution_count": 65,
   "metadata": {},
   "outputs": [
    {
     "data": {
      "image/png": "[encoded data removed]",
      "text/plain": [
       "<Figure size 432x288 with 1 Axes>"
      ]
     },
     "metadata": {},
     "output_type": "display_data"
    }
   ],
   "source": [
    "values = plt.hist(np.random.noncentral_chisquare(3, 20, 100000), bins=200, density=True)\n",
    "plt.show()"
   ]
  },
  {
   "cell_type": "markdown",
   "metadata": {},
   "source": [
    "Draw values from a noncentral chisquare with very small noncentrality, and compare to a chisquare."
   ]
  },
  {
   "cell_type": "code",
   "execution_count": 66,
   "metadata": {},
   "outputs": [
    {
     "data": {
      "image/png": "[encoded data removed]",
      "text/plain": [
       "<Figure size 432x288 with 1 Axes>"
      ]
     },
     "metadata": {},
     "output_type": "display_data"
    }
   ],
   "source": [
    "plt.figure()\n",
    "values = plt.hist(np.random.noncentral_chisquare(3, .0000001, 100000), bins=np.arange(0., 25, .1), density=True)\n",
    "values2 = plt.hist(np.random.chisquare(3, 100000), bins=np.arange(0., 25, .1), density=True)\n",
    "plt.plot(values[1][0:-1], values[0]-values2[0], 'ob')\n",
    "plt.show()"
   ]
  },
  {
   "cell_type": "markdown",
   "metadata": {},
   "source": [
    "Demonstrate how large values of non-centrality lead to a more symmetric distribution."
   ]
  },
  {
   "cell_type": "code",
   "execution_count": 67,
   "metadata": {},
   "outputs": [
    {
     "data": {
      "image/png": "[encoded data removed]",
      "text/plain": [
       "<Figure size 432x288 with 1 Axes>"
      ]
     },
     "metadata": {},
     "output_type": "display_data"
    }
   ],
   "source": [
    "plt.figure()\n",
    "values = plt.hist(np.random.noncentral_chisquare(3, 20, 100000), bins=200, density=True)\n",
    "plt.show()"
   ]
  },
  {
   "cell_type": "markdown",
   "metadata": {},
   "source": [
    "### random.noncentral_f"
   ]
  },
  {
   "cell_type": "markdown",
   "metadata": {},
   "source": [
    "This function is used to draw samples from the noncentral F distribution.\n",
    "\n",
    "The parameters of this function are as follows:\n",
    "-  dfnum (float or array_like of floats):<br>\n",
    "Numerator degrees of freedom, should be > 0.\n",
    "Changed in version 1.14.0: Earlier NumPy versions required dfnum > 1.\n",
    "-  dfden (float or array_like of floats):<br>\n",
    "Denominator degrees of freedom, should be > 0.\n",
    "-  nonc (float or array_like of floats):<br>\n",
    "Non-centrality parameter, the sum of the squares of the numerator means, should be >= 0.\n",
    "-  size (int or tuple of ints, optional):<br>\n",
    "This parameter defines the output shape. If size is None (default), a single value is returned if dfnum, dfden, and nonc are all scalars. Otherwise, np.broadcast(dfnum, dfden, nonc).size samples are drawn.\n",
    "\n",
    "This function returns an *n* dimensional array or a scalar.\n",
    "\n",
    "Drawn samples from the parameterized noncentral Fisher distribution."
   ]
  },
  {
   "cell_type": "markdown",
   "metadata": {},
   "source": [
    "In a study, testing for a specific alternative to the null hypothesis requires use of the Noncentral F distribution. We need to calculate the area in the tail of the distribution that exceeds the value of the F distribution for the null hypothesis. We’ll plot the two probability distributions for comparison."
   ]
  },
  {
   "cell_type": "code",
   "execution_count": 68,
   "metadata": {},
   "outputs": [
    {
     "data": {
      "image/png": "[encoded data removed]",
      "text/plain": [
       "<Figure size 432x288 with 1 Axes>"
      ]
     },
     "metadata": {},
     "output_type": "display_data"
    }
   ],
   "source": [
    "dfnum = 3 # between group deg of freedom\n",
    "dfden = 20 # within groups degrees of freedom\n",
    "nonc = 3.0\n",
    "nc_vals = np.random.noncentral_f(dfnum, dfden, nonc, 1000000)\n",
    "NF = np.histogram(nc_vals, bins=50, density=True)\n",
    "c_vals = np.random.f(dfnum, dfden, 1000000)\n",
    "F = np.histogram(c_vals, bins=50, density=True)\n",
    "plt.plot(F[1][1:], F[0])\n",
    "plt.plot(NF[1][1:], NF[0])\n",
    "plt.show()"
   ]
  },
  {
   "cell_type": "markdown",
   "metadata": {},
   "source": [
    "### random.normal"
   ]
  },
  {
   "cell_type": "markdown",
   "metadata": {},
   "source": [
    "This function is used to draw random samples from a normal (Gaussian) distribution.\n",
    "\n",
    "The probability density function of the normal distribution, first derived by De Moivre and 200 years later by both Gauss and Laplace independently, is often called the bell curve because of its characteristic shape (see the example below).\n",
    "The normal distributions occurs often in nature. For example, it describes the commonly occurring distribution of samples influenced by a large number of tiny, random disturbances, each with its own unique distribution.\n",
    "\n",
    "The parameters of this function are as follows:\n",
    "-  loc (float or array_like of floats):<br>\n",
    "Mean (“centre”) of the distribution.\n",
    "-  scale (float or array_like of floats):<br>\n",
    "Standard deviation (spread or “width”) of the distribution.\n",
    "-  size (int or tuple of ints, optional):<br>\n",
    "Output shape. If size is None (default), a single value is returned if loc and scale are both scalars. Otherwise, np.broadcast(loc, scale).size samples are drawn.\n",
    "\n",
    "This function returns an *n* dimensional array or a scalar.\n",
    "\n",
    "Draw samples from the distribution:"
   ]
  },
  {
   "cell_type": "code",
   "execution_count": 69,
   "metadata": {},
   "outputs": [],
   "source": [
    "mu, sigma = 0, 0.1 # mean and standard deviation\n",
    "s = np.random.normal(mu, sigma, 1000)"
   ]
  },
  {
   "cell_type": "markdown",
   "metadata": {},
   "source": [
    "Verify the mean and the variance:"
   ]
  },
  {
   "cell_type": "code",
   "execution_count": 70,
   "metadata": {},
   "outputs": [
    {
     "data": {
      "text/plain": [
       "True"
      ]
     },
     "execution_count": 70,
     "metadata": {},
     "output_type": "execute_result"
    }
   ],
   "source": [
    "abs(mu - np.mean(s)) < 0.01"
   ]
  },
  {
   "cell_type": "code",
   "execution_count": 71,
   "metadata": {},
   "outputs": [
    {
     "data": {
      "text/plain": [
       "True"
      ]
     },
     "execution_count": 71,
     "metadata": {},
     "output_type": "execute_result"
    }
   ],
   "source": [
    "abs(sigma - np.std(s, ddof=1)) < 0.01"
   ]
  },
  {
   "cell_type": "markdown",
   "metadata": {},
   "source": [
    "Display the histogram of the samples, along with the probability density function:"
   ]
  },
  {
   "cell_type": "code",
   "execution_count": 72,
   "metadata": {},
   "outputs": [
    {
     "data": {
      "image/png": "[encoded data removed]",
      "text/plain": [
       "<Figure size 432x288 with 1 Axes>"
      ]
     },
     "metadata": {},
     "output_type": "display_data"
    }
   ],
   "source": [
    "count, bins, ignored = plt.hist(s, 30, density=True)\n",
    "plt.plot(bins, 1/(sigma * np.sqrt(2 * np.pi)) * np.exp( - (bins - mu)**2 / (2 * sigma**2) ), linewidth=2, color='r')\n",
    "plt.show()"
   ]
  },
  {
   "cell_type": "markdown",
   "metadata": {},
   "source": [
    "### random.pareto"
   ]
  },
  {
   "cell_type": "markdown",
   "metadata": {},
   "source": [
    "This function is used to draw samples from a Pareto II or Lomax distribution with specified shape. \n",
    "\n",
    "The Lomax or Pareto II distribution is a shifted Pareto distribution. The classical Pareto distribution can be obtained from the Lomax distribution by adding 1 and multiplying by the scale parameter m. The smallest value of the Lomax distribution is zero while for the classical Pareto distribution it is mu, where the standard Pareto distribution has location mu = 1. Lomax can also be considered as a simplified version of the Generalized Pareto distribution (available in SciPy), with the scale set to one and the location set to zero.\n",
    "\n",
    "The Pareto distribution must be greater than zero, and is unbounded above. It is also known as the “80-20 rule”. In this distribution, 80 percent of the weights are in the lowest 20 percent of the range, while the other 20 percent fill the remaining 80 percent of the range.\n",
    "\n",
    "The parameters of this function are as follows:\n",
    "-  a (float or array_like of floats):<br>\n",
    "Shape of the distribution. Should be greater than zero.\n",
    "-  size (int or tuple of ints, optional):<br>\n",
    "This parameter defines the output shape. If size is None (default), a single value is returned if a is a scalar. Otherwise, np.array(a).size samples are drawn.\n",
    "\n",
    "This function returns an *n* dimensional array or a scalar.\t\n",
    "\n",
    "Draw samples from the distribution:"
   ]
  },
  {
   "cell_type": "code",
   "execution_count": 73,
   "metadata": {},
   "outputs": [],
   "source": [
    "a, m = 3., 2.  # shape and mode\n",
    "s = (np.random.pareto(a, 1000) + 1) * m"
   ]
  },
  {
   "cell_type": "markdown",
   "metadata": {},
   "source": [
    "Display the histogram of the samples, along with the probability density function:"
   ]
  },
  {
   "cell_type": "code",
   "execution_count": 74,
   "metadata": {},
   "outputs": [
    {
     "data": {
      "image/png": "[encoded data removed]",
      "text/plain": [
       "<Figure size 432x288 with 1 Axes>"
      ]
     },
     "metadata": {},
     "output_type": "display_data"
    }
   ],
   "source": [
    "count, bins, _ = plt.hist(s, 100, density=True)\n",
    "fit = a*m**a / bins**(a+1)\n",
    "plt.plot(bins, max(count)*fit/max(fit), linewidth=2, color='r')\n",
    "plt.show()"
   ]
  },
  {
   "cell_type": "markdown",
   "metadata": {},
   "source": [
    "### random.poisson"
   ]
  },
  {
   "cell_type": "markdown",
   "metadata": {},
   "source": [
    "This function is used to draw samples from a Poisson distribution.\n",
    "\n",
    "The Poisson distribution is the limit of the binomial distribution for large N.\n",
    "\n",
    "The parameters of this function are as follows:\n",
    "-  lam (float or array_like of floats):<br>\n",
    "Expectation of interval, should be >= 0. A sequence of expectation intervals must be broadcastable over the requested size.\n",
    "-  size (int or tuple of ints, optional):<br>\n",
    "This parameter defines the output shape. If size is None (default), a single value is returned if lam is a scalar. Otherwise, np.array(lam).size samples are drawn.\n",
    "\n",
    "This function returns an *n* dimensional array or a scalar.\n",
    "\n",
    "Draw samples from the distribution:"
   ]
  },
  {
   "cell_type": "code",
   "execution_count": 75,
   "metadata": {},
   "outputs": [],
   "source": [
    "s = np.random.poisson(5, 10000)"
   ]
  },
  {
   "cell_type": "markdown",
   "metadata": {},
   "source": [
    "Display histogram of the sample:"
   ]
  },
  {
   "cell_type": "code",
   "execution_count": 76,
   "metadata": {},
   "outputs": [
    {
     "data": {
      "image/png": "[encoded data removed]",
      "text/plain": [
       "<Figure size 432x288 with 1 Axes>"
      ]
     },
     "metadata": {},
     "output_type": "display_data"
    }
   ],
   "source": [
    "count, bins, ignored = plt.hist(s, 14, density=True)\n",
    "plt.show()"
   ]
  },
  {
   "cell_type": "markdown",
   "metadata": {},
   "source": [
    "### random.power"
   ]
  },
  {
   "cell_type": "markdown",
   "metadata": {},
   "source": [
    "This function is used to draw samples in [0, 1] from a power distribution with positive exponent a - 1. This is also known as the power function distribution.\n",
    "\n",
    "This function takes the following parameters:\n",
    "-  a (float or array_like of floats):<br>\n",
    "Parameter of the distribution. Should be greater than zero.\n",
    "-  size (int or tuple of ints, optional):<br>\n",
    "This parameter defines the output shape. If size is None (default), a single value is returned if a is a scalar. Otherwise, np.array(a).size samples are drawn.\n",
    "\n",
    "This function returns an *n* dimensional array or a scalar.\n",
    "\n",
    "Draw samples from the distribution:"
   ]
  },
  {
   "cell_type": "code",
   "execution_count": 77,
   "metadata": {},
   "outputs": [],
   "source": [
    "a = 5. # shape\n",
    "samples = 1000\n",
    "s = np.random.power(a, samples)"
   ]
  },
  {
   "cell_type": "markdown",
   "metadata": {},
   "source": [
    "Display the histogram of the samples, along with the probability density function:"
   ]
  },
  {
   "cell_type": "code",
   "execution_count": 78,
   "metadata": {},
   "outputs": [
    {
     "data": {
      "image/png": "[encoded data removed]",
      "text/plain": [
       "<Figure size 432x288 with 1 Axes>"
      ]
     },
     "metadata": {},
     "output_type": "display_data"
    }
   ],
   "source": [
    "count, bins, ignored = plt.hist(s, bins=30)\n",
    "x = np.linspace(0, 1, 100)\n",
    "y = a*x**(a-1.)\n",
    "normed_y = samples*np.diff(bins)[0]*y\n",
    "plt.plot(x, normed_y)\n",
    "plt.show()"
   ]
  },
  {
   "cell_type": "markdown",
   "metadata": {},
   "source": [
    "### random.rayleigh"
   ]
  },
  {
   "cell_type": "markdown",
   "metadata": {},
   "source": [
    "This function is used to draw samples from a Rayleigh distribution. The Χ(Chi) and Weibull distributions are generalizations of the Rayleigh.\n",
    "\n",
    "The parameters of this function are as follows:\n",
    "-  scale (float or array_like of floats, optional):<br> \n",
    "Scale, also equals the mode. Should be >= 0. Default is 1.\n",
    "-  size (int or tuple of ints, optional):<br>\n",
    "This parameter defines the output shape. If size is None (default), a single value is returned if scale is a scalar. Otherwise, np.array(scale).size samples are drawn.\n",
    "\n",
    "The Rayleigh distribution would arise, for example, if the East and North components of the wind velocity had identical zero-mean Gaussian distributions. Then the wind speed would have a Rayleigh distribution.\n",
    "\n",
    "This function returns an *n* dimensional array or a scalar.\n",
    "\n",
    "Draw values from the distribution and plot the histogram:"
   ]
  },
  {
   "cell_type": "code",
   "execution_count": 79,
   "metadata": {},
   "outputs": [
    {
     "data": {
      "image/png": "[encoded data removed]",
      "text/plain": [
       "<Figure size 432x288 with 1 Axes>"
      ]
     },
     "metadata": {},
     "output_type": "display_data"
    }
   ],
   "source": [
    "values = plt.hist(np.random.rayleigh(3, 100000), bins=200, density=True)"
   ]
  },
  {
   "cell_type": "markdown",
   "metadata": {},
   "source": [
    "Wave heights tend to follow a Rayleigh distribution. If the mean wave height is 1 meter, what fraction of waves are likely to be larger than 3 meters?"
   ]
  },
  {
   "cell_type": "code",
   "execution_count": 80,
   "metadata": {},
   "outputs": [],
   "source": [
    "meanvalue = 1\n",
    "modevalue = np.sqrt(2 / np.pi) * meanvalue\n",
    "s = np.random.rayleigh(modevalue, 1000000)"
   ]
  },
  {
   "cell_type": "code",
   "execution_count": 81,
   "metadata": {},
   "outputs": [
    {
     "data": {
      "image/png": "[encoded data removed]",
      "text/plain": [
       "<Figure size 432x288 with 1 Axes>"
      ]
     },
     "metadata": {},
     "output_type": "display_data"
    }
   ],
   "source": [
    "values = plt.hist(s, bins=200, density=True)"
   ]
  },
  {
   "cell_type": "markdown",
   "metadata": {},
   "source": [
    "### random.standard_cauchy"
   ]
  },
  {
   "cell_type": "markdown",
   "metadata": {},
   "source": [
    "This function is used to draw samples from a standard Cauchy distribution with mode = 0, this is also known as the Lorentz distribution.\n",
    "\n",
    "The parameters of this function are:\n",
    "-  size (int or tuple of ints, optional):<br>\n",
    "This parameter defines the output shape. Default is None, in which case a single value is returned.\n",
    "\n",
    "This function returns an *n* dimensional array or a scalar.\n",
    "\n",
    "The Cauchy distribution arises in the solution to the driven harmonic oscillator problem, and also describes spectral line broadening. It also describes the distribution of values at which a line tilted at a random angle will cut the x axis.\n",
    "\n",
    "When studying hypothesis tests that assume normality, seeing how the tests perform on data from a Cauchy distribution is a good indicator of their sensitivity to a heavy-tailed distribution, since the Cauchy looks very much like a Gaussian distribution, but with heavier tails.\n",
    "\n",
    "Draw samples and plot the distribution:"
   ]
  },
  {
   "cell_type": "code",
   "execution_count": 82,
   "metadata": {},
   "outputs": [
    {
     "data": {
      "image/png": "[encoded data removed]",
      "text/plain": [
       "<Figure size 432x288 with 1 Axes>"
      ]
     },
     "metadata": {},
     "output_type": "display_data"
    }
   ],
   "source": [
    "s = np.random.standard_cauchy(1000000)\n",
    "s = s[(s>-25) & (s<25)]  # truncate distribution so it plots well\n",
    "plt.hist(s, bins=100)\n",
    "plt.show()"
   ]
  },
  {
   "cell_type": "markdown",
   "metadata": {},
   "source": [
    "### random.standard_exponential"
   ]
  },
  {
   "cell_type": "markdown",
   "metadata": {},
   "source": [
    "This function is used to draw samples from the standard exponential distribution. Standard_exponential is identical to the exponential distribution with a scale parameter of 1."
   ]
  },
  {
   "cell_type": "markdown",
   "metadata": {},
   "source": [
    "This function takes the following parameter:\n",
    "-  size (int or tuple of ints, optional):<br>\n",
    "This parameter defines the output shape. Default is None, in which case a single value is returned.\n",
    "\n",
    "This fuction returns an *n* dimensional array or a float"
   ]
  },
  {
   "cell_type": "code",
   "execution_count": 83,
   "metadata": {},
   "outputs": [
    {
     "name": "stdout",
     "output_type": "stream",
     "text": [
      "[[1.15847443e+00 1.35705560e+00 1.44415216e+00 2.35198674e+00\n",
      "  1.17498810e+00 1.86516826e-02 1.34745273e+00 5.56342232e+00\n",
      "  9.74443844e-01 4.34864149e-02 7.29972266e-01 8.94707936e-01\n",
      "  8.78843894e-01 2.17205695e+00 1.14212161e-01 1.38519521e+00\n",
      "  1.13265565e+00 3.62912697e-01 5.05266933e-01 1.91187040e+00\n",
      "  7.93847338e-01 2.10863384e+00 2.03218111e-01 1.13723288e+00\n",
      "  2.52366368e+00 1.85260277e+00 9.72961105e-01 2.09559262e-01\n",
      "  9.70319282e-01 1.44583345e+00 2.64662065e-01 1.65163676e-01\n",
      "  1.67833363e-02 1.74867401e+00 4.84181096e-02 1.11541141e-01\n",
      "  8.95073354e-01 3.89184244e+00 1.33851550e+00 1.62466717e-01\n",
      "  8.84455892e-01 6.59206561e-01 2.03274448e+00 2.51990633e+00\n",
      "  7.74237759e-01 3.23137623e-01 2.82339537e+00 2.19994136e+00\n",
      "  1.13583369e+00 1.66691811e+00 7.14537262e-01 6.00954034e-01\n",
      "  3.35196355e-01 2.79307736e-01 1.01891757e+00 3.26493108e+00\n",
      "  4.70987742e-01 1.39357771e+00 9.55476509e-02 4.11055775e+00\n",
      "  1.32004358e+00 1.17309386e-02 6.34566641e-01 3.48014695e+00\n",
      "  8.31798448e-01 1.22123717e+00 7.36414947e-02 1.97356052e+00\n",
      "  8.31754715e-01 5.49002224e-01 7.71720237e-02 4.98103290e-01\n",
      "  4.27687913e-01 1.92524921e-01 4.81667226e-01 5.13575597e+00\n",
      "  7.44466295e-01 1.62545501e+00 1.13283799e+00 8.88667574e-02]\n",
      " [3.89236088e-01 7.32576993e-01 1.43006667e+00 6.51456213e-01\n",
      "  2.07249521e-03 1.25715109e+00 1.47665808e+00 1.67893447e+00\n",
      "  8.09350097e-01 6.16160727e-01 2.62984938e-01 2.03830036e-01\n",
      "  5.35503171e-01 9.78100438e-01 4.31931182e-01 1.29309725e+00\n",
      "  2.75089414e-01 1.45854977e+00 9.15466725e-01 1.38021366e+00\n",
      "  1.29101886e+00 3.11797797e+00 6.61677423e-02 1.10941854e+00\n",
      "  1.97333557e-01 2.82971351e-01 2.46798175e+00 1.80811041e-01\n",
      "  3.55178588e-01 1.02022125e+00 2.79510316e+00 3.70824913e-02\n",
      "  1.03202835e+00 7.32297295e-01 2.10472676e+00 7.39754406e-01\n",
      "  4.86369622e-01 1.97101373e+00 6.49880989e-01 6.96317559e-01\n",
      "  1.24240849e+00 9.81600966e-03 1.04234081e+00 1.46092815e-01\n",
      "  3.10822941e+00 2.27977517e+00 5.38115284e-01 1.29836557e+00\n",
      "  3.23853801e-01 1.71485971e-01 1.89768566e+00 4.38418500e-01\n",
      "  7.29582301e-01 5.42010629e-01 5.26180527e-01 9.20524084e-01\n",
      "  1.72813009e+00 2.45925293e+00 1.48163552e+00 1.34538739e+00\n",
      "  1.39464979e+00 2.52339375e+00 4.50996370e-01 2.61604835e+00\n",
      "  3.86331431e+00 1.11255869e+00 4.97358398e-03 1.43172447e+00\n",
      "  2.79948161e-01 9.64528276e-02 1.06586084e+00 1.67738431e-01\n",
      "  6.36053788e-01 7.64047360e-01 1.35085760e+00 2.78210927e+00\n",
      "  8.79626671e-01 2.55713532e-01 2.23520152e+00 7.40520258e-02]\n",
      " [1.10284674e+00 4.00594969e-01 1.01769773e+00 3.28681410e+00\n",
      "  1.21617914e+00 6.75800641e+00 2.96616387e-01 5.17401744e-02\n",
      "  3.70045392e+00 1.23649327e+00 1.89979972e+00 1.96550801e+00\n",
      "  3.58295879e-01 1.79403619e-01 8.52191089e-01 3.51535358e-01\n",
      "  2.04610809e+00 1.52086307e+00 1.47884275e+00 2.36517465e+00\n",
      "  1.28137222e+00 3.52663513e-01 8.09769269e-02 7.19265043e-01\n",
      "  8.29550409e-01 1.06032830e+00 3.10886126e+00 7.18837146e-01\n",
      "  1.11778282e+00 2.45938545e-02 1.66371764e+00 2.01929331e-02\n",
      "  2.66447408e-03 2.07003370e+00 8.07337102e-01 1.98949261e+00\n",
      "  7.73536437e-01 1.21590549e+00 1.31151990e+00 3.16102804e-01\n",
      "  7.23623229e-02 1.21255341e-01 1.21914957e+00 6.49541924e-01\n",
      "  2.86369620e-01 1.07426963e+00 6.54496302e-01 7.87125826e-01\n",
      "  5.45722773e-01 1.15774079e-02 2.38227429e+00 3.27699722e-01\n",
      "  2.37114337e+00 2.94664099e-02 2.13953344e+00 2.54232233e-02\n",
      "  1.39655832e-01 2.82498048e-02 1.00737705e+00 3.39728007e+00\n",
      "  4.92603041e-01 3.37451696e+00 3.33463996e-02 5.77596449e-01\n",
      "  1.84919932e+00 2.20834323e+00 5.10184452e-03 8.56373936e-01\n",
      "  4.69588491e-01 5.08610561e-01 1.08460092e-01 7.35977999e-01\n",
      "  8.26938534e-01 6.49182980e-01 2.25415971e+00 1.30184504e+00\n",
      "  1.42189114e+00 2.93656948e+00 7.85609652e-01 1.72529327e+00]]\n"
     ]
    }
   ],
   "source": [
    "n = np.random.standard_exponential((3, 80))\n",
    "print(n)"
   ]
  },
  {
   "cell_type": "markdown",
   "metadata": {},
   "source": [
    "### random.standard_gamma"
   ]
  },
  {
   "cell_type": "markdown",
   "metadata": {},
   "source": [
    "Draw samples from a standard Gamma distribution.\n",
    "\n",
    "Samples are drawn from a Gamma distribution with specified parameters, shape (sometimes designated “k”) and scale=1.\n",
    "\n",
    "The Gamma distribution is often used to model the times to failure of electronic components, and arises naturally in processes for which the waiting times between Poisson distributed events are relevant.\n",
    "\n",
    "The parameters of this function are as follows:\n",
    "-  shape : float or array_like of floats\n",
    "Parameter, should be > 0.\n",
    "-  size : int or tuple of ints, optional\n",
    "This parameter defines the output shape. If size is None (default), a single value is returned if shape is a scalar. Otherwise, np.array(shape).size samples are drawn.\n",
    "\n",
    "This function returns an *n* dimensional array or a scalar."
   ]
  },
  {
   "cell_type": "code",
   "execution_count": 84,
   "metadata": {},
   "outputs": [],
   "source": [
    "shape, scale = 2., 1. # mean and width\n",
    "s = np.random.standard_gamma(shape, 1000000)"
   ]
  },
  {
   "cell_type": "markdown",
   "metadata": {},
   "source": [
    "Display the histogram of the samples, along with the probability density function:"
   ]
  },
  {
   "cell_type": "code",
   "execution_count": 85,
   "metadata": {},
   "outputs": [
    {
     "data": {
      "image/png": "[encoded data removed]",
      "text/plain": [
       "<Figure size 432x288 with 1 Axes>"
      ]
     },
     "metadata": {},
     "output_type": "display_data"
    }
   ],
   "source": [
    "count, bins, ignored = plt.hist(s, 50, density=True)\n",
    "y = bins**(shape-1) * ((np.exp(-bins/scale))/(sps.gamma(shape) * scale**shape))\n",
    "plt.plot(bins, y, linewidth=2, color='r')\n",
    "plt.show()"
   ]
  },
  {
   "cell_type": "markdown",
   "metadata": {},
   "source": [
    "### random.standard_normal"
   ]
  },
  {
   "cell_type": "markdown",
   "metadata": {},
   "source": [
    "This function is used to draw samples from a standard Normal distribution (mean=0, stdev=1).\n",
    "\n",
    "The parameter of this function is as follows:\n",
    "-  size (int or tuple of ints, optional):<br>\n",
    "This parameter defines the output shape. If the given shape is, e.g., (m, n, k), then m * n * k samples are drawn. Default is None, in which case a single value is returned.\n",
    "\n",
    "Returns:\t\n",
    "This function returns an *n* dimensional array."
   ]
  },
  {
   "cell_type": "code",
   "execution_count": 86,
   "metadata": {},
   "outputs": [
    {
     "data": {
      "text/plain": [
       "array([ 0.87025103,  0.78176373,  0.44395565, ..., -0.66748058,\n",
       "        0.71251205,  0.08726037])"
      ]
     },
     "execution_count": 86,
     "metadata": {},
     "output_type": "execute_result"
    }
   ],
   "source": [
    "s = np.random.standard_normal(8000)\n",
    "s"
   ]
  },
  {
   "cell_type": "code",
   "execution_count": 87,
   "metadata": {},
   "outputs": [
    {
     "data": {
      "text/plain": [
       "(8000,)"
      ]
     },
     "execution_count": 87,
     "metadata": {},
     "output_type": "execute_result"
    }
   ],
   "source": [
    "s.shape"
   ]
  },
  {
   "cell_type": "code",
   "execution_count": 88,
   "metadata": {},
   "outputs": [
    {
     "data": {
      "text/plain": [
       "(3, 4, 2)"
      ]
     },
     "execution_count": 88,
     "metadata": {},
     "output_type": "execute_result"
    }
   ],
   "source": [
    "s = np.random.standard_normal(size=(3, 4, 2))\n",
    "s.shape"
   ]
  },
  {
   "cell_type": "markdown",
   "metadata": {},
   "source": [
    "### random.standard_t"
   ]
  },
  {
   "cell_type": "markdown",
   "metadata": {},
   "source": [
    "This function is used to draw samples from a standard Student’s t distribution with df degrees of freedom.\n",
    "\n",
    "A special case of the hyperbolic distribution. As df gets large, the result resembles that of the standard normal distribution [standard_normal](#random.standard_normal).\n",
    "\t\n",
    "The parameters of this function are as follows:\n",
    "-  df (float or array_like of floats):<br>\n",
    "Degrees of freedom, should be > 0.\n",
    "-  size (int or tuple of ints, optional):<br>\n",
    "This parameter defines the output shape. If size is None (default), a single value is returned if df is a scalar. Otherwise, np.array(df).size samples are drawn.\n",
    "\n",
    "This function returns an *n* dimensional array or a scalar.\n",
    "\n",
    "The t test is based on an assumption that the data come from a Normal distribution. The t test provides a way to test whether the sample mean (that is the mean calculated from the data) is a good estimate of the true mean.\n",
    "\n",
    "The derivation of the t-distribution was first published in 1908 by William Gosset while working for the Guinness Brewery in Dublin. Due to proprietary issues, he had to publish under a pseudonym, and so he used the name Student.\n",
    "\n",
    "From Dalgaard, Peter, “Introductory Statistics With R”, Springer, 2002. page 83, suppose the daily energy intake for 11 women in Kj is:"
   ]
  },
  {
   "cell_type": "code",
   "execution_count": 89,
   "metadata": {},
   "outputs": [],
   "source": [
    "intake = np.array([5260., 5470, 5640, 6180, 6390, 6515, 6805, 7515, 7515, 8230, 8770])"
   ]
  },
  {
   "cell_type": "markdown",
   "metadata": {},
   "source": [
    "Does their energy intake deviate systematically from the recommended value of 7725 kJ?\n",
    "\n",
    "We have 10 degrees of freedom, so is the sample mean within 95% of the recommended value?"
   ]
  },
  {
   "cell_type": "code",
   "execution_count": 90,
   "metadata": {},
   "outputs": [
    {
     "data": {
      "text/plain": [
       "1142.1232221373727"
      ]
     },
     "execution_count": 90,
     "metadata": {},
     "output_type": "execute_result"
    }
   ],
   "source": [
    "s = np.random.standard_t(10, size=100000)\n",
    "np.mean(intake)\n",
    "\n",
    "intake.std(ddof=1)"
   ]
  },
  {
   "cell_type": "markdown",
   "metadata": {},
   "source": [
    "Calculate the t statistic, setting the ddof parameter to the unbiased value so the divisor in the standard deviation will be degrees of freedom, N-1."
   ]
  },
  {
   "cell_type": "code",
   "execution_count": 91,
   "metadata": {},
   "outputs": [
    {
     "data": {
      "image/png": "[encoded data removed]",
      "text/plain": [
       "<Figure size 432x288 with 1 Axes>"
      ]
     },
     "metadata": {},
     "output_type": "display_data"
    }
   ],
   "source": [
    "t = (np.mean(intake)-7725)/(intake.std(ddof=1)/np.sqrt(len(intake)))\n",
    "import matplotlib.pyplot as plt\n",
    "h = plt.hist(s, bins=100, density=True)"
   ]
  },
  {
   "cell_type": "markdown",
   "metadata": {},
   "source": [
    "For a one-sided t-test, how far out in the distribution does the t statistic appear?"
   ]
  },
  {
   "cell_type": "code",
   "execution_count": 92,
   "metadata": {},
   "outputs": [
    {
     "data": {
      "text/plain": [
       "0.00867"
      ]
     },
     "execution_count": 92,
     "metadata": {},
     "output_type": "execute_result"
    }
   ],
   "source": [
    "np.sum(s<t) / float(len(s))"
   ]
  },
  {
   "cell_type": "markdown",
   "metadata": {},
   "source": [
    "So the p-value is about 0.009, which says the null hypothesis has a probability of about 99% of being true."
   ]
  },
  {
   "cell_type": "markdown",
   "metadata": {},
   "source": [
    "### random.triangular"
   ]
  },
  {
   "cell_type": "markdown",
   "metadata": {},
   "source": [
    "This function is used to draw samples from the triangular distribution over the interval [left, right]. The triangular distribution is a continuous probability distribution with lower limit left, peak at mode, and upper limit right. Unlike the other distributions, these parameters directly define the shape of the pdf.\n",
    "\n",
    "The parameters this function takes are as follows:\n",
    "-  left (float or array_like of floats):<br>\n",
    "Lower limit.\n",
    "-  mode (float or array_like of floats):<br>\n",
    "The value where the peak of the distribution occurs. The value should fulfill the condition left <= mode <= right.\n",
    "-  right (float or array_like of floats):<br>\n",
    "Upper limit, should be larger than left.\n",
    "-  size (int or tuple of ints, optional):<br>\n",
    "This parameter defines the output shape. If size is None (default), a single value is returned if left, mode, and right are all scalars. Otherwise, np.broadcast(left, mode, right).size samples are drawn.\n",
    "\n",
    "This function returns an *n* dimensional array or a scalar.\n",
    "\n",
    "Draw values from the distribution and plot the histogram:"
   ]
  },
  {
   "cell_type": "code",
   "execution_count": 93,
   "metadata": {},
   "outputs": [
    {
     "data": {
      "text/plain": [
       "<function matplotlib.pyplot.show(*args, **kw)>"
      ]
     },
     "execution_count": 93,
     "metadata": {},
     "output_type": "execute_result"
    },
    {
     "data": {
      "image/png": "[encoded data removed]",
      "text/plain": [
       "<Figure size 432x288 with 1 Axes>"
      ]
     },
     "metadata": {},
     "output_type": "display_data"
    }
   ],
   "source": [
    "h = plt.hist(np.random.triangular(-3, 0, 8, 100000), bins=200, density=True)\n",
    "plt.show"
   ]
  },
  {
   "cell_type": "markdown",
   "metadata": {},
   "source": [
    "### random.uniform"
   ]
  },
  {
   "cell_type": "markdown",
   "metadata": {},
   "source": [
    "This function is used to draw samples from a uniform distribution. Samples are uniformly distributed over the half-open interval (low, high) (includes low, but excludes high). In other words, any value within the given interval is equally likely to be drawn by uniform.\n",
    "\n",
    "This function takes the following paramters:\n",
    "-  low (float or array_like of floats, optional):<br>\n",
    "Lower boundary of the output interval. All values generated will be greater than or equal to low. The default value is 0.\n",
    "-  high (float or array_like of floats):<br>\n",
    "Upper boundary of the output interval. All values generated will be less than high. The default value is 1.0.\n",
    "-  size (int or tuple of ints, optional):<br>\n",
    "This parameter defines the output shape. If size is None (default), a single value is returned if low and high are both scalars. Otherwise, np.broadcast(low, high).size samples are drawn.\n",
    "\n",
    "This function returns an *n* dimensional array or a scalar.\n",
    "\n",
    "Draw samples from the distribution:"
   ]
  },
  {
   "cell_type": "code",
   "execution_count": 94,
   "metadata": {},
   "outputs": [],
   "source": [
    "s = np.random.uniform(-1,0,1000)"
   ]
  },
  {
   "cell_type": "markdown",
   "metadata": {},
   "source": [
    "All values are within the given interval:"
   ]
  },
  {
   "cell_type": "code",
   "execution_count": 95,
   "metadata": {},
   "outputs": [
    {
     "data": {
      "text/plain": [
       "True"
      ]
     },
     "execution_count": 95,
     "metadata": {},
     "output_type": "execute_result"
    }
   ],
   "source": [
    "np.all(s >= -1)"
   ]
  },
  {
   "cell_type": "code",
   "execution_count": 96,
   "metadata": {},
   "outputs": [
    {
     "data": {
      "text/plain": [
       "True"
      ]
     },
     "execution_count": 96,
     "metadata": {},
     "output_type": "execute_result"
    }
   ],
   "source": [
    "np.all(s < 0)"
   ]
  },
  {
   "cell_type": "markdown",
   "metadata": {},
   "source": [
    "Display the histogram of the samples, along with the probability density function:"
   ]
  },
  {
   "cell_type": "code",
   "execution_count": 97,
   "metadata": {},
   "outputs": [
    {
     "data": {
      "image/png": "[encoded data removed]",
      "text/plain": [
       "<Figure size 432x288 with 1 Axes>"
      ]
     },
     "metadata": {},
     "output_type": "display_data"
    }
   ],
   "source": [
    "count, bins, ignored = plt.hist(s, 15, density=True)\n",
    "plt.plot(bins, np.ones_like(bins), linewidth=2, color='r')\n",
    "plt.show()"
   ]
  },
  {
   "cell_type": "markdown",
   "metadata": {},
   "source": [
    "### random.vonmises"
   ]
  },
  {
   "cell_type": "markdown",
   "metadata": {},
   "source": [
    "This function is used to draw samples from a von Mises distribution. Samples are drawn from a von Mises distribution with specified mode (mu) and dispersion (kappa), on the interval [-pi, pi]. The von Mises distribution (also known as the circular normal distribution) is a continuous probability distribution on the unit circle. It may be thought of as the circular analogue of the normal distribution.\n",
    "\n",
    "The parameters of this function are as follows:\n",
    "-  mu (float or array_like of floats):<br>\n",
    "Mode (“center”) of the distribution.\n",
    "-  kappa (float or array_like of floats):<br>\n",
    "Dispersion of the distribution, has to be >=0.\n",
    "-  size (int or tuple of ints, optional):<br>\n",
    "This parameter defines the output shape. If size is None (default), a single value is returned if mu and kappa are both scalars. Otherwise, np.broadcast(mu, kappa).size samples are drawn.\n",
    "\n",
    "This function returns an *n* dimensional array or a scalar.\n",
    "\n",
    "Draw samples from the distribution:"
   ]
  },
  {
   "cell_type": "code",
   "execution_count": 98,
   "metadata": {},
   "outputs": [
    {
     "data": {
      "text/plain": [
       "(array([0.01253869, 0.01253869, 0.01253869, 0.01253869, 0.        ,\n",
       "        0.        , 0.01253869, 0.02507738, 0.05015476, 0.07523214,\n",
       "        0.07523214, 0.1253869 , 0.16300297, 0.16300297, 0.27585118,\n",
       "        0.28838987, 0.20061904, 0.47647022, 0.48900891, 0.41377677,\n",
       "        0.63947319, 0.67708926, 0.80247616, 0.71470533, 0.66455057,\n",
       "        0.56424105, 0.81501485, 0.66455057, 0.68962795, 0.60185712,\n",
       "        0.42631546, 0.47647022, 0.5015476 , 0.21315773, 0.2507738 ,\n",
       "        0.20061904, 0.22569642, 0.11284821, 0.10030952, 0.02507738,\n",
       "        0.03761607, 0.07523214, 0.03761607, 0.07523214, 0.        ,\n",
       "        0.02507738, 0.01253869, 0.        , 0.01253869, 0.01253869]),\n",
       " array([-1.99643503, -1.91668188, -1.83692873, -1.75717559, -1.67742244,\n",
       "        -1.59766929, -1.51791614, -1.43816299, -1.35840985, -1.2786567 ,\n",
       "        -1.19890355, -1.1191504 , -1.03939725, -0.95964411, -0.87989096,\n",
       "        -0.80013781, -0.72038466, -0.64063151, -0.56087836, -0.48112522,\n",
       "        -0.40137207, -0.32161892, -0.24186577, -0.16211262, -0.08235948,\n",
       "        -0.00260633,  0.07714682,  0.15689997,  0.23665312,  0.31640626,\n",
       "         0.39615941,  0.47591256,  0.55566571,  0.63541886,  0.715172  ,\n",
       "         0.79492515,  0.8746783 ,  0.95443145,  1.0341846 ,  1.11393774,\n",
       "         1.19369089,  1.27344404,  1.35319719,  1.43295034,  1.51270349,\n",
       "         1.59245663,  1.67220978,  1.75196293,  1.83171608,  1.91146923,\n",
       "         1.99122237]),\n",
       " <a list of 50 Patch objects>)"
      ]
     },
     "execution_count": 98,
     "metadata": {},
     "output_type": "execute_result"
    },
    {
     "data": {
      "image/png": "[encoded data removed]",
      "text/plain": [
       "<Figure size 432x288 with 1 Axes>"
      ]
     },
     "metadata": {},
     "output_type": "display_data"
    }
   ],
   "source": [
    "mu, kappa = 0.0, 4.0 # mean and dispersion\n",
    "s = np.random.vonmises(mu, kappa, 1000)\n",
    "plt.hist(s, 50, density=True)"
   ]
  },
  {
   "cell_type": "markdown",
   "metadata": {},
   "source": [
    "### random.wald"
   ]
  },
  {
   "cell_type": "markdown",
   "metadata": {},
   "source": [
    "This function is used to draw samples from a Wald, or inverse Gaussian, distribution. As the scale approaches infinity, the distribution becomes more like a Gaussian. Some references claim that the Wald is an inverse Gaussian with mean equal to 1, but this is by no means universal.\n",
    "\n",
    "The inverse Gaussian distribution was first studied in relationship to Brownian motion. In 1956 M.C.K. Tweedie used the name inverse Gaussian because there is an inverse relationship between the time to cover a unit distance and distance covered in unit time.\n",
    "\n",
    "The parameters of this function are as follows:\n",
    "-- mean (float or array_like of floats):<br>\n",
    "Distribution mean, should be > 0.\n",
    "-  scale (float or array_like of floats):<br>\n",
    "Scale parameter, should be >= 0.\n",
    "-  size (int or tuple of ints, optional):<br>\n",
    "This parameter defines the output shape. If size is None (default), a single value is returned if mean and scale are both scalars. Otherwise, np.broadcast(mean, scale).size samples are drawn.\n",
    "\n",
    "This function returns an *n* dimensional array or a scalar.\n",
    "\n",
    "Draw values from the distribution and plot the histogram:"
   ]
  },
  {
   "cell_type": "code",
   "execution_count": 99,
   "metadata": {},
   "outputs": [
    {
     "data": {
      "image/png": "[encoded data removed]",
      "text/plain": [
       "<Figure size 432x288 with 1 Axes>"
      ]
     },
     "metadata": {},
     "output_type": "display_data"
    }
   ],
   "source": [
    "h = plt.hist(np.random.wald(3, 2, 100000), bins=200, density=True)\n",
    "plt.show()"
   ]
  },
  {
   "cell_type": "markdown",
   "metadata": {},
   "source": [
    "### random.weibull"
   ]
  },
  {
   "cell_type": "markdown",
   "metadata": {},
   "source": [
    "This function is used to draw samples from a Weibull distribution.\n",
    "\n",
    "The Weibull (or Type III asymptotic extreme value distribution for smallest values, SEV Type III, or Rosin-Rammler distribution) is one of a class of Generalized Extreme Value (GEV) distributions used in modeling extreme value problems. This class includes the Gumbel and Frechet distributions.\n",
    "\n",
    "This function takes the following parameters:\n",
    "-  a (float or array_like of floats):<br>\n",
    "Shape of the distribution. Should be greater than zero.\n",
    "-  size (int or tuple of ints, optional):<br>\n",
    "This parameter defines the output shape. If size is None (default), a single value is returned if a is a scalar. Otherwise, np.array(a).size samples are drawn.\n",
    "\n",
    "This function returns an *n* dimensional array or a scalar.\n",
    "\n",
    "Draw samples from the distribution:"
   ]
  },
  {
   "cell_type": "code",
   "execution_count": 100,
   "metadata": {},
   "outputs": [],
   "source": [
    "a = 5. # shape\n",
    "s = np.random.weibull(a, 1000)"
   ]
  },
  {
   "cell_type": "markdown",
   "metadata": {},
   "source": [
    "Display the histogram of the samples, along with the probability density function:"
   ]
  },
  {
   "cell_type": "code",
   "execution_count": 101,
   "metadata": {},
   "outputs": [],
   "source": [
    "x = np.arange(1,100.)/50.\n",
    "def weib(x,n,a):\n",
    "    return (a / n) * (x / n)**(a - 1) * np.exp(-(x / n)**a)"
   ]
  },
  {
   "cell_type": "code",
   "execution_count": 102,
   "metadata": {},
   "outputs": [
    {
     "data": {
      "image/png": "[encoded data removed]",
      "text/plain": [
       "<Figure size 432x288 with 1 Axes>"
      ]
     },
     "metadata": {},
     "output_type": "display_data"
    }
   ],
   "source": [
    "count, bins, ignored = plt.hist(np.random.weibull(5.,1000))\n",
    "x = np.arange(1,100.)/50.\n",
    "scale = count.max()/weib(x, 1., 5.).max()\n",
    "plt.plot(x, weib(x, 1., 5.)*scale)\n",
    "plt.show()"
   ]
  },
  {
   "cell_type": "markdown",
   "metadata": {},
   "source": [
    "### random.zipf"
   ]
  },
  {
   "cell_type": "markdown",
   "metadata": {},
   "source": [
    "This function is used to draw samples from a Zipf distribution. Samples are drawn from a Zipf distribution with specified parameter a > 1. The Zipf distribution (also known as the zeta distribution) is a continuous probability distribution that satisfies Zipf’s law: the frequency of an item is inversely proportional to its rank in a frequency table.\n",
    "\n",
    "\n",
    "\n",
    "The parameters this function takes are as follow:\n",
    "-  a (float or array_like of floats):<br>\n",
    "Distribution parameter. Should be greater than 1.\n",
    "-  size (int or tuple of ints, optional):<br>\n",
    "This parameter defines the output shape. If size is None (default), a single value is returned if a is a scalar. Otherwise, np.array(a).size samples are drawn.\n",
    "\n",
    "This function returns an *n* dimensional array or a scalar.\n",
    "\n",
    "Draw samples from the distribution:"
   ]
  },
  {
   "cell_type": "code",
   "execution_count": 103,
   "metadata": {},
   "outputs": [],
   "source": [
    "a = 2. # parameter\n",
    "s = np.random.zipf(a, 1000)"
   ]
  },
  {
   "cell_type": "code",
   "execution_count": 104,
   "metadata": {},
   "outputs": [
    {
     "data": {
      "image/png": "[encoded data removed]",
      "text/plain": [
       "<Figure size 432x288 with 1 Axes>"
      ]
     },
     "metadata": {},
     "output_type": "display_data"
    }
   ],
   "source": [
    "count, bins, ignored = plt.hist(s[s<50], 50, density=True)\n",
    "x = np.arange(1., 50.)\n",
    "y = x**(-a) / sps.zetac(a)\n",
    "plt.plot(x, y/max(y), linewidth=2, color='r')\n",
    "plt.show()"
   ]
  },
  {
   "cell_type": "markdown",
   "metadata": {},
   "source": [
    "<a id=\"RandomGenerator\"></a>\n",
    "## Random generator"
   ]
  },
  {
   "cell_type": "markdown",
   "metadata": {},
   "source": [
    "### random.RandomState"
   ]
  },
  {
   "cell_type": "markdown",
   "metadata": {},
   "source": [
    "The random.RandomState returns a new seeded RandomState instance but does not change the existing global RandomState instance that the *numpy.random* namespace utilises. You have to use the returned RandomState instance to get consistent pseudorandom numbers. If you use the functions in the numpy.random namespace, you will not get consistent pseudorandom numbers because they are pulling from a different RandomState instance than the one you just created. It is good practice to structure your code to pass around RandomState instances, this insures the reproducibility.\n",
    "\n",
    "RandomState exposes a number of methods for generating random numbers drawn from a variety of probability distributions, these can be found [here](https://docs.scipy.org/doc/numpy/reference/generated/numpy.random.RandomState.html), as this is not the focus of this notebook I will not delve into them. In addition to the distribution-specific arguments, each method takes a keyword argument size that defaults to None. If size is None, then a single value is generated and returned. If size is an integer, then a 1-D array filled with generated values is returned. If size is a tuple, then an array with that shape is filled and returned.\n",
    "\n",
    "Example use:"
   ]
  },
  {
   "cell_type": "code",
   "execution_count": 158,
   "metadata": {},
   "outputs": [
    {
     "name": "stdout",
     "output_type": "stream",
     "text": [
      "0.6148802795643854\n",
      "0.5587782590090078\n"
     ]
    }
   ],
   "source": [
    "seededRandom = np.random.RandomState(1009)\n",
    "# using the seed created always results in the same return\n",
    "print(seededRandom.rand())\n",
    "# using without a seed almost always returns a new psudo-random number\n",
    "print(np.random.rand())"
   ]
  },
  {
   "cell_type": "markdown",
   "metadata": {},
   "source": [
    "### random.seed"
   ]
  },
  {
   "cell_type": "markdown",
   "metadata": {},
   "source": [
    "This function is a seed generator. This method is called when RandomState is initialized. It can be called again to re-seed the generator. For details, see [RandomState](#random.RandomState). This function, unlike *random.RandomState* changes the existing global RandomState instance that the *numpy.random* namespace utilises.\n",
    "\n",
    "This function takes the following parameter:\n",
    "-  seed (int or 1-d array_like, optional):<br>\n",
    "Seed for RandomState. Must be convertible to 32 bit unsigned integers."
   ]
  },
  {
   "cell_type": "code",
   "execution_count": 159,
   "metadata": {},
   "outputs": [],
   "source": [
    "np.random.seed(3)"
   ]
  },
  {
   "cell_type": "markdown",
   "metadata": {},
   "source": [
    "### random.get_state"
   ]
  },
  {
   "cell_type": "markdown",
   "metadata": {},
   "source": [
    "This function returns a tuple representing the internal state of the generator.\n",
    "For more details, see [set_state](#random.set_state).\n",
    "\n",
    "*set_state* and *get_state* are not needed to work with any of the random distributions in NumPy. If the internal state is manually altered, the user should know exactly what he/she is doing.\n",
    "\n",
    "This function returns a tuple(str, ndarray of 624 uints, int, int, float). The returned tuple has the following items:\n",
    "-  The string ‘MT19937’.\n",
    "-  A 1-D array of 624 unsigned integer keys.\n",
    "-  An integer pos.\n",
    "-  An integer has_gauss.\n",
    "-  A float cached_gaussian."
   ]
  },
  {
   "cell_type": "code",
   "execution_count": 160,
   "metadata": {},
   "outputs": [
    {
     "data": {
      "text/plain": [
       "('MT19937', array([         3, 1142332464, 3889748055, 3734916391, 3619205944,\n",
       "        3194374476, 3300370892, 3741238706, 1713813469, 3702474197,\n",
       "         241177464, 1050338915, 2837241883, 3640707818, 3796221691,\n",
       "        1904152551, 1038965710, 3748165207, 3084231478, 1108096919,\n",
       "        1705718850, 1834514820, 3952287375, 2453141843, 2713237005,\n",
       "        4122401540, 3180079325, 4232345366, 1213216869,  814728081,\n",
       "        2639774035, 2135596564, 1436326761, 3050043433, 3463769113,\n",
       "        1932595301, 1457322904, 4110623874, 3293409291, 1404664655,\n",
       "        2454479854, 3843078213, 3827313096, 4288356418,  708674257,\n",
       "        1425896866,  661169277, 3350907520, 2426863839, 3009715298,\n",
       "        1694568978, 4003286194,  384891657, 2896812994,  131953398,\n",
       "        2308833605, 3606478907, 3680931409, 3990751380, 2605920974,\n",
       "        1100363448, 3466303546, 4251488187, 2100440023, 3105542574,\n",
       "        2910700829,  955604093,  179790484, 2150045864, 3762664791,\n",
       "         785809002, 1898748441, 3686245312, 3026974520,  813470764,\n",
       "        1772487079, 2565504202, 2596422453,  253621249,  376229300,\n",
       "        2733538388, 2533037119,  948871523, 3529025378, 3996381849,\n",
       "        1636376855,  224973828, 3756902891, 4281716960, 4147766504,\n",
       "        3955627025,  711036277,  660827269, 3538943446, 1951998567,\n",
       "        2472355997,  785849883, 3501741064, 3992980409, 3059821253,\n",
       "         329998311, 2353034632, 1125857752,  748811268, 2744609276,\n",
       "        2691153823, 1204067931, 3586565101, 2291862354, 3983099645,\n",
       "         444133540, 4009407779, 3887568400, 3376636144, 2702986065,\n",
       "        3351126834,  825236425, 3042478018, 2731757366, 1831670779,\n",
       "         911191066, 3175010491,  143284855,  373317742, 1174596066,\n",
       "        1468383756, 3875112095,  413978123, 2092838359, 2255068143,\n",
       "        3415693827, 3353379459, 2464808196, 2716010979, 2416136011,\n",
       "        2377865556, 3876799862, 3170436274,  848366074, 1332066861,\n",
       "        1794637800,  925542522, 2874393264, 3592098505, 2973926466,\n",
       "         633630161,  838544647, 1382187862, 2223530215, 2280376302,\n",
       "        3581357234, 3821427564, 1480161891, 1104788291, 1995125668,\n",
       "        3471945140, 4015093967, 1650316569, 4189514518, 2995518696,\n",
       "        4261020402, 3217892022, 1449985446,  211458694, 2002431362,\n",
       "        2687930452, 2736715924,   39475669, 2559274673, 1478850632,\n",
       "        3928393335, 2622693487,  136388781, 3494476270, 3501715503,\n",
       "        3914157579, 3967422936, 2159296280, 4002926580, 1139883046,\n",
       "           7248663, 1313046472, 1250098179,  983072641, 2733463453,\n",
       "        3303057780, 3180628909, 4028941254, 3785927285, 3154011979,\n",
       "        4020490635, 1367044967, 1715478014,  223497564,  979550734,\n",
       "         422710857, 3932402833, 1559650399, 3512226780, 1003777730,\n",
       "         694388050, 3554311203, 1719671146, 3557903106, 1694310705,\n",
       "        1995491517, 2509229818, 1078419623,  996931662, 3952915863,\n",
       "         957077558, 2312844321, 3814149539,  157040885,  853261951,\n",
       "        1931288562, 1681630903, 3468307623, 2580767118, 2322426135,\n",
       "        3858346789, 1248658651, 3465647328, 1045576046, 2435745606,\n",
       "        2426061493, 1715716629, 1512326855, 1905910530, 2772970516,\n",
       "        1370172308, 3756912560, 3221970311,  404982269,  214488763,\n",
       "        1229179826, 1168583051, 1257520735, 2756635140, 4236872525,\n",
       "        4109546678, 3546884442, 1561129487,  705101433, 1413490609,\n",
       "        3898399077, 1455643700, 2833170144, 1681277474,  633459656,\n",
       "        3393623778, 2696868032,  125489030, 3777795803, 4080606262,\n",
       "        2803072744, 2315406674, 2339918225, 2837764865, 3050570802,\n",
       "        2419283956, 2383305491, 1675429819, 1567397737, 4239811856,\n",
       "         395447432,  755743410, 1063775045,  734707781,  633719110,\n",
       "        3366510508, 2082334746, 3049260727,   55346042, 1340222004,\n",
       "         272893180, 1147458688,  755491066, 2589429176,  393835897,\n",
       "        2232949461, 3636504300,   31507557,   25856500, 1965556320,\n",
       "        2662718050, 1748797694, 3626730682, 1078026013, 3212084013,\n",
       "        1299507629,  333528575, 2818829759, 2683433398,  549040426,\n",
       "        3644350649, 4229411978, 3770059830, 2323689235, 2011966432,\n",
       "        3536828913, 2215960487,   24021575, 1955434034,  609707599,\n",
       "        1013228892,   95910526, 4083335913, 3970703750, 2222745518,\n",
       "        1044640786,  854257233, 2154848301, 1159207620,    3735027,\n",
       "         201866522, 3416852094, 3079894414, 2649312634, 3855141271,\n",
       "         254000292, 1904816629, 2223524486, 4081191767,  275410280,\n",
       "        1281479501, 1405094466, 1545005238,  680837243, 3306079440,\n",
       "         200119177, 2909701976, 1048613326, 1533199763, 3903919592,\n",
       "        1342532102, 1376883987, 1966371691,  794510372, 2473928583,\n",
       "         268551629,  673759286, 2959785124, 3919267029, 1811066822,\n",
       "         960616924, 2576724262, 3151440015, 3631314429, 2128247955,\n",
       "        4175120632, 1802444646,  712410115,  226275728, 2821201714,\n",
       "        3939827539, 1574603764,  735204878,  476803820, 1800971395,\n",
       "         563116722,   42445731,  265679801, 1961241192, 3227512281,\n",
       "        3038282351,  494062447, 1899080506, 3487048375, 2378434165,\n",
       "         923614565,  399984460, 2687159920, 3598481007,  124683794,\n",
       "        1457031313, 2691887688, 2835952299, 1264348967, 1157443961,\n",
       "        2980429268, 1104506091, 3806540752, 2300862142, 2033188268,\n",
       "        1785441218, 2444959857,  173431266,  391735726, 1536610603,\n",
       "        1217790232, 2104742244, 3481512801, 1566052659, 2236648516,\n",
       "         297979689,  953658809, 2770242698, 3053075254, 1137979667,\n",
       "        1081606058, 3369558792, 3662149609,  561449701, 3507411693,\n",
       "        3532111739, 2437792750, 3707476403, 1213387784, 1952807462,\n",
       "          91820541,  760184684, 2005013304, 1428822042,  759101253,\n",
       "        1796111576, 4084622397, 1326234647, 1833434192, 3047483032,\n",
       "         799893094, 1879047651, 2013994448, 1276026396, 1663887385,\n",
       "        2710858529, 3738763641, 2411585741, 3437328983, 1203255505,\n",
       "         801487806, 4105028005, 3636018734, 1385602674,  157093905,\n",
       "         466055528, 2872600508, 3136789931, 3803162211, 2079720855,\n",
       "           2587622, 2620127607, 1410075107,  926407141, 1038583317,\n",
       "        3651937542,  534596023,  918685170, 2975390778,  728816601,\n",
       "         404545375,  646379838, 1733592378, 2286036236,  323952204,\n",
       "        3649151427, 2616496776, 2746199099, 1493726535, 1677900905,\n",
       "        4072668884,  822188960, 4081780718, 1465055056, 3377262021,\n",
       "        2667759343, 2768786003, 4237087944, 1996331243, 2403897383,\n",
       "        3922177391, 1703557491, 2992942546, 3278693609, 1524468780,\n",
       "         984048796, 1227239272, 3813599050,  115757739, 1640571478,\n",
       "        3692830003, 4010161617, 2969477052, 2653140441, 3714446411,\n",
       "        4142656077, 4221120684, 1732697586, 1096916423, 3780916999,\n",
       "        1945033342,  497233158, 3349347146, 2798007994, 4270067846,\n",
       "        2794763112, 3969156290, 3739921174,  297188923, 3766723130,\n",
       "        2169406321,  611805524, 2613478426, 1856698223, 1407155806,\n",
       "         979809396, 3762505662,  773485708, 2560813368, 1068240863,\n",
       "        3061423097,  978378502, 3932960094,  382391474, 1924607548,\n",
       "        1236198676, 3391856717, 1713503947, 2890506680, 1152342633,\n",
       "        1231574288, 1260825278, 2530907749,  260798382, 1926518706,\n",
       "        3667551916, 2191993881, 2605439926, 3480028180, 4258524708,\n",
       "        2250298997, 2398834182, 3087134120, 3633889319, 2752713802,\n",
       "        3747187327,  584319236, 3914042541, 3118047424,  120733861,\n",
       "         468635701, 3759637510, 3071329559, 1923678312, 4240727181,\n",
       "        1055032359,  422052997, 2463627164, 4027203962,  124032994,\n",
       "        1059446864,  288117175, 3996659291, 1902076641, 4205569162,\n",
       "        4007492920,  369360243, 1146784652, 3108144591, 3581182224,\n",
       "         462363055, 4227648316, 3594119437, 3388175033, 2424819606,\n",
       "        3501661081,  255414264, 2100315919,  326404286, 4015629103,\n",
       "        1826877078,  717025998, 2250115970, 1317145533,  867843946,\n",
       "        2286993681, 1253333439, 2573211703, 4115721259, 1818662411,\n",
       "        4245327414, 3132586542, 3254305186, 3727331276, 2959705587,\n",
       "        1743180638, 1623735749, 3093972127, 3169851709, 1291169576,\n",
       "        3989442171, 4156420007,  548033028, 4147282405,  599480336,\n",
       "        2205831331, 1959721689, 3587084685, 3376835932,  719978450,\n",
       "        3203879474,  836706121, 3150211879, 3151500532,  439479658,\n",
       "        1134978863, 4162868612, 2100821922,  542841007,   82798188,\n",
       "        1832335102, 3090164734, 4134484176, 1359960228,  973162623,\n",
       "         566662018, 2027341490, 2415342088, 2895387228, 3105666945,\n",
       "        2938012699, 2490007882, 1982630870, 4249500994], dtype=uint32), 624, 0, 0.0)"
      ]
     },
     "execution_count": 160,
     "metadata": {},
     "output_type": "execute_result"
    }
   ],
   "source": [
    "np.random.get_state()"
   ]
  },
  {
   "cell_type": "markdown",
   "metadata": {},
   "source": [
    "### random.set_state"
   ]
  },
  {
   "cell_type": "markdown",
   "metadata": {},
   "source": [
    "Set the internal state of the generator from a tuple. Used to manually (re-)set the internal state of the “Mersenne Twister” pseudo-random number generating algorithm.\n",
    "\n",
    "set_state and get_state are not needed to work with any of the random distributions in NumPy. If the internal state is manually altered, the user should know exactly what he/she is doing. For backwards compatibility, the form (str, array of 624 uints, int) is also accepted although it is missing some information about the cached Gaussian value: state = ('MT19937', keys, pos).\n",
    "\n",
    "This functions parameter is a state tuple(str, ndarray of 624 uints, int, int, float). The state tuple has the following items:<Br>\n",
    "-  The string ‘MT19937’, specifying the Mersenne Twister algorithm.\n",
    "-  A 1-D array of 624 unsigned integers keys.\n",
    "-  An integer pos.\n",
    "-  An integer has_gauss.\n",
    "-  A float cached_gaussian.\n",
    "\n",
    "This function returns ‘None’ on success."
   ]
  }
 ],
 "metadata": {
  "kernelspec": {
   "display_name": "Python 3",
   "language": "python",
   "name": "python3"
  },
  "language_info": {
   "codemirror_mode": {
    "name": "ipython",
    "version": 3
   },
   "file_extension": ".py",
   "mimetype": "text/x-python",
   "name": "python",
   "nbconvert_exporter": "python",
   "pygments_lexer": "ipython3",
   "version": "3.6.5"
  }
 },
 "nbformat": 4,
 "nbformat_minor": 2
}

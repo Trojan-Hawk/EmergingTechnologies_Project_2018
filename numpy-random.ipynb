{
 "cells": [
  {
   "cell_type": "markdown",
   "metadata": {},
   "source": [
    "# Introduction\n",
    "[Numpy](http://www.numpy.org/) is a numerical package for Python. It has a subpackage called [random](https://docs.scipy.org/doc/numpy/reference/routines.random.html). This numpy.random subpackage will be the main focus of this Jupyter Notebook. This notebook is a collection of explainations and code snippets, some of which has been adapted, from the above references. The aim of this notebook is to show an understanding of the various functions contained within the numpy.random subpackage. This can also be used as a learning aid to those who wish to learn about this subpackage, this could be very useful because Jupyter Notebook allows the user to run/edit the various code snippets as they wish."
   ]
  },
  {
   "cell_type": "markdown",
   "metadata": {},
   "source": [
    "The numpy namespace includes all names under the numpy.core and numpy.lib namespaces as well. This numpy import will also import the names from numpy.core and numpy.lib. This is the recommended way to use numpy."
   ]
  },
  {
   "cell_type": "code",
   "execution_count": 1,
   "metadata": {},
   "outputs": [],
   "source": [
    "import numpy as np"
   ]
  },
  {
   "cell_type": "markdown",
   "metadata": {},
   "source": [
    "This Jupyter Notebook also contains some package imports which are not the core focus of this notebook. These packages are listed, imported and referenced below.\n",
    "-  [mathplotlib.pyplot](https://matplotlib.org/api/api_overview.html)\n",
    "-  [scipy.special](https://docs.scipy.org/doc/scipy/reference/special.html)"
   ]
  },
  {
   "cell_type": "code",
   "execution_count": 2,
   "metadata": {},
   "outputs": [],
   "source": [
    "import matplotlib.pyplot as plt\n",
    "import scipy.special as sps"
   ]
  },
  {
   "cell_type": "markdown",
   "metadata": {},
   "source": [
    "## Table Of Contents\n",
    "-  [Simple Random Data](#SimpleRandomData)\n",
    "    -  [random.rand](#random.rand)\n",
    "    -  [random.randn](#random.randn)\n",
    "    -  [random.randint](#random.randint)    \n",
    "    -  [random.random_integers](#random.random_integers)\n",
    "    -  [random.random_sample](#random.random_sample)\n",
    "    -  [random.random](#random.random)\n",
    "    -  [random.ranf](#random.ranf)\n",
    "    -  [random.sample](#random.sample)\n",
    "    -  [random.choice](#random.choice)\n",
    "    -  [random.bytes](#random.bytes)\n",
    "-  [Permutations](#Permutations)\n",
    "    -  [random.shuffle](#random.shuffle)\n",
    "    -  [random.permutation](#random.permutation)\n",
    "-  [Distributions](#Distributions)\n",
    "    -  [random.beta](#random.beta)\n",
    "    -  [random.binomial](#random.binomial)\n",
    "    -  [random.chisquare](#random.chisquare)\n",
    "    -  [random.dirichlet](#random.dirichlet)\n",
    "    -  [random.exponential](#random.exponential)\n",
    "    -  [random.f](#random.f)\n",
    "    -  [random.gamma](#random.gamma)\n",
    "    -  [random.geometric](#random.geometric)\n",
    "    -  [random.gumbel](#random.gumbel)\n",
    "    -  [random.hypergeometric](#random.hypergeometric)\n",
    "    -  [random.laplace](#random.laplace)\n",
    "    -  [random.logistic](#random.logistic)\n",
    "    -  [random.lognormal](#random.lognormal)\n",
    "    -  [random.logseries](#random.logseries)\n",
    "    -  [random.multinomial](#random.multinomial)\n",
    "    -  [random.multivariate_normal](#random.multivariate_normal)\n",
    "    -  [random.negative_binomial](#random.negative_binomial)\n",
    "    -  [random.noncentral_chisquare](#random.noncentral_chisquare)\n",
    "    -  [random.noncentral_f](#random.noncentral_f)\n",
    "    -  [random.normal](#random.normal)\n",
    "    -  [random.pareto](#random.pareto)\n",
    "    -  [random.poisson](#random.poisson)\n",
    "    -  [random.power](#random.power)\n",
    "    -  [random.rayleigh](#random.rayleigh)\n",
    "    -  [random.standard_cauchy](#random.standard_cauchy)\n",
    "    -  [random.standard_exponential](#random.standard_exponential)\n",
    "    -  [random.standard_gamma](#random.standard_gamma)\n",
    "    -  [random.standard_normal](#random.standard_normal)\n",
    "    -  [random.standard_t](#random.standard_t)\n",
    "    -  [random.triangular](#random.triangular)\n",
    "    -  [random.uniform](#random.uniform)\n",
    "    -  [random.vonmises](#random.vonmises)\n",
    "    -  [random.wald](#random.wald)\n",
    "    -  [random.weibull](#random.weibull)\n",
    "    -  [random.zipf](#random.zipf)\n",
    "-  [Random generator](#RandomGenerator)\n",
    "    -  [random.RandomState](#random.RandomState)\n",
    "    -  [random.seed](#random.seed)\n",
    "    -  [random.get_state](#random.get_state)\n",
    "    -  [random.set_state](#random.set_state)"
   ]
  },
  {
   "cell_type": "markdown",
   "metadata": {},
   "source": [
    "<a id=\"SimpleRandomData\"></a>\n",
    "## Simple random data"
   ]
  },
  {
   "cell_type": "markdown",
   "metadata": {},
   "source": [
    "### random.rand"
   ]
  },
  {
   "cell_type": "code",
   "execution_count": 58,
   "metadata": {},
   "outputs": [
    {
     "data": {
      "text/plain": [
       "array([[0.67834527, 0.93845267, 0.98449662, 0.5399225 , 0.73514402],\n",
       "       [0.09636352, 0.49795586, 0.02816426, 0.79523563, 0.32215245],\n",
       "       [0.66920125, 0.93518493, 0.14768488, 0.92157576, 0.14018046],\n",
       "       [0.58614128, 0.87629787, 0.5007884 , 0.22624874, 0.42011446]])"
      ]
     },
     "execution_count": 58,
     "metadata": {},
     "output_type": "execute_result"
    }
   ],
   "source": [
    "x = np.random.rand(4,5)\n",
    "x"
   ]
  },
  {
   "cell_type": "markdown",
   "metadata": {},
   "source": [
    "The above random.rand(*n*, *n*) outputs an array in the given shape, and popuates the array with random samples from a uniform distribution over [0, 1]."
   ]
  },
  {
   "cell_type": "code",
   "execution_count": 60,
   "metadata": {},
   "outputs": [
    {
     "data": {
      "image/png": "[encoded data removed]",
      "text/plain": [
       "<Figure size 432x288 with 1 Axes>"
      ]
     },
     "metadata": {},
     "output_type": "display_data"
    }
   ],
   "source": [
    "y = np.sin(x)\n",
    "plt.plot(x, y, 'b.')\n",
    "plt.show()"
   ]
  },
  {
   "cell_type": "code",
   "execution_count": 61,
   "metadata": {},
   "outputs": [
    {
     "data": {
      "image/png": "[encoded data removed]",
      "text/plain": [
       "<Figure size 432x288 with 1 Axes>"
      ]
     },
     "metadata": {},
     "output_type": "display_data"
    }
   ],
   "source": [
    "x = np.random.rand(5)\n",
    "y = np.sin(x)\n",
    "plt.plot(x, y, 'b.')\n",
    "plt.show()"
   ]
  },
  {
   "cell_type": "markdown",
   "metadata": {},
   "source": [
    "The dimensions of the returned array, should all be positive. If no argument is given a single Python float is returned."
   ]
  },
  {
   "cell_type": "code",
   "execution_count": 6,
   "metadata": {},
   "outputs": [
    {
     "data": {
      "text/plain": [
       "0.08145639534918725"
      ]
     },
     "execution_count": 6,
     "metadata": {},
     "output_type": "execute_result"
    }
   ],
   "source": [
    "np.random.rand()"
   ]
  },
  {
   "cell_type": "markdown",
   "metadata": {},
   "source": [
    "If an interface that takes a shape-tuple as the first argument is needed refer to the [random.random_sample()](#random.random_sample) below."
   ]
  },
  {
   "cell_type": "markdown",
   "metadata": {},
   "source": [
    "### random.randn"
   ]
  },
  {
   "cell_type": "code",
   "execution_count": 66,
   "metadata": {},
   "outputs": [
    {
     "data": {
      "image/png": "[encoded data removed]",
      "text/plain": [
       "<Figure size 432x288 with 1 Axes>"
      ]
     },
     "metadata": {},
     "output_type": "display_data"
    }
   ],
   "source": [
    "x = np.random.randn(3,4)\n",
    "y = np.sin(x)\n",
    "plt.plot(x, y, 'b.')\n",
    "plt.show()"
   ]
  },
  {
   "cell_type": "markdown",
   "metadata": {},
   "source": [
    "The above random.randn(*n*, *n*) returns a random sample (or samples) if positive, randn generates an array of a shape using the parameters provided. If parameters are specified an array is filled with random floats sampled from a univariate “normal” (Gaussian) distribution of mean 0 and variance 1, if any are floats, they are first converted to integers by truncation. \n",
    "\n",
    "If an interface that takes a tuple as the first argument is needed refer to [random.standard_normal](#random.standard_normal) outlined below."
   ]
  },
  {
   "cell_type": "code",
   "execution_count": 8,
   "metadata": {},
   "outputs": [
    {
     "data": {
      "text/plain": [
       "array([-1.62022038,  1.21751749, -0.94707868])"
      ]
     },
     "execution_count": 8,
     "metadata": {},
     "output_type": "execute_result"
    }
   ],
   "source": [
    "np.random.randn(3)"
   ]
  },
  {
   "cell_type": "markdown",
   "metadata": {},
   "source": [
    "A single float randomly sampled from the distribution is returned if no argument is provided."
   ]
  },
  {
   "cell_type": "code",
   "execution_count": 9,
   "metadata": {},
   "outputs": [
    {
     "data": {
      "text/plain": [
       "-0.9608331994812717"
      ]
     },
     "execution_count": 9,
     "metadata": {},
     "output_type": "execute_result"
    }
   ],
   "source": [
    "np.random.randn()"
   ]
  },
  {
   "cell_type": "markdown",
   "metadata": {},
   "source": [
    "For random samples from normal distribution, with mean vector μ and standard deviation σ, use: \n",
    "N(μ, σ ^2)\n",
    "\n",
    "Which is implemented as follows:"
   ]
  },
  {
   "cell_type": "code",
   "execution_count": 67,
   "metadata": {},
   "outputs": [
    {
     "data": {
      "image/png": "[encoded data removed]",
      "text/plain": [
       "<Figure size 432x288 with 1 Axes>"
      ]
     },
     "metadata": {},
     "output_type": "display_data"
    }
   ],
   "source": [
    "x = np.random.randn(2, 5) + 7\n",
    "y = np.sin(x)\n",
    "plt.plot(x, y, 'b.')\n",
    "plt.show()"
   ]
  },
  {
   "cell_type": "markdown",
   "metadata": {},
   "source": [
    "### random.randint"
   ]
  },
  {
   "cell_type": "markdown",
   "metadata": {},
   "source": [
    "This function returns random integers from low (inclusive) to high (exclusive).\n",
    "\n",
    "The parameters are as follows:\n",
    "\n",
    "low (int):<br>The lowest int to be drawn from the distribution, unless high=None, this parameter is one above the highest such integer."
   ]
  },
  {
   "cell_type": "code",
   "execution_count": 11,
   "metadata": {},
   "outputs": [
    {
     "data": {
      "text/plain": [
       "1"
      ]
     },
     "execution_count": 11,
     "metadata": {},
     "output_type": "execute_result"
    }
   ],
   "source": [
    "np.random.randint(3)"
   ]
  },
  {
   "cell_type": "markdown",
   "metadata": {},
   "source": [
    "high (int, optional):<br>If specified, one above the largest signed integer to be drawn from the distribution."
   ]
  },
  {
   "cell_type": "code",
   "execution_count": 12,
   "metadata": {},
   "outputs": [
    {
     "data": {
      "text/plain": [
       "8"
      ]
     },
     "execution_count": 12,
     "metadata": {},
     "output_type": "execute_result"
    }
   ],
   "source": [
    "np.random.randint(4, high=10)"
   ]
  },
  {
   "cell_type": "markdown",
   "metadata": {},
   "source": [
    "size (int or tuple of ints, optional):<br>Default is none which returns a single value, if specified defines the output shape."
   ]
  },
  {
   "cell_type": "code",
   "execution_count": 71,
   "metadata": {},
   "outputs": [
    {
     "data": {
      "text/plain": [
       "array([1, 1, 1, 1, 0, 1, 1])"
      ]
     },
     "execution_count": 71,
     "metadata": {},
     "output_type": "execute_result"
    }
   ],
   "source": [
    "np.random.randint(2, size=7)"
   ]
  },
  {
   "cell_type": "markdown",
   "metadata": {},
   "source": [
    "dtype (dtype, optional):<br>Desired data type object of the result."
   ]
  },
  {
   "cell_type": "code",
   "execution_count": 14,
   "metadata": {},
   "outputs": [
    {
     "data": {
      "text/plain": [
       "array([[3, 3],\n",
       "       [3, 3],\n",
       "       [3, 3]])"
      ]
     },
     "execution_count": 14,
     "metadata": {},
     "output_type": "execute_result"
    }
   ],
   "source": [
    "np.random.randint(2.0, high=4, size=(3,2), dtype='int_')"
   ]
  },
  {
   "cell_type": "markdown",
   "metadata": {},
   "source": [
    "This function returns an int or array of ints, depending on if the size is specified."
   ]
  },
  {
   "cell_type": "markdown",
   "metadata": {},
   "source": [
    "### random.random_integers"
   ]
  },
  {
   "cell_type": "markdown",
   "metadata": {},
   "source": [
    "Random integers of type np.int between low and high, inclusive.\n",
    "\n",
    "This function has been deprecated. Use [randint](#random.randint) instead.\n",
    "Deprecated since version 1.11.0."
   ]
  },
  {
   "cell_type": "markdown",
   "metadata": {},
   "source": [
    "### random.random_sample"
   ]
  },
  {
   "cell_type": "markdown",
   "metadata": {},
   "source": [
    "This function returns a random float (floats) in the half-open interval [0.0, 1.0]. Half-open interval is a set of numbers between two given numbers but including only one endpoint.\n",
    "\n",
    "Only has one optional parameter:\n",
    "size (int or tuple of ints, optional):\n",
    "If specified, outputs the given shape.\n",
    "\n",
    "Returns a float or an array of floats."
   ]
  },
  {
   "cell_type": "code",
   "execution_count": 15,
   "metadata": {},
   "outputs": [
    {
     "data": {
      "text/plain": [
       "0.5019555732679715"
      ]
     },
     "execution_count": 15,
     "metadata": {},
     "output_type": "execute_result"
    }
   ],
   "source": [
    "np.random.random_sample()"
   ]
  },
  {
   "cell_type": "code",
   "execution_count": 16,
   "metadata": {},
   "outputs": [
    {
     "data": {
      "text/plain": [
       "array([0.47775304, 0.43090385, 0.01155584])"
      ]
     },
     "execution_count": 16,
     "metadata": {},
     "output_type": "execute_result"
    }
   ],
   "source": [
    "np.random.random_sample(3)"
   ]
  },
  {
   "cell_type": "code",
   "execution_count": 72,
   "metadata": {},
   "outputs": [
    {
     "data": {
      "image/png": "[encoded data removed]",
      "text/plain": [
       "<Figure size 432x288 with 1 Axes>"
      ]
     },
     "metadata": {},
     "output_type": "display_data"
    }
   ],
   "source": [
    "x = np.random.random_sample((3, 3))\n",
    "y = np.sin(x)\n",
    "plt.plot(x, y, 'b.')\n",
    "plt.show()"
   ]
  },
  {
   "cell_type": "markdown",
   "metadata": {},
   "source": [
    "### random.random"
   ]
  },
  {
   "cell_type": "markdown",
   "metadata": {},
   "source": [
    "This function is an alias to [random.random_sample](#random.random_sample).\n",
    "\n",
    "Proof in code:"
   ]
  },
  {
   "cell_type": "code",
   "execution_count": 18,
   "metadata": {},
   "outputs": [
    {
     "data": {
      "text/plain": [
       "True"
      ]
     },
     "execution_count": 18,
     "metadata": {},
     "output_type": "execute_result"
    }
   ],
   "source": [
    "np.random.random is np.random.random_sample"
   ]
  },
  {
   "cell_type": "markdown",
   "metadata": {},
   "source": [
    "### random.ranf"
   ]
  },
  {
   "cell_type": "markdown",
   "metadata": {},
   "source": [
    "This function is an alias to [random.random_sample](#random.random_sample)\n",
    "\n",
    "Proof in code:"
   ]
  },
  {
   "cell_type": "code",
   "execution_count": 19,
   "metadata": {},
   "outputs": [
    {
     "data": {
      "text/plain": [
       "True"
      ]
     },
     "execution_count": 19,
     "metadata": {},
     "output_type": "execute_result"
    }
   ],
   "source": [
    "np.random.ranf is np.random.random_sample"
   ]
  },
  {
   "cell_type": "markdown",
   "metadata": {},
   "source": [
    "### random.sample"
   ]
  },
  {
   "cell_type": "markdown",
   "metadata": {},
   "source": [
    "This function is an alias to [random.random_sample](#random.random_sample)\n",
    "\n",
    "Proof in code:"
   ]
  },
  {
   "cell_type": "code",
   "execution_count": 20,
   "metadata": {},
   "outputs": [
    {
     "data": {
      "text/plain": [
       "True"
      ]
     },
     "execution_count": 20,
     "metadata": {},
     "output_type": "execute_result"
    }
   ],
   "source": [
    "np.random.sample is np.random.random_sample"
   ]
  },
  {
   "cell_type": "markdown",
   "metadata": {},
   "source": [
    "### random.choice"
   ]
  },
  {
   "cell_type": "markdown",
   "metadata": {},
   "source": [
    "This function generates a random sample from a given 1-D array.\n",
    "\n",
    "The parameters it takes are as follows:\n",
    "-  a (1-D array-like or int):<br>\n",
    "If an ndarray, a random sample is generated from its elements. If an int, the random sample is generated as if a were np.arange(a)\n",
    "-  size (int or tuple of ints, optional):<br>\n",
    "Defines the output shape, the default is None, in which case a single value is returned.\n",
    "-  replace (boolean, optional):<br>\n",
    "Whether the sample is with or without replacement.\n",
    "-  p (1-D array-like, optional):<br>\n",
    "The probabilities associated with each entry in a. If not given the sample assumes a uniform distribution over all entries in a.\n",
    "\n",
    "This function returns a single item or an array of random samples."
   ]
  },
  {
   "cell_type": "code",
   "execution_count": 21,
   "metadata": {},
   "outputs": [
    {
     "data": {
      "text/plain": [
       "1"
      ]
     },
     "execution_count": 21,
     "metadata": {},
     "output_type": "execute_result"
    }
   ],
   "source": [
    "np.random.choice(3)"
   ]
  },
  {
   "cell_type": "markdown",
   "metadata": {},
   "source": [
    "Generate a uniform random sample from np.arange(3) of size 5:"
   ]
  },
  {
   "cell_type": "code",
   "execution_count": 22,
   "metadata": {},
   "outputs": [
    {
     "data": {
      "text/plain": [
       "array([2, 1, 0, 2, 0])"
      ]
     },
     "execution_count": 22,
     "metadata": {},
     "output_type": "execute_result"
    }
   ],
   "source": [
    "np.random.choice(3, 5)"
   ]
  },
  {
   "cell_type": "markdown",
   "metadata": {},
   "source": [
    "Generate a non-uniform random sample from np.arange(3) of size 4:"
   ]
  },
  {
   "cell_type": "code",
   "execution_count": 23,
   "metadata": {},
   "outputs": [
    {
     "data": {
      "text/plain": [
       "array([2, 2, 2, 2], dtype=int64)"
      ]
     },
     "execution_count": 23,
     "metadata": {},
     "output_type": "execute_result"
    }
   ],
   "source": [
    "np.random.choice(3, 4, p=[0.2, 0.1, 0.7])"
   ]
  },
  {
   "cell_type": "markdown",
   "metadata": {},
   "source": [
    "Generate a uniform sample from np.arange(4) of size 3 with replacement:"
   ]
  },
  {
   "cell_type": "code",
   "execution_count": 24,
   "metadata": {},
   "outputs": [
    {
     "data": {
      "text/plain": [
       "array([2, 0, 0, 1])"
      ]
     },
     "execution_count": 24,
     "metadata": {},
     "output_type": "execute_result"
    }
   ],
   "source": [
    "np.random.choice(3, 4, replace=True)"
   ]
  },
  {
   "cell_type": "markdown",
   "metadata": {},
   "source": [
    "Any of the above can be repeated with an arbitrary array. For example:"
   ]
  },
  {
   "cell_type": "code",
   "execution_count": 25,
   "metadata": {},
   "outputs": [
    {
     "data": {
      "text/plain": [
       "array(['lizard', 'lizard', 'goldfish'], dtype='<U8')"
      ]
     },
     "execution_count": 25,
     "metadata": {},
     "output_type": "execute_result"
    }
   ],
   "source": [
    "pet_array = ['rabbit', 'dog', 'cat', 'lizard', 'snake', 'goldfish']\n",
    "np.random.choice(pet_array, 3, p=[0.1, 0.1, 0.1, 0.4, 0.2, 0.1])"
   ]
  },
  {
   "cell_type": "markdown",
   "metadata": {},
   "source": [
    "### random.bytes"
   ]
  },
  {
   "cell_type": "markdown",
   "metadata": {},
   "source": [
    "This function returns random bytes.\n",
    "\n",
    "It takes one parameter, length, which determines the number of random bytes.\n",
    "\n",
    "It returns a String of length *length*."
   ]
  },
  {
   "cell_type": "code",
   "execution_count": 26,
   "metadata": {},
   "outputs": [
    {
     "data": {
      "text/plain": [
       "b'\\x8a\\xde<\\x7f!TD\\xae1V1il\\xfe\\x88\\xa1H\\xa5\\x87\\x86\\xb04\\x0cx\\x9c\\x89S\\xa2\\xd73J\\xa4\\xe5\\x92\\xa6?\\xa2\\x95d\\x1c\\xd7\\xd7Gi\\x98\\xbb\\xf1FA\\xe2Y\\xbe\\xb9\\x1b\\x9d?\\x89[\\xd7\\xcbr\\n7y\\x8c\\xed\\n\\x0bX/7Q\\x03\\x89\\x00\\xc1\\xb2\\x82~<X\\x82\\nk\\xa7{\\xc9\\xa3\\x1c\\x11\\x10,\\xc1\\xd6\\\\Pr\\xdb[9'"
      ]
     },
     "execution_count": 26,
     "metadata": {},
     "output_type": "execute_result"
    }
   ],
   "source": [
    "np.random.bytes(100)"
   ]
  },
  {
   "cell_type": "markdown",
   "metadata": {},
   "source": [
    "## Permutations"
   ]
  },
  {
   "cell_type": "markdown",
   "metadata": {},
   "source": [
    "### random.shuffle"
   ]
  },
  {
   "cell_type": "markdown",
   "metadata": {},
   "source": [
    "This function is used to modify a sequesnce in-place by shuffling its contents."
   ]
  },
  {
   "cell_type": "code",
   "execution_count": 27,
   "metadata": {},
   "outputs": [
    {
     "data": {
      "text/plain": [
       "['Red', 'Blue', 'Green', 'Yellow', 'Black']"
      ]
     },
     "execution_count": 27,
     "metadata": {},
     "output_type": "execute_result"
    }
   ],
   "source": [
    "colour_array = [\"Black\", \"Blue\", \"Red\", \"Green\", \"Yellow\"]\n",
    "np.random.shuffle(colour_array)\n",
    "colour_array"
   ]
  },
  {
   "cell_type": "markdown",
   "metadata": {},
   "source": [
    "This function only shuffles the array along the first axis of a multi-dimensional array, the order of sub-arrays are changed but contents remain the same."
   ]
  },
  {
   "cell_type": "code",
   "execution_count": 101,
   "metadata": {},
   "outputs": [
    {
     "name": "stdout",
     "output_type": "stream",
     "text": [
      "[[ 0  1  2  3  4]\n",
      " [ 5  6  7  8  9]\n",
      " [10 11 12 13 14]]\n"
     ]
    }
   ],
   "source": [
    "array = np.arange(15).reshape((3, 5))\n",
    "print(array)"
   ]
  },
  {
   "cell_type": "code",
   "execution_count": 102,
   "metadata": {},
   "outputs": [
    {
     "name": "stdout",
     "output_type": "stream",
     "text": [
      "[[10 11 12 13 14]\n",
      " [ 0  1  2  3  4]\n",
      " [ 5  6  7  8  9]]\n"
     ]
    }
   ],
   "source": [
    "np.random.shuffle(array)\n",
    "print(array)"
   ]
  },
  {
   "cell_type": "markdown",
   "metadata": {},
   "source": [
    "### random.permutation"
   ]
  },
  {
   "cell_type": "markdown",
   "metadata": {},
   "source": [
    "This function randomly permutes a sequence, or returns a permuted range.\n",
    "\n",
    "This method takes one parameter, which can be either be an int or an array.\n",
    "If an int, randomly permute *np.arange(int)*.\n",
    "If an array, make a copy and shuffle the elements randomly."
   ]
  },
  {
   "cell_type": "code",
   "execution_count": 30,
   "metadata": {},
   "outputs": [
    {
     "data": {
      "text/plain": [
       "array([0, 1, 9, 5, 6, 2, 8, 3, 4, 7])"
      ]
     },
     "execution_count": 30,
     "metadata": {},
     "output_type": "execute_result"
    }
   ],
   "source": [
    "np.random.permutation(10)"
   ]
  },
  {
   "cell_type": "code",
   "execution_count": 31,
   "metadata": {},
   "outputs": [
    {
     "data": {
      "text/plain": [
       "array([[ 0,  1,  2,  3,  4],\n",
       "       [ 5,  6,  7,  8,  9],\n",
       "       [10, 11, 12, 13, 14]])"
      ]
     },
     "execution_count": 31,
     "metadata": {},
     "output_type": "execute_result"
    }
   ],
   "source": [
    "array = np.arange(15).reshape((3, 5))\n",
    "array"
   ]
  },
  {
   "cell_type": "code",
   "execution_count": 32,
   "metadata": {},
   "outputs": [
    {
     "data": {
      "text/plain": [
       "array([[10, 11, 12, 13, 14],\n",
       "       [ 5,  6,  7,  8,  9],\n",
       "       [ 0,  1,  2,  3,  4]])"
      ]
     },
     "execution_count": 32,
     "metadata": {},
     "output_type": "execute_result"
    }
   ],
   "source": [
    "np.random.permutation(array)"
   ]
  },
  {
   "cell_type": "markdown",
   "metadata": {},
   "source": [
    "## Distributions"
   ]
  },
  {
   "cell_type": "markdown",
   "metadata": {},
   "source": [
    "### random.beta"
   ]
  },
  {
   "cell_type": "markdown",
   "metadata": {},
   "source": [
    "This function is used to draw samples from a Beta distribution. The Beta distribution is a special case of the Dirichlet distribution, and is related to the Gamma distribution.<br><br>\n",
    "This function can take three parameters:\n",
    "-  a (float or array of floats):<br>\n",
    "Alpha, must be a positive value.\n",
    "-  b (float or array of floats):<br>\n",
    "Beta, must be a positive value.\n",
    "-  size (int or tuple of ints, optional):<br>\n",
    "Defines the output shape. If size=None (default), a single value is returned if a and b are both scalars. Otherwise, np.broadcast(a, b).size samples are drawn."
   ]
  },
  {
   "cell_type": "code",
   "execution_count": 33,
   "metadata": {},
   "outputs": [
    {
     "data": {
      "text/plain": [
       "0.172391623705223"
      ]
     },
     "execution_count": 33,
     "metadata": {},
     "output_type": "execute_result"
    }
   ],
   "source": [
    "np.random.beta(2.1, 5.3)"
   ]
  },
  {
   "cell_type": "code",
   "execution_count": 34,
   "metadata": {},
   "outputs": [
    {
     "data": {
      "text/plain": [
       "array([0.26536029, 0.29720892, 0.08608533, 0.26677189, 0.14541277])"
      ]
     },
     "execution_count": 34,
     "metadata": {},
     "output_type": "execute_result"
    }
   ],
   "source": [
    "np.random.beta(2.4, 4.5, 5)"
   ]
  },
  {
   "cell_type": "markdown",
   "metadata": {},
   "source": [
    "### random.binomial"
   ]
  },
  {
   "cell_type": "markdown",
   "metadata": {},
   "source": [
    "This function is used to draw samples from a binomial distribution.\n",
    "\n",
    "Samples are drawn with specified parameters, n trials and p probability of success where n an integer >= 0 and p is in the interval [0,1]. (n may be input as a float, but it is truncated to an integer in use)\n",
    "\n",
    "This function takes the following parameters:\t\n",
    "-  n (int or array_like of ints):<br>\n",
    "Must be >= 0. Floats are also accepted, but they will be truncated to integers.\n",
    "-  p (float or array_like of floats):<br>\n",
    "Must be between 0 and 1 inclusive.\n",
    "-  size (int or tuple of ints, optional):<br>\n",
    "Defines the output shape. If size is None (default), a single value is returned if n and p are both scalars. Otherwise, np.broadcast(n, p).size samples are drawn.\n",
    "\n",
    "This function returns an *n* dimensional array or scalar.\n",
    "\n",
    "Draw samples from the distribution:"
   ]
  },
  {
   "cell_type": "code",
   "execution_count": 35,
   "metadata": {},
   "outputs": [
    {
     "data": {
      "text/plain": [
       "array([7, 8, 6, 2, 4, 7, 3, 7, 6, 6, 7, 6, 3, 4, 6, 5, 5, 5, 4, 3, 4, 5,\n",
       "       7, 5, 5, 6, 5, 7, 6, 4, 6, 4, 7, 6, 7, 8, 4, 5, 4, 5, 6, 4, 7, 6,\n",
       "       4, 6, 3, 7, 3, 6, 8, 5, 7, 7, 7, 4, 5, 3, 7, 5, 5, 5, 2, 6, 5, 5,\n",
       "       6, 7, 2, 6, 4, 7, 3, 7, 9, 6, 6, 5, 6, 4, 3, 6, 3, 5, 7, 4, 6, 6,\n",
       "       6, 5, 3, 5, 5, 5, 5, 5, 6, 6, 5, 6])"
      ]
     },
     "execution_count": 35,
     "metadata": {},
     "output_type": "execute_result"
    }
   ],
   "source": [
    "n, p = 10, .5  # number of trials, probability of each trial\n",
    "s = np.random.binomial(n, p, 100)\n",
    "# result of flipping a coin 10 times, tested 100 times.\n",
    "s"
   ]
  },
  {
   "cell_type": "markdown",
   "metadata": {},
   "source": [
    "### random.chisquare"
   ]
  },
  {
   "cell_type": "markdown",
   "metadata": {},
   "source": [
    "This function is used to draw samples from a chi-square distribution.\n",
    "\n",
    "Independent random variables, each with standard normal distributions (mean 0, variance 1), are squared and summed, the resulting distribution is chi-square. This distribution is often used in hypothesis testing.\n",
    "    \n",
    "This function takes the following parameters:\t\n",
    "-  df (float or array_like of floats):<br>\n",
    "Number of degrees of freedom, should be > 0.\n",
    "-  size (int or tuple of ints, optional):<br>\n",
    "Defines the output shape. If size is None (default), a single value is returned if df is a scalar. Otherwise, np.array(df).size samples are drawn.\n",
    "\n",
    "This function returns an *n* dimensional array or scalar."
   ]
  },
  {
   "cell_type": "code",
   "execution_count": 36,
   "metadata": {},
   "outputs": [
    {
     "data": {
      "text/plain": [
       "array([0.68037112, 0.58388031, 0.41406944, 1.84821422])"
      ]
     },
     "execution_count": 36,
     "metadata": {},
     "output_type": "execute_result"
    }
   ],
   "source": [
    "np.random.chisquare(2,4)"
   ]
  },
  {
   "cell_type": "markdown",
   "metadata": {},
   "source": [
    "### random.dirichlet"
   ]
  },
  {
   "cell_type": "markdown",
   "metadata": {},
   "source": [
    "This function is used to draw samples from the Dirichlet distribution.\n",
    "\n",
    "A Dirichlet-distributed random variable can be seen as a multivariate generalization of a Beta distribution. Dirichlet pdf is the conjugate prior of a multinomial in Bayesian inference.\n",
    "    \n",
    "This function takes the following parameters:\t\n",
    "-  alpha (array):<br>\n",
    "Parameter of the distribution (k dimension for sample of dimension k).<br>\n",
    "-  size (int or tuple of ints, optional):<br>\n",
    "Defines the output shape. Default is None, in which case a single value is returned.\n",
    "\n",
    "This function returns an *n* dimensional array.\t"
   ]
  },
  {
   "cell_type": "code",
   "execution_count": 37,
   "metadata": {},
   "outputs": [
    {
     "data": {
      "text/plain": [
       "array([[0.5598611 , 0.38320878, 0.60540467, 0.45858693, 0.5936988 ,\n",
       "        0.68100699, 0.5502197 , 0.57709957, 0.54843995, 0.57570407,\n",
       "        0.5220178 , 0.27316769, 0.57613529, 0.27910572, 0.49210922,\n",
       "        0.53346377, 0.59247606, 0.43018212, 0.68359792, 0.54109881],\n",
       "       [0.34838044, 0.40083949, 0.19165512, 0.33229327, 0.1820507 ,\n",
       "        0.12410826, 0.26912487, 0.3096056 , 0.15260801, 0.32293238,\n",
       "        0.27141682, 0.25223294, 0.26156788, 0.17252098, 0.27715368,\n",
       "        0.32156751, 0.36766812, 0.30324608, 0.24877835, 0.3303915 ],\n",
       "       [0.09175846, 0.21595172, 0.2029402 , 0.20911981, 0.2242505 ,\n",
       "        0.19488474, 0.18065543, 0.11329483, 0.29895204, 0.10136356,\n",
       "        0.20656538, 0.47459937, 0.16229683, 0.5483733 , 0.2307371 ,\n",
       "        0.14496871, 0.03985582, 0.2665718 , 0.06762373, 0.12850969]])"
      ]
     },
     "execution_count": 37,
     "metadata": {},
     "output_type": "execute_result"
    }
   ],
   "source": [
    "s = np.random.dirichlet((10, 5, 3), 20).transpose()\n",
    "s"
   ]
  },
  {
   "cell_type": "markdown",
   "metadata": {},
   "source": [
    "### random.exponential"
   ]
  },
  {
   "cell_type": "markdown",
   "metadata": {},
   "source": [
    "This function is used to draw samples from an exponential distribution.\n",
    "    \n",
    "The exponential distribution is a continuous analogue of the geometric distribution. \n",
    "\n",
    "This function takes the following parameters:<br>\n",
    "-  scale (float or array_like of floats):<br>\n",
    "This defines the scale.<br>\n",
    "-  size (int or tuple of ints, optional):<br>\n",
    "This parameter defines the output shape. If size is None (default), a single value is returned if scale is a scalar. Otherwise, np.array(scale).size samples are drawn.\n",
    "\n",
    "This function returns an *n* dimensional array or a scalar."
   ]
  },
  {
   "cell_type": "code",
   "execution_count": 38,
   "metadata": {},
   "outputs": [
    {
     "data": {
      "text/plain": [
       "array([2.68102695, 3.60299626, 0.48556212])"
      ]
     },
     "execution_count": 38,
     "metadata": {},
     "output_type": "execute_result"
    }
   ],
   "source": [
    "np.random.exponential(2.6, 3)"
   ]
  },
  {
   "cell_type": "markdown",
   "metadata": {},
   "source": [
    "### random.f"
   ]
  },
  {
   "cell_type": "markdown",
   "metadata": {},
   "source": [
    "This function is used to draw samples from an F distribution.\n",
    "\n",
    "The random variate of the F distribution (also known as the Fisher distribution) is a continuous probability distribution that arises in ANOVA tests, and is the ratio of two chi-square variates. The F statistic is used to compare in-group variances to between-group variances. Calculating the distribution depends on the sampling, and so it is a function of the respective degrees of freedom in the problem. The variable dfnum is the number of samples minus one, the between-groups degrees of freedom, while dfden is the within-groups degrees of freedom, the sum of the number of samples in each group minus the number of groups.\n",
    "\n",
    "The parameters this function takes are as follows:<br>\n",
    "-  dfnum (float or array_like of floats):<br>\n",
    "Degrees of freedom in numerator, should be > 0.<br>\n",
    "-  dfden (float or array_like of float)<br>\n",
    "Degrees of freedom in denominator, should be > 0.<br>\n",
    "-  size (int or tuple of ints, optional)<br>\n",
    "Defines the output shape. If size is None (default), a single value is returned if dfnum and dfden are both scalars. Otherwise, np.broadcast(dfnum, dfden).size samples are drawn.\n",
    "\n",
    "This function returns an *n* dimensional array or a scalar.\n",
    "\n",
    "\n",
    "Draw samples from the distribution:"
   ]
  },
  {
   "cell_type": "code",
   "execution_count": 39,
   "metadata": {},
   "outputs": [
    {
     "data": {
      "text/plain": [
       "array([4.58423646e+00, 1.81424018e+00, 5.55830777e-01, 2.69335374e-01,\n",
       "       6.29653748e-01, 2.84284246e+00, 5.29539646e-02, 3.40881955e-03,\n",
       "       2.51172073e-01, 1.49745388e+00, 5.29743235e-01, 2.94684928e-01,\n",
       "       5.32665886e-01, 2.00516795e-01, 2.02978261e-03, 1.68827306e-01,\n",
       "       5.60368985e+00, 3.14485152e+00, 3.36320981e-01, 1.27638111e-01,\n",
       "       2.69410955e+00, 3.87685422e-01, 1.78824006e+00, 7.13132078e-02,\n",
       "       3.08194594e-01, 8.66713306e-01, 6.01136796e+00, 2.06140439e-01,\n",
       "       9.77879282e-02, 1.49166985e-05, 5.72817239e-01, 2.58087212e-01,\n",
       "       1.66977396e-03, 2.06015723e-01, 9.87485486e-02, 7.52861684e-01,\n",
       "       5.63491529e-01, 6.42324674e-01, 3.14767386e-01, 4.32440356e+00,\n",
       "       1.12433157e-01, 1.55912790e+00, 3.94996076e-02, 4.87527262e-01,\n",
       "       2.02868926e+00, 1.14202201e-01, 3.66072429e-01, 2.29360883e+00,\n",
       "       2.55415153e-01, 6.98167918e-02, 2.87598719e-01, 7.89404608e+00,\n",
       "       1.03210551e-03, 2.80452661e+00, 3.25491808e-03, 4.57347083e-01,\n",
       "       3.12569096e+00, 3.47916520e-01, 3.06086646e-01, 5.55736721e+00,\n",
       "       4.00094301e-03, 7.50170559e-01, 5.28047588e-01, 4.92738466e+00,\n",
       "       1.70706547e-01, 4.56866515e-01, 1.86464649e+00, 3.20307842e-04,\n",
       "       2.53309601e+00, 6.09244182e-02, 2.03983997e+00, 4.18520755e-01,\n",
       "       8.73419644e-01, 2.04238348e+00, 2.98710321e-03, 1.72039378e+00,\n",
       "       6.26061262e-02, 3.64727355e+00, 3.06949281e+00, 4.16401386e-01,\n",
       "       1.19116533e+00, 1.06748142e-01, 1.09303118e-02, 6.87445165e-01,\n",
       "       4.29183058e-01, 2.17037657e-01, 9.68114809e-01, 1.28013173e+00,\n",
       "       1.49815330e-01, 1.52250736e+00, 2.68468011e-04, 1.92949026e+00,\n",
       "       5.69551953e-02, 1.04105686e+00, 6.21977143e-01, 8.09884087e-01,\n",
       "       1.39702209e-05, 1.23062946e-02, 4.77225613e-02, 2.68026478e-01,\n",
       "       2.52642285e-01, 5.00059541e-01, 3.23070761e-01, 9.07565327e-03,\n",
       "       4.20391148e-01, 4.63253935e-01, 1.50620713e+00, 1.00479498e+00,\n",
       "       9.42302578e-01, 1.13464492e+00, 5.09981658e-01, 1.01431269e-01,\n",
       "       1.53595035e-01, 1.35864886e+00, 4.72670306e-01, 2.10736794e-02,\n",
       "       3.98456624e-01, 1.91166251e-04, 2.00914323e-03, 4.47103892e+00,\n",
       "       1.24868305e-01, 1.49124599e+00, 1.55993184e-02, 4.54286697e+00,\n",
       "       3.83772419e+00, 1.36242660e+00, 1.66209005e-02, 8.12889440e-01,\n",
       "       2.72311568e-01, 3.94688759e-01, 2.01718707e-01, 1.15419286e-02,\n",
       "       5.11233083e+00, 1.59161778e-01, 5.53733874e+00, 4.94604270e-01,\n",
       "       4.18443392e-01, 3.72598048e-03, 1.59422926e-02, 4.17268345e-01,\n",
       "       1.11366956e+00, 1.55313152e-01, 3.63640915e-03, 1.14690490e+00,\n",
       "       1.64276879e+00, 5.21004733e-02, 6.04902569e+00, 3.91942304e-01,\n",
       "       2.68629145e+00, 3.92839517e+00, 1.13628514e-01, 3.98038121e-01,\n",
       "       2.21451239e-01, 5.65817229e-01, 4.49378802e+00, 1.39212679e-01,\n",
       "       2.92294713e-02, 4.26044800e+00, 5.70032299e-01, 2.47380066e-02,\n",
       "       2.96934498e-01, 1.85900349e+00, 4.84139429e-02, 2.86706211e+00,\n",
       "       1.14302264e+00, 2.80261655e+00, 7.87146100e-01, 2.67140737e-01,\n",
       "       8.06921571e-02, 8.60721915e-02, 2.23738158e+00, 2.98444968e+00,\n",
       "       7.91550931e-01, 2.12098142e+00, 2.00569685e+00, 8.72490081e-01,\n",
       "       1.59025819e+00, 1.55946186e+00, 1.89340489e-02, 1.02108641e-01,\n",
       "       4.07112081e-01, 5.19725380e-01, 2.11749881e+00, 4.20347347e-01,\n",
       "       1.08122366e-01, 1.54094225e+00, 1.09430525e-02, 4.97027448e-02,\n",
       "       1.78759962e-01, 4.41901663e+00, 2.41756839e+00, 4.06603716e+00,\n",
       "       1.39403154e-01, 4.50949244e-01, 1.60062568e-02, 2.83322409e-03,\n",
       "       2.25780353e-01, 8.57032573e-02, 6.35557210e-01, 1.37662938e-03,\n",
       "       1.08403096e-01, 1.33094057e+00, 8.61219948e-02, 1.56189165e+00,\n",
       "       9.96554314e-02, 5.28431747e-01, 3.30871964e-01, 6.19255864e-01,\n",
       "       5.53641423e-02, 1.25444943e+00, 2.71550775e+00, 5.38379654e-02,\n",
       "       2.39556879e+00, 6.73840199e-02, 6.43191274e-01, 2.94889986e+00,\n",
       "       1.70528505e-01, 2.01441868e-01, 8.03256149e-01, 2.15422431e-01,\n",
       "       8.06169774e-01, 9.98015021e-01, 1.14447288e+00, 2.20933333e-01,\n",
       "       6.14088333e-02, 4.65371639e-02, 4.65274643e-02, 2.23975425e+00,\n",
       "       2.25564191e-01, 8.23130781e-01, 4.40229151e-02, 1.57690410e-01,\n",
       "       1.93957795e-01, 4.59838846e-02, 1.43592827e+00, 1.39407395e+00,\n",
       "       1.13309851e-01, 5.40705650e-01, 3.39387524e-01, 8.13429366e-01,\n",
       "       2.09377476e+00, 1.69858588e+00, 1.26775851e+00, 2.88511492e-02,\n",
       "       2.44724270e-01, 2.74563869e-01, 1.82377100e+00, 8.75675218e-01,\n",
       "       2.23685796e-01, 3.04492892e-03, 1.40460405e-03, 1.47299754e-01,\n",
       "       2.60428799e+00, 2.78125657e-01, 2.77641650e-01, 1.06198625e+00,\n",
       "       4.39476632e-01, 4.90555347e-01, 1.55398391e+00, 9.88286188e-02,\n",
       "       2.68362914e-01, 4.43130894e-02, 3.50986789e-01, 3.79107023e-03,\n",
       "       1.17742511e+00, 1.63828214e-02, 2.29071805e-02, 6.77847266e-01,\n",
       "       4.58703890e+00, 2.30099126e+00, 3.73087881e-03, 5.34946557e-01,\n",
       "       1.74544744e+00, 3.84815465e-01, 5.00993384e-01, 5.13561297e-01,\n",
       "       1.60222281e+00, 3.65535771e+00, 1.37010860e-01, 8.70716396e-01,\n",
       "       3.29550514e-02, 9.09930742e-02, 7.61826306e-01, 2.28619171e+00,\n",
       "       1.30265101e-01, 4.84713578e-01, 5.15523100e-02, 2.15200159e-01,\n",
       "       8.98104886e-01, 5.56282552e-01, 2.60194291e-02, 6.37993469e-02,\n",
       "       4.96570734e-04, 1.54711248e+00, 1.82467114e-04, 5.81771727e-01,\n",
       "       9.83743225e-03, 1.91512569e-02, 2.23590958e+00, 1.04000549e-01,\n",
       "       4.12958179e+00, 2.44154073e+00, 4.65131056e-01, 7.90592392e-03,\n",
       "       9.44094262e-02, 9.31115836e-02, 3.49486295e+00, 2.32846083e+00,\n",
       "       6.69947021e-01, 2.83506801e+00, 2.45032197e+00, 1.65905518e-02,\n",
       "       6.71625564e-01, 1.76121617e-02, 1.26931424e-02, 2.46219340e+00,\n",
       "       2.00291121e+00, 1.79758052e+00, 2.81604001e-01, 3.71038254e-01,\n",
       "       7.28507843e-01, 2.34378769e-01, 5.15099720e-02, 2.94396910e-02,\n",
       "       5.97745165e-02, 5.48436604e-02, 7.45883642e-02, 5.04767724e-01,\n",
       "       5.72973244e-03, 1.92087405e-01, 2.56301795e-01, 3.63659728e-05,\n",
       "       3.36759254e-01, 2.08684855e+00, 2.46426112e-02, 6.36973720e-02,\n",
       "       2.57318246e-03, 1.20550731e+00, 4.22041284e-02, 4.77479759e-01,\n",
       "       1.01181230e+00, 3.66254743e-02, 2.26746705e-01, 4.11696765e-01,\n",
       "       1.88037682e-03, 3.54672405e-01, 2.50767755e-06, 1.61859230e-01,\n",
       "       2.64700327e+00, 2.47638892e-01, 7.31910086e-02, 1.57055038e-02,\n",
       "       9.97889528e-03, 6.64554794e+00, 3.53708412e+00, 2.91668482e+00,\n",
       "       1.67002359e-02, 1.33313558e+00, 3.31395522e-02, 1.86797574e-01,\n",
       "       7.72677166e-01, 2.34103836e-01, 2.44531464e-01, 9.60831069e-02,\n",
       "       1.96023701e+00, 3.00912804e-01, 2.11425308e-01, 9.09721034e-01,\n",
       "       4.10038259e-01, 2.00158022e+00, 1.92960946e-01, 1.64039590e+00,\n",
       "       5.55385884e+00, 2.30579232e-01, 1.60743594e-01, 6.55590248e-01,\n",
       "       7.65727475e-03, 5.17973176e-02, 2.49109111e-01, 1.04202068e+00,\n",
       "       1.62427390e-03, 2.49644914e+00, 8.87345296e-01, 7.19485519e-03,\n",
       "       3.70563289e+00, 1.32556404e+00, 1.45297318e-01, 6.75584731e-01,\n",
       "       4.83598735e-01, 1.90522112e-01, 5.02093149e+00, 3.99811646e-01,\n",
       "       5.16181409e-05, 2.99943541e-01, 7.92496061e-02, 8.10915573e-02,\n",
       "       2.45203458e+00, 9.59609742e-01, 1.11393521e-01, 5.09565325e-01,\n",
       "       2.76534343e-02, 9.43657071e-01, 3.07882509e-01, 1.03828407e+00,\n",
       "       9.30595056e-01, 6.38717348e-02, 1.34139059e+00, 1.69890123e+00,\n",
       "       6.09391740e-01, 1.57298490e+00, 1.91156964e-02, 2.01684525e+00,\n",
       "       5.96280263e+00, 1.02477599e+00, 2.33603475e+00, 2.35171453e+00,\n",
       "       6.78595654e+00, 1.78231908e+00, 4.54300909e+00, 2.10939149e+00,\n",
       "       7.93143161e-01, 8.11600670e-01, 8.07048632e-01, 2.52607283e+00,\n",
       "       6.88065350e-02, 3.75907269e-01, 4.69736579e+00, 4.60637809e-02,\n",
       "       2.37731218e-01, 7.01798682e-01, 1.48997713e+00, 2.34123302e+00,\n",
       "       1.63916640e-01, 1.16237890e+00, 1.07922003e-02, 2.06731419e+00,\n",
       "       2.08984130e+00, 1.25159827e-02, 2.86938755e-01, 1.19155772e+00,\n",
       "       7.53341520e-01, 2.93324447e-01, 8.62425510e-01, 3.27278524e-01,\n",
       "       1.78178047e+00, 1.02779743e-02, 2.73543361e+00, 1.36671861e+00,\n",
       "       1.44284247e+00, 6.37947284e-03, 8.03928758e-01, 6.55471516e-02,\n",
       "       9.54342818e-01, 2.58720326e+00, 6.66029349e-02, 3.08289751e-01,\n",
       "       8.72969556e+00, 3.30730564e-01, 1.34528585e+00, 5.98350695e+00,\n",
       "       1.00845920e+01, 1.71448668e-03, 3.73333548e+00, 1.61243566e+00,\n",
       "       5.82992449e-01, 1.49112733e+00, 1.67634100e-01, 1.02056013e+00,\n",
       "       4.64672668e-02, 3.11643680e-02, 1.77094792e+00, 6.06609308e-02,\n",
       "       7.84824379e-03, 1.69341259e+00, 1.58467087e+00, 8.70692199e-02,\n",
       "       8.80072168e-03, 7.82140926e-03, 3.25666101e+00, 4.11469118e-01,\n",
       "       1.39717886e-04, 1.48642075e-01, 5.94751350e+00, 3.76873606e-02,\n",
       "       6.08116742e-01, 1.29125487e+00, 5.60895153e-01, 2.78880071e-02,\n",
       "       7.16664846e-01, 1.65812928e-01, 1.30718517e-01, 1.80315249e-01,\n",
       "       6.38460584e-02, 1.49181643e-01, 9.34459120e-01, 2.47929721e-02,\n",
       "       2.03331570e+00, 3.79230694e+00, 4.17683535e+00, 8.24721186e-01,\n",
       "       2.37364925e+00, 3.76069852e-01, 2.16392085e+00, 6.89640007e-02,\n",
       "       4.93144412e-01, 2.74338427e+00, 8.40409745e-01, 6.38737736e-01,\n",
       "       1.51667642e+00, 3.49622792e-05, 9.13443292e-01, 6.20582930e-02,\n",
       "       8.25806849e-01, 9.12701334e-01, 6.07760615e-01, 1.51930442e-01,\n",
       "       4.84414079e-02, 8.72011805e-01, 4.29321316e-02, 2.81665162e-01,\n",
       "       8.50745639e-02, 5.38996888e-01, 5.89472160e-03, 5.40320796e-01,\n",
       "       9.20635549e-01, 8.36813917e-03, 4.17082720e-01, 7.51116611e-01,\n",
       "       2.92946929e+00, 3.96875221e+00, 6.58193462e-01, 1.22751333e-01,\n",
       "       1.26991517e-01, 3.92381301e-01, 3.82026307e-02, 4.19429814e-01,\n",
       "       5.34897216e-02, 3.26816168e-01, 1.88258818e+00, 2.54675405e+00,\n",
       "       2.81641977e-01, 1.16194590e+00, 2.01792041e-03, 7.63710095e+00,\n",
       "       1.59797539e-01, 2.10010613e-02, 3.70003377e+00, 8.15137384e-01,\n",
       "       4.30238039e+00, 4.42839982e-02, 1.33250274e+00, 2.16517265e-01,\n",
       "       1.23478486e+01, 9.25105584e-04, 4.55276468e-01, 1.61448892e-02,\n",
       "       7.54236906e-01, 6.24339622e-03, 3.64073020e+00, 3.00054129e+00,\n",
       "       1.78410028e+00, 1.73019469e-01, 5.55247622e-04, 4.29706793e+00,\n",
       "       1.12875894e-02, 2.68942643e+00, 3.10312952e+00, 2.88473608e+00,\n",
       "       1.07109691e-03, 6.98764497e-01, 2.79519856e+00, 1.56295328e-01,\n",
       "       1.17540876e+00, 1.00404194e-01, 1.60523469e+00, 1.77052566e+00,\n",
       "       1.29573348e+00, 1.86715785e-01, 2.84827789e+00, 3.91675922e-01,\n",
       "       2.28112122e+00, 2.61115944e-05, 5.32099529e-03, 2.01682570e+00,\n",
       "       3.46739147e-01, 6.20335055e-02, 5.67435097e-02, 5.94985115e-01,\n",
       "       6.97644643e-01, 3.83176349e-01, 1.55683900e+00, 1.16874511e+00,\n",
       "       1.64431718e-01, 2.49525465e-01, 1.70391565e-01, 3.56433756e-01,\n",
       "       4.41466312e-01, 7.89518419e-02, 1.80252286e+00, 2.58381386e-01,\n",
       "       1.38440983e+00, 6.66661322e-02, 1.75142811e+00, 5.28320043e-01,\n",
       "       2.52421498e+00, 2.66183825e+00, 2.41773669e-01, 8.36023119e-01,\n",
       "       9.01317318e-01, 1.19185176e-01, 5.08087114e-02, 4.17427075e-01,\n",
       "       1.38250992e+00, 3.21610904e+00, 5.53886610e-01, 2.91920002e-01,\n",
       "       7.87295953e-01, 6.57071402e+00, 1.21208698e+00, 2.74914752e-01,\n",
       "       2.47832100e-01, 2.74762393e+00, 1.20104697e-01, 1.63460796e-02,\n",
       "       5.78257371e-01, 2.79651945e-01, 3.66660554e-01, 3.70696662e-01,\n",
       "       6.13857222e-01, 2.30361120e-01, 1.12973829e-01, 9.22156017e-02,\n",
       "       1.62972059e-01, 1.55106628e+00, 3.64206180e-05, 3.92589558e-01,\n",
       "       3.13439782e-01, 3.34858113e-01, 1.27067962e+00, 5.04217543e-01,\n",
       "       1.43308741e+00, 9.47444628e-02, 4.18973000e-01, 5.47197634e-01,\n",
       "       6.34283580e-02, 6.18539547e-02, 1.75937414e+00, 1.08276058e+00,\n",
       "       3.88290484e-01, 2.89115702e-01, 1.73431120e-02, 2.08075040e-04,\n",
       "       3.79475447e-02, 9.03983512e-02, 6.38795933e-01, 3.30226416e-01,\n",
       "       5.88122705e-01, 1.26682939e-03, 1.65663896e-01, 6.49121119e-01,\n",
       "       6.72700105e-01, 1.51013416e+00, 1.60734441e+00, 1.90308993e+00,\n",
       "       2.19311486e-01, 2.46509116e-01, 1.73378871e+00, 1.06835555e+00,\n",
       "       8.75939584e+00, 1.45174947e+00, 8.20645899e-01, 3.05793347e-01,\n",
       "       2.04057598e-01, 9.86443800e-01, 8.38394606e-01, 9.43501505e-03,\n",
       "       1.86879948e+00, 1.18876191e+00, 7.09430080e-01, 2.90353127e-01,\n",
       "       2.11256305e-02, 9.48493837e-02, 3.87883554e-01, 6.78180272e-01,\n",
       "       6.03969277e-01, 2.47882627e-02, 5.99576626e+00, 1.83811203e-02,\n",
       "       1.12454469e+00, 4.28463602e+00, 2.21704884e+00, 3.40332088e+00,\n",
       "       2.68580770e-02, 4.65881941e-02, 2.63404505e+00, 2.11524888e+00,\n",
       "       5.14574732e-02, 1.61728539e-02, 3.80264943e-01, 4.32334215e-01,\n",
       "       9.39501011e-02, 3.31178040e-01, 4.30968288e-03, 1.24789046e-01,\n",
       "       4.72206876e-01, 4.24402144e-01, 6.02314683e-01, 1.87688339e+00,\n",
       "       1.81832956e-02, 3.64327242e+00, 4.72123071e+00, 1.38828939e+00,\n",
       "       5.60583420e-01, 3.07170616e-01, 1.57110845e-01, 6.02802938e-02,\n",
       "       2.75008149e-02, 1.77491955e+00, 7.40430574e-02, 3.22474385e+00,\n",
       "       1.32054023e+00, 1.26415157e-01, 1.51306681e+00, 2.75311614e+00,\n",
       "       2.00272725e-02, 1.96395507e+00, 3.91766565e-01, 5.29402518e-01,\n",
       "       2.93969841e-01, 3.68494669e-05, 1.67827854e-01, 3.52616580e+00,\n",
       "       2.26569930e+00, 1.20012225e-01, 6.01345272e-01, 9.07761828e-01,\n",
       "       1.00542322e+01, 9.62412550e-01, 3.50919626e-01, 5.86137836e+00,\n",
       "       2.84262803e+00, 4.73294714e-02, 1.06603802e-01, 2.61156380e-01,\n",
       "       1.24109560e+00, 1.13312564e-01, 5.68380796e-03, 1.37730527e-01,\n",
       "       2.53763017e-01, 6.96132112e+00, 1.97893127e+00, 2.55470294e-01,\n",
       "       7.33689435e-02, 4.49680907e-01, 1.59553059e-01, 1.79899797e-01,\n",
       "       6.19026378e-02, 2.94948702e-03, 1.93260123e+00, 1.47938940e-01,\n",
       "       6.04994619e-02, 3.48503712e+00, 1.29644997e+00, 1.47315000e+00,\n",
       "       5.98388670e+00, 2.54572837e-01, 9.44060862e-01, 1.33333269e+00,\n",
       "       9.86321136e-03, 2.34627500e-01, 6.87236371e-02, 1.47139583e-03,\n",
       "       9.68189776e-01, 6.01094835e-01, 6.07917767e-01, 1.68512690e-01,\n",
       "       7.01858730e-01, 1.68805304e+00, 9.83631894e-01, 1.33201107e-01,\n",
       "       1.59610385e-02, 9.57034474e-01, 8.96355877e-01, 3.47636530e-02,\n",
       "       2.17802543e-01, 1.20661263e-01, 2.84347846e+00, 3.60736514e-01,\n",
       "       8.55094368e-02, 5.38366284e-03, 2.70996376e-02, 1.49139030e-01,\n",
       "       2.32256909e-01, 1.52964426e-03, 1.25194528e-01, 3.38769016e-01,\n",
       "       1.07970458e+00, 7.11407073e-02, 4.79553012e-01, 1.36288549e-01,\n",
       "       6.35356053e-01, 6.13578259e-01, 1.84330329e+00, 3.99465337e-01,\n",
       "       8.45348887e-03, 5.86820968e-01, 2.00572289e-01, 1.10003926e+00,\n",
       "       1.62313419e-01, 1.03199892e-02, 7.95346173e-03, 1.10770743e-01,\n",
       "       7.92281356e-01, 2.49445703e-01, 9.14127132e-02, 7.79811358e-01,\n",
       "       2.57460418e-01, 5.96300066e-01, 3.94133646e+00, 3.97737656e-02,\n",
       "       6.77831611e-01, 2.92810001e+00, 2.31685123e-01, 6.09436249e-01,\n",
       "       1.25200795e+00, 2.10522275e+00, 7.61777688e-01, 3.02632650e-01,\n",
       "       1.78616155e+00, 1.90209949e-02, 1.20706929e+00, 1.02898393e+00,\n",
       "       8.66712774e-01, 9.91028314e-01, 1.85427334e-02, 2.97710206e+00,\n",
       "       3.34387836e-01, 5.90997768e+00, 1.39881568e-03, 2.52023533e-01,\n",
       "       1.61255916e+00, 1.87644784e+00, 8.13651860e-01, 7.24504905e-02,\n",
       "       1.27999454e+00, 2.26614174e-01, 2.31765884e+00, 3.41564266e-02,\n",
       "       7.87426912e-04, 1.22797814e+00, 3.10565003e+00, 4.04172914e-01,\n",
       "       7.57606880e-01, 3.16145223e-01, 6.56047093e-02, 4.86149347e-04,\n",
       "       1.38980530e-01, 8.44301196e-01, 1.90748240e-01, 8.59323489e-01,\n",
       "       1.45829937e-01, 1.80707028e-01, 6.74953027e-02, 2.79303411e-01,\n",
       "       5.27801584e+00, 1.76796175e-03, 4.50861929e+00, 7.78855127e-01,\n",
       "       4.12735439e-02, 8.99437806e-01, 8.72701029e-01, 6.53566819e-01,\n",
       "       3.98555744e-01, 4.83403224e-02, 8.88952257e-01, 4.06875666e-01,\n",
       "       1.69126843e-02, 2.12863158e+00, 1.01484706e-01, 8.72198111e+00,\n",
       "       1.54107446e+00, 2.26350037e-01, 3.33248402e-01, 2.69426665e+00,\n",
       "       5.43535317e-01, 1.19290735e-03, 1.01367480e+00, 2.33765123e-01,\n",
       "       4.19818281e-02, 1.59953319e-01, 1.20657616e-02, 5.14672227e+00,\n",
       "       7.65934056e-01, 3.04856126e-02, 2.31812686e-01, 1.15512424e+00,\n",
       "       1.36725865e+00, 1.19462563e+00, 4.79113577e-01, 4.43049891e+00,\n",
       "       3.95215256e-02, 2.37667699e-01, 1.29113152e-01, 5.68521403e-02,\n",
       "       8.75912113e-01, 1.71624626e-01, 3.33651884e-01, 5.14078649e+00,\n",
       "       3.80506280e-02, 1.75600378e-01, 8.65518673e-01, 4.56944483e-03,\n",
       "       3.32871528e-02, 1.05677599e-01, 3.16303609e-01, 2.78222590e-01,\n",
       "       4.78596967e-03, 7.03805154e-03, 3.57694610e-01, 1.25607811e+00,\n",
       "       7.68185400e-01, 7.75015435e-02, 3.56378363e-01, 1.63732411e+00,\n",
       "       1.26059879e+00, 7.87212318e-01, 5.84390889e-02, 3.12462734e+00,\n",
       "       2.97807549e-03, 9.32691090e-02, 7.21195529e-03, 2.59901599e-01,\n",
       "       1.30906378e+00, 1.56068877e-02, 3.13234917e-01, 6.47936768e+00,\n",
       "       3.18929317e-02, 2.93561475e-01, 3.76468636e-01, 3.04366636e-01,\n",
       "       7.87000991e-03, 6.44341463e+00, 1.12200978e+00, 2.36813848e+00,\n",
       "       8.09899275e-01, 4.39555633e-01, 9.41200811e-04, 3.35581273e+00,\n",
       "       3.91561607e+00, 2.74645435e+00, 2.64990428e+00, 9.40797469e-01,\n",
       "       7.65619644e-02, 4.15495291e-02, 7.38162953e-01, 3.47154414e+00,\n",
       "       8.56034509e-03, 7.81254328e-01, 8.60235544e-01, 1.63499226e-01,\n",
       "       3.32596368e+00, 1.59091334e+00, 1.01421272e+00, 2.12169884e-01,\n",
       "       3.42673082e-02, 1.40293714e+00, 2.71053373e-01, 3.66253027e+00,\n",
       "       7.09879632e-02, 4.31112035e-02, 1.09293920e+00, 2.54957334e-01,\n",
       "       2.43543526e-02, 2.20765392e-01, 1.73802436e-01, 1.64471304e+00,\n",
       "       1.12813112e-01, 1.26260866e-01, 5.10331958e-04, 4.59604200e+00,\n",
       "       1.77214176e+00, 1.89191378e-01, 1.33509983e+01, 2.06993617e-02,\n",
       "       6.95002655e-01, 6.45206529e-02, 2.29379855e-04, 2.38073884e-01,\n",
       "       1.31669122e-01, 1.99958610e+00, 5.11992320e-02, 2.53476172e+00,\n",
       "       5.86800429e-01, 8.78800399e-01, 1.45972093e+00, 1.30328026e+00,\n",
       "       1.44725279e-04, 3.76360779e-01, 1.50839660e-02, 2.15305574e-01])"
      ]
     },
     "execution_count": 39,
     "metadata": {},
     "output_type": "execute_result"
    }
   ],
   "source": [
    "dfnum = 1. # between group degrees of freedom\n",
    "dfden = 48. # within groups degrees of freedom\n",
    "s = np.random.f(dfnum, dfden, 1000)\n",
    "s"
   ]
  },
  {
   "cell_type": "markdown",
   "metadata": {},
   "source": [
    "### random.gamma"
   ]
  },
  {
   "cell_type": "markdown",
   "metadata": {},
   "source": [
    "This function is used to draw samples from a Gamma distribution. The Gamma distribution is often used to model the times to failure of electronic components, and arises naturally in processes for which the waiting times between Poisson distributed events are relevant. Samples are drawn from a Gamma distribution with specified parameters. These parameters are as follows:\n",
    "\n",
    "-  shape (float or array_like of floats):<br>\n",
    "    The shape of the gamma distribution. Should be greater than zero.<br>\n",
    "-  scale (float or array_like of floats, optional):<br>\n",
    "    The scale of the gamma distribution. Should be greater than zero. Default is equal to 1.<br>\n",
    "-  size (int or tuple of ints, optional):<br>\n",
    "    This parameter defines the output shape. If size is None (default), a single value is returned if shape and scale are both scalars. Otherwise, np.broadcast(shape, scale).size samples are drawn.<br>\n",
    "\n",
    "This function returns an *n* dimensional array or a scalar."
   ]
  },
  {
   "cell_type": "code",
   "execution_count": 40,
   "metadata": {},
   "outputs": [],
   "source": [
    "shape, scale = 2., 2.  # mean=4, std=2*sqrt(2)\n",
    "s = np.random.gamma(shape, scale, 1000)"
   ]
  },
  {
   "cell_type": "markdown",
   "metadata": {},
   "source": [
    "Display the histogram of the samples, along with the probability density function:"
   ]
  },
  {
   "cell_type": "code",
   "execution_count": 41,
   "metadata": {},
   "outputs": [
    {
     "data": {
      "image/png": "[encoded data removed]",
      "text/plain": [
       "<Figure size 432x288 with 1 Axes>"
      ]
     },
     "metadata": {},
     "output_type": "display_data"
    }
   ],
   "source": [
    "count, bins, ignored = plt.hist(s, 50, density=True)\n",
    "y = bins**(shape-1)*(np.exp(-bins/scale) / (sps.gamma(shape)*scale**shape))\n",
    "plt.plot(bins, y, linewidth=2, color='r')\n",
    "plt.show()"
   ]
  },
  {
   "cell_type": "markdown",
   "metadata": {},
   "source": [
    "### random.geometric"
   ]
  },
  {
   "cell_type": "markdown",
   "metadata": {},
   "source": [
    "This function is used to draw samples from the geometric distribution.\n",
    "\n",
    "Bernoulli trials are experiments with one of two outcomes: success or failure (an example of such an experiment is flipping a coin). The geometric distribution models the number of trials that must be run in order to achieve success. It is therefore supported on the positive integers, k = 1, 2, ....\n",
    "\n",
    "This function takes the following parameters:<br>\n",
    "-  p (float or array_like of floats):<br>\n",
    "    The probability of success of an individual trial.<br>\n",
    "-  size (int or tuple of ints, optional):<br>\n",
    "    This parameter defines the output shape. If size is None (default), a single value is returned if p is a scalar. Otherwise, np.array(p).size samples are drawn.\n",
    "\n",
    "The return of this function is an *n* dimensional array or a scalar.\n",
    "\n",
    "Draw ten thousand values from the geometric distribution, with the probability of an individual success equal to 0.35:"
   ]
  },
  {
   "cell_type": "code",
   "execution_count": 42,
   "metadata": {},
   "outputs": [],
   "source": [
    "z = np.random.geometric(p=0.35, size=10000)"
   ]
  },
  {
   "cell_type": "markdown",
   "metadata": {},
   "source": [
    "How many trials succeeded after a single run?"
   ]
  },
  {
   "cell_type": "code",
   "execution_count": 43,
   "metadata": {},
   "outputs": [
    {
     "data": {
      "text/plain": [
       "0.3487"
      ]
     },
     "execution_count": 43,
     "metadata": {},
     "output_type": "execute_result"
    }
   ],
   "source": [
    "(z == 1).sum() / 10000."
   ]
  },
  {
   "cell_type": "markdown",
   "metadata": {},
   "source": [
    "### random.gumbel"
   ]
  },
  {
   "cell_type": "markdown",
   "metadata": {},
   "source": [
    "This function is used to draw samples from a Gumbel distribution with specified location and scale. \n",
    "\n",
    "The parameters this function takes are as follows:\t\n",
    "-  loc (float or array_like of floats, optional):<br>\n",
    "The location of the mode of the distribution. Default is 0.\n",
    "-  scale (float or array_like of floats, optional):<br>\n",
    "The scale parameter of the distribution. Default is 1.\n",
    "-  size (int or tuple of ints, optional):<br>\n",
    "This parameter defines the output shape. If size is None (default), a single value is returned if loc and scale are both scalars. Otherwise, np.broadcast(loc, scale).size samples are drawn.\n",
    "\n",
    "This function returns an *n* dimensional array or a scalar.\n",
    "\n",
    "The Gumbel (or Smallest Extreme Value (SEV) or the Smallest Extreme Value Type I) distribution is one of a class of Generalized Extreme Value (GEV) distributions used in modeling extreme value problems. The Gumbel is a special case of the Extreme Value Type I distribution for maximums from distributions with “exponential-like” tails.\n",
    "\n",
    "Draw samples from the distribution:"
   ]
  },
  {
   "cell_type": "code",
   "execution_count": 44,
   "metadata": {},
   "outputs": [],
   "source": [
    "mu, beta = 0, 0.1 # location and scale\n",
    "s = np.random.gumbel(mu, beta, 1000)"
   ]
  },
  {
   "cell_type": "markdown",
   "metadata": {},
   "source": [
    "Display the histogram of the samples, along with the probability density function:"
   ]
  },
  {
   "cell_type": "code",
   "execution_count": 45,
   "metadata": {},
   "outputs": [
    {
     "data": {
      "image/png": "[encoded data removed]",
      "text/plain": [
       "<Figure size 432x288 with 1 Axes>"
      ]
     },
     "metadata": {},
     "output_type": "display_data"
    }
   ],
   "source": [
    "count, bins, ignored = plt.hist(s, 30, density=True)\n",
    "plt.plot(bins, (1/beta)*np.exp(-(bins - mu)/beta)* np.exp( -np.exp( -(bins - mu) /beta) ), linewidth=2, color='r')\n",
    "plt.show()"
   ]
  },
  {
   "cell_type": "markdown",
   "metadata": {},
   "source": [
    "Show how an extreme value distribution can arise from a Gaussian process and compare to a Gaussian:"
   ]
  },
  {
   "cell_type": "code",
   "execution_count": 46,
   "metadata": {},
   "outputs": [
    {
     "data": {
      "image/png": "[encoded data removed]",
      "text/plain": [
       "<Figure size 432x288 with 1 Axes>"
      ]
     },
     "metadata": {},
     "output_type": "display_data"
    }
   ],
   "source": [
    "means = []\n",
    "maxima = []\n",
    "for i in range(0,1000) :\n",
    "    a = np.random.normal(mu, beta, 1000)\n",
    "    means.append(a.mean())\n",
    "    maxima.append(a.max())\n",
    "count, bins, ignored = plt.hist(maxima, 30, density=True)\n",
    "beta = np.std(maxima) * np.sqrt(6) / np.pi\n",
    "mu = np.mean(maxima) - 0.57721*beta\n",
    "plt.plot(bins, (1/beta)*np.exp(-(bins - mu)/beta) * np.exp(-np.exp(-(bins - mu)/beta)), linewidth=2, color='r')\n",
    "plt.plot(bins, 1/(beta * np.sqrt(2 * np.pi)) * np.exp(-(bins - mu)**2 / (2 * beta**2)), linewidth=2, color='g')\n",
    "plt.show()"
   ]
  },
  {
   "cell_type": "markdown",
   "metadata": {},
   "source": [
    "### random.hypergeometric"
   ]
  },
  {
   "cell_type": "markdown",
   "metadata": {},
   "source": [
    "This function is used to draw samples from a Hypergeometric distribution. These samples are drawn from a hypergeometric distribution with specified parameters, ngood (ways to make a good selection), nbad (ways to make a bad selection), and nsample which is the number of items sampled, which is less than or equal to the sum ngood + nbad.\n",
    "    \n",
    "The parameters this function takes are as follows:\t\n",
    "\n",
    "-  ngood (int or array_like of ints):<br>\n",
    "Number of ways to make a good selection. Must be nonnegative.\n",
    "-  nbad (int or array_like of ints)<br>\n",
    "Number of ways to make a bad selection. Must be nonnegative.\n",
    "-  nsample (int or array_like of ints):\n",
    "Number of items sampled. Must be at least 1 and at most ngood + nbad.\n",
    "-  size (int or tuple of ints, optional):\n",
    "This parameter defines the output shape. If size is None (default), a single value is returned if ngood, nbad, and nsample are all scalars. Otherwise, np.broadcast(ngood, nbad, nsample).size samples are drawn.\n",
    "\n",
    "This function returns a *n* dimensional array or a scalar.\n",
    "\n",
    "Note that this distribution is very similar to the binomial distribution, except that in this case, samples are drawn without replacement, whereas in the Binomial case samples are drawn with replacement (or the sample space is infinite). As the sample space becomes large, this distribution approaches the binomial."
   ]
  },
  {
   "cell_type": "code",
   "execution_count": 47,
   "metadata": {},
   "outputs": [
    {
     "data": {
      "text/plain": [
       "(array([ 13.,   0.,   0.,   0.,   0., 190.,   0.,   0.,   0., 797.]),\n",
       " array([ 8. ,  8.2,  8.4,  8.6,  8.8,  9. ,  9.2,  9.4,  9.6,  9.8, 10. ]),\n",
       " <a list of 10 Patch objects>)"
      ]
     },
     "execution_count": 47,
     "metadata": {},
     "output_type": "execute_result"
    },
    {
     "data": {
      "image/png": "[encoded data removed]",
      "text/plain": [
       "<Figure size 432x288 with 1 Axes>"
      ]
     },
     "metadata": {},
     "output_type": "display_data"
    }
   ],
   "source": [
    "ngood, nbad, nsamp = 100, 2, 10\n",
    "s = np.random.hypergeometric(ngood, nbad, nsamp, 1000)\n",
    "plt.hist(s)"
   ]
  },
  {
   "cell_type": "code",
   "execution_count": 48,
   "metadata": {},
   "outputs": [
    {
     "data": {
      "text/plain": [
       "0.00303"
      ]
     },
     "execution_count": 48,
     "metadata": {},
     "output_type": "execute_result"
    }
   ],
   "source": [
    "s = np.random.hypergeometric(15, 15, 15, 100000)\n",
    "sum(s>=12)/100000. + sum(s<=3)/100000."
   ]
  },
  {
   "cell_type": "markdown",
   "metadata": {},
   "source": [
    "### random.laplace"
   ]
  },
  {
   "cell_type": "markdown",
   "metadata": {},
   "source": [
    "This function is used to draw samples from the Laplace or double exponential distribution with specified location (or mean) and scale (decay).\n",
    "\n",
    "The Laplace distribution is similar to the Gaussian/normal distribution, but is sharper at the peak and has fatter tails. It represents the difference between two independent, identically distributed exponential random variables.\n",
    "\n",
    "The parameters of this function are as follows:\t\n",
    "-  loc (float or array_like of floats, optional):<br>\n",
    "The position of the distribution peak. Default is 0.\n",
    "-  scale (float or array_like of floats, optional):<br>\n",
    "lambda, the exponential decay. Default is 1.\n",
    "-  size : int or tuple of ints, optional<br>\n",
    "This parameter defines the output shape. If size is None (default), a single value is returned if loc and scale are both scalars. Otherwise, np.broadcast(loc, scale).size samples are drawn.\n",
    "\n",
    "This function returns a *n* dimensional array or a scalar.\n",
    "\n",
    "The first law of Laplace, from 1774, states that the frequency of an error can be expressed as an exponential function of the absolute magnitude of the error, which leads to the Laplace distribution. For many problems in economics and health sciences, this distribution seems to model the data better than the standard Gaussian distribution."
   ]
  },
  {
   "cell_type": "code",
   "execution_count": 49,
   "metadata": {},
   "outputs": [],
   "source": [
    "loc, scale = 0., 1.\n",
    "s = np.random.laplace(loc, scale, 1000)"
   ]
  },
  {
   "cell_type": "markdown",
   "metadata": {},
   "source": [
    "Displaying the histogram of samples, along with the probability density function:"
   ]
  },
  {
   "cell_type": "code",
   "execution_count": 50,
   "metadata": {},
   "outputs": [
    {
     "data": {
      "text/plain": [
       "[<matplotlib.lines.Line2D at 0x237d5bfa160>]"
      ]
     },
     "execution_count": 50,
     "metadata": {},
     "output_type": "execute_result"
    },
    {
     "data": {
      "image/png": "[encoded data removed]",
      "text/plain": [
       "<Figure size 432x288 with 1 Axes>"
      ]
     },
     "metadata": {},
     "output_type": "display_data"
    }
   ],
   "source": [
    "count, bins, ignored = plt.hist(s, 30, density=True)\n",
    "x = np.arange(-8., 8., .01)\n",
    "pdf = np.exp(-abs(x-loc)/scale)/(2.*scale)\n",
    "plt.plot(x, pdf)"
   ]
  },
  {
   "cell_type": "markdown",
   "metadata": {},
   "source": [
    "### random.logistic"
   ]
  },
  {
   "cell_type": "markdown",
   "metadata": {},
   "source": [
    "This function is used to draw samples from a logistic distribution.\n",
    "\n",
    "The parameters this function takes are as follows:\t\n",
    "-  loc (float or array_like of floats, optional):<br>\n",
    "Parameter of the distribution. Default is 0.\n",
    "-  scale (float or array_like of floats, optional):<br>\n",
    "This is the parameter of the distribution. Should be greater than zero. Default is 1.\n",
    "-  size (int or tuple of ints, optional):<br>\n",
    "This parameter defines the output shape. If size is None (default), a single value is returned if loc and scale are both scalars. Otherwise, np.broadcast(loc, scale).size samples are drawn.\n",
    "\n",
    "This function returns an *n* dimensional array or a scalar.\n",
    "\n",
    "The Logistic distribution is used in Extreme Value problems where it can act as a mixture of Gumbel distributions, in Epidemiology, and by the World Chess Federation (FIDE) where it is used in the Elo ranking system, assuming the performance of each player is a logistically distributed random variable.\n",
    "\n",
    "Draw samples from the distribution:"
   ]
  },
  {
   "cell_type": "code",
   "execution_count": null,
   "metadata": {},
   "outputs": [],
   "source": [
    "loc, scale = 10, 1\n",
    "s = np.random.logistic(loc, scale, 10000)\n",
    "count, bins, ignored = plt.hist(s, bins=50)\n",
    "\n",
    "# plot against distribution\n",
    "\n",
    "def logist(x, loc, scale):\n",
    "    return exp((loc-x)/scale)/(scale*(1+exp((loc-x)/scale))**2)\n",
    "plt.plot(bins, logist(bins, loc, scale)*count.max()/\\logist(bins, loc, scale).max())\n",
    "plt.show()"
   ]
  },
  {
   "cell_type": "markdown",
   "metadata": {},
   "source": [
    "### random.lognormal"
   ]
  },
  {
   "cell_type": "markdown",
   "metadata": {},
   "source": [
    "This function is udes to draw samples from a log-normal distribution with specified mean, standard deviation, and array shape. Note that the mean and standard deviation are not the values for the distribution itself, but of the underlying normal distribution it is derived from.\n",
    "\n",
    "The parameters of this function are as follows:\n",
    "-  mean (float or array_like of floats, optional)<br>\n",
    "The mean value of the underlying normal distribution. Default is 0.\n",
    "-  sigma (float or array_like of floats, optional)<br>\n",
    "The standard deviation of the underlying normal distribution. Should be greater than zero. Default is 1.\n",
    "-  size (int or tuple of ints, optional)<br>\n",
    "This parameter defines the output shape. If size is None (default), a single value is returned if mean and sigma are both scalars. Otherwise, np.broadcast(mean, sigma).size samples are drawn.\n",
    "\n",
    "This function returns an *n* dimensional array or a scalar.\n",
    "\n",
    "A log-normal distribution results if a random variable is the product of a large number of independent, identically-distributed variables in the same way that a normal distribution results if the variable is the sum of a large number of independent, identically-distributed variables.\n",
    "\n",
    "Draw samples from the distribution:"
   ]
  },
  {
   "cell_type": "code",
   "execution_count": null,
   "metadata": {},
   "outputs": [],
   "source": [
    "mu, sigma = 3., 1. # mean and standard deviation\n",
    "s = np.random.lognormal(mu, sigma, 1000)"
   ]
  },
  {
   "cell_type": "markdown",
   "metadata": {},
   "source": [
    "Display the histogram of the samples, along with the probability density function:"
   ]
  },
  {
   "cell_type": "code",
   "execution_count": null,
   "metadata": {},
   "outputs": [],
   "source": [
    "import matplotlib.pyplot as plt\n",
    "count, bins, ignored = plt.hist(s, 100, density=True, align='mid')\n",
    "\n",
    "x = np.linspace(min(bins), max(bins), 10000)\n",
    "pdf = (np.exp(-(np.log(x) - mu)**2 / (2 * sigma**2)) / (x * sigma * np.sqrt(2 * np.pi)))\n",
    "\n",
    "plt.plot(x, pdf, linewidth=2, color='r')\n",
    "plt.axis('tight')\n",
    "plt.show()"
   ]
  },
  {
   "cell_type": "markdown",
   "metadata": {},
   "source": [
    "Demonstrate that taking the products of random samples from a uniform distribution can be fit well by a log-normal probability density function."
   ]
  },
  {
   "cell_type": "code",
   "execution_count": null,
   "metadata": {},
   "outputs": [],
   "source": [
    "#Generate a thousand samples: each is the product of 100 random\n",
    "#values, drawn from a normal distribution.\n",
    "b = []\n",
    "for i in range(1000):\n",
    "    a = 10. + np.random.random(100)\n",
    "    b.append(np.product(a))\n",
    "\n",
    "b = np.array(b) / np.min(b) # scale values to be positive\n",
    "count, bins, ignored = plt.hist(b, 100, density=True, align='mid')\n",
    "sigma = np.std(np.log(b))\n",
    "mu = np.mean(np.log(b))\n",
    "\n",
    "x = np.linspace(min(bins), max(bins), 10000)\n",
    "pdf = (np.exp(-(np.log(x) - mu)**2 / (2 * sigma**2)) / (x * sigma * np.sqrt(2 * np.pi)))\n",
    "\n",
    "plt.plot(x, pdf, color='r', linewidth=2)\n",
    "plt.show()"
   ]
  },
  {
   "cell_type": "markdown",
   "metadata": {},
   "source": [
    "### random.logseries"
   ]
  },
  {
   "cell_type": "markdown",
   "metadata": {},
   "source": [
    "This function is used to draw samples from a logarithmic series distribution with specified shape parameter, 0 < p < 1.\n",
    "\n",
    "The parameters this function takes are as follows:\n",
    "-  p (float or array_like of floats)<br>\n",
    "Shape parameter for the distribution. Must be in the range (0, 1).\n",
    "-  size (int or tuple of ints, optional)<br>\n",
    "This parameter defines the output shape. If size is None (default), a single value is returned if p is a scalar. Otherwise, np.array(p).size samples are drawn.\n",
    "\n",
    "This function returns an *n* dimensional array or a scalar.\n",
    "\n",
    "The log series distribution is frequently used to represent species richness and occurrence, first proposed by Fisher, Corbet, and Williams in 1943. It may also be used to model the numbers of occupants seen in cars.\n",
    "\n",
    "Draw samples from the distribution:"
   ]
  },
  {
   "cell_type": "code",
   "execution_count": null,
   "metadata": {},
   "outputs": [],
   "source": [
    "a = .6\n",
    "s = np.random.logseries(a, 10000)\n",
    "count, bins, ignored = plt.hist(s)\n",
    "\n",
    "#plot against distribution\n",
    "\n",
    "def logseries(k, p):\n",
    "    return -p**k/(k*log(1-p))\n",
    "plt.plot(bins, logseries(bins, a)*count.max()/ logseries(bins, a).max(), 'r')\n",
    "plt.show()"
   ]
  },
  {
   "cell_type": "markdown",
   "metadata": {},
   "source": [
    "### random.multinomial"
   ]
  },
  {
   "cell_type": "markdown",
   "metadata": {},
   "source": [
    "This function is used to draw samples from a multinomial distribution, which is a multivariate generalisation of the binomial distribution. \n",
    "\n",
    "The parameters this function takes are as follows:\n",
    "-  n (int)\n",
    "The number of experiments.\n",
    "-  pvals (sequence of floats, length p)<br>\n",
    "The probabilities of each of the p different outcomes. These should sum to 1 (however, the last element is always assumed to account for the remaining probability, as long as sum(pvals[:-1]) <= 1).\n",
    "-  size (int or tuple of ints, optional)<br>\n",
    "This parameter defines the output shape. Default is None, in which case a single value is returned.\n",
    "\n",
    "This function returns an *n* dimensional array.\n",
    "\n",
    "Throw a dice 20 times:"
   ]
  },
  {
   "cell_type": "code",
   "execution_count": null,
   "metadata": {},
   "outputs": [],
   "source": [
    "np.random.multinomial(20, [1/6.]*6, size=1)\n",
    "# It landed for example: 4 times on 1, once on 2, etc."
   ]
  },
  {
   "cell_type": "markdown",
   "metadata": {},
   "source": [
    "Now, throw the dice 20 times, and 20 times again:"
   ]
  },
  {
   "cell_type": "code",
   "execution_count": null,
   "metadata": {},
   "outputs": [],
   "source": [
    "np.random.multinomial(20, [1/6.]*6, size=2)"
   ]
  },
  {
   "cell_type": "markdown",
   "metadata": {},
   "source": [
    "For the first run, we threw 3 times 1, 4 times 2, etc. For the second, we threw 2 times 1, 4 times 2, etc.\n",
    "\n",
    "A loaded die is more likely to land on number 6:"
   ]
  },
  {
   "cell_type": "code",
   "execution_count": null,
   "metadata": {},
   "outputs": [],
   "source": [
    "np.random.multinomial(100, [1/7.]*5 + [2/7.])"
   ]
  },
  {
   "cell_type": "markdown",
   "metadata": {},
   "source": [
    "The probability inputs should be normalized. As an implementation detail, the value of the last entry is ignored and assumed to take up any leftover probability mass, but this should not be relied on. A biased coin which has twice as much weight on one side as on the other should be sampled like so:"
   ]
  },
  {
   "cell_type": "code",
   "execution_count": null,
   "metadata": {},
   "outputs": [],
   "source": [
    "# like this:\n",
    "np.random.multinomial(100, [1.0 / 3, 2.0 / 3])  # RIGHT\n",
    "\n",
    "# not like this:\n",
    "np.random.multinomial(100, [1.0, 2.0])  # WRONG"
   ]
  },
  {
   "cell_type": "markdown",
   "metadata": {},
   "source": [
    "### random.multivariate_normal"
   ]
  },
  {
   "cell_type": "markdown",
   "metadata": {},
   "source": [
    "This function is used to draw random samples from a multivariate normal distribution.\n",
    "\n",
    "The multivariate normal, multinormal or Gaussian distribution is a generalization of the one-dimensional normal distribution to higher dimensions. Such a distribution is specified by its mean and covariance matrix. These parameters are analogous to the mean (average or “center”) and variance (standard deviation, or “width,” squared) of the one-dimensional normal distribution.\n",
    "\n",
    "The parameters of this function are as follows:\t\n",
    "-  mean (1-D array_like, of length *n*):<br>\n",
    "Mean of the N-dimensional distribution.\n",
    "-  cov (2-D array_like, of shape (*n*, *n*)):<br>\n",
    "Covariance matrix of the distribution. It must be symmetric and positive-semidefinite for proper sampling.\n",
    "-  size (int or tuple of ints, optional):<br>\n",
    "This defines the output shape. Because each sample is N-dimensional, the output shape is (m,n,k,N). If no shape is specified, a single (N-D) sample is returned.\n",
    "-  check_valid ({‘warn’, ‘raise’, ‘ignore’}, optional):<br>\n",
    "Behavior when the covariance matrix is not positive semidefinite.\n",
    "-  tol (float, optional):<br>\n",
    "Tolerance when checking the singular values in covariance matrix.\n",
    "\n",
    "This function returns an *n* dimensional array.\n",
    "\n",
    "The mean is a coordinate in N-dimensional space, which represents the location where samples are most likely to be generated. This is analogous to the peak of the bell curve for the one-dimensional or univariate normal distribution.\n",
    "\n",
    "Covariance indicates the level to which two variables vary together. From the multivariate normal distribution, we draw N-dimensional samples, X = [x_1, x_2, ... x_N]. The covariance matrix element C_{ij} is the covariance of x_i and x_j. The element C_{ii} is the variance of x_i (i.e. its “spread”).\n",
    "\n",
    "Instead of specifying the full covariance matrix, popular approximations include:\n",
    "-  Spherical covariance (cov is a multiple of the identity matrix)\n",
    "-  Diagonal covariance (cov has non-negative elements, and only on the diagonal)\n",
    "\n",
    "This geometrical property can be seen in two dimensions by plotting generated data-points:"
   ]
  },
  {
   "cell_type": "code",
   "execution_count": null,
   "metadata": {},
   "outputs": [],
   "source": [
    "mean = [0, 0]\n",
    "cov = [[1, 0], [0, 100]]  # diagonal covariance"
   ]
  },
  {
   "cell_type": "markdown",
   "metadata": {},
   "source": [
    "Diagonal covariance means that points are oriented along x or y-axis:"
   ]
  },
  {
   "cell_type": "code",
   "execution_count": null,
   "metadata": {},
   "outputs": [],
   "source": [
    "x, y = np.random.multivariate_normal(mean, cov, 5000).T\n",
    "plt.plot(x, y, 'x')\n",
    "plt.axis('equal')\n",
    "plt.show()"
   ]
  },
  {
   "cell_type": "markdown",
   "metadata": {},
   "source": [
    "Note that the covariance matrix must be positive semidefinite (a.k.a. nonnegative-definite). Otherwise, the behavior of this method is undefined and backwards compatibility is not guaranteed."
   ]
  },
  {
   "cell_type": "code",
   "execution_count": null,
   "metadata": {},
   "outputs": [],
   "source": [
    "mean = (1, 2)\n",
    "cov = [[1, 0], [0, 1]]\n",
    "x = np.random.multivariate_normal(mean, cov, (3, 3))\n",
    "x.shape"
   ]
  },
  {
   "cell_type": "markdown",
   "metadata": {},
   "source": [
    "The following is probably true, given that 0.6 is roughly twice the standard deviation:"
   ]
  },
  {
   "cell_type": "code",
   "execution_count": null,
   "metadata": {},
   "outputs": [],
   "source": [
    "list((x[0,0,:] - mean) < 0.6)"
   ]
  },
  {
   "cell_type": "markdown",
   "metadata": {},
   "source": [
    "### random.negative_binomial"
   ]
  },
  {
   "cell_type": "markdown",
   "metadata": {},
   "source": []
  },
  {
   "cell_type": "code",
   "execution_count": null,
   "metadata": {},
   "outputs": [],
   "source": []
  },
  {
   "cell_type": "code",
   "execution_count": null,
   "metadata": {},
   "outputs": [],
   "source": []
  },
  {
   "cell_type": "markdown",
   "metadata": {},
   "source": [
    "### random.noncentral_chisquare"
   ]
  },
  {
   "cell_type": "markdown",
   "metadata": {},
   "source": []
  },
  {
   "cell_type": "code",
   "execution_count": null,
   "metadata": {},
   "outputs": [],
   "source": []
  },
  {
   "cell_type": "code",
   "execution_count": null,
   "metadata": {},
   "outputs": [],
   "source": []
  },
  {
   "cell_type": "markdown",
   "metadata": {},
   "source": [
    "### random.noncentral_f"
   ]
  },
  {
   "cell_type": "markdown",
   "metadata": {},
   "source": []
  },
  {
   "cell_type": "code",
   "execution_count": null,
   "metadata": {},
   "outputs": [],
   "source": []
  },
  {
   "cell_type": "code",
   "execution_count": null,
   "metadata": {},
   "outputs": [],
   "source": []
  },
  {
   "cell_type": "markdown",
   "metadata": {},
   "source": [
    "### random.normal"
   ]
  },
  {
   "cell_type": "markdown",
   "metadata": {},
   "source": []
  },
  {
   "cell_type": "code",
   "execution_count": null,
   "metadata": {},
   "outputs": [],
   "source": []
  },
  {
   "cell_type": "code",
   "execution_count": null,
   "metadata": {},
   "outputs": [],
   "source": []
  },
  {
   "cell_type": "markdown",
   "metadata": {},
   "source": [
    "### random.pareto"
   ]
  },
  {
   "cell_type": "markdown",
   "metadata": {},
   "source": []
  },
  {
   "cell_type": "code",
   "execution_count": null,
   "metadata": {},
   "outputs": [],
   "source": []
  },
  {
   "cell_type": "code",
   "execution_count": null,
   "metadata": {},
   "outputs": [],
   "source": []
  },
  {
   "cell_type": "markdown",
   "metadata": {},
   "source": [
    "### random.poisson"
   ]
  },
  {
   "cell_type": "markdown",
   "metadata": {},
   "source": []
  },
  {
   "cell_type": "code",
   "execution_count": null,
   "metadata": {},
   "outputs": [],
   "source": []
  },
  {
   "cell_type": "code",
   "execution_count": null,
   "metadata": {},
   "outputs": [],
   "source": []
  },
  {
   "cell_type": "markdown",
   "metadata": {},
   "source": [
    "### random.power"
   ]
  },
  {
   "cell_type": "markdown",
   "metadata": {},
   "source": []
  },
  {
   "cell_type": "code",
   "execution_count": null,
   "metadata": {},
   "outputs": [],
   "source": []
  },
  {
   "cell_type": "code",
   "execution_count": null,
   "metadata": {},
   "outputs": [],
   "source": []
  },
  {
   "cell_type": "markdown",
   "metadata": {},
   "source": [
    "### random.rayleigh"
   ]
  },
  {
   "cell_type": "markdown",
   "metadata": {},
   "source": []
  },
  {
   "cell_type": "code",
   "execution_count": null,
   "metadata": {},
   "outputs": [],
   "source": []
  },
  {
   "cell_type": "code",
   "execution_count": null,
   "metadata": {},
   "outputs": [],
   "source": []
  },
  {
   "cell_type": "markdown",
   "metadata": {},
   "source": [
    "### random.standard_cauchy"
   ]
  },
  {
   "cell_type": "markdown",
   "metadata": {},
   "source": []
  },
  {
   "cell_type": "code",
   "execution_count": null,
   "metadata": {},
   "outputs": [],
   "source": []
  },
  {
   "cell_type": "code",
   "execution_count": null,
   "metadata": {},
   "outputs": [],
   "source": []
  },
  {
   "cell_type": "markdown",
   "metadata": {},
   "source": [
    "### random.standard_exponential"
   ]
  },
  {
   "cell_type": "markdown",
   "metadata": {},
   "source": []
  },
  {
   "cell_type": "code",
   "execution_count": null,
   "metadata": {},
   "outputs": [],
   "source": []
  },
  {
   "cell_type": "code",
   "execution_count": null,
   "metadata": {},
   "outputs": [],
   "source": []
  },
  {
   "cell_type": "markdown",
   "metadata": {},
   "source": [
    "### random.standard_gamma"
   ]
  },
  {
   "cell_type": "markdown",
   "metadata": {},
   "source": []
  },
  {
   "cell_type": "code",
   "execution_count": null,
   "metadata": {},
   "outputs": [],
   "source": []
  },
  {
   "cell_type": "code",
   "execution_count": null,
   "metadata": {},
   "outputs": [],
   "source": []
  },
  {
   "cell_type": "markdown",
   "metadata": {},
   "source": [
    "### random.standard_normal"
   ]
  },
  {
   "cell_type": "markdown",
   "metadata": {},
   "source": []
  },
  {
   "cell_type": "code",
   "execution_count": null,
   "metadata": {},
   "outputs": [],
   "source": []
  },
  {
   "cell_type": "code",
   "execution_count": null,
   "metadata": {},
   "outputs": [],
   "source": []
  },
  {
   "cell_type": "markdown",
   "metadata": {},
   "source": [
    "### random.standard_t"
   ]
  },
  {
   "cell_type": "markdown",
   "metadata": {},
   "source": []
  },
  {
   "cell_type": "code",
   "execution_count": null,
   "metadata": {},
   "outputs": [],
   "source": []
  },
  {
   "cell_type": "code",
   "execution_count": null,
   "metadata": {},
   "outputs": [],
   "source": []
  },
  {
   "cell_type": "markdown",
   "metadata": {},
   "source": [
    "### random.triangular"
   ]
  },
  {
   "cell_type": "markdown",
   "metadata": {},
   "source": []
  },
  {
   "cell_type": "code",
   "execution_count": null,
   "metadata": {},
   "outputs": [],
   "source": []
  },
  {
   "cell_type": "code",
   "execution_count": null,
   "metadata": {},
   "outputs": [],
   "source": []
  },
  {
   "cell_type": "markdown",
   "metadata": {},
   "source": [
    "### random.uniform"
   ]
  },
  {
   "cell_type": "markdown",
   "metadata": {},
   "source": []
  },
  {
   "cell_type": "code",
   "execution_count": null,
   "metadata": {},
   "outputs": [],
   "source": []
  },
  {
   "cell_type": "code",
   "execution_count": null,
   "metadata": {},
   "outputs": [],
   "source": []
  },
  {
   "cell_type": "markdown",
   "metadata": {},
   "source": [
    "### random.vonmises"
   ]
  },
  {
   "cell_type": "markdown",
   "metadata": {},
   "source": []
  },
  {
   "cell_type": "code",
   "execution_count": null,
   "metadata": {},
   "outputs": [],
   "source": []
  },
  {
   "cell_type": "code",
   "execution_count": null,
   "metadata": {},
   "outputs": [],
   "source": []
  },
  {
   "cell_type": "markdown",
   "metadata": {},
   "source": [
    "### random.wald"
   ]
  },
  {
   "cell_type": "markdown",
   "metadata": {},
   "source": []
  },
  {
   "cell_type": "code",
   "execution_count": null,
   "metadata": {},
   "outputs": [],
   "source": []
  },
  {
   "cell_type": "code",
   "execution_count": null,
   "metadata": {},
   "outputs": [],
   "source": []
  },
  {
   "cell_type": "markdown",
   "metadata": {},
   "source": [
    "### random.weibull"
   ]
  },
  {
   "cell_type": "markdown",
   "metadata": {},
   "source": []
  },
  {
   "cell_type": "code",
   "execution_count": null,
   "metadata": {},
   "outputs": [],
   "source": []
  },
  {
   "cell_type": "code",
   "execution_count": null,
   "metadata": {},
   "outputs": [],
   "source": []
  },
  {
   "cell_type": "markdown",
   "metadata": {},
   "source": [
    "### random.zipf"
   ]
  },
  {
   "cell_type": "markdown",
   "metadata": {},
   "source": []
  },
  {
   "cell_type": "code",
   "execution_count": null,
   "metadata": {},
   "outputs": [],
   "source": []
  },
  {
   "cell_type": "code",
   "execution_count": null,
   "metadata": {},
   "outputs": [],
   "source": []
  },
  {
   "cell_type": "markdown",
   "metadata": {},
   "source": [
    "<a id=\"RandomGenerator\"></a>\n",
    "## Random generator"
   ]
  },
  {
   "cell_type": "markdown",
   "metadata": {},
   "source": [
    "### random.RandomState"
   ]
  },
  {
   "cell_type": "markdown",
   "metadata": {},
   "source": []
  },
  {
   "cell_type": "code",
   "execution_count": null,
   "metadata": {},
   "outputs": [],
   "source": []
  },
  {
   "cell_type": "code",
   "execution_count": null,
   "metadata": {},
   "outputs": [],
   "source": []
  },
  {
   "cell_type": "markdown",
   "metadata": {},
   "source": [
    "### random.seed"
   ]
  },
  {
   "cell_type": "markdown",
   "metadata": {},
   "source": []
  },
  {
   "cell_type": "code",
   "execution_count": null,
   "metadata": {},
   "outputs": [],
   "source": []
  },
  {
   "cell_type": "code",
   "execution_count": null,
   "metadata": {},
   "outputs": [],
   "source": []
  },
  {
   "cell_type": "markdown",
   "metadata": {},
   "source": [
    "### random.get_state"
   ]
  },
  {
   "cell_type": "markdown",
   "metadata": {},
   "source": []
  },
  {
   "cell_type": "code",
   "execution_count": null,
   "metadata": {},
   "outputs": [],
   "source": []
  },
  {
   "cell_type": "code",
   "execution_count": null,
   "metadata": {},
   "outputs": [],
   "source": []
  },
  {
   "cell_type": "markdown",
   "metadata": {},
   "source": [
    "### random.set_state"
   ]
  },
  {
   "cell_type": "markdown",
   "metadata": {},
   "source": []
  },
  {
   "cell_type": "code",
   "execution_count": null,
   "metadata": {},
   "outputs": [],
   "source": []
  },
  {
   "cell_type": "code",
   "execution_count": null,
   "metadata": {},
   "outputs": [],
   "source": []
  },
  {
   "cell_type": "markdown",
   "metadata": {},
   "source": [
    "### random.random_sample"
   ]
  },
  {
   "cell_type": "markdown",
   "metadata": {},
   "source": []
  },
  {
   "cell_type": "code",
   "execution_count": null,
   "metadata": {},
   "outputs": [],
   "source": []
  },
  {
   "cell_type": "code",
   "execution_count": null,
   "metadata": {},
   "outputs": [],
   "source": []
  },
  {
   "cell_type": "markdown",
   "metadata": {},
   "source": [
    "### random.standard_normal"
   ]
  },
  {
   "cell_type": "markdown",
   "metadata": {},
   "source": []
  },
  {
   "cell_type": "code",
   "execution_count": null,
   "metadata": {},
   "outputs": [],
   "source": []
  },
  {
   "cell_type": "code",
   "execution_count": null,
   "metadata": {},
   "outputs": [],
   "source": []
  },
  {
   "cell_type": "markdown",
   "metadata": {},
   "source": []
  },
  {
   "cell_type": "markdown",
   "metadata": {},
   "source": []
  },
  {
   "cell_type": "markdown",
   "metadata": {},
   "source": []
  },
  {
   "cell_type": "code",
   "execution_count": 51,
   "metadata": {},
   "outputs": [
    {
     "data": {
      "text/plain": [
       "1.7835057350999284"
      ]
     },
     "execution_count": 51,
     "metadata": {},
     "output_type": "execute_result"
    }
   ],
   "source": [
    "np.random.uniform(0.0, 10.0)"
   ]
  },
  {
   "cell_type": "code",
   "execution_count": 52,
   "metadata": {},
   "outputs": [
    {
     "data": {
      "text/plain": [
       "array([[ 0,  1,  2,  3,  4],\n",
       "       [ 5,  6,  7,  8,  9],\n",
       "       [10, 11, 12, 13, 14]])"
      ]
     },
     "execution_count": 52,
     "metadata": {},
     "output_type": "execute_result"
    }
   ],
   "source": [
    "np.arange(15).reshape(3,5)"
   ]
  },
  {
   "cell_type": "markdown",
   "metadata": {},
   "source": [
    "When using the .arange() and .reshape() together the parameters of the .reshape() method must multiply to equal the parameter of the .arange() method."
   ]
  },
  {
   "cell_type": "code",
   "execution_count": null,
   "metadata": {},
   "outputs": [],
   "source": []
  }
 ],
 "metadata": {
  "kernelspec": {
   "display_name": "Python 3",
   "language": "python",
   "name": "python3"
  },
  "language_info": {
   "codemirror_mode": {
    "name": "ipython",
    "version": 3
   },
   "file_extension": ".py",
   "mimetype": "text/x-python",
   "name": "python",
   "nbconvert_exporter": "python",
   "pygments_lexer": "ipython3",
   "version": "3.6.5"
  }
 },
 "nbformat": 4,
 "nbformat_minor": 2
}

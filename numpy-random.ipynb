{
 "cells": [
  {
   "cell_type": "markdown",
   "metadata": {},
   "source": [
    "# About the numpy random package\n",
    "[Numpy](http://www.numpy.org/) is a numerical package for Python. It has a subpackage called [random](https://docs.scipy.org/doc/numpy/reference/routines.random.html). This will be the main focus of this Jupyter Notebook."
   ]
  },
  {
   "cell_type": "markdown",
   "metadata": {},
   "source": [
    "## Table Of Contents\n",
    "-  [Simple Random Data](#SimpleRandomData)\n",
    "    -  [random.rand](#random.rand)\n",
    "    -  [random.randn](#random.randn)\n",
    "    -  [random.randint](#random.randint)    \n",
    "    -  [random.random_integers](#random.random_integers)\n",
    "    -  [random.random_sample](#random.random_sample)\n",
    "    -  [random.random](#random.random)\n",
    "    -  [random.ranf](#random.ranf)\n",
    "    -  [random.sample](#random.sample)\n",
    "    -  [random.choice](#random.choice)\n",
    "    -  [random.bytes](#random.bytes)\n",
    "-  [Permutations](#Permutations)\n",
    "    -  [random.shuffle](#random.shuffle)\n",
    "    -  [random.permutation](#random.permutation)\n",
    "-  [Distributions](#Distributions)\n",
    "    -  [random.beta](#random.beta)\n",
    "    -  [random.binomial](#random.binomial)\n",
    "    -  [random.chisquare](#random.chisquare)\n",
    "    -  [random.dirichlet](#random.dirichlet)\n",
    "    -  [random.exponential](#random.exponential)\n",
    "    -  [random.f](#random.f)\n",
    "    -  [random.gamma](#random.gamma)\n",
    "    -  [random.geometric](#random.geometric)\n",
    "    -  [random.gumbel](#random.gumbel)\n",
    "    -  [random.hypergeometric](#random.hypergeometric)\n",
    "    -  [random.laplace](#random.laplace)\n",
    "    -  [random.logistic](#random.logistic)\n",
    "    -  [random.lognormal](#random.lognormal)\n",
    "    -  [random.logseries](#random.logseries)\n",
    "    -  [random.multinomial](#random.multinomial)\n",
    "    -  [random.multivariate_normal](#random.multivariate_normal)\n",
    "    -  [random.negative_binomial](#random.negative_binomial)\n",
    "    -  [random.noncentral_chisquare](#random.noncentral_chisquare)\n",
    "    -  [random.noncentral_f](#random.noncentral_f)\n",
    "    -  [random.normal](#random.normal)\n",
    "    -  [random.pareto](#random.pareto)\n",
    "    -  [random.poisson](#random.poisson)\n",
    "    -  [random.power](#random.power)\n",
    "    -  [random.rayleigh](#random.rayleigh)\n",
    "    -  [random.standard_cauchy](#random.standard_cauchy)\n",
    "    -  [random.standard_exponential](#random.standard_exponential)\n",
    "    -  [random.standard_gamma](#random.standard_gamma)\n",
    "    -  [random.standard_normal](#random.standard_normal)\n",
    "    -  [random.standard_t](#random.standard_t)\n",
    "    -  [random.triangular](#random.triangular)\n",
    "    -  [random.uniform](#random.uniform)\n",
    "    -  [random.vonmises](#random.vonmises)\n",
    "    -  [random.wald](#random.wald)\n",
    "    -  [random.weibull](#random.weibull)\n",
    "    -  [random.zipf](#random.zipf)\n",
    "-  [Random generator](#RandomGenerator)\n",
    "    -  [random.RandomState](#random.RandomState)\n",
    "    -  [random.seed](#random.seed)\n",
    "    -  [random.get_state](#random.get_state)\n",
    "    -  [random.set_state](#random.set_state)"
   ]
  },
  {
   "cell_type": "code",
   "execution_count": 1,
   "metadata": {},
   "outputs": [],
   "source": [
    "import numpy as np"
   ]
  },
  {
   "cell_type": "markdown",
   "metadata": {},
   "source": [
    "The numpy namespace includes all names under the numpy.core and numpy.lib namespaces as well. This numpy import will\n",
    "also import the names from numpy.core and numpy.lib. This is the recommended way to use numpy."
   ]
  },
  {
   "cell_type": "markdown",
   "metadata": {},
   "source": [
    "<a id=\"SimpleRandomData\"></a>\n",
    "## Simple random data"
   ]
  },
  {
   "cell_type": "markdown",
   "metadata": {},
   "source": [
    "### random.rand"
   ]
  },
  {
   "cell_type": "code",
   "execution_count": 2,
   "metadata": {},
   "outputs": [
    {
     "data": {
      "text/plain": [
       "array([[0.69859891, 0.82105421, 0.83563145, 0.86313532, 0.8681074 ],\n",
       "       [0.35543156, 0.85069763, 0.15465084, 0.70850477, 0.5379304 ],\n",
       "       [0.66016757, 0.26948782, 0.20154825, 0.60181168, 0.62859585],\n",
       "       [0.70739193, 0.59859371, 0.37930076, 0.98622533, 0.97014319]])"
      ]
     },
     "execution_count": 2,
     "metadata": {},
     "output_type": "execute_result"
    }
   ],
   "source": [
    "np.random.rand(4,5)"
   ]
  },
  {
   "cell_type": "markdown",
   "metadata": {},
   "source": [
    "The above random.rand(*n*, *n*) outputs an array in the given shape, and popuates the array with random samples from a uniform distribution over [0, 1]."
   ]
  },
  {
   "cell_type": "code",
   "execution_count": 3,
   "metadata": {},
   "outputs": [
    {
     "data": {
      "text/plain": [
       "array([0.0715946 , 0.39037232, 0.20486413, 0.71736807, 0.14966425])"
      ]
     },
     "execution_count": 3,
     "metadata": {},
     "output_type": "execute_result"
    }
   ],
   "source": [
    "np.random.rand(5)"
   ]
  },
  {
   "cell_type": "markdown",
   "metadata": {},
   "source": [
    "The dimensions of the returned array, should all be positive. If no argument is given a single Python float is returned."
   ]
  },
  {
   "cell_type": "code",
   "execution_count": 4,
   "metadata": {},
   "outputs": [
    {
     "data": {
      "text/plain": [
       "0.811013382352825"
      ]
     },
     "execution_count": 4,
     "metadata": {},
     "output_type": "execute_result"
    }
   ],
   "source": [
    "np.random.rand()"
   ]
  },
  {
   "cell_type": "markdown",
   "metadata": {},
   "source": [
    "If an interface that takes a shape-tuple as the first argument is needed refer to the [random.random_sample()](#random.random_sample) below."
   ]
  },
  {
   "cell_type": "markdown",
   "metadata": {},
   "source": [
    "### random.randn"
   ]
  },
  {
   "cell_type": "code",
   "execution_count": 5,
   "metadata": {},
   "outputs": [
    {
     "data": {
      "text/plain": [
       "array([[ 0.04192056, -0.25229185, -1.08163189,  0.62934784],\n",
       "       [-1.09841838, -0.30434348, -1.16162332, -0.33876878],\n",
       "       [ 0.8762825 ,  0.16036543,  0.33313283,  0.89210084]])"
      ]
     },
     "execution_count": 5,
     "metadata": {},
     "output_type": "execute_result"
    }
   ],
   "source": [
    "np.random.randn(3,4)"
   ]
  },
  {
   "cell_type": "markdown",
   "metadata": {},
   "source": [
    "The above random.randn(*n*, *n*) returns a random sample (or samples) if positive, randn generates an array of a shape using the parameters provided. If parameters are specified an array is filled with random floats sampled from a univariate “normal” (Gaussian) distribution of mean 0 and variance 1, if any are floats, they are first converted to integers by truncation. \n",
    "\n",
    "If an interface that takes a tuple as the first argument is needed refer to [random.standard_normal](#random.standard_normal) outlined below."
   ]
  },
  {
   "cell_type": "code",
   "execution_count": 6,
   "metadata": {},
   "outputs": [
    {
     "data": {
      "text/plain": [
       "array([-0.68664212,  2.29406867, -0.60451929])"
      ]
     },
     "execution_count": 6,
     "metadata": {},
     "output_type": "execute_result"
    }
   ],
   "source": [
    "np.random.randn(3)"
   ]
  },
  {
   "cell_type": "markdown",
   "metadata": {},
   "source": [
    "A single float randomly sampled from the distribution is returned if no argument is provided."
   ]
  },
  {
   "cell_type": "code",
   "execution_count": 7,
   "metadata": {},
   "outputs": [
    {
     "data": {
      "text/plain": [
       "-0.2986526887196061"
      ]
     },
     "execution_count": 7,
     "metadata": {},
     "output_type": "execute_result"
    }
   ],
   "source": [
    "np.random.randn()"
   ]
  },
  {
   "cell_type": "markdown",
   "metadata": {},
   "source": [
    "For random samples from normal distribution, with mean vector μ and standard deviation σ, use: \n",
    "N(μ, σ ^2)\n",
    "\n",
    "Which is implemented as follows:"
   ]
  },
  {
   "cell_type": "code",
   "execution_count": 8,
   "metadata": {},
   "outputs": [
    {
     "data": {
      "text/plain": [
       "array([[ 7.55433192,  7.60719705,  7.39262193,  4.78480788, 10.43970821],\n",
       "       [ 6.72927271,  6.7083807 ,  6.50951456,  6.63340051,  7.22300376]])"
      ]
     },
     "execution_count": 8,
     "metadata": {},
     "output_type": "execute_result"
    }
   ],
   "source": [
    "np.random.randn(2, 5) + 7"
   ]
  },
  {
   "cell_type": "markdown",
   "metadata": {},
   "source": [
    "### random.randint"
   ]
  },
  {
   "cell_type": "markdown",
   "metadata": {},
   "source": [
    "This method returns random integers from low (inclusive) to high (exclusive).\n",
    "\n",
    "The parameters are as follows:\n",
    "\n",
    "low (int):<br>The lowest int to be drawn from the distribution, unless high=None, this parameter is one above the highest such integer."
   ]
  },
  {
   "cell_type": "code",
   "execution_count": 16,
   "metadata": {},
   "outputs": [
    {
     "data": {
      "text/plain": [
       "2"
      ]
     },
     "execution_count": 16,
     "metadata": {},
     "output_type": "execute_result"
    }
   ],
   "source": [
    "np.random.randint(3)"
   ]
  },
  {
   "cell_type": "markdown",
   "metadata": {},
   "source": [
    "high (int, optional):<br>If specified, one above the largest signed integer to be drawn from the distribution."
   ]
  },
  {
   "cell_type": "code",
   "execution_count": 153,
   "metadata": {},
   "outputs": [
    {
     "data": {
      "text/plain": [
       "4"
      ]
     },
     "execution_count": 153,
     "metadata": {},
     "output_type": "execute_result"
    }
   ],
   "source": [
    "np.random.randint(4, high=10)"
   ]
  },
  {
   "cell_type": "markdown",
   "metadata": {},
   "source": [
    "size (int or tuple of ints, optional):<br>Default is none which returns a single value, if specified defines the output shape."
   ]
  },
  {
   "cell_type": "code",
   "execution_count": 17,
   "metadata": {},
   "outputs": [
    {
     "data": {
      "text/plain": [
       "array([1, 1, 1, 1, 0, 1, 1])"
      ]
     },
     "execution_count": 17,
     "metadata": {},
     "output_type": "execute_result"
    }
   ],
   "source": [
    "np.random.randint(2, size=7)"
   ]
  },
  {
   "cell_type": "markdown",
   "metadata": {},
   "source": [
    "dtype (dtype, optional):<br>Desired data type object of the result."
   ]
  },
  {
   "cell_type": "code",
   "execution_count": 101,
   "metadata": {},
   "outputs": [
    {
     "data": {
      "text/plain": [
       "array([[3, 3],\n",
       "       [3, 3],\n",
       "       [3, 2]])"
      ]
     },
     "execution_count": 101,
     "metadata": {},
     "output_type": "execute_result"
    }
   ],
   "source": [
    "np.random.randint(2.0, high=4, size=(3,2), dtype='int_')"
   ]
  },
  {
   "cell_type": "markdown",
   "metadata": {},
   "source": [
    "This method returns an int or array of ints, depending on if the size is specified."
   ]
  },
  {
   "cell_type": "markdown",
   "metadata": {},
   "source": [
    "### random.random_integers"
   ]
  },
  {
   "cell_type": "markdown",
   "metadata": {},
   "source": [
    "Random integers of type np.int between low and high, inclusive.\n",
    "\n",
    "This function has been deprecated. Use [randint](#random.randint) instead.\n",
    "Deprecated since version 1.11.0."
   ]
  },
  {
   "cell_type": "markdown",
   "metadata": {},
   "source": [
    "### random.random_sample"
   ]
  },
  {
   "cell_type": "markdown",
   "metadata": {},
   "source": [
    "This method returns a random float (floats) in the half-open interval [0.0, 1.0]. Half-open interval is a set of numbers between two given numbers but including only one endpoint.\n",
    "\n",
    "Only has one optional parameter:\n",
    "size (int or tuple of ints, optional):\n",
    "If specified, outputs the given shape.\n",
    "\n",
    "Returns a float or an array of floats."
   ]
  },
  {
   "cell_type": "code",
   "execution_count": 155,
   "metadata": {},
   "outputs": [
    {
     "data": {
      "text/plain": [
       "0.01850309690013674"
      ]
     },
     "execution_count": 155,
     "metadata": {},
     "output_type": "execute_result"
    }
   ],
   "source": [
    "np.random.random_sample()"
   ]
  },
  {
   "cell_type": "code",
   "execution_count": 326,
   "metadata": {},
   "outputs": [
    {
     "data": {
      "text/plain": [
       "array([0.07566434, 0.06322685, 0.76972189])"
      ]
     },
     "execution_count": 326,
     "metadata": {},
     "output_type": "execute_result"
    }
   ],
   "source": [
    "np.random.random_sample(3)"
   ]
  },
  {
   "cell_type": "code",
   "execution_count": 158,
   "metadata": {},
   "outputs": [
    {
     "data": {
      "text/plain": [
       "array([[0.36985564, 0.51377121, 0.11322012],\n",
       "       [0.3079192 , 0.49808738, 0.50008529],\n",
       "       [0.08631312, 0.47953271, 0.12128217]])"
      ]
     },
     "execution_count": 158,
     "metadata": {},
     "output_type": "execute_result"
    }
   ],
   "source": [
    "np.random.random_sample((3, 3))"
   ]
  },
  {
   "cell_type": "markdown",
   "metadata": {},
   "source": [
    "### random.random"
   ]
  },
  {
   "cell_type": "markdown",
   "metadata": {},
   "source": [
    "This method is an alias to [random.random_sample](#random.random_sample).\n",
    "\n",
    "Proof in code:"
   ]
  },
  {
   "cell_type": "code",
   "execution_count": 159,
   "metadata": {},
   "outputs": [
    {
     "data": {
      "text/plain": [
       "True"
      ]
     },
     "execution_count": 159,
     "metadata": {},
     "output_type": "execute_result"
    }
   ],
   "source": [
    "np.random.random is np.random.random_sample"
   ]
  },
  {
   "cell_type": "markdown",
   "metadata": {},
   "source": [
    "### random.ranf"
   ]
  },
  {
   "cell_type": "markdown",
   "metadata": {},
   "source": [
    "This method is an alias to [random.random_sample](#random.random_sample)\n",
    "\n",
    "Proof in code:"
   ]
  },
  {
   "cell_type": "code",
   "execution_count": 160,
   "metadata": {},
   "outputs": [
    {
     "data": {
      "text/plain": [
       "True"
      ]
     },
     "execution_count": 160,
     "metadata": {},
     "output_type": "execute_result"
    }
   ],
   "source": [
    "np.random.ranf is np.random.random_sample"
   ]
  },
  {
   "cell_type": "markdown",
   "metadata": {},
   "source": [
    "### random.sample"
   ]
  },
  {
   "cell_type": "markdown",
   "metadata": {},
   "source": [
    "This method is an alias to [random.random_sample](#random.random_sample)\n",
    "\n",
    "Proof in code:"
   ]
  },
  {
   "cell_type": "code",
   "execution_count": 161,
   "metadata": {},
   "outputs": [
    {
     "data": {
      "text/plain": [
       "True"
      ]
     },
     "execution_count": 161,
     "metadata": {},
     "output_type": "execute_result"
    }
   ],
   "source": [
    "np.random.sample is np.random.random_sample"
   ]
  },
  {
   "cell_type": "markdown",
   "metadata": {},
   "source": [
    "### random.choice"
   ]
  },
  {
   "cell_type": "markdown",
   "metadata": {},
   "source": [
    "This method generates a random sample from a given 1-D array.\n",
    "\n",
    "The parameters it takes are as follows:\n",
    "\n",
    "a (1-D array-like or int):<br>If an ndarray, a random sample is generated from its elements. If an int, the random sample is generated as if a were np.arange(a)\n",
    "\n",
    "size (int or tuple of ints, optional):<br>Defines the output shape, the default is None, in which case a single value is returned.\n",
    "\n",
    "replace (boolean, optional):<br>Whether the sample is with or without replacement\n",
    "\n",
    "p (1-D array-like, optional):<br>The probabilities associated with each entry in a. If not given the sample assumes a uniform distribution over all entries in a.\n",
    "\n",
    "This method returns a single item or an array of random samples."
   ]
  },
  {
   "cell_type": "code",
   "execution_count": 182,
   "metadata": {},
   "outputs": [
    {
     "data": {
      "text/plain": [
       "2"
      ]
     },
     "execution_count": 182,
     "metadata": {},
     "output_type": "execute_result"
    }
   ],
   "source": [
    "np.random.choice(3)"
   ]
  },
  {
   "cell_type": "markdown",
   "metadata": {},
   "source": [
    "Generate a uniform random sample from np.arange(3) of size 5:"
   ]
  },
  {
   "cell_type": "code",
   "execution_count": 175,
   "metadata": {},
   "outputs": [
    {
     "data": {
      "text/plain": [
       "array([1, 2, 1, 2, 0])"
      ]
     },
     "execution_count": 175,
     "metadata": {},
     "output_type": "execute_result"
    }
   ],
   "source": [
    "np.random.choice(3, 5)"
   ]
  },
  {
   "cell_type": "markdown",
   "metadata": {},
   "source": [
    "Generate a non-uniform random sample from np.arange(3) of size 4:"
   ]
  },
  {
   "cell_type": "code",
   "execution_count": 186,
   "metadata": {},
   "outputs": [
    {
     "data": {
      "text/plain": [
       "array([2, 2, 0, 2], dtype=int64)"
      ]
     },
     "execution_count": 186,
     "metadata": {},
     "output_type": "execute_result"
    }
   ],
   "source": [
    "np.random.choice(3, 4, p=[0.2, 0.1, 0.7])"
   ]
  },
  {
   "cell_type": "markdown",
   "metadata": {},
   "source": [
    "Generate a uniform sample from np.arange(4) of size 3 with replacement:"
   ]
  },
  {
   "cell_type": "code",
   "execution_count": 253,
   "metadata": {},
   "outputs": [
    {
     "data": {
      "text/plain": [
       "array([1, 2, 1, 0])"
      ]
     },
     "execution_count": 253,
     "metadata": {},
     "output_type": "execute_result"
    }
   ],
   "source": [
    "np.random.choice(3, 4, replace=True)"
   ]
  },
  {
   "cell_type": "markdown",
   "metadata": {},
   "source": [
    "Any of the above can be repeated with an arbitrary array. For example:"
   ]
  },
  {
   "cell_type": "code",
   "execution_count": 255,
   "metadata": {},
   "outputs": [
    {
     "data": {
      "text/plain": [
       "array(['cat', 'lizard', 'goldfish'], dtype='<U8')"
      ]
     },
     "execution_count": 255,
     "metadata": {},
     "output_type": "execute_result"
    }
   ],
   "source": [
    "pet_array = ['rabbit', 'dog', 'cat', 'lizard', 'snake', 'goldfish']\n",
    "np.random.choice(pet_array, 3, p=[0.1, 0.1, 0.1, 0.4, 0.2, 0.1])"
   ]
  },
  {
   "cell_type": "markdown",
   "metadata": {},
   "source": [
    "### random.bytes"
   ]
  },
  {
   "cell_type": "markdown",
   "metadata": {},
   "source": [
    "This method returns random bytes.\n",
    "\n",
    "It takes one parameter, length, which determines the number of random bytes.\n",
    "\n",
    "It returns a String of length *length*."
   ]
  },
  {
   "cell_type": "code",
   "execution_count": 325,
   "metadata": {},
   "outputs": [
    {
     "data": {
      "text/plain": [
       "b'\\x9aF\\x0b^Fh\\x12\\x11\\x18lB\\xc03}\\x00\\x9f\\x98}\\x86\")\\xf0\\x83\\xd1\\xfb\\x92Z\\x18\\xb22\\xa3Z\\x06\\xa0\\x95qQ\\xa2\\xbf21\\xc23-\\xc4\\x98\\xdeV\\x14\\x91@<\\x87=\\xb2pr\\xc8\\xf4\\x14n\\xefm\\x8c\\x04ic\\x8f\\x8ch\\xdb\\xf4\\x17\\xa9J\\xb7I5u_D\\xba\\x11`\\x97\\xfb\\xde\\x9b\\x88\\x06\\xac\\xe7e\\xd3\\xd2z\\xbb\\x1e\\x9b\\xe7'"
      ]
     },
     "execution_count": 325,
     "metadata": {},
     "output_type": "execute_result"
    }
   ],
   "source": [
    "np.random.bytes(100)"
   ]
  },
  {
   "cell_type": "markdown",
   "metadata": {},
   "source": [
    "## Permutations"
   ]
  },
  {
   "cell_type": "markdown",
   "metadata": {},
   "source": [
    "### random.shuffle"
   ]
  },
  {
   "cell_type": "markdown",
   "metadata": {},
   "source": [
    "### random.permutation"
   ]
  },
  {
   "cell_type": "markdown",
   "metadata": {},
   "source": [
    "## Distributions"
   ]
  },
  {
   "cell_type": "markdown",
   "metadata": {},
   "source": [
    "### random.beta"
   ]
  },
  {
   "cell_type": "markdown",
   "metadata": {},
   "source": [
    "### random.binomial"
   ]
  },
  {
   "cell_type": "markdown",
   "metadata": {},
   "source": [
    "### random.chisquare"
   ]
  },
  {
   "cell_type": "markdown",
   "metadata": {},
   "source": [
    "### random.dirichlet"
   ]
  },
  {
   "cell_type": "markdown",
   "metadata": {},
   "source": [
    "### random.exponential"
   ]
  },
  {
   "cell_type": "markdown",
   "metadata": {},
   "source": [
    "### random.f"
   ]
  },
  {
   "cell_type": "markdown",
   "metadata": {},
   "source": [
    "### random.gamma"
   ]
  },
  {
   "cell_type": "markdown",
   "metadata": {},
   "source": [
    "### random.geometric"
   ]
  },
  {
   "cell_type": "markdown",
   "metadata": {},
   "source": [
    "### random.gumbel"
   ]
  },
  {
   "cell_type": "markdown",
   "metadata": {},
   "source": [
    "### random.hypergeometric"
   ]
  },
  {
   "cell_type": "markdown",
   "metadata": {},
   "source": [
    "### random.laplace"
   ]
  },
  {
   "cell_type": "markdown",
   "metadata": {},
   "source": [
    "### random.logistic"
   ]
  },
  {
   "cell_type": "markdown",
   "metadata": {},
   "source": [
    "### random.lognormal"
   ]
  },
  {
   "cell_type": "markdown",
   "metadata": {},
   "source": [
    "### random.logseries"
   ]
  },
  {
   "cell_type": "markdown",
   "metadata": {},
   "source": [
    "### random.multinomial"
   ]
  },
  {
   "cell_type": "markdown",
   "metadata": {},
   "source": [
    "### random.multivariate_normal"
   ]
  },
  {
   "cell_type": "markdown",
   "metadata": {},
   "source": [
    "### random.negative_binomial"
   ]
  },
  {
   "cell_type": "markdown",
   "metadata": {},
   "source": [
    "### random.noncentral_chisquare"
   ]
  },
  {
   "cell_type": "markdown",
   "metadata": {},
   "source": [
    "### random.noncentral_f"
   ]
  },
  {
   "cell_type": "markdown",
   "metadata": {},
   "source": [
    "### random.normal"
   ]
  },
  {
   "cell_type": "markdown",
   "metadata": {},
   "source": [
    "### random.pareto"
   ]
  },
  {
   "cell_type": "markdown",
   "metadata": {},
   "source": [
    "### random.poisson"
   ]
  },
  {
   "cell_type": "markdown",
   "metadata": {},
   "source": [
    "### random.power"
   ]
  },
  {
   "cell_type": "markdown",
   "metadata": {},
   "source": [
    "### random.rayleigh"
   ]
  },
  {
   "cell_type": "markdown",
   "metadata": {},
   "source": [
    "### random.standard_cauchy"
   ]
  },
  {
   "cell_type": "markdown",
   "metadata": {},
   "source": [
    "### random.standard_exponential"
   ]
  },
  {
   "cell_type": "markdown",
   "metadata": {},
   "source": [
    "### random.standard_gamma"
   ]
  },
  {
   "cell_type": "markdown",
   "metadata": {},
   "source": [
    "### random.standard_normal"
   ]
  },
  {
   "cell_type": "markdown",
   "metadata": {},
   "source": [
    "### random.standard_t"
   ]
  },
  {
   "cell_type": "markdown",
   "metadata": {},
   "source": [
    "### random.triangular"
   ]
  },
  {
   "cell_type": "markdown",
   "metadata": {},
   "source": [
    "### random.uniform"
   ]
  },
  {
   "cell_type": "markdown",
   "metadata": {},
   "source": [
    "### random.vonmises"
   ]
  },
  {
   "cell_type": "markdown",
   "metadata": {},
   "source": [
    "### random.wald"
   ]
  },
  {
   "cell_type": "markdown",
   "metadata": {},
   "source": [
    "### random.weibull"
   ]
  },
  {
   "cell_type": "markdown",
   "metadata": {},
   "source": [
    "### random.zipf"
   ]
  },
  {
   "cell_type": "markdown",
   "metadata": {},
   "source": [
    "<a id=\"RandomGenerator\"></a>\n",
    "## Random generator"
   ]
  },
  {
   "cell_type": "markdown",
   "metadata": {},
   "source": [
    "### random.RandomState"
   ]
  },
  {
   "cell_type": "markdown",
   "metadata": {},
   "source": [
    "### random.seed"
   ]
  },
  {
   "cell_type": "markdown",
   "metadata": {},
   "source": [
    "### random.get_state"
   ]
  },
  {
   "cell_type": "markdown",
   "metadata": {},
   "source": [
    "### random.set_state"
   ]
  },
  {
   "cell_type": "markdown",
   "metadata": {},
   "source": [
    "### random.random_sample"
   ]
  },
  {
   "cell_type": "markdown",
   "metadata": {},
   "source": [
    "### random.standard_normal"
   ]
  },
  {
   "cell_type": "code",
   "execution_count": 9,
   "metadata": {},
   "outputs": [
    {
     "data": {
      "text/plain": [
       "5.587716443563135"
      ]
     },
     "execution_count": 9,
     "metadata": {},
     "output_type": "execute_result"
    }
   ],
   "source": [
    "np.random.uniform(0.0, 10.0)"
   ]
  },
  {
   "cell_type": "code",
   "execution_count": 10,
   "metadata": {},
   "outputs": [
    {
     "data": {
      "text/plain": [
       "array([[ 0,  1,  2,  3,  4],\n",
       "       [ 5,  6,  7,  8,  9],\n",
       "       [10, 11, 12, 13, 14]])"
      ]
     },
     "execution_count": 10,
     "metadata": {},
     "output_type": "execute_result"
    }
   ],
   "source": [
    "np.arange(15).reshape(3,5)"
   ]
  },
  {
   "cell_type": "markdown",
   "metadata": {},
   "source": [
    "When using the .arange() and .reshape() together the parameters of the .reshape() method must multiply to equal the parameter of the .arange() method."
   ]
  },
  {
   "cell_type": "code",
   "execution_count": null,
   "metadata": {},
   "outputs": [],
   "source": []
  }
 ],
 "metadata": {
  "kernelspec": {
   "display_name": "Python 3",
   "language": "python",
   "name": "python3"
  },
  "language_info": {
   "codemirror_mode": {
    "name": "ipython",
    "version": 3
   },
   "file_extension": ".py",
   "mimetype": "text/x-python",
   "name": "python",
   "nbconvert_exporter": "python",
   "pygments_lexer": "ipython3",
   "version": "3.6.5"
  }
 },
 "nbformat": 4,
 "nbformat_minor": 2
}

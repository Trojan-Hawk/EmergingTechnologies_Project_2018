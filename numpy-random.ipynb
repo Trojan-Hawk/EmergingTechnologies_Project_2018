{
 "cells": [
  {
   "cell_type": "markdown",
   "metadata": {},
   "source": [
    "# Introduction\n",
    "[Numpy](http://www.numpy.org/) is a numerical package for Python. It has a subpackage called [random](https://docs.scipy.org/doc/numpy/reference/routines.random.html). This numpy.random subpackage will be the main focus of this Jupyter Notebook. This notebook is a collection of explainations and code snippets, some of which has been adapted, from the above references. The aim of this notebook is to show an understanding of the various functions contained within the numpy.random subpackage. This can also be used as a learning aid to those who wish to learn about this subpackage, this could be very useful because Jupyter Notebook allows the user to run/edit the various code snippets as they wish."
   ]
  },
  {
   "cell_type": "markdown",
   "metadata": {},
   "source": [
    "The numpy namespace includes all names under the numpy.core and numpy.lib namespaces as well. This numpy import will also import the names from numpy.core and numpy.lib. This is the recommended way to use numpy."
   ]
  },
  {
   "cell_type": "code",
   "execution_count": 1,
   "metadata": {},
   "outputs": [],
   "source": [
    "import numpy as np"
   ]
  },
  {
   "cell_type": "markdown",
   "metadata": {},
   "source": [
    "This Jupyter Notebook also contains some package imports which are not the core focus of this notebook. These packages are listed, imported and referenced below.\n",
    "-  [mathplotlib.pyplot](https://matplotlib.org/api/api_overview.html)\n",
    "-  [scipy.special](https://docs.scipy.org/doc/scipy/reference/special.html)"
   ]
  },
  {
   "cell_type": "code",
   "execution_count": 2,
   "metadata": {},
   "outputs": [],
   "source": [
    "import matplotlib.pyplot as plt\n",
    "import scipy.special as sps"
   ]
  },
  {
   "cell_type": "markdown",
   "metadata": {},
   "source": [
    "## Table Of Contents\n",
    "-  [Simple Random Data](#SimpleRandomData)\n",
    "    -  [random.rand](#random.rand)\n",
    "    -  [random.randn](#random.randn)\n",
    "    -  [random.randint](#random.randint)    \n",
    "    -  [random.random_integers](#random.random_integers)\n",
    "    -  [random.random_sample](#random.random_sample)\n",
    "    -  [random.random](#random.random)\n",
    "    -  [random.ranf](#random.ranf)\n",
    "    -  [random.sample](#random.sample)\n",
    "    -  [random.choice](#random.choice)\n",
    "    -  [random.bytes](#random.bytes)\n",
    "-  [Permutations](#Permutations)\n",
    "    -  [random.shuffle](#random.shuffle)\n",
    "    -  [random.permutation](#random.permutation)\n",
    "-  [Distributions](#Distributions)\n",
    "    -  [random.beta](#random.beta)\n",
    "    -  [random.binomial](#random.binomial)\n",
    "    -  [random.chisquare](#random.chisquare)\n",
    "    -  [random.dirichlet](#random.dirichlet)\n",
    "    -  [random.exponential](#random.exponential)\n",
    "    -  [random.f](#random.f)\n",
    "    -  [random.gamma](#random.gamma)\n",
    "    -  [random.geometric](#random.geometric)\n",
    "    -  [random.gumbel](#random.gumbel)\n",
    "    -  [random.hypergeometric](#random.hypergeometric)\n",
    "    -  [random.laplace](#random.laplace)\n",
    "    -  [random.logistic](#random.logistic)\n",
    "    -  [random.lognormal](#random.lognormal)\n",
    "    -  [random.logseries](#random.logseries)\n",
    "    -  [random.multinomial](#random.multinomial)\n",
    "    -  [random.multivariate_normal](#random.multivariate_normal)\n",
    "    -  [random.negative_binomial](#random.negative_binomial)\n",
    "    -  [random.noncentral_chisquare](#random.noncentral_chisquare)\n",
    "    -  [random.noncentral_f](#random.noncentral_f)\n",
    "    -  [random.normal](#random.normal)\n",
    "    -  [random.pareto](#random.pareto)\n",
    "    -  [random.poisson](#random.poisson)\n",
    "    -  [random.power](#random.power)\n",
    "    -  [random.rayleigh](#random.rayleigh)\n",
    "    -  [random.standard_cauchy](#random.standard_cauchy)\n",
    "    -  [random.standard_exponential](#random.standard_exponential)\n",
    "    -  [random.standard_gamma](#random.standard_gamma)\n",
    "    -  [random.standard_normal](#random.standard_normal)\n",
    "    -  [random.standard_t](#random.standard_t)\n",
    "    -  [random.triangular](#random.triangular)\n",
    "    -  [random.uniform](#random.uniform)\n",
    "    -  [random.vonmises](#random.vonmises)\n",
    "    -  [random.wald](#random.wald)\n",
    "    -  [random.weibull](#random.weibull)\n",
    "    -  [random.zipf](#random.zipf)\n",
    "-  [Random generator](#RandomGenerator)\n",
    "    -  [random.RandomState](#random.RandomState)\n",
    "    -  [random.seed](#random.seed)\n",
    "    -  [random.get_state](#random.get_state)\n",
    "    -  [random.set_state](#random.set_state)"
   ]
  },
  {
   "cell_type": "markdown",
   "metadata": {},
   "source": [
    "<a id=\"SimpleRandomData\"></a>\n",
    "## Simple random data"
   ]
  },
  {
   "cell_type": "markdown",
   "metadata": {},
   "source": [
    "### random.rand"
   ]
  },
  {
   "cell_type": "code",
   "execution_count": 3,
   "metadata": {},
   "outputs": [
    {
     "data": {
      "text/plain": [
       "array([[0.14420779, 0.19477205, 0.29430475, 0.32702642, 0.86052801],\n",
       "       [0.89675875, 0.50163532, 0.53540604, 0.60600933, 0.93031741],\n",
       "       [0.29944911, 0.76858241, 0.72749035, 0.38695128, 0.99967828],\n",
       "       [0.34134318, 0.69887685, 0.49553474, 0.20397869, 0.8915114 ]])"
      ]
     },
     "execution_count": 3,
     "metadata": {},
     "output_type": "execute_result"
    }
   ],
   "source": [
    "np.random.rand(4,5)"
   ]
  },
  {
   "cell_type": "markdown",
   "metadata": {},
   "source": [
    "The above random.rand(*n*, *n*) outputs an array in the given shape, and popuates the array with random samples from a uniform distribution over [0, 1]."
   ]
  },
  {
   "cell_type": "code",
   "execution_count": 4,
   "metadata": {},
   "outputs": [
    {
     "data": {
      "text/plain": [
       "array([0.1996699 , 0.30267197, 0.77538217, 0.55672121, 0.51040821])"
      ]
     },
     "execution_count": 4,
     "metadata": {},
     "output_type": "execute_result"
    }
   ],
   "source": [
    "np.random.rand(5)"
   ]
  },
  {
   "cell_type": "markdown",
   "metadata": {},
   "source": [
    "The dimensions of the returned array, should all be positive. If no argument is given a single Python float is returned."
   ]
  },
  {
   "cell_type": "code",
   "execution_count": 5,
   "metadata": {},
   "outputs": [
    {
     "data": {
      "text/plain": [
       "0.8349590215224776"
      ]
     },
     "execution_count": 5,
     "metadata": {},
     "output_type": "execute_result"
    }
   ],
   "source": [
    "np.random.rand()"
   ]
  },
  {
   "cell_type": "markdown",
   "metadata": {},
   "source": [
    "If an interface that takes a shape-tuple as the first argument is needed refer to the [random.random_sample()](#random.random_sample) below."
   ]
  },
  {
   "cell_type": "markdown",
   "metadata": {},
   "source": [
    "### random.randn"
   ]
  },
  {
   "cell_type": "code",
   "execution_count": 6,
   "metadata": {},
   "outputs": [
    {
     "data": {
      "text/plain": [
       "array([[ 1.79572143,  0.44812742,  1.75045863,  0.07047474],\n",
       "       [-1.23874229,  1.85038894, -1.61970235, -0.20291139],\n",
       "       [-0.4042122 , -0.07705869, -0.50853123, -1.25732499]])"
      ]
     },
     "execution_count": 6,
     "metadata": {},
     "output_type": "execute_result"
    }
   ],
   "source": [
    "np.random.randn(3,4)"
   ]
  },
  {
   "cell_type": "markdown",
   "metadata": {},
   "source": [
    "The above random.randn(*n*, *n*) returns a random sample (or samples) if positive, randn generates an array of a shape using the parameters provided. If parameters are specified an array is filled with random floats sampled from a univariate “normal” (Gaussian) distribution of mean 0 and variance 1, if any are floats, they are first converted to integers by truncation. \n",
    "\n",
    "If an interface that takes a tuple as the first argument is needed refer to [random.standard_normal](#random.standard_normal) outlined below."
   ]
  },
  {
   "cell_type": "code",
   "execution_count": 7,
   "metadata": {},
   "outputs": [
    {
     "data": {
      "text/plain": [
       "array([-0.7117347 ,  0.72942248, -2.44308048])"
      ]
     },
     "execution_count": 7,
     "metadata": {},
     "output_type": "execute_result"
    }
   ],
   "source": [
    "np.random.randn(3)"
   ]
  },
  {
   "cell_type": "markdown",
   "metadata": {},
   "source": [
    "A single float randomly sampled from the distribution is returned if no argument is provided."
   ]
  },
  {
   "cell_type": "code",
   "execution_count": 8,
   "metadata": {},
   "outputs": [
    {
     "data": {
      "text/plain": [
       "-1.9659882321358486"
      ]
     },
     "execution_count": 8,
     "metadata": {},
     "output_type": "execute_result"
    }
   ],
   "source": [
    "np.random.randn()"
   ]
  },
  {
   "cell_type": "markdown",
   "metadata": {},
   "source": [
    "For random samples from normal distribution, with mean vector μ and standard deviation σ, use: \n",
    "N(μ, σ ^2)\n",
    "\n",
    "Which is implemented as follows:"
   ]
  },
  {
   "cell_type": "code",
   "execution_count": 9,
   "metadata": {},
   "outputs": [
    {
     "data": {
      "text/plain": [
       "array([[8.25246591, 6.52286539, 4.42690566, 7.40762387, 8.04615912],\n",
       "       [4.98748967, 8.60283703, 7.33912711, 8.50527012, 5.99891574]])"
      ]
     },
     "execution_count": 9,
     "metadata": {},
     "output_type": "execute_result"
    }
   ],
   "source": [
    "np.random.randn(2, 5) + 7"
   ]
  },
  {
   "cell_type": "markdown",
   "metadata": {},
   "source": [
    "### random.randint"
   ]
  },
  {
   "cell_type": "markdown",
   "metadata": {},
   "source": [
    "This function returns random integers from low (inclusive) to high (exclusive).\n",
    "\n",
    "The parameters are as follows:\n",
    "\n",
    "low (int):<br>The lowest int to be drawn from the distribution, unless high=None, this parameter is one above the highest such integer."
   ]
  },
  {
   "cell_type": "code",
   "execution_count": 10,
   "metadata": {},
   "outputs": [
    {
     "data": {
      "text/plain": [
       "1"
      ]
     },
     "execution_count": 10,
     "metadata": {},
     "output_type": "execute_result"
    }
   ],
   "source": [
    "np.random.randint(3)"
   ]
  },
  {
   "cell_type": "markdown",
   "metadata": {},
   "source": [
    "high (int, optional):<br>If specified, one above the largest signed integer to be drawn from the distribution."
   ]
  },
  {
   "cell_type": "code",
   "execution_count": 11,
   "metadata": {},
   "outputs": [
    {
     "data": {
      "text/plain": [
       "4"
      ]
     },
     "execution_count": 11,
     "metadata": {},
     "output_type": "execute_result"
    }
   ],
   "source": [
    "np.random.randint(4, high=10)"
   ]
  },
  {
   "cell_type": "markdown",
   "metadata": {},
   "source": [
    "size (int or tuple of ints, optional):<br>Default is none which returns a single value, if specified defines the output shape."
   ]
  },
  {
   "cell_type": "code",
   "execution_count": 12,
   "metadata": {},
   "outputs": [
    {
     "data": {
      "text/plain": [
       "array([0, 0, 1, 1, 0, 1, 1])"
      ]
     },
     "execution_count": 12,
     "metadata": {},
     "output_type": "execute_result"
    }
   ],
   "source": [
    "np.random.randint(2, size=7)"
   ]
  },
  {
   "cell_type": "markdown",
   "metadata": {},
   "source": [
    "dtype (dtype, optional):<br>Desired data type object of the result."
   ]
  },
  {
   "cell_type": "code",
   "execution_count": 13,
   "metadata": {},
   "outputs": [
    {
     "data": {
      "text/plain": [
       "array([[3, 2],\n",
       "       [3, 2],\n",
       "       [2, 3]])"
      ]
     },
     "execution_count": 13,
     "metadata": {},
     "output_type": "execute_result"
    }
   ],
   "source": [
    "np.random.randint(2.0, high=4, size=(3,2), dtype='int_')"
   ]
  },
  {
   "cell_type": "markdown",
   "metadata": {},
   "source": [
    "This function returns an int or array of ints, depending on if the size is specified."
   ]
  },
  {
   "cell_type": "markdown",
   "metadata": {},
   "source": [
    "### random.random_integers"
   ]
  },
  {
   "cell_type": "markdown",
   "metadata": {},
   "source": [
    "Random integers of type np.int between low and high, inclusive.\n",
    "\n",
    "This function has been deprecated. Use [randint](#random.randint) instead.\n",
    "Deprecated since version 1.11.0."
   ]
  },
  {
   "cell_type": "markdown",
   "metadata": {},
   "source": [
    "### random.random_sample"
   ]
  },
  {
   "cell_type": "markdown",
   "metadata": {},
   "source": [
    "This function returns a random float (floats) in the half-open interval [0.0, 1.0]. Half-open interval is a set of numbers between two given numbers but including only one endpoint.\n",
    "\n",
    "Only has one optional parameter:\n",
    "size (int or tuple of ints, optional):\n",
    "If specified, outputs the given shape.\n",
    "\n",
    "Returns a float or an array of floats."
   ]
  },
  {
   "cell_type": "code",
   "execution_count": 14,
   "metadata": {},
   "outputs": [
    {
     "data": {
      "text/plain": [
       "0.6061434038623689"
      ]
     },
     "execution_count": 14,
     "metadata": {},
     "output_type": "execute_result"
    }
   ],
   "source": [
    "np.random.random_sample()"
   ]
  },
  {
   "cell_type": "code",
   "execution_count": 15,
   "metadata": {},
   "outputs": [
    {
     "data": {
      "text/plain": [
       "array([0.46858125, 0.89893029, 0.88044464])"
      ]
     },
     "execution_count": 15,
     "metadata": {},
     "output_type": "execute_result"
    }
   ],
   "source": [
    "np.random.random_sample(3)"
   ]
  },
  {
   "cell_type": "code",
   "execution_count": 16,
   "metadata": {},
   "outputs": [
    {
     "data": {
      "text/plain": [
       "array([[0.92489464, 0.44997502, 0.89318163],\n",
       "       [0.20595332, 0.55848751, 0.04931454],\n",
       "       [0.28002596, 0.07310119, 0.87083925]])"
      ]
     },
     "execution_count": 16,
     "metadata": {},
     "output_type": "execute_result"
    }
   ],
   "source": [
    "np.random.random_sample((3, 3))"
   ]
  },
  {
   "cell_type": "markdown",
   "metadata": {},
   "source": [
    "### random.random"
   ]
  },
  {
   "cell_type": "markdown",
   "metadata": {},
   "source": [
    "This function is an alias to [random.random_sample](#random.random_sample).\n",
    "\n",
    "Proof in code:"
   ]
  },
  {
   "cell_type": "code",
   "execution_count": 17,
   "metadata": {},
   "outputs": [
    {
     "data": {
      "text/plain": [
       "True"
      ]
     },
     "execution_count": 17,
     "metadata": {},
     "output_type": "execute_result"
    }
   ],
   "source": [
    "np.random.random is np.random.random_sample"
   ]
  },
  {
   "cell_type": "markdown",
   "metadata": {},
   "source": [
    "### random.ranf"
   ]
  },
  {
   "cell_type": "markdown",
   "metadata": {},
   "source": [
    "This function is an alias to [random.random_sample](#random.random_sample)\n",
    "\n",
    "Proof in code:"
   ]
  },
  {
   "cell_type": "code",
   "execution_count": 18,
   "metadata": {},
   "outputs": [
    {
     "data": {
      "text/plain": [
       "True"
      ]
     },
     "execution_count": 18,
     "metadata": {},
     "output_type": "execute_result"
    }
   ],
   "source": [
    "np.random.ranf is np.random.random_sample"
   ]
  },
  {
   "cell_type": "markdown",
   "metadata": {},
   "source": [
    "### random.sample"
   ]
  },
  {
   "cell_type": "markdown",
   "metadata": {},
   "source": [
    "This function is an alias to [random.random_sample](#random.random_sample)\n",
    "\n",
    "Proof in code:"
   ]
  },
  {
   "cell_type": "code",
   "execution_count": 19,
   "metadata": {},
   "outputs": [
    {
     "data": {
      "text/plain": [
       "True"
      ]
     },
     "execution_count": 19,
     "metadata": {},
     "output_type": "execute_result"
    }
   ],
   "source": [
    "np.random.sample is np.random.random_sample"
   ]
  },
  {
   "cell_type": "markdown",
   "metadata": {},
   "source": [
    "### random.choice"
   ]
  },
  {
   "cell_type": "markdown",
   "metadata": {},
   "source": [
    "This function generates a random sample from a given 1-D array.\n",
    "\n",
    "The parameters it takes are as follows:\n",
    "-  a (1-D array-like or int):<br>\n",
    "If an ndarray, a random sample is generated from its elements. If an int, the random sample is generated as if a were np.arange(a)\n",
    "-  size (int or tuple of ints, optional):<br>\n",
    "Defines the output shape, the default is None, in which case a single value is returned.\n",
    "-  replace (boolean, optional):<br>\n",
    "Whether the sample is with or without replacement.\n",
    "-  p (1-D array-like, optional):<br>\n",
    "The probabilities associated with each entry in a. If not given the sample assumes a uniform distribution over all entries in a.\n",
    "\n",
    "This function returns a single item or an array of random samples."
   ]
  },
  {
   "cell_type": "code",
   "execution_count": 20,
   "metadata": {},
   "outputs": [
    {
     "data": {
      "text/plain": [
       "0"
      ]
     },
     "execution_count": 20,
     "metadata": {},
     "output_type": "execute_result"
    }
   ],
   "source": [
    "np.random.choice(3)"
   ]
  },
  {
   "cell_type": "markdown",
   "metadata": {},
   "source": [
    "Generate a uniform random sample from np.arange(3) of size 5:"
   ]
  },
  {
   "cell_type": "code",
   "execution_count": 21,
   "metadata": {},
   "outputs": [
    {
     "data": {
      "text/plain": [
       "array([1, 0, 0, 1, 2])"
      ]
     },
     "execution_count": 21,
     "metadata": {},
     "output_type": "execute_result"
    }
   ],
   "source": [
    "np.random.choice(3, 5)"
   ]
  },
  {
   "cell_type": "markdown",
   "metadata": {},
   "source": [
    "Generate a non-uniform random sample from np.arange(3) of size 4:"
   ]
  },
  {
   "cell_type": "code",
   "execution_count": 22,
   "metadata": {},
   "outputs": [
    {
     "data": {
      "text/plain": [
       "array([2, 2, 2, 2], dtype=int64)"
      ]
     },
     "execution_count": 22,
     "metadata": {},
     "output_type": "execute_result"
    }
   ],
   "source": [
    "np.random.choice(3, 4, p=[0.2, 0.1, 0.7])"
   ]
  },
  {
   "cell_type": "markdown",
   "metadata": {},
   "source": [
    "Generate a uniform sample from np.arange(4) of size 3 with replacement:"
   ]
  },
  {
   "cell_type": "code",
   "execution_count": 23,
   "metadata": {},
   "outputs": [
    {
     "data": {
      "text/plain": [
       "array([1, 2, 1, 2])"
      ]
     },
     "execution_count": 23,
     "metadata": {},
     "output_type": "execute_result"
    }
   ],
   "source": [
    "np.random.choice(3, 4, replace=True)"
   ]
  },
  {
   "cell_type": "markdown",
   "metadata": {},
   "source": [
    "Any of the above can be repeated with an arbitrary array. For example:"
   ]
  },
  {
   "cell_type": "code",
   "execution_count": 24,
   "metadata": {},
   "outputs": [
    {
     "data": {
      "text/plain": [
       "array(['goldfish', 'snake', 'lizard'], dtype='<U8')"
      ]
     },
     "execution_count": 24,
     "metadata": {},
     "output_type": "execute_result"
    }
   ],
   "source": [
    "pet_array = ['rabbit', 'dog', 'cat', 'lizard', 'snake', 'goldfish']\n",
    "np.random.choice(pet_array, 3, p=[0.1, 0.1, 0.1, 0.4, 0.2, 0.1])"
   ]
  },
  {
   "cell_type": "markdown",
   "metadata": {},
   "source": [
    "### random.bytes"
   ]
  },
  {
   "cell_type": "markdown",
   "metadata": {},
   "source": [
    "This function returns random bytes.\n",
    "\n",
    "It takes one parameter, length, which determines the number of random bytes.\n",
    "\n",
    "It returns a String of length *length*."
   ]
  },
  {
   "cell_type": "code",
   "execution_count": 25,
   "metadata": {},
   "outputs": [
    {
     "data": {
      "text/plain": [
       "b'd\\xa9\\xc1}\\xcd\\x06\\xf5\\x91\\xea\\xa1O\\xdf\\x81\\xebq\\x8e\\x9e\\xbf\\xc5\\xdb\\xc1$NC\\x9b\\xb8\\x05\\x9dL\\xbd\\x1a\\xce\\xe4T\\x07u\\xd5q@8\\xeb#h\\xdal.\\xc7k\\xeb\\x1f\\x94\\xb6/\\xcd\\x0e\\r\\x90\\xe2Xd\\xeee\\xd23D\\xac\\xac\\\\K\\xbe\\x07X\\xb2D\\x17\\x03\\xe7\\xcc\\x83rQ\\xd6b\\xae\\xf3r\\xdc\\xec\\x0c[\\x88\\x98+#\\xc7\\t\\xe3\\xdd\\x1aW'"
      ]
     },
     "execution_count": 25,
     "metadata": {},
     "output_type": "execute_result"
    }
   ],
   "source": [
    "np.random.bytes(100)"
   ]
  },
  {
   "cell_type": "markdown",
   "metadata": {},
   "source": [
    "## Permutations"
   ]
  },
  {
   "cell_type": "markdown",
   "metadata": {},
   "source": [
    "### random.shuffle"
   ]
  },
  {
   "cell_type": "markdown",
   "metadata": {},
   "source": [
    "This function is used to modify a sequesnce in-place by shuffling its contents."
   ]
  },
  {
   "cell_type": "code",
   "execution_count": 26,
   "metadata": {},
   "outputs": [
    {
     "data": {
      "text/plain": [
       "['Red', 'Black', 'Green', 'Yellow', 'Blue']"
      ]
     },
     "execution_count": 26,
     "metadata": {},
     "output_type": "execute_result"
    }
   ],
   "source": [
    "colour_array = [\"Black\", \"Blue\", \"Red\", \"Green\", \"Yellow\"]\n",
    "np.random.shuffle(colour_array)\n",
    "colour_array"
   ]
  },
  {
   "cell_type": "markdown",
   "metadata": {},
   "source": [
    "This function only shuffles the array along the first axis of a multi-dimensional array, the order of sub-arrays are changed but contents remain the same."
   ]
  },
  {
   "cell_type": "code",
   "execution_count": 27,
   "metadata": {},
   "outputs": [
    {
     "data": {
      "text/plain": [
       "array([[ 0,  1,  2,  3,  4],\n",
       "       [ 5,  6,  7,  8,  9],\n",
       "       [10, 11, 12, 13, 14]])"
      ]
     },
     "execution_count": 27,
     "metadata": {},
     "output_type": "execute_result"
    }
   ],
   "source": [
    "array = np.arange(15).reshape((3, 5))\n",
    "array"
   ]
  },
  {
   "cell_type": "code",
   "execution_count": 28,
   "metadata": {},
   "outputs": [
    {
     "data": {
      "text/plain": [
       "array([[ 0,  1,  2,  3,  4],\n",
       "       [ 5,  6,  7,  8,  9],\n",
       "       [10, 11, 12, 13, 14]])"
      ]
     },
     "execution_count": 28,
     "metadata": {},
     "output_type": "execute_result"
    }
   ],
   "source": [
    "np.random.shuffle(array)\n",
    "array"
   ]
  },
  {
   "cell_type": "markdown",
   "metadata": {},
   "source": [
    "### random.permutation"
   ]
  },
  {
   "cell_type": "markdown",
   "metadata": {},
   "source": [
    "This function randomly permutes a sequence, or returns a permuted range.\n",
    "\n",
    "This method takes one parameter, which can be either be an int or an array.\n",
    "If an int, randomly permute *np.arange(int)*.\n",
    "If an array, make a copy and shuffle the elements randomly."
   ]
  },
  {
   "cell_type": "code",
   "execution_count": 29,
   "metadata": {},
   "outputs": [
    {
     "data": {
      "text/plain": [
       "array([8, 6, 5, 3, 7, 2, 0, 1, 9, 4])"
      ]
     },
     "execution_count": 29,
     "metadata": {},
     "output_type": "execute_result"
    }
   ],
   "source": [
    "np.random.permutation(10)"
   ]
  },
  {
   "cell_type": "code",
   "execution_count": 30,
   "metadata": {},
   "outputs": [
    {
     "data": {
      "text/plain": [
       "array([[ 0,  1,  2,  3,  4],\n",
       "       [ 5,  6,  7,  8,  9],\n",
       "       [10, 11, 12, 13, 14]])"
      ]
     },
     "execution_count": 30,
     "metadata": {},
     "output_type": "execute_result"
    }
   ],
   "source": [
    "array = np.arange(15).reshape((3, 5))\n",
    "array"
   ]
  },
  {
   "cell_type": "code",
   "execution_count": 31,
   "metadata": {},
   "outputs": [
    {
     "data": {
      "text/plain": [
       "array([[10, 11, 12, 13, 14],\n",
       "       [ 5,  6,  7,  8,  9],\n",
       "       [ 0,  1,  2,  3,  4]])"
      ]
     },
     "execution_count": 31,
     "metadata": {},
     "output_type": "execute_result"
    }
   ],
   "source": [
    "np.random.permutation(array)"
   ]
  },
  {
   "cell_type": "markdown",
   "metadata": {},
   "source": [
    "## Distributions"
   ]
  },
  {
   "cell_type": "markdown",
   "metadata": {},
   "source": [
    "### random.beta"
   ]
  },
  {
   "cell_type": "markdown",
   "metadata": {},
   "source": [
    "This function is used to draw samples from a Beta distribution. The Beta distribution is a special case of the Dirichlet distribution, and is related to the Gamma distribution.<br><br>\n",
    "This function can take three parameters:\n",
    "-  a (float or array of floats):<br>\n",
    "Alpha, must be a positive value.\n",
    "-  b (float or array of floats):<br>\n",
    "Beta, must be a positive value.\n",
    "-  size (int or tuple of ints, optional):<br>\n",
    "Defines the output shape. If size=None (default), a single value is returned if a and b are both scalars. Otherwise, np.broadcast(a, b).size samples are drawn."
   ]
  },
  {
   "cell_type": "code",
   "execution_count": 32,
   "metadata": {},
   "outputs": [
    {
     "data": {
      "text/plain": [
       "0.4515350151364815"
      ]
     },
     "execution_count": 32,
     "metadata": {},
     "output_type": "execute_result"
    }
   ],
   "source": [
    "np.random.beta(2.1, 5.3)"
   ]
  },
  {
   "cell_type": "code",
   "execution_count": 33,
   "metadata": {},
   "outputs": [
    {
     "data": {
      "text/plain": [
       "array([0.08281752, 0.47694636, 0.57629501, 0.30434064, 0.27312744])"
      ]
     },
     "execution_count": 33,
     "metadata": {},
     "output_type": "execute_result"
    }
   ],
   "source": [
    "np.random.beta(2.4, 4.5, 5)"
   ]
  },
  {
   "cell_type": "markdown",
   "metadata": {},
   "source": [
    "### random.binomial"
   ]
  },
  {
   "cell_type": "markdown",
   "metadata": {},
   "source": [
    "This function is used to draw samples from a binomial distribution.\n",
    "\n",
    "Samples are drawn with specified parameters, n trials and p probability of success where n an integer >= 0 and p is in the interval [0,1]. (n may be input as a float, but it is truncated to an integer in use)\n",
    "\n",
    "This function takes the following parameters:\t\n",
    "-  n (int or array_like of ints):<br>\n",
    "Must be >= 0. Floats are also accepted, but they will be truncated to integers.\n",
    "-  p (float or array_like of floats):<br>\n",
    "Must be between 0 and 1 inclusive.\n",
    "-  size (int or tuple of ints, optional):<br>\n",
    "Defines the output shape. If size is None (default), a single value is returned if n and p are both scalars. Otherwise, np.broadcast(n, p).size samples are drawn.\n",
    "\n",
    "This function returns an *n* dimensional array or scalar.\n",
    "\n",
    "Draw samples from the distribution:"
   ]
  },
  {
   "cell_type": "code",
   "execution_count": 34,
   "metadata": {},
   "outputs": [
    {
     "data": {
      "text/plain": [
       "array([6, 4, 4, 4, 4, 5, 6, 4, 2, 4, 5, 6, 7, 5, 6, 5, 5, 7, 8, 6, 8, 8,\n",
       "       3, 4, 4, 2, 4, 3, 9, 4, 5, 5, 4, 5, 6, 5, 6, 6, 4, 4, 9, 3, 7, 6,\n",
       "       5, 5, 4, 4, 4, 7, 4, 6, 4, 4, 3, 4, 4, 4, 5, 8, 7, 7, 6, 3, 4, 7,\n",
       "       6, 4, 3, 4, 7, 5, 4, 5, 6, 5, 4, 5, 5, 5, 7, 5, 5, 8, 6, 5, 8, 6,\n",
       "       5, 5, 3, 3, 6, 5, 4, 3, 1, 5, 4, 4])"
      ]
     },
     "execution_count": 34,
     "metadata": {},
     "output_type": "execute_result"
    }
   ],
   "source": [
    "n, p = 10, .5  # number of trials, probability of each trial\n",
    "s = np.random.binomial(n, p, 100)\n",
    "# result of flipping a coin 10 times, tested 100 times.\n",
    "s"
   ]
  },
  {
   "cell_type": "markdown",
   "metadata": {},
   "source": [
    "### random.chisquare"
   ]
  },
  {
   "cell_type": "markdown",
   "metadata": {},
   "source": [
    "This function is used to draw samples from a chi-square distribution.\n",
    "\n",
    "Independent random variables, each with standard normal distributions (mean 0, variance 1), are squared and summed, the resulting distribution is chi-square. This distribution is often used in hypothesis testing.\n",
    "    \n",
    "This function takes the following parameters:\t\n",
    "-  df (float or array_like of floats):<br>\n",
    "Number of degrees of freedom, should be > 0.\n",
    "-  size (int or tuple of ints, optional):<br>\n",
    "Defines the output shape. If size is None (default), a single value is returned if df is a scalar. Otherwise, np.array(df).size samples are drawn.\n",
    "\n",
    "This function returns an *n* dimensional array or scalar."
   ]
  },
  {
   "cell_type": "code",
   "execution_count": 35,
   "metadata": {},
   "outputs": [
    {
     "data": {
      "text/plain": [
       "array([0.7287735 , 1.75185374, 2.97733928, 1.99934861])"
      ]
     },
     "execution_count": 35,
     "metadata": {},
     "output_type": "execute_result"
    }
   ],
   "source": [
    "np.random.chisquare(2,4)"
   ]
  },
  {
   "cell_type": "markdown",
   "metadata": {},
   "source": [
    "### random.dirichlet"
   ]
  },
  {
   "cell_type": "markdown",
   "metadata": {},
   "source": [
    "This function is used to draw samples from the Dirichlet distribution.\n",
    "\n",
    "A Dirichlet-distributed random variable can be seen as a multivariate generalization of a Beta distribution. Dirichlet pdf is the conjugate prior of a multinomial in Bayesian inference.\n",
    "    \n",
    "This function takes the following parameters:\t\n",
    "-  alpha (array):<br>\n",
    "Parameter of the distribution (k dimension for sample of dimension k).<br>\n",
    "-  size (int or tuple of ints, optional):<br>\n",
    "Defines the output shape. Default is None, in which case a single value is returned.\n",
    "\n",
    "This function returns an *n* dimensional array.\t"
   ]
  },
  {
   "cell_type": "code",
   "execution_count": 36,
   "metadata": {},
   "outputs": [
    {
     "data": {
      "text/plain": [
       "array([[0.46553398, 0.7089403 , 0.55870012, 0.66342079, 0.51078719,\n",
       "        0.34954344, 0.4728817 , 0.45647568, 0.62153245, 0.67647414,\n",
       "        0.45156278, 0.43015137, 0.45122207, 0.59435325, 0.60077895,\n",
       "        0.64471448, 0.82633906, 0.50141999, 0.85736247, 0.63405014],\n",
       "       [0.27704335, 0.23657574, 0.18937524, 0.16789422, 0.2977688 ,\n",
       "        0.28227569, 0.2590707 , 0.2096057 , 0.27292216, 0.07756894,\n",
       "        0.3449541 , 0.39662065, 0.43145665, 0.3238138 , 0.37668338,\n",
       "        0.21332691, 0.14558407, 0.2649005 , 0.08236717, 0.27344581],\n",
       "       [0.25742268, 0.05448396, 0.25192464, 0.16868499, 0.19144401,\n",
       "        0.36818087, 0.26804761, 0.33391862, 0.10554539, 0.24595691,\n",
       "        0.20348312, 0.17322798, 0.11732128, 0.08183295, 0.02253767,\n",
       "        0.14195861, 0.02807687, 0.23367951, 0.06027036, 0.09250406]])"
      ]
     },
     "execution_count": 36,
     "metadata": {},
     "output_type": "execute_result"
    }
   ],
   "source": [
    "s = np.random.dirichlet((10, 5, 3), 20).transpose()\n",
    "s"
   ]
  },
  {
   "cell_type": "markdown",
   "metadata": {},
   "source": [
    "### random.exponential"
   ]
  },
  {
   "cell_type": "markdown",
   "metadata": {},
   "source": [
    "This function is used to draw samples from an exponential distribution.\n",
    "    \n",
    "The exponential distribution is a continuous analogue of the geometric distribution. \n",
    "\n",
    "This function takes the following parameters:<br>\n",
    "-  scale (float or array_like of floats):<br>\n",
    "This defines the scale.<br>\n",
    "-  size (int or tuple of ints, optional):<br>\n",
    "This parameter defines the output shape. If size is None (default), a single value is returned if scale is a scalar. Otherwise, np.array(scale).size samples are drawn.\n",
    "\n",
    "This function returns an *n* dimensional array or a scalar."
   ]
  },
  {
   "cell_type": "code",
   "execution_count": 37,
   "metadata": {},
   "outputs": [
    {
     "data": {
      "text/plain": [
       "array([1.71243617, 3.8909701 , 0.39327483])"
      ]
     },
     "execution_count": 37,
     "metadata": {},
     "output_type": "execute_result"
    }
   ],
   "source": [
    "np.random.exponential(2.6, 3)"
   ]
  },
  {
   "cell_type": "markdown",
   "metadata": {},
   "source": [
    "### random.f"
   ]
  },
  {
   "cell_type": "markdown",
   "metadata": {},
   "source": [
    "This function is used to draw samples from an F distribution.\n",
    "\n",
    "The random variate of the F distribution (also known as the Fisher distribution) is a continuous probability distribution that arises in ANOVA tests, and is the ratio of two chi-square variates. The F statistic is used to compare in-group variances to between-group variances. Calculating the distribution depends on the sampling, and so it is a function of the respective degrees of freedom in the problem. The variable dfnum is the number of samples minus one, the between-groups degrees of freedom, while dfden is the within-groups degrees of freedom, the sum of the number of samples in each group minus the number of groups.\n",
    "\n",
    "The parameters this function takes are as follows:<br>\n",
    "-  dfnum (float or array_like of floats):<br>\n",
    "Degrees of freedom in numerator, should be > 0.<br>\n",
    "-  dfden (float or array_like of float)<br>\n",
    "Degrees of freedom in denominator, should be > 0.<br>\n",
    "-  size (int or tuple of ints, optional)<br>\n",
    "Defines the output shape. If size is None (default), a single value is returned if dfnum and dfden are both scalars. Otherwise, np.broadcast(dfnum, dfden).size samples are drawn.\n",
    "\n",
    "This function returns an *n* dimensional array or a scalar.\n",
    "\n",
    "\n",
    "Draw samples from the distribution:"
   ]
  },
  {
   "cell_type": "code",
   "execution_count": 38,
   "metadata": {},
   "outputs": [
    {
     "data": {
      "text/plain": [
       "array([3.93020596e-02, 1.27711591e+00, 9.35065879e-01, 1.19957174e-04,\n",
       "       5.55799603e-01, 7.96997966e-03, 2.18601569e+00, 5.31323790e-03,\n",
       "       2.65885549e+00, 4.81915404e+00, 3.10212593e+00, 5.20113134e-01,\n",
       "       1.85091334e-02, 6.08281187e-01, 5.67719498e-01, 6.28615894e-01,\n",
       "       1.75586268e+00, 2.23354384e-01, 2.17790158e-01, 7.00191020e-02,\n",
       "       3.12661268e-03, 9.16502987e-04, 4.18745091e-01, 7.96959972e-01,\n",
       "       8.96110971e-01, 6.07545344e-01, 1.56992391e+00, 2.02071902e-01,\n",
       "       4.41471815e-02, 2.89232246e-02, 4.99615176e+00, 1.59793568e+00,\n",
       "       5.44149802e-01, 1.18099091e+00, 3.68750462e-01, 4.59468571e+00,\n",
       "       3.84728656e+00, 6.61600669e-01, 3.64784944e+00, 4.37110820e-03,\n",
       "       5.59012081e-02, 1.07700693e-04, 3.64983098e-02, 7.91087169e-01,\n",
       "       2.16187589e-01, 1.16827676e-03, 3.43331265e-02, 7.96512648e-04,\n",
       "       8.02214241e-01, 2.36263910e-01, 2.16072644e+00, 7.11292659e-01,\n",
       "       2.85761079e-01, 3.87900063e+00, 1.42234401e+00, 1.33905888e+00,\n",
       "       1.94523285e-01, 1.24500051e-04, 3.48419752e-02, 2.70866446e-02,\n",
       "       2.48337715e-01, 7.43455376e-02, 1.50544688e+00, 7.91188641e-01,\n",
       "       1.66302565e+00, 1.51248086e+00, 5.90810149e+00, 3.54153159e-01,\n",
       "       1.42358755e+00, 2.32721557e-03, 2.07733659e-01, 3.05826768e-01,\n",
       "       1.83589498e+00, 4.15698881e-01, 2.00568411e+00, 6.29646297e-01,\n",
       "       7.70728977e-01, 2.23988385e+00, 2.48018108e-01, 1.05420617e+00,\n",
       "       6.27563990e-01, 1.21426326e-02, 2.45677000e+00, 1.05202460e+00,\n",
       "       2.47110193e-02, 4.87529711e-04, 4.57564057e-02, 7.04123173e-01,\n",
       "       1.32719285e-01, 1.01064452e-02, 1.64940319e+00, 5.62287664e-01,\n",
       "       2.80089925e-01, 3.95828668e-01, 6.13692956e-01, 9.06418905e-02,\n",
       "       1.21871925e+00, 1.70059111e-02, 1.03354485e+00, 4.31971458e-01,\n",
       "       1.67436180e-03, 4.23584301e+00, 1.85477184e-01, 2.91288927e+00,\n",
       "       4.43673326e-01, 5.32525975e-01, 3.93998089e-01, 4.43637163e-01,\n",
       "       9.54644746e-02, 2.06681384e+00, 9.33374308e-01, 2.47654000e-01,\n",
       "       1.06017484e+00, 1.98745922e+00, 1.63551436e+00, 1.73893921e+00,\n",
       "       4.76343317e-01, 8.88672075e-01, 3.01126843e-01, 2.66613253e-02,\n",
       "       1.90795044e-01, 2.30805454e-01, 1.61069975e-03, 3.72545029e-01,\n",
       "       4.88258407e-03, 6.95182546e-01, 3.93263155e+00, 1.91558859e-01,\n",
       "       4.30848840e-03, 1.07787255e-05, 8.19437329e-01, 8.85761953e-01,\n",
       "       5.79472174e-03, 8.03292358e-01, 1.40888860e+00, 1.89106400e-01,\n",
       "       8.69802842e-01, 8.07909822e-01, 8.38884228e-02, 4.09648461e-01,\n",
       "       7.24028939e-02, 5.88583895e-01, 2.78034075e-01, 2.35136923e-02,\n",
       "       2.07923644e-01, 1.64872966e-01, 1.11158082e-01, 2.34833888e-01,\n",
       "       7.49349001e-01, 8.12506941e-01, 1.04472906e-03, 2.98990992e+00,\n",
       "       1.70605080e+00, 1.01116618e+00, 6.59170958e-01, 9.04780089e-02,\n",
       "       3.98445975e-03, 7.09871646e-02, 2.71527468e-04, 3.21541768e-01,\n",
       "       1.44583831e+00, 2.93276543e+00, 2.51142188e-01, 2.23676712e+00,\n",
       "       7.03188078e-01, 5.56652744e+00, 3.57396866e-01, 3.20091089e-01,\n",
       "       6.43495012e-01, 2.64123959e+00, 1.30177294e-01, 2.35690394e+00,\n",
       "       8.83887387e-02, 1.92330095e-03, 6.67721683e-01, 3.83830214e-01,\n",
       "       2.54789545e-01, 2.04165157e-01, 3.75800590e-01, 7.32969581e-01,\n",
       "       4.03560368e-01, 4.94634607e+00, 4.16355271e+00, 2.71115600e-01,\n",
       "       1.33195134e+00, 1.03053394e-01, 4.46794312e-01, 2.44847903e+00,\n",
       "       2.41294048e+00, 1.72967844e-02, 2.87563115e-01, 3.43217641e-01,\n",
       "       1.16413143e+00, 2.88300111e-02, 2.27900839e-02, 1.43931107e-01,\n",
       "       3.39776570e-01, 9.42840579e-01, 2.92894269e-01, 1.87017116e-03,\n",
       "       1.60215691e+00, 1.45399429e-01, 4.61303762e-01, 3.69931369e-01,\n",
       "       2.39900942e+00, 1.01904194e-01, 4.74652510e+00, 8.18497018e-01,\n",
       "       3.09798018e+00, 5.36280532e-01, 1.72378662e-02, 1.82141783e+00,\n",
       "       3.24716236e-02, 1.95656345e-01, 7.90798226e-01, 3.30620263e+00,\n",
       "       8.86079025e-01, 1.52677871e-01, 3.10507190e+00, 1.22952612e+00,\n",
       "       1.12333040e+00, 2.25872244e+00, 4.70931296e-01, 3.93588970e+00,\n",
       "       2.93508279e-02, 4.15395452e+00, 1.45489518e-01, 1.83246613e-01,\n",
       "       3.78256485e+00, 2.30160964e+00, 2.02708363e-02, 5.37425370e-02,\n",
       "       4.05800388e-05, 3.33091521e+00, 1.95353243e+00, 2.61035019e-02,\n",
       "       7.79895310e-01, 7.38619204e-01, 3.49285430e+00, 7.54418514e-01,\n",
       "       1.23113158e+00, 8.61942227e-02, 1.77217185e+00, 4.91621220e-02,\n",
       "       2.56876075e+00, 7.44683734e-02, 2.99366347e-02, 1.03655394e+00,\n",
       "       1.19974579e+00, 3.65731920e-01, 8.99401009e-02, 4.67099611e+00,\n",
       "       8.29185636e-01, 1.94802733e-01, 6.06217831e-01, 2.02504426e+00,\n",
       "       6.04391915e-01, 2.29424361e-01, 1.54012830e+00, 1.89275291e+00,\n",
       "       7.85775361e+00, 6.02539401e-01, 7.45022592e-01, 3.75688520e+00,\n",
       "       1.68105940e+00, 1.18696959e+00, 3.79015619e-01, 5.49980957e-01,\n",
       "       4.77623141e-01, 4.78902374e-02, 1.15834957e+00, 4.32396706e-01,\n",
       "       2.07871806e-01, 1.84975117e+00, 4.80372433e-01, 2.07008952e+00,\n",
       "       1.52725540e+00, 3.20045001e+00, 4.45082353e-02, 2.03404744e-01,\n",
       "       4.64111505e-01, 5.86114718e-03, 6.67669300e-01, 1.93536664e+00,\n",
       "       2.18881945e-01, 1.98740015e-02, 8.71113163e-01, 7.32147946e-01,\n",
       "       4.15679572e-01, 1.19910671e+00, 8.04058578e-01, 1.54406119e+00,\n",
       "       2.10312111e+00, 1.03483432e+00, 9.27792174e-03, 2.47059980e+00,\n",
       "       6.09837983e-01, 2.45814686e+00, 1.47190531e+00, 1.91913204e+00,\n",
       "       3.47662702e-01, 4.60016627e+00, 2.27760965e-01, 7.21436823e-01,\n",
       "       7.29888265e-02, 7.75593397e-01, 1.50406736e-03, 1.09920936e-01,\n",
       "       7.71593080e-01, 1.56199856e-01, 2.67216555e-01, 2.63361147e+00,\n",
       "       3.40203249e-01, 2.41224010e+00, 1.37113567e+00, 3.48189566e-01,\n",
       "       2.90619638e-02, 2.41671942e-01, 1.24084738e-02, 1.37690668e+00,\n",
       "       1.95041903e-01, 4.17912741e-01, 7.57768189e-01, 2.09725651e-02,\n",
       "       2.10622531e-01, 4.90081265e-01, 2.03849623e+00, 1.39795895e-01,\n",
       "       1.54829221e+00, 5.38664253e+00, 4.84873666e-01, 3.66030456e-01,\n",
       "       2.17069842e+00, 8.73153846e-01, 2.02050372e-02, 1.22739943e-02,\n",
       "       2.05045024e-01, 1.88383062e+00, 1.56364236e+00, 1.81369692e-02,\n",
       "       5.82209450e-02, 2.92041010e+00, 4.35577921e+00, 4.47264015e+00,\n",
       "       8.21786343e-01, 7.74753928e-02, 2.67229392e+00, 1.63792583e-02,\n",
       "       1.57524484e+00, 2.88291544e-01, 3.84524461e-01, 6.07880854e-02,\n",
       "       7.32133149e-01, 7.28980781e-02, 1.00406488e+00, 1.28570251e+00,\n",
       "       1.77987003e+00, 7.32178981e-03, 1.58647320e-04, 3.16932686e-02,\n",
       "       1.15825114e-01, 3.73893514e+00, 1.61151689e+00, 9.51450189e-02,\n",
       "       4.64113318e-02, 1.32307980e+00, 3.87439712e+00, 1.64936293e-01,\n",
       "       1.92539428e+00, 2.19736126e+00, 5.98060598e-01, 9.15249794e-01,\n",
       "       1.60193338e+00, 1.00802147e-01, 2.15886177e-01, 1.23914599e-02,\n",
       "       1.23129551e-01, 2.79070413e-02, 2.25289523e+00, 9.11060195e-05,\n",
       "       3.19289717e-01, 2.86185345e-03, 2.66858090e+00, 9.59373191e-01,\n",
       "       1.48914408e-01, 1.77714945e+00, 3.20249308e-01, 7.03152352e-01,\n",
       "       1.41734876e+00, 1.52649972e+00, 3.00086946e+00, 1.24157292e-02,\n",
       "       1.21878036e+00, 4.10234558e-02, 4.09329410e-01, 7.01338794e-01,\n",
       "       3.36329684e+00, 2.78454997e+00, 4.33952182e+00, 3.56969343e-01,\n",
       "       1.68516749e+00, 6.02920303e-02, 3.36258999e-04, 1.11193713e+00,\n",
       "       1.38827033e-05, 1.01362074e+00, 1.51417696e+00, 2.90947627e-02,\n",
       "       2.01209145e+00, 2.90166055e-01, 4.78194934e-01, 5.43870909e+00,\n",
       "       2.71188497e-01, 1.40754377e-03, 7.81398566e+00, 2.03311451e+00,\n",
       "       1.60282873e+00, 2.08449129e-01, 3.19414843e+00, 6.07413059e-01,\n",
       "       4.97204008e-02, 6.36131618e-01, 3.66425536e+00, 9.02326763e-01,\n",
       "       1.42515048e-01, 1.34202207e+00, 7.07429395e-03, 5.00433816e-01,\n",
       "       5.13739546e-02, 7.54967169e-01, 7.94936252e-02, 2.96782519e+00,\n",
       "       7.65049297e+00, 9.88543302e-02, 2.98885416e-01, 5.46193935e-04,\n",
       "       1.02704873e+00, 2.78822037e+00, 7.50835480e-02, 2.17499121e-01,\n",
       "       1.07707811e-03, 6.25222530e-01, 7.82023850e-01, 1.20653744e+00,\n",
       "       2.89127265e+00, 1.98249796e+00, 1.32338985e-01, 1.31142150e+00,\n",
       "       1.62036833e+00, 1.63769452e-01, 8.59048900e-04, 5.66858936e-01,\n",
       "       2.94703522e+00, 1.12852006e+00, 4.91703679e+00, 4.11175579e-01,\n",
       "       3.70132791e+00, 2.95554804e+00, 5.56691655e+00, 1.76784284e-01,\n",
       "       1.04519836e-01, 9.49472023e-01, 1.98575395e+00, 3.35633302e-02,\n",
       "       3.10986500e-01, 5.42119242e-04, 1.38666093e+00, 2.14170344e-01,\n",
       "       3.06439584e+00, 2.92454191e+00, 2.79000960e-01, 1.04755990e+00,\n",
       "       9.86069021e+00, 1.56889234e+00, 7.19201958e-03, 3.14852365e+00,\n",
       "       5.11620656e-01, 1.85559563e-05, 4.34956682e-01, 1.72323665e+00,\n",
       "       1.82817140e+00, 1.16755942e+00, 4.04239704e+00, 1.37866893e+00,\n",
       "       3.07155897e-01, 7.05416650e+00, 2.48072111e-02, 1.95921370e+00,\n",
       "       6.55832005e-02, 3.00246167e+00, 4.59527105e-01, 4.73807058e-01,\n",
       "       1.02730006e-01, 1.47809259e-02, 3.82339578e-01, 1.00279181e+00,\n",
       "       5.12833208e-01, 1.74610632e-01, 5.07355939e+00, 2.44534038e+00,\n",
       "       6.24429163e-01, 3.84393325e-03, 9.64220066e-02, 9.44968896e-02,\n",
       "       2.06535242e+00, 9.20794086e-01, 6.87587077e-02, 1.94128082e-01,\n",
       "       8.77741709e-02, 1.95840909e-03, 1.95897509e+00, 7.48744374e-02,\n",
       "       1.97339695e-01, 3.89238491e+00, 5.96267637e-01, 1.22336045e-02,\n",
       "       2.22827771e-02, 1.22232890e+00, 3.58916529e+00, 5.62640419e-02,\n",
       "       4.97240516e-01, 1.56480506e-04, 3.42097663e-01, 4.90343031e-02,\n",
       "       7.62986141e-01, 1.11072268e+00, 5.58327091e-01, 2.52335226e+00,\n",
       "       1.52977045e-01, 5.32814447e-01, 1.07726112e+00, 1.92122509e+00,\n",
       "       9.86328163e-01, 1.94141021e+00, 7.23606228e-02, 1.58212186e+00,\n",
       "       5.63935579e+00, 1.10368089e+00, 9.40822979e-01, 2.41323016e+00,\n",
       "       3.75014146e-04, 9.64684411e-01, 2.04380566e-01, 4.38867029e-02,\n",
       "       9.26135780e-01, 4.09201787e-01, 1.81758470e+00, 6.39522535e-01,\n",
       "       6.89806681e-01, 6.53010239e-02, 8.38933072e-02, 2.20464680e+00,\n",
       "       1.91206776e-01, 1.20534062e-01, 5.46508264e-01, 7.56345298e-01,\n",
       "       6.63701965e-01, 2.88534619e+00, 5.43367207e+00, 2.28859896e+00,\n",
       "       1.03497549e+01, 1.53018086e-01, 5.28469321e-03, 1.41816612e+00,\n",
       "       2.22208680e-01, 9.72459069e+00, 3.71609242e-02, 1.04391701e+00,\n",
       "       1.48305735e+00, 2.24789592e-01, 3.25429748e-01, 1.31719336e+00,\n",
       "       3.87669334e+00, 8.59439284e-03, 5.42388055e-01, 2.95011594e+00,\n",
       "       2.90277948e+00, 2.22583036e+00, 3.12688467e+00, 3.19595924e+00,\n",
       "       2.27875151e-02, 2.18510171e-02, 3.84401691e+00, 2.59931625e-01,\n",
       "       6.17953807e-01, 3.21524003e-01, 4.82270012e-01, 4.06871782e+00,\n",
       "       1.84313258e+00, 4.08966495e-02, 1.77580639e-01, 2.93795391e-01,\n",
       "       2.87518487e+00, 1.28609572e+00, 4.69774085e-01, 1.91370779e-01,\n",
       "       1.64173799e-01, 2.20084426e-02, 1.15160905e-01, 1.10748611e+00,\n",
       "       3.34625953e+00, 6.34435509e-01, 1.28505677e+00, 1.05839410e-01,\n",
       "       5.85071261e-02, 6.30893666e-04, 7.61507897e-01, 4.92932734e-01,\n",
       "       6.29076763e-05, 2.38761385e+00, 4.87341165e+00, 2.69543358e-01,\n",
       "       8.49138819e-02, 3.14837971e-01, 3.93195355e+00, 4.15250533e-01,\n",
       "       1.21850122e+00, 6.58641248e-02, 1.33921150e+00, 1.11757360e-01,\n",
       "       3.74399649e+00, 1.49261426e-02, 1.48597187e+00, 2.12407794e-01,\n",
       "       1.83784824e+00, 2.58881428e-01, 2.24570355e+00, 1.43028690e+00,\n",
       "       3.46813862e-02, 1.77477989e-01, 1.17093059e+00, 3.82582157e+00,\n",
       "       5.42416077e-02, 4.56280696e-03, 1.28533921e+00, 9.21622962e-01,\n",
       "       2.20864710e+00, 1.28842182e-01, 9.03752236e-01, 4.59067867e-02,\n",
       "       9.42805144e-01, 5.44512040e-01, 1.76991076e+00, 4.08707071e+00,\n",
       "       4.84109746e-01, 8.39603720e-02, 1.67444624e-01, 2.88610576e-01,\n",
       "       4.11209464e-01, 6.94222842e-02, 2.77590301e-01, 4.12869517e+00,\n",
       "       5.54154171e-01, 5.34510270e-01, 2.14415541e+00, 4.61357264e+00,\n",
       "       6.76728158e-05, 3.00301773e-01, 3.67992321e-01, 1.58003050e-02,\n",
       "       9.02365939e-01, 3.05154113e-01, 5.69082236e-01, 1.36112288e-01,\n",
       "       6.87145163e-03, 1.05162755e-01, 4.93344919e-02, 1.38919923e+00,\n",
       "       7.30457275e-02, 1.09037778e+00, 2.10536069e+00, 1.57637549e+00,\n",
       "       1.92963036e-02, 6.91999482e-01, 1.23439007e+01, 5.95334465e+00,\n",
       "       1.84988948e-01, 1.29939690e+00, 1.19729352e-01, 2.15146058e-01,\n",
       "       1.18878757e+00, 1.49429159e+00, 2.30001516e+00, 8.73592233e-02,\n",
       "       1.27551750e-01, 1.94696346e+00, 1.01933445e-01, 1.01991134e-01,\n",
       "       4.12937406e+00, 2.33856966e-03, 6.83685656e-02, 1.40900394e+00,\n",
       "       8.46318745e-01, 1.48927201e+00, 1.79497583e+00, 8.44571388e-01,\n",
       "       1.64413680e-02, 1.65793415e-01, 2.06564026e+00, 1.95622371e+00,\n",
       "       2.80231227e-02, 3.40541749e+00, 1.05778881e+00, 2.27446021e+00,\n",
       "       8.98729102e-01, 2.41087788e-03, 4.05164297e+00, 1.54747366e-02,\n",
       "       2.80715965e+00, 6.44518059e-03, 1.40993551e-01, 3.84620762e-01,\n",
       "       2.49423486e-01, 4.81649982e-01, 3.26049597e-03, 6.59096405e-01,\n",
       "       2.39598319e-01, 1.86033114e-02, 2.05989620e-01, 2.80025031e-01,\n",
       "       4.35402414e+00, 6.84324076e-01, 2.14064054e-01, 7.41273257e-02,\n",
       "       3.97313673e+00, 2.23247754e+00, 1.07922356e+00, 9.88360505e-02,\n",
       "       6.96925885e-01, 5.69140570e-01, 1.15297228e+00, 4.40630004e-02,\n",
       "       4.86907420e-01, 7.47794129e-01, 1.41264152e+00, 7.50846653e-01,\n",
       "       4.53058382e-02, 1.08113178e-01, 2.69583005e-01, 4.91154072e-01,\n",
       "       3.58612645e-01, 1.27701600e-01, 1.67249814e+00, 8.32632292e+00,\n",
       "       1.93223026e-01, 1.51338777e+00, 2.46425757e+00, 2.22813949e-01,\n",
       "       2.20763545e-01, 1.20295304e+00, 2.28823174e+00, 2.39973015e-01,\n",
       "       1.96688773e+00, 5.23269142e-01, 1.44431557e-01, 4.54877646e-01,\n",
       "       3.21417702e-01, 1.20385026e-02, 2.71376744e+00, 2.22812721e+00,\n",
       "       5.37593028e-01, 4.49522786e-01, 1.83895243e-01, 8.34890360e-02,\n",
       "       1.66286120e-02, 1.80007667e-01, 1.88407475e+00, 1.85748627e+00,\n",
       "       2.65501333e-01, 7.33401563e-01, 3.96165995e-01, 1.79742031e-01,\n",
       "       8.71417921e-01, 9.11140968e-01, 5.79158057e-01, 2.23995752e-01,\n",
       "       5.66844419e-01, 3.89267473e-03, 2.69086036e+00, 8.14803557e-01,\n",
       "       4.61690052e-01, 1.73327605e+00, 1.07439205e+00, 9.76588364e-01,\n",
       "       2.51161158e+00, 1.01801283e-01, 1.42243125e-02, 2.36204297e-02,\n",
       "       9.41661595e-01, 1.91007305e+00, 1.54771733e+00, 8.51857752e-02,\n",
       "       1.13249474e-01, 6.46281969e-01, 3.71890334e+00, 6.37119107e-01,\n",
       "       3.88445947e-01, 2.31660226e+00, 5.34929531e-01, 4.02874697e-02,\n",
       "       2.05482888e-02, 3.20168506e-02, 1.70855801e-01, 5.39743376e-01,\n",
       "       1.58289585e+00, 4.21297853e-01, 5.86897726e-01, 7.34304555e-01,\n",
       "       2.37957948e+00, 4.47530085e+00, 2.52008131e+00, 1.92936741e-02,\n",
       "       1.65392798e-02, 1.09364593e-02, 4.24512113e-01, 8.48228655e-01,\n",
       "       1.60152750e-01, 2.10829342e+00, 1.41932867e-01, 1.50462598e+00,\n",
       "       4.43738124e-01, 9.63583946e-01, 5.05374898e-01, 8.37522270e-02,\n",
       "       2.41100871e-01, 8.28300918e-01, 1.52417926e-01, 3.58105530e-03,\n",
       "       1.27924958e+00, 1.52094489e-01, 2.60390765e+00, 5.35457473e+00,\n",
       "       1.95921516e+00, 3.16916671e-04, 4.00775920e-02, 9.29490610e-01,\n",
       "       3.88428420e-01, 3.39129576e-01, 4.06858873e-01, 6.01572611e-03,\n",
       "       5.40330133e-02, 3.03763623e-01, 2.87476963e+00, 3.15479172e-01,\n",
       "       9.74322343e-02, 2.32710593e-01, 6.90153392e-01, 2.76154224e-02,\n",
       "       9.25312383e-01, 6.80065721e-01, 4.27877783e-01, 1.59567364e-02,\n",
       "       2.18537757e+00, 5.52282654e-02, 1.79362531e+00, 8.23331771e-01,\n",
       "       2.43103739e-01, 6.30876426e-01, 4.62984955e+00, 1.03489687e+00,\n",
       "       2.01291670e+00, 1.38792822e+00, 4.92774031e+00, 1.06241428e+00,\n",
       "       3.18090957e-01, 2.03370276e-01, 6.82446090e+00, 1.58200203e-01,\n",
       "       8.91097325e-02, 2.04789059e+00, 1.42366836e-01, 1.14309908e+00,\n",
       "       9.03519616e-01, 9.55111433e-01, 1.65489729e+00, 4.25416603e-01,\n",
       "       3.35099449e-02, 2.64413010e-01, 7.88951344e-03, 1.18702980e-03,\n",
       "       4.16116868e-01, 1.85507951e+00, 5.85921036e-01, 7.87657777e-03,\n",
       "       4.71267363e-01, 1.10023593e+00, 1.12461231e+00, 1.92217234e+00,\n",
       "       1.06135205e-01, 8.97705211e-01, 5.93807544e-03, 5.22937783e-01,\n",
       "       1.06994543e-01, 2.69656190e-01, 5.15757208e+00, 1.15332506e+00,\n",
       "       1.36701608e-01, 7.36815369e-04, 2.15411606e-01, 3.95894888e+00,\n",
       "       9.03434399e-05, 2.83628295e-01, 1.13265411e+00, 7.98925553e-01,\n",
       "       6.48500956e-01, 4.22599639e-03, 2.51313477e+00, 3.47049388e+00,\n",
       "       2.07864838e+00, 2.21401538e-01, 2.38546246e+00, 1.93259838e+00,\n",
       "       4.11183606e-02, 2.44857099e-02, 1.07879327e+00, 2.30309313e+00,\n",
       "       3.18865751e-02, 9.13043745e-01, 5.20504476e-01, 1.91955996e+00,\n",
       "       4.82868078e-01, 1.65720675e+00, 1.30900824e+00, 5.60133057e-01,\n",
       "       1.63511636e+00, 2.05813097e+00, 3.07920266e-01, 1.80951209e-01,\n",
       "       4.46892520e-02, 4.19306093e+00, 1.57433135e+00, 1.54855682e-01,\n",
       "       3.59969295e-01, 4.29386228e-01, 4.17917274e-04, 6.72674973e-01,\n",
       "       6.77897873e-01, 1.69980424e-01, 4.79766053e-01, 2.05908258e+00,\n",
       "       2.60605510e+00, 1.44499916e+00, 9.10569697e-03, 9.55146295e-03,\n",
       "       1.44422312e+00, 3.71991691e-01, 1.36663784e+00, 6.90716837e-01,\n",
       "       1.72375274e-01, 3.88199017e+00, 4.22910135e-01, 4.33033184e-05,\n",
       "       4.00189882e+00, 7.22906202e-01, 2.43052379e-01, 5.19385667e-01,\n",
       "       4.46621063e-03, 1.80189074e-01, 2.65918023e-02, 7.04567564e-03,\n",
       "       5.27592318e-01, 7.13861598e-01, 4.16888107e-01, 5.53399876e+00,\n",
       "       2.67978214e-03, 2.06636406e-02, 2.31604458e+00, 3.20977513e+00,\n",
       "       2.30578865e+00, 4.69962950e-01, 1.06085347e+00, 2.46980070e-01,\n",
       "       8.40588634e-01, 1.02648061e-03, 1.76897694e+00, 2.11160844e-02,\n",
       "       2.60195758e-01, 1.69301676e+00, 4.80659581e-04, 4.73948722e+00,\n",
       "       2.55760982e-01, 3.36158758e-01, 1.37055282e-01, 1.48731357e+00,\n",
       "       3.81399984e-04, 1.15609270e+00, 5.82488032e-01, 7.33670393e-01,\n",
       "       1.11674302e-01, 1.64590485e-04, 5.34647156e+00, 3.63030052e+00,\n",
       "       2.43379248e-01, 9.15546766e-03, 5.91101588e-01, 1.39150516e+00,\n",
       "       4.21384237e-01, 1.03237672e+00, 1.67990494e-01, 1.72915505e-01])"
      ]
     },
     "execution_count": 38,
     "metadata": {},
     "output_type": "execute_result"
    }
   ],
   "source": [
    "dfnum = 1. # between group degrees of freedom\n",
    "dfden = 48. # within groups degrees of freedom\n",
    "s = np.random.f(dfnum, dfden, 1000)\n",
    "s"
   ]
  },
  {
   "cell_type": "markdown",
   "metadata": {},
   "source": [
    "### random.gamma"
   ]
  },
  {
   "cell_type": "markdown",
   "metadata": {},
   "source": [
    "This function is used to draw samples from a Gamma distribution. The Gamma distribution is often used to model the times to failure of electronic components, and arises naturally in processes for which the waiting times between Poisson distributed events are relevant. Samples are drawn from a Gamma distribution with specified parameters. These parameters are as follows:\n",
    "\n",
    "-  shape (float or array_like of floats):<br>\n",
    "    The shape of the gamma distribution. Should be greater than zero.<br>\n",
    "-  scale (float or array_like of floats, optional):<br>\n",
    "    The scale of the gamma distribution. Should be greater than zero. Default is equal to 1.<br>\n",
    "-  size (int or tuple of ints, optional):<br>\n",
    "    This parameter defines the output shape. If size is None (default), a single value is returned if shape and scale are both scalars. Otherwise, np.broadcast(shape, scale).size samples are drawn.<br>\n",
    "\n",
    "This function returns an *n* dimensional array or a scalar."
   ]
  },
  {
   "cell_type": "code",
   "execution_count": 39,
   "metadata": {},
   "outputs": [],
   "source": [
    "shape, scale = 2., 2.  # mean=4, std=2*sqrt(2)\n",
    "s = np.random.gamma(shape, scale, 1000)"
   ]
  },
  {
   "cell_type": "markdown",
   "metadata": {},
   "source": [
    "Display the histogram of the samples, along with the probability density function:"
   ]
  },
  {
   "cell_type": "code",
   "execution_count": 40,
   "metadata": {},
   "outputs": [
    {
     "data": {
      "image/png": "[encoded data removed]",
      "text/plain": [
       "<Figure size 432x288 with 1 Axes>"
      ]
     },
     "metadata": {},
     "output_type": "display_data"
    }
   ],
   "source": [
    "count, bins, ignored = plt.hist(s, 50, density=True)\n",
    "y = bins**(shape-1)*(np.exp(-bins/scale) / (sps.gamma(shape)*scale**shape))\n",
    "plt.plot(bins, y, linewidth=2, color='r')\n",
    "plt.show()"
   ]
  },
  {
   "cell_type": "markdown",
   "metadata": {},
   "source": [
    "### random.geometric"
   ]
  },
  {
   "cell_type": "markdown",
   "metadata": {},
   "source": [
    "This function is used to draw samples from the geometric distribution.\n",
    "\n",
    "Bernoulli trials are experiments with one of two outcomes: success or failure (an example of such an experiment is flipping a coin). The geometric distribution models the number of trials that must be run in order to achieve success. It is therefore supported on the positive integers, k = 1, 2, ....\n",
    "\n",
    "This function takes the following parameters:<br>\n",
    "-  p (float or array_like of floats):<br>\n",
    "    The probability of success of an individual trial.<br>\n",
    "-  size (int or tuple of ints, optional):<br>\n",
    "    This parameter defines the output shape. If size is None (default), a single value is returned if p is a scalar. Otherwise, np.array(p).size samples are drawn.\n",
    "\n",
    "The return of this function is an *n* dimensional array or a scalar.\n",
    "\n",
    "Draw ten thousand values from the geometric distribution, with the probability of an individual success equal to 0.35:"
   ]
  },
  {
   "cell_type": "code",
   "execution_count": 41,
   "metadata": {},
   "outputs": [],
   "source": [
    "z = np.random.geometric(p=0.35, size=10000)"
   ]
  },
  {
   "cell_type": "markdown",
   "metadata": {},
   "source": [
    "How many trials succeeded after a single run?"
   ]
  },
  {
   "cell_type": "code",
   "execution_count": 42,
   "metadata": {},
   "outputs": [
    {
     "data": {
      "text/plain": [
       "0.3509"
      ]
     },
     "execution_count": 42,
     "metadata": {},
     "output_type": "execute_result"
    }
   ],
   "source": [
    "(z == 1).sum() / 10000."
   ]
  },
  {
   "cell_type": "markdown",
   "metadata": {},
   "source": [
    "### random.gumbel"
   ]
  },
  {
   "cell_type": "markdown",
   "metadata": {},
   "source": [
    "This function is used to draw samples from a Gumbel distribution with specified location and scale. \n",
    "\n",
    "The parameters this function takes are as follows:\t\n",
    "-  loc (float or array_like of floats, optional):\n",
    "The location of the mode of the distribution. Default is 0.\n",
    "-  scale (float or array_like of floats, optional):\n",
    "The scale parameter of the distribution. Default is 1.\n",
    "-  size (int or tuple of ints, optional):\n",
    "This parameter defines the output shape. If size is None (default), a single value is returned if loc and scale are both scalars. Otherwise, np.broadcast(loc, scale).size samples are drawn.\n",
    "\n",
    "This function returns an *n* dimensional array or a scalar.\n",
    "\n",
    "The Gumbel (or Smallest Extreme Value (SEV) or the Smallest Extreme Value Type I) distribution is one of a class of Generalized Extreme Value (GEV) distributions used in modeling extreme value problems. The Gumbel is a special case of the Extreme Value Type I distribution for maximums from distributions with “exponential-like” tails.\n",
    "\n",
    "Draw samples from the distribution:"
   ]
  },
  {
   "cell_type": "code",
   "execution_count": 43,
   "metadata": {},
   "outputs": [],
   "source": [
    "mu, beta = 0, 0.1 # location and scale\n",
    "s = np.random.gumbel(mu, beta, 1000)"
   ]
  },
  {
   "cell_type": "markdown",
   "metadata": {},
   "source": [
    "Display the histogram of the samples, along with the probability density function:"
   ]
  },
  {
   "cell_type": "code",
   "execution_count": 44,
   "metadata": {},
   "outputs": [
    {
     "data": {
      "image/png": "[encoded data removed]",
      "text/plain": [
       "<Figure size 432x288 with 1 Axes>"
      ]
     },
     "metadata": {},
     "output_type": "display_data"
    }
   ],
   "source": [
    "count, bins, ignored = plt.hist(s, 30, density=True)\n",
    "plt.plot(bins, (1/beta)*np.exp(-(bins - mu)/beta)* np.exp( -np.exp( -(bins - mu) /beta) ), linewidth=2, color='r')\n",
    "plt.show()"
   ]
  },
  {
   "cell_type": "markdown",
   "metadata": {},
   "source": [
    "Show how an extreme value distribution can arise from a Gaussian process and compare to a Gaussian:"
   ]
  },
  {
   "cell_type": "code",
   "execution_count": 45,
   "metadata": {},
   "outputs": [
    {
     "data": {
      "image/png": "[encoded data removed]",
      "text/plain": [
       "<Figure size 432x288 with 1 Axes>"
      ]
     },
     "metadata": {},
     "output_type": "display_data"
    }
   ],
   "source": [
    "means = []\n",
    "maxima = []\n",
    "for i in range(0,1000) :\n",
    "    a = np.random.normal(mu, beta, 1000)\n",
    "    means.append(a.mean())\n",
    "    maxima.append(a.max())\n",
    "count, bins, ignored = plt.hist(maxima, 30, density=True)\n",
    "beta = np.std(maxima) * np.sqrt(6) / np.pi\n",
    "mu = np.mean(maxima) - 0.57721*beta\n",
    "plt.plot(bins, (1/beta)*np.exp(-(bins - mu)/beta) * np.exp(-np.exp(-(bins - mu)/beta)), linewidth=2, color='r')\n",
    "plt.plot(bins, 1/(beta * np.sqrt(2 * np.pi)) * np.exp(-(bins - mu)**2 / (2 * beta**2)), linewidth=2, color='g')\n",
    "plt.show()"
   ]
  },
  {
   "cell_type": "markdown",
   "metadata": {},
   "source": [
    "### random.hypergeometric"
   ]
  },
  {
   "cell_type": "markdown",
   "metadata": {},
   "source": [
    "This function is used to draw samples from a Hypergeometric distribution. These samples are drawn from a hypergeometric distribution with specified parameters, ngood (ways to make a good selection), nbad (ways to make a bad selection), and nsample which is the number of items sampled, which is less than or equal to the sum ngood + nbad.\n",
    "    \n",
    "The parameters this function takes are as follows:\t\n",
    "\n",
    "-  ngood (int or array_like of ints):<br>\n",
    "Number of ways to make a good selection. Must be nonnegative.\n",
    "-  nbad (int or array_like of ints)<br>\n",
    "Number of ways to make a bad selection. Must be nonnegative.\n",
    "-  nsample (int or array_like of ints):\n",
    "Number of items sampled. Must be at least 1 and at most ngood + nbad.\n",
    "-  size (int or tuple of ints, optional):\n",
    "This parameter defines the output shape. If size is None (default), a single value is returned if ngood, nbad, and nsample are all scalars. Otherwise, np.broadcast(ngood, nbad, nsample).size samples are drawn.\n",
    "\n",
    "This function returns a *n* dimensional array or a scalar.\n",
    "\n",
    "Note that this distribution is very similar to the binomial distribution, except that in this case, samples are drawn without replacement, whereas in the Binomial case samples are drawn with replacement (or the sample space is infinite). As the sample space becomes large, this distribution approaches the binomial."
   ]
  },
  {
   "cell_type": "code",
   "execution_count": 46,
   "metadata": {},
   "outputs": [
    {
     "data": {
      "text/plain": [
       "(array([ 10.,   0.,   0.,   0.,   0., 172.,   0.,   0.,   0., 818.]),\n",
       " array([ 8. ,  8.2,  8.4,  8.6,  8.8,  9. ,  9.2,  9.4,  9.6,  9.8, 10. ]),\n",
       " <a list of 10 Patch objects>)"
      ]
     },
     "execution_count": 46,
     "metadata": {},
     "output_type": "execute_result"
    },
    {
     "data": {
      "image/png": "[encoded data removed]",
      "text/plain": [
       "<Figure size 432x288 with 1 Axes>"
      ]
     },
     "metadata": {},
     "output_type": "display_data"
    }
   ],
   "source": [
    "ngood, nbad, nsamp = 100, 2, 10\n",
    "s = np.random.hypergeometric(ngood, nbad, nsamp, 1000)\n",
    "plt.hist(s)"
   ]
  },
  {
   "cell_type": "code",
   "execution_count": 47,
   "metadata": {},
   "outputs": [
    {
     "data": {
      "text/plain": [
       "0.0026100000000000003"
      ]
     },
     "execution_count": 47,
     "metadata": {},
     "output_type": "execute_result"
    }
   ],
   "source": [
    "s = np.random.hypergeometric(15, 15, 15, 100000)\n",
    "sum(s>=12)/100000. + sum(s<=3)/100000."
   ]
  },
  {
   "cell_type": "markdown",
   "metadata": {},
   "source": [
    "### random.laplace"
   ]
  },
  {
   "cell_type": "markdown",
   "metadata": {},
   "source": [
    "This function is used to draw samples from the Laplace or double exponential distribution with specified location (or mean) and scale (decay).\n",
    "\n",
    "The Laplace distribution is similar to the Gaussian/normal distribution, but is sharper at the peak and has fatter tails. It represents the difference between two independent, identically distributed exponential random variables.\n",
    "\n",
    "The parameters of this function are as follows:\t\n",
    "-  loc (float or array_like of floats, optional):\n",
    "The position, \\mu, of the distribution peak. Default is 0.\n",
    "-  scale (float or array_like of floats, optional):\n",
    "lambda, the exponential decay. Default is 1.\n",
    "-  size : int or tuple of ints, optional\n",
    "This parameter defines the output shape. If size is None (default), a single value is returned if loc and scale are both scalars. Otherwise, np.broadcast(loc, scale).size samples are drawn.\n",
    "\n",
    "This function returns a *n* dimensional array or a scalar.\n",
    "\n",
    "The first law of Laplace, from 1774, states that the frequency of an error can be expressed as an exponential function of the absolute magnitude of the error, which leads to the Laplace distribution. For many problems in economics and health sciences, this distribution seems to model the data better than the standard Gaussian distribution."
   ]
  },
  {
   "cell_type": "code",
   "execution_count": 48,
   "metadata": {},
   "outputs": [],
   "source": [
    "loc, scale = 0., 1.\n",
    "s = np.random.laplace(loc, scale, 1000)"
   ]
  },
  {
   "cell_type": "markdown",
   "metadata": {},
   "source": [
    "Displaying the histogram of samples, along with the probability density function:"
   ]
  },
  {
   "cell_type": "code",
   "execution_count": 49,
   "metadata": {},
   "outputs": [
    {
     "data": {
      "text/plain": [
       "[<matplotlib.lines.Line2D at 0x24e6c9b5ba8>]"
      ]
     },
     "execution_count": 49,
     "metadata": {},
     "output_type": "execute_result"
    },
    {
     "data": {
      "image/png": "[encoded data removed]",
      "text/plain": [
       "<Figure size 432x288 with 1 Axes>"
      ]
     },
     "metadata": {},
     "output_type": "display_data"
    }
   ],
   "source": [
    "count, bins, ignored = plt.hist(s, 30, density=True)\n",
    "x = np.arange(-8., 8., .01)\n",
    "pdf = np.exp(-abs(x-loc)/scale)/(2.*scale)\n",
    "plt.plot(x, pdf)"
   ]
  },
  {
   "cell_type": "markdown",
   "metadata": {},
   "source": [
    "### random.logistic"
   ]
  },
  {
   "cell_type": "markdown",
   "metadata": {},
   "source": [
    " numpy.random.logistic(loc=0.0, scale=1.0, size=None)\n",
    "\n",
    "    Draw samples from a logistic distribution.\n",
    "\n",
    "    Samples are drawn from a logistic distribution with specified parameters, loc (location or mean, also median), and scale (>0).\n",
    "    Parameters:\t\n",
    "\n",
    "    loc : float or array_like of floats, optional\n",
    "\n",
    "        Parameter of the distribution. Default is 0.\n",
    "    scale : float or array_like of floats, optional\n",
    "\n",
    "        Parameter of the distribution. Should be greater than zero. Default is 1.\n",
    "    size : int or tuple of ints, optional\n",
    "\n",
    "        Output shape. If size is None (default), a single value is returned if loc and scale are both scalars. Otherwise, np.broadcast(loc, scale).size samples are drawn.\n",
    "\n",
    "    Returns:\t\n",
    "\n",
    "    out : ndarray or scalar\n",
    "\n",
    "        Drawn samples from the parameterized logistic distribution.\n",
    "\n",
    "The Logistic distribution is used in Extreme Value problems where it can act as a mixture of Gumbel distributions, in Epidemiology, and by the World Chess Federation (FIDE) where it is used in the Elo ranking system, assuming the performance of each player is a logistically distributed random variable.\n",
    "\n",
    "Draw samples from the distribution:\n",
    "\n",
    "loc, scale = 10, 1\n",
    "s = np.random.logistic(loc, scale, 10000)\n",
    "count, bins, ignored = plt.hist(s, bins=50)\n",
    "\n",
    "#plot against distribution\n",
    "\n",
    "def logist(x, loc, scale):\n",
    "    return exp((loc-x)/scale)/(scale*(1+exp((loc-x)/scale))**2)\n",
    "plt.plot(bins, logist(bins, loc, scale)*count.max()/\\logist(bins, loc, scale).max())\n",
    "plt.show()\n",
    "\n"
   ]
  },
  {
   "cell_type": "code",
   "execution_count": null,
   "metadata": {},
   "outputs": [],
   "source": []
  },
  {
   "cell_type": "code",
   "execution_count": null,
   "metadata": {},
   "outputs": [],
   "source": []
  },
  {
   "cell_type": "markdown",
   "metadata": {},
   "source": [
    "### random.lognormal"
   ]
  },
  {
   "cell_type": "markdown",
   "metadata": {},
   "source": [
    " numpy.random.lognormal(mean=0.0, sigma=1.0, size=None)\n",
    "\n",
    "    Draw samples from a log-normal distribution.\n",
    "\n",
    "    Draw samples from a log-normal distribution with specified mean, standard deviation, and array shape. Note that the mean and standard deviation are not the values for the distribution itself, but of the underlying normal distribution it is derived from.\n",
    "    Parameters:\t\n",
    "\n",
    "    mean : float or array_like of floats, optional\n",
    "\n",
    "        Mean value of the underlying normal distribution. Default is 0.\n",
    "    sigma : float or array_like of floats, optional\n",
    "\n",
    "        Standard deviation of the underlying normal distribution. Should be greater than zero. Default is 1.\n",
    "    size : int or tuple of ints, optional\n",
    "\n",
    "        Output shape. If the given shape is, e.g., (m, n, k), then m * n * k samples are drawn. If size is None (default), a single value is returned if mean and sigma are both scalars. Otherwise, np.broadcast(mean, sigma).size samples are drawn.\n",
    "\n",
    "    Returns:\t\n",
    "\n",
    "    out : ndarray or scalar\n",
    "\n",
    "        Drawn samples from the parameterized log-normal distribution.\n",
    "\n",
    "A log-normal distribution results if a random variable is the product of a large number of independent, identically-distributed variables in the same way that a normal distribution results if the variable is the sum of a large number of independent, identically-distributed variables.\n",
    "\n",
    "Draw samples from the distribution:\n",
    "\n",
    "mu, sigma = 3., 1. # mean and standard deviation\n",
    "s = np.random.lognormal(mu, sigma, 1000)\n",
    "\n",
    "Display the histogram of the samples, along with the probability density function:\n",
    "\n",
    "import matplotlib.pyplot as plt\n",
    "count, bins, ignored = plt.hist(s, 100, density=True, align='mid')\n",
    "\n",
    "x = np.linspace(min(bins), max(bins), 10000)\n",
    "pdf = (np.exp(-(np.log(x) - mu)**2 / (2 * sigma**2)) / (x * sigma * np.sqrt(2 * np.pi)))\n",
    "\n",
    "plt.plot(x, pdf, linewidth=2, color='r')\n",
    "plt.axis('tight')\n",
    "plt.show()\n",
    "\n",
    "Demonstrate that taking the products of random samples from a uniform distribution can be fit well by a log-normal probability density function.\n",
    "\n",
    "#Generate a thousand samples: each is the product of 100 random\n",
    "#values, drawn from a normal distribution.\n",
    "b = []\n",
    "for i in range(1000):\n",
    "    a = 10. + np.random.random(100)\n",
    "    b.append(np.product(a))\n",
    "\n",
    "b = np.array(b) / np.min(b) # scale values to be positive\n",
    "count, bins, ignored = plt.hist(b, 100, density=True, align='mid')\n",
    "sigma = np.std(np.log(b))\n",
    "mu = np.mean(np.log(b))\n",
    "\n",
    "x = np.linspace(min(bins), max(bins), 10000)\n",
    "pdf = (np.exp(-(np.log(x) - mu)**2 / (2 * sigma**2)) / (x * sigma * np.sqrt(2 * np.pi)))\n",
    "\n",
    "plt.plot(x, pdf, color='r', linewidth=2)\n",
    "plt.show()"
   ]
  },
  {
   "cell_type": "code",
   "execution_count": null,
   "metadata": {},
   "outputs": [],
   "source": []
  },
  {
   "cell_type": "code",
   "execution_count": null,
   "metadata": {},
   "outputs": [],
   "source": []
  },
  {
   "cell_type": "markdown",
   "metadata": {},
   "source": [
    "### random.logseries"
   ]
  },
  {
   "cell_type": "markdown",
   "metadata": {},
   "source": [
    " numpy.random.logseries(p, size=None)\n",
    "\n",
    "    Draw samples from a logarithmic series distribution.\n",
    "\n",
    "    Samples are drawn from a log series distribution with specified shape parameter, 0 < p < 1.\n",
    "    Parameters:\t\n",
    "\n",
    "    p : float or array_like of floats\n",
    "\n",
    "        Shape parameter for the distribution. Must be in the range (0, 1).\n",
    "    size : int or tuple of ints, optional\n",
    "\n",
    "        Output shape. If the given shape is, e.g., (m, n, k), then m * n * k samples are drawn. If size is None (default), a single value is returned if p is a scalar. Otherwise, np.array(p).size samples are drawn.\n",
    "\n",
    "    Returns:\t\n",
    "\n",
    "    out : ndarray or scalar\n",
    "\n",
    "        Drawn samples from the parameterized logarithmic series distribution.\n",
    "\n",
    "The log series distribution is frequently used to represent species richness and occurrence, first proposed by Fisher, Corbet, and Williams in 1943 [2]. It may also be used to model the numbers of occupants seen in cars [3].\n",
    "\n",
    "Draw samples from the distribution:\n",
    "\n",
    "a = .6\n",
    "s = np.random.logseries(a, 10000)\n",
    "count, bins, ignored = plt.hist(s)\n",
    "\n",
    "#plot against distribution\n",
    "\n",
    "def logseries(k, p):\n",
    "    return -p**k/(k*log(1-p))\n",
    "plt.plot(bins, logseries(bins, a)*count.max()/ logseries(bins, a).max(), 'r')\n",
    "plt.show()"
   ]
  },
  {
   "cell_type": "code",
   "execution_count": null,
   "metadata": {},
   "outputs": [],
   "source": []
  },
  {
   "cell_type": "code",
   "execution_count": null,
   "metadata": {},
   "outputs": [],
   "source": []
  },
  {
   "cell_type": "markdown",
   "metadata": {},
   "source": [
    "### random.multinomial"
   ]
  },
  {
   "cell_type": "markdown",
   "metadata": {},
   "source": [
    " numpy.random.multinomial(n, pvals, size=None)\n",
    "\n",
    "    Draw samples from a multinomial distribution.\n",
    "\n",
    "    The multinomial distribution is a multivariate generalisation of the binomial distribution. Take an experiment with one of p possible outcomes. An example of such an experiment is throwing a dice, where the outcome can be 1 through 6. Each sample drawn from the distribution represents n such experiments. Its values, X_i = [X_0, X_1, ..., X_p], represent the number of times the outcome was i.\n",
    "    Parameters:\t\n",
    "\n",
    "    n : int\n",
    "\n",
    "        Number of experiments.\n",
    "    pvals : sequence of floats, length p\n",
    "\n",
    "        Probabilities of each of the p different outcomes. These should sum to 1 (however, the last element is always assumed to account for the remaining probability, as long as sum(pvals[:-1]) <= 1).\n",
    "    size : int or tuple of ints, optional\n",
    "\n",
    "        Output shape. If the given shape is, e.g., (m, n, k), then m * n * k samples are drawn. Default is None, in which case a single value is returned.\n",
    "\n",
    "    Returns:\t\n",
    "\n",
    "    out : ndarray\n",
    "\n",
    "        The drawn samples, of shape size, if that was provided. If not, the shape is (N,).\n",
    "\n",
    "        In other words, each entry out[i,j,...,:] is an N-dimensional value drawn from the distribution.\n",
    "\n",
    "Throw a dice 20 times:\n",
    "\n",
    "np.random.multinomial(20, [1/6.]*6, size=1)\n",
    "array([[4, 1, 7, 5, 2, 1]])\n",
    "\n",
    "It landed 4 times on 1, once on 2, etc.\n",
    "\n",
    "Now, throw the dice 20 times, and 20 times again:\n",
    "\n",
    "np.random.multinomial(20, [1/6.]*6, size=2)\n",
    "array([[3, 4, 3, 3, 4, 3],\n",
    "       [2, 4, 3, 4, 0, 7]])\n",
    "\n",
    "For the first run, we threw 3 times 1, 4 times 2, etc. For the second, we threw 2 times 1, 4 times 2, etc.\n",
    "\n",
    "A loaded die is more likely to land on number 6:\n",
    "\n",
    "np.random.multinomial(100, [1/7.]*5 + [2/7.])\n",
    "array([11, 16, 14, 17, 16, 26])\n",
    "\n",
    "The probability inputs should be normalized. As an implementation detail, the value of the last entry is ignored and assumed to take up any leftover probability mass, but this should not be relied on. A biased coin which has twice as much weight on one side as on the other should be sampled like so:\n",
    "\n",
    "np.random.multinomial(100, [1.0 / 3, 2.0 / 3])  # RIGHT\n",
    "array([38, 62])\n",
    "\n",
    "not like:\n",
    "\n",
    "np.random.multinomial(100, [1.0, 2.0])  # WRONG\n",
    "array([100,   0])"
   ]
  },
  {
   "cell_type": "code",
   "execution_count": null,
   "metadata": {},
   "outputs": [],
   "source": []
  },
  {
   "cell_type": "code",
   "execution_count": null,
   "metadata": {},
   "outputs": [],
   "source": []
  },
  {
   "cell_type": "markdown",
   "metadata": {},
   "source": [
    "### random.multivariate_normal"
   ]
  },
  {
   "cell_type": "markdown",
   "metadata": {},
   "source": []
  },
  {
   "cell_type": "code",
   "execution_count": null,
   "metadata": {},
   "outputs": [],
   "source": []
  },
  {
   "cell_type": "code",
   "execution_count": null,
   "metadata": {},
   "outputs": [],
   "source": []
  },
  {
   "cell_type": "markdown",
   "metadata": {},
   "source": [
    "### random.negative_binomial"
   ]
  },
  {
   "cell_type": "markdown",
   "metadata": {},
   "source": []
  },
  {
   "cell_type": "code",
   "execution_count": null,
   "metadata": {},
   "outputs": [],
   "source": []
  },
  {
   "cell_type": "code",
   "execution_count": null,
   "metadata": {},
   "outputs": [],
   "source": []
  },
  {
   "cell_type": "markdown",
   "metadata": {},
   "source": [
    "### random.noncentral_chisquare"
   ]
  },
  {
   "cell_type": "markdown",
   "metadata": {},
   "source": []
  },
  {
   "cell_type": "code",
   "execution_count": null,
   "metadata": {},
   "outputs": [],
   "source": []
  },
  {
   "cell_type": "code",
   "execution_count": null,
   "metadata": {},
   "outputs": [],
   "source": []
  },
  {
   "cell_type": "markdown",
   "metadata": {},
   "source": [
    "### random.noncentral_f"
   ]
  },
  {
   "cell_type": "markdown",
   "metadata": {},
   "source": []
  },
  {
   "cell_type": "code",
   "execution_count": null,
   "metadata": {},
   "outputs": [],
   "source": []
  },
  {
   "cell_type": "code",
   "execution_count": null,
   "metadata": {},
   "outputs": [],
   "source": []
  },
  {
   "cell_type": "markdown",
   "metadata": {},
   "source": [
    "### random.normal"
   ]
  },
  {
   "cell_type": "markdown",
   "metadata": {},
   "source": []
  },
  {
   "cell_type": "code",
   "execution_count": null,
   "metadata": {},
   "outputs": [],
   "source": []
  },
  {
   "cell_type": "code",
   "execution_count": null,
   "metadata": {},
   "outputs": [],
   "source": []
  },
  {
   "cell_type": "markdown",
   "metadata": {},
   "source": [
    "### random.pareto"
   ]
  },
  {
   "cell_type": "markdown",
   "metadata": {},
   "source": []
  },
  {
   "cell_type": "code",
   "execution_count": null,
   "metadata": {},
   "outputs": [],
   "source": []
  },
  {
   "cell_type": "code",
   "execution_count": null,
   "metadata": {},
   "outputs": [],
   "source": []
  },
  {
   "cell_type": "markdown",
   "metadata": {},
   "source": [
    "### random.poisson"
   ]
  },
  {
   "cell_type": "markdown",
   "metadata": {},
   "source": []
  },
  {
   "cell_type": "code",
   "execution_count": null,
   "metadata": {},
   "outputs": [],
   "source": []
  },
  {
   "cell_type": "code",
   "execution_count": null,
   "metadata": {},
   "outputs": [],
   "source": []
  },
  {
   "cell_type": "markdown",
   "metadata": {},
   "source": [
    "### random.power"
   ]
  },
  {
   "cell_type": "markdown",
   "metadata": {},
   "source": []
  },
  {
   "cell_type": "code",
   "execution_count": null,
   "metadata": {},
   "outputs": [],
   "source": []
  },
  {
   "cell_type": "code",
   "execution_count": null,
   "metadata": {},
   "outputs": [],
   "source": []
  },
  {
   "cell_type": "markdown",
   "metadata": {},
   "source": [
    "### random.rayleigh"
   ]
  },
  {
   "cell_type": "markdown",
   "metadata": {},
   "source": []
  },
  {
   "cell_type": "code",
   "execution_count": null,
   "metadata": {},
   "outputs": [],
   "source": []
  },
  {
   "cell_type": "code",
   "execution_count": null,
   "metadata": {},
   "outputs": [],
   "source": []
  },
  {
   "cell_type": "markdown",
   "metadata": {},
   "source": [
    "### random.standard_cauchy"
   ]
  },
  {
   "cell_type": "markdown",
   "metadata": {},
   "source": []
  },
  {
   "cell_type": "code",
   "execution_count": null,
   "metadata": {},
   "outputs": [],
   "source": []
  },
  {
   "cell_type": "code",
   "execution_count": null,
   "metadata": {},
   "outputs": [],
   "source": []
  },
  {
   "cell_type": "markdown",
   "metadata": {},
   "source": [
    "### random.standard_exponential"
   ]
  },
  {
   "cell_type": "markdown",
   "metadata": {},
   "source": []
  },
  {
   "cell_type": "code",
   "execution_count": null,
   "metadata": {},
   "outputs": [],
   "source": []
  },
  {
   "cell_type": "code",
   "execution_count": null,
   "metadata": {},
   "outputs": [],
   "source": []
  },
  {
   "cell_type": "markdown",
   "metadata": {},
   "source": [
    "### random.standard_gamma"
   ]
  },
  {
   "cell_type": "markdown",
   "metadata": {},
   "source": []
  },
  {
   "cell_type": "code",
   "execution_count": null,
   "metadata": {},
   "outputs": [],
   "source": []
  },
  {
   "cell_type": "code",
   "execution_count": null,
   "metadata": {},
   "outputs": [],
   "source": []
  },
  {
   "cell_type": "markdown",
   "metadata": {},
   "source": [
    "### random.standard_normal"
   ]
  },
  {
   "cell_type": "markdown",
   "metadata": {},
   "source": []
  },
  {
   "cell_type": "code",
   "execution_count": null,
   "metadata": {},
   "outputs": [],
   "source": []
  },
  {
   "cell_type": "code",
   "execution_count": null,
   "metadata": {},
   "outputs": [],
   "source": []
  },
  {
   "cell_type": "markdown",
   "metadata": {},
   "source": [
    "### random.standard_t"
   ]
  },
  {
   "cell_type": "markdown",
   "metadata": {},
   "source": []
  },
  {
   "cell_type": "code",
   "execution_count": null,
   "metadata": {},
   "outputs": [],
   "source": []
  },
  {
   "cell_type": "code",
   "execution_count": null,
   "metadata": {},
   "outputs": [],
   "source": []
  },
  {
   "cell_type": "markdown",
   "metadata": {},
   "source": [
    "### random.triangular"
   ]
  },
  {
   "cell_type": "markdown",
   "metadata": {},
   "source": []
  },
  {
   "cell_type": "code",
   "execution_count": null,
   "metadata": {},
   "outputs": [],
   "source": []
  },
  {
   "cell_type": "code",
   "execution_count": null,
   "metadata": {},
   "outputs": [],
   "source": []
  },
  {
   "cell_type": "markdown",
   "metadata": {},
   "source": [
    "### random.uniform"
   ]
  },
  {
   "cell_type": "markdown",
   "metadata": {},
   "source": []
  },
  {
   "cell_type": "code",
   "execution_count": null,
   "metadata": {},
   "outputs": [],
   "source": []
  },
  {
   "cell_type": "code",
   "execution_count": null,
   "metadata": {},
   "outputs": [],
   "source": []
  },
  {
   "cell_type": "markdown",
   "metadata": {},
   "source": [
    "### random.vonmises"
   ]
  },
  {
   "cell_type": "markdown",
   "metadata": {},
   "source": []
  },
  {
   "cell_type": "code",
   "execution_count": null,
   "metadata": {},
   "outputs": [],
   "source": []
  },
  {
   "cell_type": "code",
   "execution_count": null,
   "metadata": {},
   "outputs": [],
   "source": []
  },
  {
   "cell_type": "markdown",
   "metadata": {},
   "source": [
    "### random.wald"
   ]
  },
  {
   "cell_type": "markdown",
   "metadata": {},
   "source": []
  },
  {
   "cell_type": "code",
   "execution_count": null,
   "metadata": {},
   "outputs": [],
   "source": []
  },
  {
   "cell_type": "code",
   "execution_count": null,
   "metadata": {},
   "outputs": [],
   "source": []
  },
  {
   "cell_type": "markdown",
   "metadata": {},
   "source": [
    "### random.weibull"
   ]
  },
  {
   "cell_type": "markdown",
   "metadata": {},
   "source": []
  },
  {
   "cell_type": "code",
   "execution_count": null,
   "metadata": {},
   "outputs": [],
   "source": []
  },
  {
   "cell_type": "code",
   "execution_count": null,
   "metadata": {},
   "outputs": [],
   "source": []
  },
  {
   "cell_type": "markdown",
   "metadata": {},
   "source": [
    "### random.zipf"
   ]
  },
  {
   "cell_type": "markdown",
   "metadata": {},
   "source": []
  },
  {
   "cell_type": "code",
   "execution_count": null,
   "metadata": {},
   "outputs": [],
   "source": []
  },
  {
   "cell_type": "code",
   "execution_count": null,
   "metadata": {},
   "outputs": [],
   "source": []
  },
  {
   "cell_type": "markdown",
   "metadata": {},
   "source": [
    "<a id=\"RandomGenerator\"></a>\n",
    "## Random generator"
   ]
  },
  {
   "cell_type": "markdown",
   "metadata": {},
   "source": [
    "### random.RandomState"
   ]
  },
  {
   "cell_type": "markdown",
   "metadata": {},
   "source": []
  },
  {
   "cell_type": "code",
   "execution_count": null,
   "metadata": {},
   "outputs": [],
   "source": []
  },
  {
   "cell_type": "code",
   "execution_count": null,
   "metadata": {},
   "outputs": [],
   "source": []
  },
  {
   "cell_type": "markdown",
   "metadata": {},
   "source": [
    "### random.seed"
   ]
  },
  {
   "cell_type": "markdown",
   "metadata": {},
   "source": []
  },
  {
   "cell_type": "code",
   "execution_count": null,
   "metadata": {},
   "outputs": [],
   "source": []
  },
  {
   "cell_type": "code",
   "execution_count": null,
   "metadata": {},
   "outputs": [],
   "source": []
  },
  {
   "cell_type": "markdown",
   "metadata": {},
   "source": [
    "### random.get_state"
   ]
  },
  {
   "cell_type": "markdown",
   "metadata": {},
   "source": []
  },
  {
   "cell_type": "code",
   "execution_count": null,
   "metadata": {},
   "outputs": [],
   "source": []
  },
  {
   "cell_type": "code",
   "execution_count": null,
   "metadata": {},
   "outputs": [],
   "source": []
  },
  {
   "cell_type": "markdown",
   "metadata": {},
   "source": [
    "### random.set_state"
   ]
  },
  {
   "cell_type": "markdown",
   "metadata": {},
   "source": []
  },
  {
   "cell_type": "code",
   "execution_count": null,
   "metadata": {},
   "outputs": [],
   "source": []
  },
  {
   "cell_type": "code",
   "execution_count": null,
   "metadata": {},
   "outputs": [],
   "source": []
  },
  {
   "cell_type": "markdown",
   "metadata": {},
   "source": [
    "### random.random_sample"
   ]
  },
  {
   "cell_type": "markdown",
   "metadata": {},
   "source": []
  },
  {
   "cell_type": "code",
   "execution_count": null,
   "metadata": {},
   "outputs": [],
   "source": []
  },
  {
   "cell_type": "code",
   "execution_count": null,
   "metadata": {},
   "outputs": [],
   "source": []
  },
  {
   "cell_type": "markdown",
   "metadata": {},
   "source": [
    "### random.standard_normal"
   ]
  },
  {
   "cell_type": "markdown",
   "metadata": {},
   "source": []
  },
  {
   "cell_type": "code",
   "execution_count": null,
   "metadata": {},
   "outputs": [],
   "source": []
  },
  {
   "cell_type": "code",
   "execution_count": null,
   "metadata": {},
   "outputs": [],
   "source": []
  },
  {
   "cell_type": "markdown",
   "metadata": {},
   "source": []
  },
  {
   "cell_type": "markdown",
   "metadata": {},
   "source": []
  },
  {
   "cell_type": "markdown",
   "metadata": {},
   "source": []
  },
  {
   "cell_type": "code",
   "execution_count": 50,
   "metadata": {},
   "outputs": [
    {
     "data": {
      "text/plain": [
       "3.9043202059760764"
      ]
     },
     "execution_count": 50,
     "metadata": {},
     "output_type": "execute_result"
    }
   ],
   "source": [
    "np.random.uniform(0.0, 10.0)"
   ]
  },
  {
   "cell_type": "code",
   "execution_count": 51,
   "metadata": {},
   "outputs": [
    {
     "data": {
      "text/plain": [
       "array([[ 0,  1,  2,  3,  4],\n",
       "       [ 5,  6,  7,  8,  9],\n",
       "       [10, 11, 12, 13, 14]])"
      ]
     },
     "execution_count": 51,
     "metadata": {},
     "output_type": "execute_result"
    }
   ],
   "source": [
    "np.arange(15).reshape(3,5)"
   ]
  },
  {
   "cell_type": "markdown",
   "metadata": {},
   "source": [
    "When using the .arange() and .reshape() together the parameters of the .reshape() method must multiply to equal the parameter of the .arange() method."
   ]
  },
  {
   "cell_type": "code",
   "execution_count": null,
   "metadata": {},
   "outputs": [],
   "source": []
  }
 ],
 "metadata": {
  "kernelspec": {
   "display_name": "Python 3",
   "language": "python",
   "name": "python3"
  },
  "language_info": {
   "codemirror_mode": {
    "name": "ipython",
    "version": 3
   },
   "file_extension": ".py",
   "mimetype": "text/x-python",
   "name": "python",
   "nbconvert_exporter": "python",
   "pygments_lexer": "ipython3",
   "version": "3.6.5"
  }
 },
 "nbformat": 4,
 "nbformat_minor": 2
}

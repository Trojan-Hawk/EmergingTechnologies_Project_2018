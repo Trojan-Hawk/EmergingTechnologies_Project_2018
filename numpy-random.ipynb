{
 "cells": [
  {
   "cell_type": "markdown",
   "metadata": {},
   "source": [
    "# Introduction\n",
    "[Numpy](http://www.numpy.org/) is a numerical package for Python. It has a subpackage called [random](https://docs.scipy.org/doc/numpy/reference/routines.random.html). This numpy.random subpackage will be the main focus of this Jupyter Notebook. This notebook is a collection of explainations and code snippets, most of which has been adapted, from the above references. The aim of this notebook is to show an understanding of the various functions contained within the numpy.random subpackage. This can also be used as a learning aid to those who wish to learn about this subpackage, this could be very useful because Jupyter Notebook allows the user to run/edit the various code snippets as they wish."
   ]
  },
  {
   "cell_type": "markdown",
   "metadata": {},
   "source": [
    "The numpy namespace includes all names under the numpy.core and numpy.lib namespaces as well. This numpy import will also import the names from numpy.core and numpy.lib. This is the recommended way to use numpy."
   ]
  },
  {
   "cell_type": "code",
   "execution_count": 1,
   "metadata": {},
   "outputs": [],
   "source": [
    "import numpy as np"
   ]
  },
  {
   "cell_type": "markdown",
   "metadata": {},
   "source": [
    "This Jupyter Notebook also contains some package imports which are not the core focus of this notebook. These packages are listed, imported and referenced below.\n",
    "-  [mathplotlib.pyplot](https://matplotlib.org/api/api_overview.html)\n",
    "-  [scipy.special](https://docs.scipy.org/doc/scipy/reference/special.html)"
   ]
  },
  {
   "cell_type": "code",
   "execution_count": 2,
   "metadata": {},
   "outputs": [],
   "source": [
    "import matplotlib.pyplot as plt\n",
    "import scipy.special as sps"
   ]
  },
  {
   "cell_type": "markdown",
   "metadata": {},
   "source": [
    "## Table Of Contents\n",
    "-  [Simple Random Data](#SimpleRandomData)\n",
    "    -  [random.rand](#random.rand)\n",
    "    -  [random.randn](#random.randn)\n",
    "    -  [random.randint](#random.randint)    \n",
    "    -  [random.random_integers](#random.random_integers)\n",
    "    -  [random.random_sample](#random.random_sample)\n",
    "    -  [random.random](#random.random)\n",
    "    -  [random.ranf](#random.ranf)\n",
    "    -  [random.sample](#random.sample)\n",
    "    -  [random.choice](#random.choice)\n",
    "    -  [random.bytes](#random.bytes)\n",
    "-  [Permutations](#Permutations)\n",
    "    -  [random.shuffle](#random.shuffle)\n",
    "    -  [random.permutation](#random.permutation)\n",
    "-  [Distributions](#Distributions)\n",
    "    -  [random.beta](#random.beta)\n",
    "    -  [random.binomial](#random.binomial)\n",
    "    -  [random.chisquare](#random.chisquare)\n",
    "    -  [random.dirichlet](#random.dirichlet)\n",
    "    -  [random.exponential](#random.exponential)\n",
    "    -  [random.f](#random.f)\n",
    "    -  [random.gamma](#random.gamma)\n",
    "    -  [random.geometric](#random.geometric)\n",
    "    -  [random.gumbel](#random.gumbel)\n",
    "    -  [random.hypergeometric](#random.hypergeometric)\n",
    "    -  [random.laplace](#random.laplace)\n",
    "    -  [random.logistic](#random.logistic)\n",
    "    -  [random.lognormal](#random.lognormal)\n",
    "    -  [random.logseries](#random.logseries)\n",
    "    -  [random.multinomial](#random.multinomial)\n",
    "    -  [random.multivariate_normal](#random.multivariate_normal)\n",
    "    -  [random.negative_binomial](#random.negative_binomial)\n",
    "    -  [random.noncentral_chisquare](#random.noncentral_chisquare)\n",
    "    -  [random.noncentral_f](#random.noncentral_f)\n",
    "    -  [random.normal](#random.normal)\n",
    "    -  [random.pareto](#random.pareto)\n",
    "    -  [random.poisson](#random.poisson)\n",
    "    -  [random.power](#random.power)\n",
    "    -  [random.rayleigh](#random.rayleigh)\n",
    "    -  [random.standard_cauchy](#random.standard_cauchy)\n",
    "    -  [random.standard_exponential](#random.standard_exponential)\n",
    "    -  [random.standard_gamma](#random.standard_gamma)\n",
    "    -  [random.standard_normal](#random.standard_normal)\n",
    "    -  [random.standard_t](#random.standard_t)\n",
    "    -  [random.triangular](#random.triangular)\n",
    "    -  [random.uniform](#random.uniform)\n",
    "    -  [random.vonmises](#random.vonmises)\n",
    "    -  [random.wald](#random.wald)\n",
    "    -  [random.weibull](#random.weibull)\n",
    "    -  [random.zipf](#random.zipf)\n",
    "-  [Random generator](#RandomGenerator)\n",
    "    -  [random.RandomState](#random.RandomState)\n",
    "    -  [random.seed](#random.seed)\n",
    "    -  [random.get_state](#random.get_state)\n",
    "    -  [random.set_state](#random.set_state)"
   ]
  },
  {
   "cell_type": "markdown",
   "metadata": {},
   "source": [
    "## Simple random data <a id=\"SimpleRandomData\"></a>"
   ]
  },
  {
   "cell_type": "markdown",
   "metadata": {},
   "source": [
    "### random.rand"
   ]
  },
  {
   "cell_type": "code",
   "execution_count": 3,
   "metadata": {},
   "outputs": [
    {
     "data": {
      "text/plain": [
       "array([[0.93801797, 0.89213155, 0.96666604, 0.91725818, 0.7512943 ],\n",
       "       [0.70682766, 0.25260204, 0.36216355, 0.4754257 , 0.50113205],\n",
       "       [0.38890837, 0.35807192, 0.66401293, 0.57655207, 0.12359827],\n",
       "       [0.01442787, 0.8824217 , 0.78696234, 0.30871508, 0.55487989]])"
      ]
     },
     "execution_count": 3,
     "metadata": {},
     "output_type": "execute_result"
    }
   ],
   "source": [
    "x = np.random.rand(4,5)\n",
    "x"
   ]
  },
  {
   "cell_type": "markdown",
   "metadata": {},
   "source": [
    "The above random.rand(*n*, *n*) outputs an array in the given shape, and popuates the array with random samples from a uniform distribution over [0, 1]."
   ]
  },
  {
   "cell_type": "code",
   "execution_count": 4,
   "metadata": {},
   "outputs": [
    {
     "data": {
      "image/png": "[encoded data removed]",
      "text/plain": [
       "<Figure size 432x288 with 1 Axes>"
      ]
     },
     "metadata": {},
     "output_type": "display_data"
    }
   ],
   "source": [
    "y = np.sin(x)\n",
    "plt.plot(x, y, 'b.')\n",
    "plt.show()"
   ]
  },
  {
   "cell_type": "code",
   "execution_count": 5,
   "metadata": {},
   "outputs": [
    {
     "data": {
      "image/png": "[encoded data removed]",
      "text/plain": [
       "<Figure size 432x288 with 1 Axes>"
      ]
     },
     "metadata": {},
     "output_type": "display_data"
    }
   ],
   "source": [
    "x = np.random.rand(5)\n",
    "y = np.sin(x)\n",
    "plt.plot(x, y, 'b.')\n",
    "plt.show()"
   ]
  },
  {
   "cell_type": "markdown",
   "metadata": {},
   "source": [
    "The dimensions of the returned array, should all be positive. If no argument is given a single Python float is returned."
   ]
  },
  {
   "cell_type": "code",
   "execution_count": 6,
   "metadata": {},
   "outputs": [
    {
     "data": {
      "text/plain": [
       "0.06684818759388056"
      ]
     },
     "execution_count": 6,
     "metadata": {},
     "output_type": "execute_result"
    }
   ],
   "source": [
    "np.random.rand()"
   ]
  },
  {
   "cell_type": "markdown",
   "metadata": {},
   "source": [
    "If an interface that takes a shape-tuple as the first argument is needed refer to the [random.random_sample()](#random.random_sample) below."
   ]
  },
  {
   "cell_type": "markdown",
   "metadata": {},
   "source": [
    "### random.randn"
   ]
  },
  {
   "cell_type": "code",
   "execution_count": 7,
   "metadata": {},
   "outputs": [
    {
     "data": {
      "image/png": "[encoded data removed]",
      "text/plain": [
       "<Figure size 432x288 with 1 Axes>"
      ]
     },
     "metadata": {},
     "output_type": "display_data"
    }
   ],
   "source": [
    "x = np.random.randn(3,4)\n",
    "y = np.sin(x)\n",
    "plt.plot(x, y, 'b.')\n",
    "plt.show()"
   ]
  },
  {
   "cell_type": "markdown",
   "metadata": {},
   "source": [
    "The above random.randn(*n*, *n*) returns a random sample (or samples) if positive, randn generates an array of a shape using the parameters provided. If parameters are specified an array is filled with random floats sampled from a univariate “normal” (Gaussian) distribution of mean 0 and variance 1, if any are floats, they are first converted to integers by truncation. \n",
    "\n",
    "If an interface that takes a tuple as the first argument is needed refer to [random.standard_normal](#random.standard_normal) outlined below."
   ]
  },
  {
   "cell_type": "code",
   "execution_count": 8,
   "metadata": {},
   "outputs": [
    {
     "data": {
      "text/plain": [
       "array([ 1.34604882, -0.70272371,  0.8633505 ])"
      ]
     },
     "execution_count": 8,
     "metadata": {},
     "output_type": "execute_result"
    }
   ],
   "source": [
    "np.random.randn(3)"
   ]
  },
  {
   "cell_type": "markdown",
   "metadata": {},
   "source": [
    "A single float randomly sampled from the distribution is returned if no argument is provided."
   ]
  },
  {
   "cell_type": "code",
   "execution_count": 9,
   "metadata": {},
   "outputs": [
    {
     "data": {
      "text/plain": [
       "-2.521682192883238"
      ]
     },
     "execution_count": 9,
     "metadata": {},
     "output_type": "execute_result"
    }
   ],
   "source": [
    "np.random.randn()"
   ]
  },
  {
   "cell_type": "markdown",
   "metadata": {},
   "source": [
    "For random samples from normal distribution, with mean vector μ and standard deviation σ, use: \n",
    "N(μ, σ ^2)\n",
    "\n",
    "Which is implemented as follows:"
   ]
  },
  {
   "cell_type": "code",
   "execution_count": 10,
   "metadata": {},
   "outputs": [
    {
     "data": {
      "image/png": "[encoded data removed]",
      "text/plain": [
       "<Figure size 432x288 with 1 Axes>"
      ]
     },
     "metadata": {},
     "output_type": "display_data"
    }
   ],
   "source": [
    "x = np.random.randn(2, 5) + 7\n",
    "y = np.sin(x)\n",
    "plt.plot(x, y, 'b.')\n",
    "plt.show()"
   ]
  },
  {
   "cell_type": "markdown",
   "metadata": {},
   "source": [
    "### random.randint"
   ]
  },
  {
   "cell_type": "markdown",
   "metadata": {},
   "source": [
    "This function returns random integers from low (inclusive) to high (exclusive).\n",
    "\n",
    "The parameters are as follows:\n",
    "\n",
    "low (int):<br>The lowest int to be drawn from the distribution, unless high=None, this parameter is one above the highest such integer."
   ]
  },
  {
   "cell_type": "code",
   "execution_count": 11,
   "metadata": {},
   "outputs": [
    {
     "data": {
      "text/plain": [
       "1"
      ]
     },
     "execution_count": 11,
     "metadata": {},
     "output_type": "execute_result"
    }
   ],
   "source": [
    "np.random.randint(3)"
   ]
  },
  {
   "cell_type": "markdown",
   "metadata": {},
   "source": [
    "high (int, optional):<br>If specified, one above the largest signed integer to be drawn from the distribution."
   ]
  },
  {
   "cell_type": "code",
   "execution_count": 12,
   "metadata": {},
   "outputs": [
    {
     "data": {
      "text/plain": [
       "8"
      ]
     },
     "execution_count": 12,
     "metadata": {},
     "output_type": "execute_result"
    }
   ],
   "source": [
    "np.random.randint(4, high=10)"
   ]
  },
  {
   "cell_type": "markdown",
   "metadata": {},
   "source": [
    "size (int or tuple of ints, optional):<br>Default is none which returns a single value, if specified defines the output shape."
   ]
  },
  {
   "cell_type": "code",
   "execution_count": 13,
   "metadata": {},
   "outputs": [
    {
     "data": {
      "text/plain": [
       "array([0, 1, 0, 1, 1, 0, 1])"
      ]
     },
     "execution_count": 13,
     "metadata": {},
     "output_type": "execute_result"
    }
   ],
   "source": [
    "np.random.randint(2, size=7)"
   ]
  },
  {
   "cell_type": "markdown",
   "metadata": {},
   "source": [
    "dtype (dtype, optional):<br>Desired data type object of the result."
   ]
  },
  {
   "cell_type": "code",
   "execution_count": 14,
   "metadata": {},
   "outputs": [
    {
     "data": {
      "text/plain": [
       "array([[3, 2],\n",
       "       [3, 3],\n",
       "       [2, 2]])"
      ]
     },
     "execution_count": 14,
     "metadata": {},
     "output_type": "execute_result"
    }
   ],
   "source": [
    "np.random.randint(2.0, high=4, size=(3,2), dtype='int_')"
   ]
  },
  {
   "cell_type": "markdown",
   "metadata": {},
   "source": [
    "This function returns an int or array of ints, depending on if the size is specified."
   ]
  },
  {
   "cell_type": "markdown",
   "metadata": {},
   "source": [
    "### random.random_integers"
   ]
  },
  {
   "cell_type": "markdown",
   "metadata": {},
   "source": [
    "Random integers of type np.int between low and high, inclusive.\n",
    "\n",
    "This function has been deprecated. Use [randint](#random.randint) instead.\n",
    "Deprecated since version 1.11.0."
   ]
  },
  {
   "cell_type": "markdown",
   "metadata": {},
   "source": [
    "### random.random_sample"
   ]
  },
  {
   "cell_type": "markdown",
   "metadata": {},
   "source": [
    "This function returns a random float (floats) in the half-open interval [0.0, 1.0]. Half-open interval is a set of numbers between two given numbers but including only one endpoint.\n",
    "\n",
    "Only has one optional parameter:\n",
    "size (int or tuple of ints, optional):\n",
    "If specified, outputs the given shape.\n",
    "\n",
    "Returns a float or an array of floats."
   ]
  },
  {
   "cell_type": "code",
   "execution_count": 15,
   "metadata": {},
   "outputs": [
    {
     "data": {
      "text/plain": [
       "0.9080728257206214"
      ]
     },
     "execution_count": 15,
     "metadata": {},
     "output_type": "execute_result"
    }
   ],
   "source": [
    "np.random.random_sample()"
   ]
  },
  {
   "cell_type": "code",
   "execution_count": 16,
   "metadata": {},
   "outputs": [
    {
     "data": {
      "text/plain": [
       "array([0.7316079 , 0.3247179 , 0.70313196])"
      ]
     },
     "execution_count": 16,
     "metadata": {},
     "output_type": "execute_result"
    }
   ],
   "source": [
    "np.random.random_sample(3)"
   ]
  },
  {
   "cell_type": "code",
   "execution_count": 17,
   "metadata": {},
   "outputs": [
    {
     "data": {
      "image/png": "[encoded data removed]",
      "text/plain": [
       "<Figure size 432x288 with 1 Axes>"
      ]
     },
     "metadata": {},
     "output_type": "display_data"
    }
   ],
   "source": [
    "x = np.random.random_sample((3, 3))\n",
    "y = np.sin(x)\n",
    "plt.plot(x, y, 'b.')\n",
    "plt.show()"
   ]
  },
  {
   "cell_type": "markdown",
   "metadata": {},
   "source": [
    "### random.random"
   ]
  },
  {
   "cell_type": "markdown",
   "metadata": {},
   "source": [
    "This function is an alias to [random.random_sample](#random.random_sample).\n",
    "\n",
    "Proof in code:"
   ]
  },
  {
   "cell_type": "code",
   "execution_count": 18,
   "metadata": {},
   "outputs": [
    {
     "data": {
      "text/plain": [
       "True"
      ]
     },
     "execution_count": 18,
     "metadata": {},
     "output_type": "execute_result"
    }
   ],
   "source": [
    "np.random.random is np.random.random_sample"
   ]
  },
  {
   "cell_type": "markdown",
   "metadata": {},
   "source": [
    "### random.ranf"
   ]
  },
  {
   "cell_type": "markdown",
   "metadata": {},
   "source": [
    "This function is an alias to [random.random_sample](#random.random_sample)\n",
    "\n",
    "Proof in code:"
   ]
  },
  {
   "cell_type": "code",
   "execution_count": 19,
   "metadata": {},
   "outputs": [
    {
     "data": {
      "text/plain": [
       "True"
      ]
     },
     "execution_count": 19,
     "metadata": {},
     "output_type": "execute_result"
    }
   ],
   "source": [
    "np.random.ranf is np.random.random_sample"
   ]
  },
  {
   "cell_type": "markdown",
   "metadata": {},
   "source": [
    "### random.sample"
   ]
  },
  {
   "cell_type": "markdown",
   "metadata": {},
   "source": [
    "This function is an alias to [random.random_sample](#random.random_sample)\n",
    "\n",
    "Proof in code:"
   ]
  },
  {
   "cell_type": "code",
   "execution_count": 20,
   "metadata": {},
   "outputs": [
    {
     "data": {
      "text/plain": [
       "True"
      ]
     },
     "execution_count": 20,
     "metadata": {},
     "output_type": "execute_result"
    }
   ],
   "source": [
    "np.random.sample is np.random.random_sample"
   ]
  },
  {
   "cell_type": "markdown",
   "metadata": {},
   "source": [
    "### random.choice"
   ]
  },
  {
   "cell_type": "markdown",
   "metadata": {},
   "source": [
    "This function generates a random sample from a given 1-D array.\n",
    "\n",
    "The parameters it takes are as follows:\n",
    "-  a (1-D array-like or int):<br>\n",
    "If an ndarray, a random sample is generated from its elements. If an int, the random sample is generated as if a were np.arange(a)\n",
    "-  size (int or tuple of ints, optional):<br>\n",
    "Defines the output shape, the default is None, in which case a single value is returned.\n",
    "-  replace (boolean, optional):<br>\n",
    "Whether the sample is with or without replacement.\n",
    "-  p (1-D array-like, optional):<br>\n",
    "The probabilities associated with each entry in a. If not given the sample assumes a uniform distribution over all entries in a.\n",
    "\n",
    "This function returns a single item or an array of random samples."
   ]
  },
  {
   "cell_type": "code",
   "execution_count": 21,
   "metadata": {},
   "outputs": [
    {
     "data": {
      "text/plain": [
       "2"
      ]
     },
     "execution_count": 21,
     "metadata": {},
     "output_type": "execute_result"
    }
   ],
   "source": [
    "np.random.choice(3)"
   ]
  },
  {
   "cell_type": "markdown",
   "metadata": {},
   "source": [
    "Generate a uniform random sample from np.arange(3) of size 5:"
   ]
  },
  {
   "cell_type": "code",
   "execution_count": 22,
   "metadata": {},
   "outputs": [
    {
     "data": {
      "text/plain": [
       "array([1, 0, 0, 0, 2])"
      ]
     },
     "execution_count": 22,
     "metadata": {},
     "output_type": "execute_result"
    }
   ],
   "source": [
    "np.random.choice(3, 5)"
   ]
  },
  {
   "cell_type": "markdown",
   "metadata": {},
   "source": [
    "Generate a non-uniform random sample from np.arange(3) of size 4:"
   ]
  },
  {
   "cell_type": "code",
   "execution_count": 23,
   "metadata": {},
   "outputs": [
    {
     "data": {
      "text/plain": [
       "array([2, 2, 0, 2], dtype=int64)"
      ]
     },
     "execution_count": 23,
     "metadata": {},
     "output_type": "execute_result"
    }
   ],
   "source": [
    "np.random.choice(3, 4, p=[0.2, 0.1, 0.7])"
   ]
  },
  {
   "cell_type": "markdown",
   "metadata": {},
   "source": [
    "Generate a uniform sample from np.arange(4) of size 3 with replacement:"
   ]
  },
  {
   "cell_type": "code",
   "execution_count": 24,
   "metadata": {},
   "outputs": [
    {
     "data": {
      "text/plain": [
       "array([0, 0, 2, 1])"
      ]
     },
     "execution_count": 24,
     "metadata": {},
     "output_type": "execute_result"
    }
   ],
   "source": [
    "np.random.choice(3, 4, replace=True)"
   ]
  },
  {
   "cell_type": "markdown",
   "metadata": {},
   "source": [
    "Any of the above can be repeated with an arbitrary array. For example:"
   ]
  },
  {
   "cell_type": "code",
   "execution_count": 25,
   "metadata": {},
   "outputs": [
    {
     "data": {
      "text/plain": [
       "array(['cat', 'dog', 'snake'], dtype='<U8')"
      ]
     },
     "execution_count": 25,
     "metadata": {},
     "output_type": "execute_result"
    }
   ],
   "source": [
    "pet_array = ['rabbit', 'dog', 'cat', 'lizard', 'snake', 'goldfish']\n",
    "np.random.choice(pet_array, 3, p=[0.1, 0.1, 0.1, 0.4, 0.2, 0.1])"
   ]
  },
  {
   "cell_type": "markdown",
   "metadata": {},
   "source": [
    "### random.bytes"
   ]
  },
  {
   "cell_type": "markdown",
   "metadata": {},
   "source": [
    "This function returns random bytes.\n",
    "\n",
    "It takes one parameter, length, which determines the number of random bytes.\n",
    "\n",
    "It returns a String of length *length*."
   ]
  },
  {
   "cell_type": "code",
   "execution_count": 26,
   "metadata": {},
   "outputs": [
    {
     "data": {
      "text/plain": [
       "b\"\\x12\\xeb\\x00\\xa73\\xd9\\x9bl\\xfa=`\\xd7\\xff~\\xa5\\x1a\\x01\\x888'TI\\xab\\xbc\\x92\\x9d\\x05+\\xa7P@\\x17Wk\\xc9\\xa8+ K\\xc2\\x1f\\xbc2^!\\x99\\r\\xdb\\x82\\xb6\\xe6k\\xdf\\x07D\\xae\\xc5\\xd8\\x9c\\xee\\xf4\\xc4y~\\xe6\\xbd\\x10\\xf87\\xd6\\xf5\\x0f\\xf9Sb\\xd6V\\xcbCr\\xa2o,q/E3\\xcd(#\\xeck\\xban\\xd3\\xc9\\x1ce\\xf56\""
      ]
     },
     "execution_count": 26,
     "metadata": {},
     "output_type": "execute_result"
    }
   ],
   "source": [
    "np.random.bytes(100)"
   ]
  },
  {
   "cell_type": "markdown",
   "metadata": {},
   "source": [
    "## Permutations"
   ]
  },
  {
   "cell_type": "markdown",
   "metadata": {},
   "source": [
    "### random.shuffle"
   ]
  },
  {
   "cell_type": "markdown",
   "metadata": {},
   "source": [
    "This function is used to modify a sequesnce in-place by shuffling its contents."
   ]
  },
  {
   "cell_type": "code",
   "execution_count": 27,
   "metadata": {},
   "outputs": [
    {
     "data": {
      "text/plain": [
       "['Yellow', 'Black', 'Green', 'Blue', 'Red']"
      ]
     },
     "execution_count": 27,
     "metadata": {},
     "output_type": "execute_result"
    }
   ],
   "source": [
    "colour_array = [\"Black\", \"Blue\", \"Red\", \"Green\", \"Yellow\"]\n",
    "np.random.shuffle(colour_array)\n",
    "colour_array"
   ]
  },
  {
   "cell_type": "markdown",
   "metadata": {},
   "source": [
    "This function only shuffles the array along the first axis of a multi-dimensional array, the order of sub-arrays are changed but contents remain the same."
   ]
  },
  {
   "cell_type": "code",
   "execution_count": 28,
   "metadata": {},
   "outputs": [
    {
     "name": "stdout",
     "output_type": "stream",
     "text": [
      "[[ 0  1  2  3  4]\n",
      " [ 5  6  7  8  9]\n",
      " [10 11 12 13 14]]\n"
     ]
    }
   ],
   "source": [
    "array = np.arange(15).reshape((3, 5))\n",
    "print(array)"
   ]
  },
  {
   "cell_type": "code",
   "execution_count": 29,
   "metadata": {},
   "outputs": [
    {
     "name": "stdout",
     "output_type": "stream",
     "text": [
      "[[ 0  1  2  3  4]\n",
      " [ 5  6  7  8  9]\n",
      " [10 11 12 13 14]]\n"
     ]
    }
   ],
   "source": [
    "np.random.shuffle(array)\n",
    "print(array)"
   ]
  },
  {
   "cell_type": "markdown",
   "metadata": {},
   "source": [
    "### random.permutation"
   ]
  },
  {
   "cell_type": "markdown",
   "metadata": {},
   "source": [
    "This function randomly permutes a sequence, or returns a permuted range.\n",
    "\n",
    "This method takes one parameter, which can be either be an int or an array.\n",
    "If an int, randomly permute *np.arange(int)*.\n",
    "If an array, make a copy and shuffle the elements randomly."
   ]
  },
  {
   "cell_type": "code",
   "execution_count": 30,
   "metadata": {},
   "outputs": [
    {
     "data": {
      "text/plain": [
       "array([4, 9, 5, 6, 7, 1, 3, 0, 2, 8])"
      ]
     },
     "execution_count": 30,
     "metadata": {},
     "output_type": "execute_result"
    }
   ],
   "source": [
    "np.random.permutation(10)"
   ]
  },
  {
   "cell_type": "code",
   "execution_count": 31,
   "metadata": {},
   "outputs": [
    {
     "data": {
      "text/plain": [
       "array([[ 0,  1,  2,  3,  4],\n",
       "       [ 5,  6,  7,  8,  9],\n",
       "       [10, 11, 12, 13, 14]])"
      ]
     },
     "execution_count": 31,
     "metadata": {},
     "output_type": "execute_result"
    }
   ],
   "source": [
    "array = np.arange(15).reshape((3, 5))\n",
    "array"
   ]
  },
  {
   "cell_type": "code",
   "execution_count": 32,
   "metadata": {},
   "outputs": [
    {
     "data": {
      "text/plain": [
       "array([[ 0,  1,  2,  3,  4],\n",
       "       [ 5,  6,  7,  8,  9],\n",
       "       [10, 11, 12, 13, 14]])"
      ]
     },
     "execution_count": 32,
     "metadata": {},
     "output_type": "execute_result"
    }
   ],
   "source": [
    "np.random.permutation(array)"
   ]
  },
  {
   "cell_type": "markdown",
   "metadata": {},
   "source": [
    "## Distributions"
   ]
  },
  {
   "cell_type": "markdown",
   "metadata": {},
   "source": [
    "### random.beta"
   ]
  },
  {
   "cell_type": "markdown",
   "metadata": {},
   "source": [
    "This function is used to draw samples from a Beta distribution. The Beta distribution is a special case of the Dirichlet distribution, and is related to the Gamma distribution.<br><br>\n",
    "This function can take three parameters:\n",
    "-  a (float or array of floats):<br>\n",
    "Alpha, must be a positive value.\n",
    "-  b (float or array of floats):<br>\n",
    "Beta, must be a positive value.\n",
    "-  size (int or tuple of ints, optional):<br>\n",
    "Defines the output shape. If size=None (default), a single value is returned if a and b are both scalars. Otherwise, np.broadcast(a, b).size samples are drawn."
   ]
  },
  {
   "cell_type": "code",
   "execution_count": 33,
   "metadata": {},
   "outputs": [
    {
     "data": {
      "text/plain": [
       "0.23694342863970205"
      ]
     },
     "execution_count": 33,
     "metadata": {},
     "output_type": "execute_result"
    }
   ],
   "source": [
    "np.random.beta(2.1, 5.3)"
   ]
  },
  {
   "cell_type": "code",
   "execution_count": 34,
   "metadata": {},
   "outputs": [
    {
     "data": {
      "text/plain": [
       "array([0.2523436 , 0.23097231, 0.19160534, 0.11453093, 0.46371595])"
      ]
     },
     "execution_count": 34,
     "metadata": {},
     "output_type": "execute_result"
    }
   ],
   "source": [
    "np.random.beta(2.4, 4.5, 5)"
   ]
  },
  {
   "cell_type": "markdown",
   "metadata": {},
   "source": [
    "### random.binomial"
   ]
  },
  {
   "cell_type": "markdown",
   "metadata": {},
   "source": [
    "This function is used to draw samples from a binomial distribution.\n",
    "\n",
    "Samples are drawn with specified parameters, n trials and p probability of success where n an integer >= 0 and p is in the interval [0,1]. (n may be input as a float, but it is truncated to an integer in use)\n",
    "\n",
    "This function takes the following parameters:\t\n",
    "-  n (int or array_like of ints):<br>\n",
    "Must be >= 0. Floats are also accepted, but they will be truncated to integers.\n",
    "-  p (float or array_like of floats):<br>\n",
    "Must be between 0 and 1 inclusive.\n",
    "-  size (int or tuple of ints, optional):<br>\n",
    "Defines the output shape. If size is None (default), a single value is returned if n and p are both scalars. Otherwise, np.broadcast(n, p).size samples are drawn.\n",
    "\n",
    "This function returns an *n* dimensional array or scalar.\n",
    "\n",
    "Draw samples from the distribution:"
   ]
  },
  {
   "cell_type": "code",
   "execution_count": 35,
   "metadata": {},
   "outputs": [
    {
     "data": {
      "text/plain": [
       "array([5, 6, 7, 5, 6, 5, 4, 4, 6, 4, 6, 4, 4, 5, 6, 5, 3, 9, 4, 6, 3, 5,\n",
       "       5, 5, 2, 5, 2, 4, 5, 6, 5, 5, 7, 7, 5, 6, 4, 3, 5, 5, 7, 7, 5, 6,\n",
       "       5, 6, 2, 5, 4, 4, 9, 2, 3, 5, 4, 5, 3, 3, 7, 6, 4, 3, 7, 4, 7, 4,\n",
       "       3, 8, 8, 4, 3, 3, 3, 5, 3, 3, 4, 3, 5, 5, 6, 5, 4, 4, 4, 6, 5, 4,\n",
       "       3, 3, 7, 4, 1, 1, 5, 6, 6, 4, 2, 7])"
      ]
     },
     "execution_count": 35,
     "metadata": {},
     "output_type": "execute_result"
    }
   ],
   "source": [
    "n, p = 10, .5  # number of trials, probability of each trial\n",
    "s = np.random.binomial(n, p, 100)\n",
    "# result of flipping a coin 10 times, tested 100 times.\n",
    "s"
   ]
  },
  {
   "cell_type": "markdown",
   "metadata": {},
   "source": [
    "### random.chisquare"
   ]
  },
  {
   "cell_type": "markdown",
   "metadata": {},
   "source": [
    "This function is used to draw samples from a chi-square distribution.\n",
    "\n",
    "Independent random variables, each with standard normal distributions (mean 0, variance 1), are squared and summed, the resulting distribution is chi-square. This distribution is often used in hypothesis testing.\n",
    "    \n",
    "This function takes the following parameters:\t\n",
    "-  df (float or array_like of floats):<br>\n",
    "Number of degrees of freedom, should be > 0.\n",
    "-  size (int or tuple of ints, optional):<br>\n",
    "Defines the output shape. If size is None (default), a single value is returned if df is a scalar. Otherwise, np.array(df).size samples are drawn.\n",
    "\n",
    "This function returns an *n* dimensional array or scalar."
   ]
  },
  {
   "cell_type": "code",
   "execution_count": 36,
   "metadata": {},
   "outputs": [
    {
     "data": {
      "text/plain": [
       "array([2.96637737, 6.17760486, 3.46543739, 4.20156217])"
      ]
     },
     "execution_count": 36,
     "metadata": {},
     "output_type": "execute_result"
    }
   ],
   "source": [
    "np.random.chisquare(2,4)"
   ]
  },
  {
   "cell_type": "markdown",
   "metadata": {},
   "source": [
    "### random.dirichlet"
   ]
  },
  {
   "cell_type": "markdown",
   "metadata": {},
   "source": [
    "This function is used to draw samples from the Dirichlet distribution.\n",
    "\n",
    "A Dirichlet-distributed random variable can be seen as a multivariate generalization of a Beta distribution. Dirichlet pdf is the conjugate prior of a multinomial in Bayesian inference.\n",
    "    \n",
    "This function takes the following parameters:\t\n",
    "-  alpha (array):<br>\n",
    "Parameter of the distribution (k dimension for sample of dimension k).<br>\n",
    "-  size (int or tuple of ints, optional):<br>\n",
    "Defines the output shape. Default is None, in which case a single value is returned.\n",
    "\n",
    "This function returns an *n* dimensional array.\t"
   ]
  },
  {
   "cell_type": "code",
   "execution_count": 37,
   "metadata": {},
   "outputs": [
    {
     "data": {
      "text/plain": [
       "array([[0.24944439, 0.56757547, 0.52710032, 0.59805495, 0.45407549,\n",
       "        0.62177003, 0.63253323, 0.46735752, 0.44472898, 0.39677513,\n",
       "        0.64109605, 0.54129689, 0.55576754, 0.54129366, 0.65185951,\n",
       "        0.78098035, 0.52124491, 0.8523208 , 0.62616702, 0.55753284],\n",
       "       [0.41720824, 0.25320938, 0.23080523, 0.07812171, 0.42433379,\n",
       "        0.30501613, 0.26174096, 0.14569206, 0.37259062, 0.43045581,\n",
       "        0.25938398, 0.2689281 , 0.36567933, 0.33431671, 0.29105667,\n",
       "        0.0622354 , 0.25319763, 0.07880479, 0.21393568, 0.30338357],\n",
       "       [0.33334737, 0.17921516, 0.24209445, 0.32382334, 0.12159072,\n",
       "        0.07321385, 0.1057258 , 0.38695041, 0.18268039, 0.17276906,\n",
       "        0.09951998, 0.18977501, 0.07855313, 0.12438963, 0.05708382,\n",
       "        0.15678424, 0.22555746, 0.06887441, 0.1598973 , 0.13908359]])"
      ]
     },
     "execution_count": 37,
     "metadata": {},
     "output_type": "execute_result"
    }
   ],
   "source": [
    "s = np.random.dirichlet((10, 5, 3), 20).transpose()\n",
    "s"
   ]
  },
  {
   "cell_type": "markdown",
   "metadata": {},
   "source": [
    "### random.exponential"
   ]
  },
  {
   "cell_type": "markdown",
   "metadata": {},
   "source": [
    "This function is used to draw samples from an exponential distribution.\n",
    "    \n",
    "The exponential distribution is a continuous analogue of the geometric distribution. \n",
    "\n",
    "This function takes the following parameters:<br>\n",
    "-  scale (float or array_like of floats):<br>\n",
    "This defines the scale.<br>\n",
    "-  size (int or tuple of ints, optional):<br>\n",
    "This parameter defines the output shape. If size is None (default), a single value is returned if scale is a scalar. Otherwise, np.array(scale).size samples are drawn.\n",
    "\n",
    "This function returns an *n* dimensional array or a scalar."
   ]
  },
  {
   "cell_type": "code",
   "execution_count": 38,
   "metadata": {},
   "outputs": [
    {
     "data": {
      "text/plain": [
       "array([3.97707855, 3.49994931, 6.26236465])"
      ]
     },
     "execution_count": 38,
     "metadata": {},
     "output_type": "execute_result"
    }
   ],
   "source": [
    "np.random.exponential(2.6, 3)"
   ]
  },
  {
   "cell_type": "markdown",
   "metadata": {},
   "source": [
    "### random.f"
   ]
  },
  {
   "cell_type": "markdown",
   "metadata": {},
   "source": [
    "This function is used to draw samples from an F distribution.\n",
    "\n",
    "The random variate of the F distribution (also known as the Fisher distribution) is a continuous probability distribution that arises in ANOVA tests, and is the ratio of two chi-square variates. The F statistic is used to compare in-group variances to between-group variances. Calculating the distribution depends on the sampling, and so it is a function of the respective degrees of freedom in the problem. The variable dfnum is the number of samples minus one, the between-groups degrees of freedom, while dfden is the within-groups degrees of freedom, the sum of the number of samples in each group minus the number of groups.\n",
    "\n",
    "The parameters this function takes are as follows:<br>\n",
    "-  dfnum (float or array_like of floats):<br>\n",
    "Degrees of freedom in numerator, should be > 0.<br>\n",
    "-  dfden (float or array_like of float)<br>\n",
    "Degrees of freedom in denominator, should be > 0.<br>\n",
    "-  size (int or tuple of ints, optional)<br>\n",
    "Defines the output shape. If size is None (default), a single value is returned if dfnum and dfden are both scalars. Otherwise, np.broadcast(dfnum, dfden).size samples are drawn.\n",
    "\n",
    "This function returns an *n* dimensional array or a scalar.\n",
    "\n",
    "\n",
    "Draw samples from the distribution:"
   ]
  },
  {
   "cell_type": "code",
   "execution_count": 39,
   "metadata": {},
   "outputs": [
    {
     "data": {
      "text/plain": [
       "array([1.29960961e-01, 2.43062852e+00, 3.16149188e+00, 5.59525630e+00,\n",
       "       5.59085836e-01, 3.40928307e-01, 2.45048737e-01, 3.30033733e-01,\n",
       "       1.52159218e-01, 1.71945013e+00, 1.13376328e-01, 2.66447720e+00,\n",
       "       5.40946532e+00, 8.62232247e-01, 2.17467073e-01, 3.49599797e-01,\n",
       "       1.13617992e+00, 1.69686997e-01, 1.35689735e+00, 8.79959092e-01,\n",
       "       2.98647281e-03, 1.74914306e-01, 3.52308150e-02, 2.80042611e+00,\n",
       "       1.59455462e-02, 8.16546094e-01, 1.66666689e-01, 1.31599153e-01,\n",
       "       3.40100224e+00, 7.43115181e-01, 3.60961487e+00, 6.23984202e-01,\n",
       "       1.23588860e+00, 3.82724191e-01, 1.10503442e-01, 1.26444581e-02,\n",
       "       4.85555539e+00, 2.83712130e-01, 5.95015220e-02, 1.18859854e+00,\n",
       "       1.13972403e+00, 2.20175938e+00, 4.50142226e-02, 1.11861041e+00,\n",
       "       7.63363737e+00, 6.05816419e+00, 8.52758393e-02, 9.31878200e-01,\n",
       "       1.79720633e-02, 1.79418616e-01, 1.79413858e-01, 1.51086982e-01,\n",
       "       4.98073747e-01, 2.26688703e+00, 6.25414107e-01, 1.91240811e-01,\n",
       "       2.84924478e+00, 7.98489966e-01, 3.98105233e+00, 1.42752193e-01,\n",
       "       4.31255257e+00, 1.07762603e+01, 1.08114003e-01, 1.32726269e-01,\n",
       "       1.31095332e+00, 5.32797575e+00, 1.14329463e+00, 9.23867798e-01,\n",
       "       1.99982241e-01, 1.38268467e+00, 5.65324921e-01, 1.18729225e-02,\n",
       "       3.68201064e-02, 4.46115636e-02, 2.64465478e-02, 7.55880436e-02,\n",
       "       3.25363533e-01, 4.90819846e-01, 2.69305011e+00, 9.47598675e-01,\n",
       "       3.83576122e-01, 1.61822767e+00, 1.86345959e+00, 7.87434914e-01,\n",
       "       9.34279548e-01, 3.78757009e-01, 9.34340086e-02, 1.01394731e+00,\n",
       "       2.99435039e-01, 2.82507573e-01, 6.35678702e-01, 2.37575656e+00,\n",
       "       8.26100095e-01, 4.72815573e-01, 4.56177756e-02, 4.55846932e-04,\n",
       "       2.11464548e-01, 5.57742552e-01, 1.88274049e+00, 1.19538033e-01,\n",
       "       7.45978118e-01, 3.67556704e+00, 6.19694790e-02, 1.15093908e-02,\n",
       "       8.74615073e-03, 1.28462712e-01, 9.95615182e-02, 1.11687081e+00,\n",
       "       2.04253715e+00, 9.05924224e-02, 1.23227777e+00, 5.14323097e-02,\n",
       "       8.72333370e-03, 3.68675327e+00, 7.37481309e-01, 6.05461998e-01,\n",
       "       4.05117985e-02, 5.72650162e-01, 5.43205102e-01, 2.10304604e-01,\n",
       "       1.65349344e-01, 3.30645766e-03, 1.44747509e-01, 3.36253980e-01,\n",
       "       2.67820380e+00, 6.10863450e-01, 6.53909822e-02, 7.68766919e-02,\n",
       "       2.44168608e-03, 8.52871516e-03, 1.13129439e-01, 5.94014552e-02,\n",
       "       4.79571764e+00, 5.42547796e-02, 5.26143323e+00, 1.49096334e-03,\n",
       "       7.24247105e-01, 3.24407797e-01, 2.46398538e-03, 3.75211441e-01,\n",
       "       3.86095134e-03, 6.28812157e-01, 3.08665543e-02, 3.26896936e-03,\n",
       "       4.73224953e-01, 1.94117233e+00, 3.60353565e+00, 5.95915212e-01,\n",
       "       6.43192358e-01, 1.16762904e-01, 6.07248507e-03, 1.10481485e+00,\n",
       "       2.52906661e+00, 3.76185317e-01, 4.80100890e-02, 2.35300998e-02,\n",
       "       3.74830845e-01, 3.61458077e-01, 2.14174253e+00, 1.62177226e-02,\n",
       "       1.29843277e-01, 4.99362587e-01, 9.75798018e-01, 8.80274565e-01,\n",
       "       3.10108192e-01, 1.26046763e-02, 6.23952524e-02, 3.65192290e-01,\n",
       "       1.57356558e-04, 6.42849128e+00, 1.84070497e-01, 5.97747265e-01,\n",
       "       7.69059653e+00, 1.32289988e+00, 4.83877540e-02, 3.34030937e-01,\n",
       "       6.11686230e-01, 3.33175362e+00, 2.17214108e+00, 1.56693243e+00,\n",
       "       5.76603209e-02, 6.13813176e-01, 4.86304641e+00, 2.01146464e+00,\n",
       "       6.45722638e+00, 2.21804787e+00, 3.68247077e-02, 4.99901209e+00,\n",
       "       2.93638907e-04, 5.97598087e-01, 5.02535169e+00, 1.53336652e-01,\n",
       "       1.29194191e+00, 7.07684412e-02, 9.60253149e-02, 2.51853371e-02,\n",
       "       2.99935181e+00, 2.86991484e-01, 1.15732795e+00, 1.17459413e-01,\n",
       "       4.91436580e-01, 5.11225023e-03, 5.43362550e+00, 1.80957367e-07,\n",
       "       4.46788851e-01, 3.58976588e-01, 1.71017111e-04, 9.07624532e-02,\n",
       "       2.85989672e+00, 1.00538081e+00, 2.50994536e-02, 8.32995473e-01,\n",
       "       2.41092530e-01, 4.58999387e-01, 4.16695590e-02, 4.94723915e-01,\n",
       "       4.37736950e-01, 6.39264634e-01, 4.64229154e-01, 2.50677558e-02,\n",
       "       8.78277642e-01, 5.18950702e-01, 2.83948455e-02, 5.87946207e-01,\n",
       "       2.23884919e-01, 2.36032065e-03, 2.22924885e-02, 3.17665735e-01,\n",
       "       1.88423371e+00, 1.18992173e-01, 1.35215607e-03, 4.48897134e-03,\n",
       "       2.92167132e-01, 1.96611851e-01, 8.28140538e-01, 1.11876534e-01,\n",
       "       2.60293455e-01, 1.75169550e+01, 1.68942456e+00, 7.68297517e-01,\n",
       "       1.31833839e+00, 1.38620095e-01, 3.97297676e-01, 3.93106434e+00,\n",
       "       2.90594114e+00, 4.29933256e-02, 1.72809715e-02, 3.43336521e-03,\n",
       "       2.18681462e-01, 4.65204106e-02, 1.09245840e+00, 8.63742514e-01,\n",
       "       4.62809781e-01, 1.78893837e+00, 1.72155827e+00, 4.25977838e+00,\n",
       "       1.35841590e-01, 1.76256904e-01, 6.46046780e-01, 2.00996360e-01,\n",
       "       9.11898366e-03, 2.01683428e-02, 9.39383641e-01, 1.09289842e+00,\n",
       "       3.93162655e+00, 3.33285073e+00, 1.95136241e-02, 4.97088282e-01,\n",
       "       6.51667701e-02, 3.50213701e+00, 5.22689377e+00, 1.83508923e+00,\n",
       "       2.30657817e-05, 3.18217585e-02, 2.01237636e+00, 3.48105882e+00,\n",
       "       7.13910489e-02, 6.93635280e-01, 1.63370451e+00, 3.13306182e+00,\n",
       "       5.29920778e-03, 1.46270196e-02, 3.95135146e-01, 1.43942462e-02,\n",
       "       1.11127912e-02, 8.20508745e-01, 6.54232525e-01, 7.02120301e-01,\n",
       "       4.38138369e+00, 3.40122874e-03, 2.65812574e-02, 3.53279769e-02,\n",
       "       1.03494327e+00, 3.96951221e-01, 9.82812754e-01, 4.97854924e+00,\n",
       "       4.89151274e-01, 4.68452144e+00, 4.12756258e-01, 3.82193330e-01,\n",
       "       1.53478594e+00, 2.14022177e+00, 1.29089440e-01, 8.47283168e-01,\n",
       "       1.70724143e-01, 7.36575454e-01, 8.39250384e-01, 3.70679034e-01,\n",
       "       7.78552895e-02, 1.24034171e+00, 1.47471627e+00, 2.71810570e-01,\n",
       "       2.62970331e-03, 9.29443461e-03, 9.33283505e-01, 3.95030364e-01,\n",
       "       6.98981323e-01, 1.06693075e-01, 3.16210750e+00, 7.51423003e-01,\n",
       "       7.70528993e-02, 1.20054648e+00, 7.33983170e-02, 3.43596553e-02,\n",
       "       6.79260305e-02, 8.02823369e-02, 1.84258326e+00, 1.72640706e-02,\n",
       "       5.57004256e-02, 1.93982102e-01, 4.67755235e+00, 3.54718455e-03,\n",
       "       3.63146471e-02, 3.11804210e+00, 2.69627450e-01, 9.13785087e-01,\n",
       "       3.75495705e+00, 1.70173976e+00, 1.98060558e+00, 1.39005260e-01,\n",
       "       3.12221541e+00, 1.20092531e-01, 6.85311694e-01, 1.10312589e+00,\n",
       "       1.54534460e+00, 6.43703060e-01, 1.12134825e-01, 5.03103960e+00,\n",
       "       1.52565677e+00, 7.70854740e-02, 4.39659730e-01, 9.58530952e-01,\n",
       "       5.14590562e-01, 4.90506095e-01, 1.53375435e+00, 2.74105384e+00,\n",
       "       2.33715291e-01, 6.93087156e-01, 3.41229833e-02, 2.33578173e+00,\n",
       "       4.93658915e+00, 1.66925386e-02, 2.24308181e-01, 4.57371472e+00,\n",
       "       1.81530027e-01, 1.68424682e-04, 1.50479541e+00, 3.10687119e+00,\n",
       "       2.50194760e-01, 1.19631216e-01, 6.63348998e-03, 7.21512525e-01,\n",
       "       5.85009221e+00, 2.05186910e+00, 2.30300961e-01, 2.31057594e-01,\n",
       "       8.16696583e-01, 6.21417163e-01, 3.46725474e-03, 6.79382266e-02,\n",
       "       7.23147676e-01, 1.51296763e-03, 1.00554395e+00, 8.88956085e-01,\n",
       "       1.27919834e+00, 1.27981659e-01, 4.66099468e-01, 1.93736164e-01,\n",
       "       2.12435729e+00, 1.59916552e+00, 1.13912348e-01, 3.03264939e-02,\n",
       "       1.91509406e-01, 1.07699317e-01, 4.02621671e-01, 3.52195049e+00,\n",
       "       1.04862619e+01, 1.02779067e-01, 1.98172182e-01, 1.00459159e-03,\n",
       "       1.19007810e-01, 2.48531473e-01, 5.69420046e-01, 1.00835998e+00,\n",
       "       6.68491299e-01, 2.09489508e-01, 1.39475957e+00, 2.05823121e+00,\n",
       "       5.46013546e-01, 8.60600897e-01, 1.52122285e+00, 1.22053577e-01,\n",
       "       2.26716188e+00, 3.44088610e-02, 5.91664264e-01, 2.16892120e-03,\n",
       "       2.21992035e+00, 5.33741776e+00, 1.17112480e+00, 1.82014280e-01,\n",
       "       3.14934678e-01, 9.95356049e-02, 1.04256695e+00, 4.61534788e-01,\n",
       "       4.94324979e-01, 1.13547793e+00, 1.70729581e+00, 9.48399941e-02,\n",
       "       6.95486618e-03, 1.19371413e+00, 1.45306109e-01, 2.91786811e-01,\n",
       "       1.18463882e+00, 6.98792930e-01, 1.08269120e-02, 1.91405602e+00,\n",
       "       2.66453062e-01, 2.07411089e-01, 2.53899484e-04, 1.45469973e-03,\n",
       "       4.04616338e-01, 2.06830654e+00, 1.68674811e-01, 3.57399392e+00,\n",
       "       9.96050938e-01, 3.47398633e-01, 2.80449438e-04, 1.07022683e+00,\n",
       "       4.32921166e-02, 1.66703269e-01, 3.54339150e-02, 2.47610108e+00,\n",
       "       6.48250660e-01, 4.78146533e-01, 3.66401832e-01, 1.58997819e-03,\n",
       "       3.34384010e+00, 2.41286107e-02, 1.05628054e+00, 4.21369665e-01,\n",
       "       7.46574598e-01, 2.48303442e-02, 5.86209454e+00, 1.77095505e+00,\n",
       "       3.67973433e+00, 1.49448089e-01, 5.99328212e-01, 2.35852343e-07,\n",
       "       4.54955311e-01, 3.99079936e-02, 4.39601445e-01, 2.32122101e-01,\n",
       "       1.39054832e-01, 1.16003554e-01, 1.86639578e+00, 1.43128102e-01,\n",
       "       1.09778191e+00, 7.43328710e-01, 7.27010563e-01, 7.96771131e-04,\n",
       "       9.63690661e-01, 1.09537258e-02, 7.27113531e-04, 6.44132990e-02,\n",
       "       6.82645362e+00, 8.36521318e-01, 4.31304185e-02, 2.72532510e-01,\n",
       "       4.87682652e-04, 4.63602606e-02, 3.90072828e-01, 8.09048505e-03,\n",
       "       1.46250870e+00, 5.58836283e-03, 3.66685360e-02, 1.41305590e+00,\n",
       "       9.63322732e+00, 7.99283767e+00, 4.12499584e-05, 3.93107052e+00,\n",
       "       1.34017589e+00, 4.81595985e+00, 3.05265897e+00, 6.60818309e-01,\n",
       "       4.52799152e-02, 1.33282491e+00, 2.62904633e-01, 1.77060463e-01,\n",
       "       1.00647055e+00, 1.99741551e+00, 5.56693903e-02, 4.96540318e-03,\n",
       "       6.39712979e-05, 2.78972009e-01, 2.48059874e-01, 2.26708759e-01,\n",
       "       5.76735380e+00, 2.65427892e-01, 1.28406956e+00, 2.44864626e+00,\n",
       "       2.37292375e-01, 1.84491856e-02, 6.99106970e-03, 4.10958100e-01,\n",
       "       7.71283261e+00, 3.87898441e+00, 9.19443473e+00, 7.50740589e-01,\n",
       "       1.47187715e-01, 2.41397424e+00, 5.27015303e-01, 6.54942337e-01,\n",
       "       7.54267474e-02, 3.20943018e-02, 6.32836162e+00, 1.45067577e+00,\n",
       "       7.99395651e+00, 1.32250258e-03, 1.87745949e+00, 1.71559919e-02,\n",
       "       1.09466524e-01, 5.66620979e-01, 1.14025112e+00, 5.15792427e-01,\n",
       "       2.82056876e+00, 3.11753224e+00, 7.91170750e-01, 5.90257433e+00,\n",
       "       1.80076181e+00, 7.38429433e-05, 1.99123067e+00, 2.34663850e+00,\n",
       "       7.07133805e-01, 2.15868911e+00, 4.35844663e+00, 9.38281846e-04,\n",
       "       4.27077076e+00, 1.07448928e+00, 8.15133658e-01, 1.84158289e+00,\n",
       "       2.06948833e+00, 1.53532063e+00, 2.45588101e-02, 9.79203809e-02,\n",
       "       1.16665191e+00, 2.75297535e+00, 2.32012357e+00, 6.03616900e-03,\n",
       "       4.03015162e-01, 1.12834451e+00, 9.28522730e-04, 4.96799147e-01,\n",
       "       9.48436646e-02, 5.80407006e-02, 6.75621269e-01, 1.23138056e+00,\n",
       "       1.15952323e+00, 2.80163084e-02, 3.23357927e+00, 5.37332378e-01,\n",
       "       4.26275756e-02, 7.16327315e-01, 6.85347705e-01, 3.03992350e-01,\n",
       "       2.17102893e+00, 1.06277706e+00, 8.05617751e-01, 2.99103971e+00,\n",
       "       8.28704849e-01, 4.41256030e-02, 4.84877494e-01, 8.65926700e-04,\n",
       "       1.57732810e-01, 1.49469230e+00, 2.83464486e+00, 2.50416643e+00,\n",
       "       3.81493961e-01, 1.19377526e+00, 1.38706210e-02, 4.29932875e+00,\n",
       "       4.98408757e-02, 1.07030487e+00, 1.30006550e+00, 2.18552232e+00,\n",
       "       3.41448547e-01, 5.38819156e-02, 5.25857731e+00, 1.82273363e+00,\n",
       "       3.20504237e-04, 1.17818310e+00, 1.36516060e+00, 1.34010656e-01,\n",
       "       1.46819573e-01, 6.37371532e-01, 3.30944017e-01, 5.32821811e-02,\n",
       "       1.82330024e+00, 2.25625296e-01, 1.72183648e-02, 3.63552822e-01,\n",
       "       2.20376511e-01, 1.06080859e+00, 1.44146922e+00, 1.91995377e-04,\n",
       "       1.81946200e+00, 2.15973831e-01, 2.16392013e+00, 1.46322710e+00,\n",
       "       1.85469862e-01, 9.68164072e-02, 3.97222801e+00, 1.76615646e+00,\n",
       "       1.16730991e+00, 7.32226272e+00, 2.61283834e+00, 8.08653957e+00,\n",
       "       2.91786099e-01, 4.07440071e-03, 3.91588557e-02, 3.93091992e-02,\n",
       "       1.49224833e+00, 7.50422959e+00, 1.33337387e+00, 2.35274859e-01,\n",
       "       9.00067686e-01, 3.56160731e-01, 1.76042376e-01, 4.28293574e-02,\n",
       "       1.33915293e-02, 1.42106481e+00, 3.14258634e+00, 8.30681876e-01,\n",
       "       2.30651137e-01, 1.13998074e+00, 1.28423317e-01, 2.17666355e+00,\n",
       "       1.83749336e+00, 1.88276046e-02, 2.22167800e+00, 1.30554557e+00,\n",
       "       1.88616709e+00, 3.78714484e-01, 1.10513662e-01, 1.06212739e+00,\n",
       "       1.39830238e+00, 4.22878335e-03, 1.26709518e+00, 4.74905214e-02,\n",
       "       8.71007810e-02, 9.73733386e-01, 7.60205084e-01, 1.99184505e+00,\n",
       "       2.30343166e-01, 1.05534603e-02, 3.70129867e-06, 8.08560943e-01,\n",
       "       6.63193260e-01, 1.84599925e-03, 1.68099060e-01, 7.54365305e-01,\n",
       "       1.07396025e+00, 8.85391033e-02, 1.70118140e-01, 4.97143478e-01,\n",
       "       1.34543739e-03, 4.82918026e-01, 2.38609296e+00, 2.87372804e+00,\n",
       "       1.63369912e+00, 8.15292920e-02, 2.86089759e-01, 1.18697341e-01,\n",
       "       3.13841125e+00, 1.39970091e-01, 4.25797769e-04, 1.36196624e+00,\n",
       "       4.59586773e+00, 3.58021905e+00, 4.47749914e-02, 6.55472623e-01,\n",
       "       1.41642783e+00, 1.02318022e-01, 2.10312364e+00, 3.64833276e-01,\n",
       "       2.25283611e+00, 8.12404300e-01, 1.44988396e-02, 9.14620902e-01,\n",
       "       1.50085515e+00, 1.51424373e+00, 1.35646562e+00, 7.98626611e-01,\n",
       "       2.51804869e+00, 2.60001216e+00, 9.04505546e-01, 1.61254708e+00,\n",
       "       4.08546328e-01, 1.11637738e-02, 9.16727736e-01, 4.54890026e-02,\n",
       "       1.57239535e-02, 6.28874501e-02, 1.99989725e+00, 6.27220615e-03,\n",
       "       1.10757048e+00, 1.08663460e+00, 1.38374203e+00, 3.67308871e-01,\n",
       "       9.19441606e-01, 1.45208130e-01, 1.12828585e-01, 4.42078650e-01,\n",
       "       6.35944569e-05, 3.25400294e-01, 2.47413336e-01, 3.06352091e-04,\n",
       "       7.02310522e-01, 6.21041791e-01, 5.65480537e-01, 5.21694704e-03,\n",
       "       1.97726637e+00, 8.93302419e-01, 3.20826740e+00, 3.51520573e-02,\n",
       "       3.39319885e-01, 5.41486676e-02, 4.42583575e+00, 7.30149838e-01,\n",
       "       1.56747483e-01, 9.31058967e-01, 1.46567059e-01, 8.94259592e-01,\n",
       "       1.83776665e-01, 6.95698249e-01, 1.08335214e-02, 3.09735147e+00,\n",
       "       2.42189503e-04, 4.40132378e-01, 8.45846558e-02, 4.99725779e+00,\n",
       "       1.12859220e+00, 1.71772068e-01, 4.92283179e+00, 1.38025686e-05,\n",
       "       9.95398256e-01, 1.53722507e-02, 3.04907804e-02, 1.38585305e-03,\n",
       "       1.10254987e-01, 8.64877291e-01, 1.03695110e-01, 8.11444743e-01,\n",
       "       1.42908277e+00, 2.17857128e-01, 2.02134740e-01, 1.87151420e+00,\n",
       "       3.86434020e-05, 7.04966018e-04, 1.46550183e-02, 4.47600477e-01,\n",
       "       1.26202953e-02, 7.95310078e-01, 1.47251330e+00, 3.06507988e+00,\n",
       "       9.37983876e-01, 3.64452555e-01, 8.35131866e-01, 2.00868025e+00,\n",
       "       5.57148251e-01, 2.18703481e+00, 9.12174703e-01, 1.98125930e-01,\n",
       "       9.55517421e-02, 2.68892451e-01, 1.14129865e+00, 7.14396856e-01,\n",
       "       6.81113271e-04, 3.77930826e-01, 7.03972127e-01, 2.10340882e-02,\n",
       "       4.62408396e-01, 9.74078820e-03, 2.71007428e-01, 4.63066789e+00,\n",
       "       2.17114797e+00, 5.47231729e-02, 9.59846455e-01, 5.22159792e-02,\n",
       "       1.87732994e+00, 1.52733245e+00, 8.98649134e-01, 3.59819271e+00,\n",
       "       3.13638501e-04, 3.36084513e+00, 1.64922763e-02, 4.13844825e-02,\n",
       "       2.44869671e-01, 1.27506317e-03, 2.36514640e-05, 2.51885381e+00,\n",
       "       1.67890368e+00, 1.74601957e+00, 2.28631608e-02, 2.50508160e-02,\n",
       "       2.55365922e-01, 1.71564014e+00, 6.67479157e-02, 6.15496869e-01,\n",
       "       3.13847902e-01, 1.51642707e-01, 4.36698693e-03, 2.87138368e+00,\n",
       "       9.92676562e-03, 1.38944645e-01, 6.92972065e-01, 3.04056693e-02,\n",
       "       4.05746876e-02, 2.69995279e+00, 7.35997508e-01, 2.13115647e-02,\n",
       "       1.10663005e-01, 9.93064370e-01, 1.26171489e+00, 1.12026498e+00,\n",
       "       2.63707458e-01, 4.52148371e+00, 1.04609239e-01, 5.70520722e-02,\n",
       "       3.68679289e-01, 1.22526736e+00, 3.73217668e-01, 4.08959793e-03,\n",
       "       3.87619499e+00, 8.75586244e-05, 1.76263094e+00, 2.03100920e+00,\n",
       "       9.74747563e-01, 1.68687514e+00, 4.81629772e-02, 6.66815695e-01,\n",
       "       7.99778978e-01, 5.89697266e-01, 3.67186019e-02, 5.35217750e-02,\n",
       "       1.10026502e+00, 2.74296171e+00, 9.55944839e-06, 2.39321829e-01,\n",
       "       3.46170483e+00, 3.26934527e-01, 3.26554093e-01, 2.89649627e-02,\n",
       "       8.77956992e-02, 2.15949642e-01, 2.42499406e+00, 4.80728194e-02,\n",
       "       1.23655642e+00, 1.96274481e-03, 1.57122330e-01, 1.64035433e-01,\n",
       "       2.02415751e+00, 2.95855422e-01, 1.28259954e+00, 1.29206793e+00,\n",
       "       1.50612666e-02, 7.34410366e+00, 1.89184048e-01, 9.15758706e-03,\n",
       "       9.75597515e-01, 3.69085936e-01, 2.37570920e-01, 1.34488095e-01,\n",
       "       3.53330250e-01, 7.02352280e-01, 8.32801267e-02, 5.10419356e-01,\n",
       "       1.19009920e+00, 1.23543942e+00, 4.48676143e+00, 2.63979745e-01,\n",
       "       4.13858858e-03, 1.67315040e+00, 8.19164874e-01, 3.12541453e-01,\n",
       "       4.11991437e-02, 6.95266831e-01, 1.98058336e+00, 4.30719062e-01,\n",
       "       1.01018450e+00, 1.46992374e+00, 1.39191290e+00, 1.07624436e+00,\n",
       "       2.34255401e-02, 2.89833922e-01, 2.62901559e+00, 3.24239747e-01,\n",
       "       2.04562292e-02, 2.79317002e+00, 1.01324501e-03, 1.07001876e-01,\n",
       "       1.02535979e-01, 9.43776117e-02, 2.34260880e-02, 5.73088142e-03,\n",
       "       6.30340128e+00, 1.04914808e+00, 8.44682394e-02, 3.05196407e-01,\n",
       "       7.89259306e-03, 8.85426000e+00, 4.78656101e-02, 1.02834959e+00,\n",
       "       1.81017962e+00, 2.20906671e-01, 3.42437323e-01, 1.52921736e-01,\n",
       "       6.57903027e-02, 1.77561987e-01, 2.59929245e+00, 1.26300683e-01,\n",
       "       3.61977329e-01, 9.37951231e-03, 1.13074058e-01, 2.71918781e-01,\n",
       "       7.93776825e-01, 6.53516427e-01, 4.57169939e+00, 2.81908198e-01,\n",
       "       2.23263207e-01, 1.41433084e-01, 2.28878942e+00, 3.33522595e+00,\n",
       "       6.72442297e-04, 2.39625664e-01, 4.56476972e-02, 1.01026502e-01,\n",
       "       3.96367877e-02, 2.52704113e+00, 9.25997596e-02, 2.44943311e-01,\n",
       "       3.98758702e-01, 1.64830187e-01, 3.41052233e+00, 2.77237966e-02,\n",
       "       1.55606954e+00, 2.90693645e-02, 8.47553891e-02, 5.52119898e-01,\n",
       "       3.98005663e+00, 1.94410608e+00, 5.55938441e-04, 3.00125233e-01,\n",
       "       1.14585583e-02, 7.96013610e-03, 1.19349749e-01, 4.60596464e-03,\n",
       "       1.99729839e+00, 8.76896189e-01, 1.53561632e+00, 5.41997632e+00,\n",
       "       2.63338239e-02, 2.70317863e-02, 6.26021717e-01, 4.40303342e-02,\n",
       "       1.00745095e+00, 6.22902579e-01, 7.64960601e-01, 5.28082377e-01,\n",
       "       2.60020298e-01, 6.98068780e-01, 1.33475276e+00, 1.08846222e+00,\n",
       "       4.17738579e-01, 1.65014008e-01, 9.69706828e-01, 2.31233455e-01,\n",
       "       4.72648815e-03, 1.89138369e-01, 3.02860240e+00, 1.21629771e+00])"
      ]
     },
     "execution_count": 39,
     "metadata": {},
     "output_type": "execute_result"
    }
   ],
   "source": [
    "dfnum = 1. # between group degrees of freedom\n",
    "dfden = 48. # within groups degrees of freedom\n",
    "s = np.random.f(dfnum, dfden, 1000)\n",
    "s"
   ]
  },
  {
   "cell_type": "markdown",
   "metadata": {},
   "source": [
    "### random.gamma"
   ]
  },
  {
   "cell_type": "markdown",
   "metadata": {},
   "source": [
    "This function is used to draw samples from a Gamma distribution. The Gamma distribution is often used to model the times to failure of electronic components, and arises naturally in processes for which the waiting times between Poisson distributed events are relevant. Samples are drawn from a Gamma distribution with specified parameters. These parameters are as follows:\n",
    "\n",
    "-  shape (float or array_like of floats):<br>\n",
    "    The shape of the gamma distribution. Should be greater than zero.<br>\n",
    "-  scale (float or array_like of floats, optional):<br>\n",
    "    The scale of the gamma distribution. Should be greater than zero. Default is equal to 1.<br>\n",
    "-  size (int or tuple of ints, optional):<br>\n",
    "    This parameter defines the output shape. If size is None (default), a single value is returned if shape and scale are both scalars. Otherwise, np.broadcast(shape, scale).size samples are drawn.<br>\n",
    "\n",
    "This function returns an *n* dimensional array or a scalar."
   ]
  },
  {
   "cell_type": "code",
   "execution_count": 40,
   "metadata": {},
   "outputs": [],
   "source": [
    "shape, scale = 2., 2.  # mean=4, std=2*sqrt(2)\n",
    "s = np.random.gamma(shape, scale, 1000)"
   ]
  },
  {
   "cell_type": "markdown",
   "metadata": {},
   "source": [
    "Display the histogram of the samples, along with the probability density function:"
   ]
  },
  {
   "cell_type": "code",
   "execution_count": 41,
   "metadata": {},
   "outputs": [
    {
     "data": {
      "image/png": "[encoded data removed]",
      "text/plain": [
       "<Figure size 432x288 with 1 Axes>"
      ]
     },
     "metadata": {},
     "output_type": "display_data"
    }
   ],
   "source": [
    "count, bins, ignored = plt.hist(s, 50, density=True)\n",
    "y = bins**(shape-1)*(np.exp(-bins/scale) / (sps.gamma(shape)*scale**shape))\n",
    "plt.plot(bins, y, linewidth=2, color='r')\n",
    "plt.show()"
   ]
  },
  {
   "cell_type": "markdown",
   "metadata": {},
   "source": [
    "### random.geometric"
   ]
  },
  {
   "cell_type": "markdown",
   "metadata": {},
   "source": [
    "This function is used to draw samples from the geometric distribution.\n",
    "\n",
    "Bernoulli trials are experiments with one of two outcomes: success or failure (an example of such an experiment is flipping a coin). The geometric distribution models the number of trials that must be run in order to achieve success. It is therefore supported on the positive integers, k = 1, 2, ....\n",
    "\n",
    "This function takes the following parameters:<br>\n",
    "-  p (float or array_like of floats):<br>\n",
    "    The probability of success of an individual trial.<br>\n",
    "-  size (int or tuple of ints, optional):<br>\n",
    "    This parameter defines the output shape. If size is None (default), a single value is returned if p is a scalar. Otherwise, np.array(p).size samples are drawn.\n",
    "\n",
    "The return of this function is an *n* dimensional array or a scalar.\n",
    "\n",
    "Draw ten thousand values from the geometric distribution, with the probability of an individual success equal to 0.35:"
   ]
  },
  {
   "cell_type": "code",
   "execution_count": 42,
   "metadata": {},
   "outputs": [],
   "source": [
    "z = np.random.geometric(p=0.35, size=10000)"
   ]
  },
  {
   "cell_type": "markdown",
   "metadata": {},
   "source": [
    "How many trials succeeded after a single run?"
   ]
  },
  {
   "cell_type": "code",
   "execution_count": 43,
   "metadata": {},
   "outputs": [
    {
     "data": {
      "text/plain": [
       "0.3524"
      ]
     },
     "execution_count": 43,
     "metadata": {},
     "output_type": "execute_result"
    }
   ],
   "source": [
    "(z == 1).sum() / 10000."
   ]
  },
  {
   "cell_type": "markdown",
   "metadata": {},
   "source": [
    "### random.gumbel"
   ]
  },
  {
   "cell_type": "markdown",
   "metadata": {},
   "source": [
    "This function is used to draw samples from a Gumbel distribution with specified location and scale. \n",
    "\n",
    "The parameters this function takes are as follows:\t\n",
    "-  loc (float or array_like of floats, optional):<br>\n",
    "The location of the mode of the distribution. Default is 0.\n",
    "-  scale (float or array_like of floats, optional):<br>\n",
    "The scale parameter of the distribution. Default is 1.\n",
    "-  size (int or tuple of ints, optional):<br>\n",
    "This parameter defines the output shape. If size is None (default), a single value is returned if loc and scale are both scalars. Otherwise, np.broadcast(loc, scale).size samples are drawn.\n",
    "\n",
    "This function returns an *n* dimensional array or a scalar.\n",
    "\n",
    "The Gumbel (or Smallest Extreme Value (SEV) or the Smallest Extreme Value Type I) distribution is one of a class of Generalized Extreme Value (GEV) distributions used in modeling extreme value problems. The Gumbel is a special case of the Extreme Value Type I distribution for maximums from distributions with “exponential-like” tails.\n",
    "\n",
    "Draw samples from the distribution:"
   ]
  },
  {
   "cell_type": "code",
   "execution_count": 44,
   "metadata": {},
   "outputs": [],
   "source": [
    "mu, beta = 0, 0.1 # location and scale\n",
    "s = np.random.gumbel(mu, beta, 1000)"
   ]
  },
  {
   "cell_type": "markdown",
   "metadata": {},
   "source": [
    "Display the histogram of the samples, along with the probability density function:"
   ]
  },
  {
   "cell_type": "code",
   "execution_count": 45,
   "metadata": {},
   "outputs": [
    {
     "data": {
      "image/png": "[encoded data removed]",
      "text/plain": [
       "<Figure size 432x288 with 1 Axes>"
      ]
     },
     "metadata": {},
     "output_type": "display_data"
    }
   ],
   "source": [
    "count, bins, ignored = plt.hist(s, 30, density=True)\n",
    "plt.plot(bins, (1/beta)*np.exp(-(bins - mu)/beta)* np.exp( -np.exp( -(bins - mu) /beta) ), linewidth=2, color='r')\n",
    "plt.show()"
   ]
  },
  {
   "cell_type": "markdown",
   "metadata": {},
   "source": [
    "Show how an extreme value distribution can arise from a Gaussian process and compare to a Gaussian:"
   ]
  },
  {
   "cell_type": "code",
   "execution_count": 46,
   "metadata": {},
   "outputs": [
    {
     "data": {
      "image/png": "[encoded data removed]",
      "text/plain": [
       "<Figure size 432x288 with 1 Axes>"
      ]
     },
     "metadata": {},
     "output_type": "display_data"
    }
   ],
   "source": [
    "means = []\n",
    "maxima = []\n",
    "for i in range(0,1000) :\n",
    "    a = np.random.normal(mu, beta, 1000)\n",
    "    means.append(a.mean())\n",
    "    maxima.append(a.max())\n",
    "count, bins, ignored = plt.hist(maxima, 30, density=True)\n",
    "beta = np.std(maxima) * np.sqrt(6) / np.pi\n",
    "mu = np.mean(maxima) - 0.57721*beta\n",
    "plt.plot(bins, (1/beta)*np.exp(-(bins - mu)/beta) * np.exp(-np.exp(-(bins - mu)/beta)), linewidth=2, color='r')\n",
    "plt.plot(bins, 1/(beta * np.sqrt(2 * np.pi)) * np.exp(-(bins - mu)**2 / (2 * beta**2)), linewidth=2, color='g')\n",
    "plt.show()"
   ]
  },
  {
   "cell_type": "markdown",
   "metadata": {},
   "source": [
    "### random.hypergeometric"
   ]
  },
  {
   "cell_type": "markdown",
   "metadata": {},
   "source": [
    "This function is used to draw samples from a Hypergeometric distribution. These samples are drawn from a hypergeometric distribution with specified parameters, ngood (ways to make a good selection), nbad (ways to make a bad selection), and nsample which is the number of items sampled, which is less than or equal to the sum ngood + nbad.\n",
    "    \n",
    "The parameters this function takes are as follows:\t\n",
    "\n",
    "-  ngood (int or array_like of ints):<br>\n",
    "Number of ways to make a good selection. Must be nonnegative.\n",
    "-  nbad (int or array_like of ints)<br>\n",
    "Number of ways to make a bad selection. Must be nonnegative.\n",
    "-  nsample (int or array_like of ints):\n",
    "Number of items sampled. Must be at least 1 and at most ngood + nbad.\n",
    "-  size (int or tuple of ints, optional):\n",
    "This parameter defines the output shape. If size is None (default), a single value is returned if ngood, nbad, and nsample are all scalars. Otherwise, np.broadcast(ngood, nbad, nsample).size samples are drawn.\n",
    "\n",
    "This function returns a *n* dimensional array or a scalar.\n",
    "\n",
    "Note that this distribution is very similar to the binomial distribution, except that in this case, samples are drawn without replacement, whereas in the Binomial case samples are drawn with replacement (or the sample space is infinite). As the sample space becomes large, this distribution approaches the binomial."
   ]
  },
  {
   "cell_type": "code",
   "execution_count": 47,
   "metadata": {},
   "outputs": [
    {
     "data": {
      "text/plain": [
       "(array([ 11.,   0.,   0.,   0.,   0., 185.,   0.,   0.,   0., 804.]),\n",
       " array([ 8. ,  8.2,  8.4,  8.6,  8.8,  9. ,  9.2,  9.4,  9.6,  9.8, 10. ]),\n",
       " <a list of 10 Patch objects>)"
      ]
     },
     "execution_count": 47,
     "metadata": {},
     "output_type": "execute_result"
    },
    {
     "data": {
      "image/png": "[encoded data removed]",
      "text/plain": [
       "<Figure size 432x288 with 1 Axes>"
      ]
     },
     "metadata": {},
     "output_type": "display_data"
    }
   ],
   "source": [
    "ngood, nbad, nsamp = 100, 2, 10\n",
    "s = np.random.hypergeometric(ngood, nbad, nsamp, 1000)\n",
    "plt.hist(s)"
   ]
  },
  {
   "cell_type": "code",
   "execution_count": 48,
   "metadata": {},
   "outputs": [
    {
     "data": {
      "text/plain": [
       "0.00293"
      ]
     },
     "execution_count": 48,
     "metadata": {},
     "output_type": "execute_result"
    }
   ],
   "source": [
    "s = np.random.hypergeometric(15, 15, 15, 100000)\n",
    "sum(s>=12)/100000. + sum(s<=3)/100000."
   ]
  },
  {
   "cell_type": "markdown",
   "metadata": {},
   "source": [
    "### random.laplace"
   ]
  },
  {
   "cell_type": "markdown",
   "metadata": {},
   "source": [
    "This function is used to draw samples from the Laplace or double exponential distribution with specified location (or mean) and scale (decay).\n",
    "\n",
    "The Laplace distribution is similar to the Gaussian/normal distribution, but is sharper at the peak and has fatter tails. It represents the difference between two independent, identically distributed exponential random variables.\n",
    "\n",
    "The parameters of this function are as follows:\t\n",
    "-  loc (float or array_like of floats, optional):<br>\n",
    "The position of the distribution peak. Default is 0.\n",
    "-  scale (float or array_like of floats, optional):<br>\n",
    "lambda, the exponential decay. Default is 1.\n",
    "-  size : int or tuple of ints, optional<br>\n",
    "This parameter defines the output shape. If size is None (default), a single value is returned if loc and scale are both scalars. Otherwise, np.broadcast(loc, scale).size samples are drawn.\n",
    "\n",
    "This function returns a *n* dimensional array or a scalar.\n",
    "\n",
    "The first law of Laplace, from 1774, states that the frequency of an error can be expressed as an exponential function of the absolute magnitude of the error, which leads to the Laplace distribution. For many problems in economics and health sciences, this distribution seems to model the data better than the standard Gaussian distribution."
   ]
  },
  {
   "cell_type": "code",
   "execution_count": 49,
   "metadata": {},
   "outputs": [],
   "source": [
    "loc, scale = 0., 1.\n",
    "s = np.random.laplace(loc, scale, 1000)"
   ]
  },
  {
   "cell_type": "markdown",
   "metadata": {},
   "source": [
    "Displaying the histogram of samples, along with the probability density function:"
   ]
  },
  {
   "cell_type": "code",
   "execution_count": 50,
   "metadata": {},
   "outputs": [
    {
     "data": {
      "text/plain": [
       "[<matplotlib.lines.Line2D at 0x192f3bbfcf8>]"
      ]
     },
     "execution_count": 50,
     "metadata": {},
     "output_type": "execute_result"
    },
    {
     "data": {
      "image/png": "[encoded data removed]",
      "text/plain": [
       "<Figure size 432x288 with 1 Axes>"
      ]
     },
     "metadata": {},
     "output_type": "display_data"
    }
   ],
   "source": [
    "count, bins, ignored = plt.hist(s, 30, density=True)\n",
    "x = np.arange(-8., 8., .01)\n",
    "pdf = np.exp(-abs(x-loc)/scale)/(2.*scale)\n",
    "plt.plot(x, pdf)"
   ]
  },
  {
   "cell_type": "markdown",
   "metadata": {},
   "source": [
    "### random.logistic"
   ]
  },
  {
   "cell_type": "markdown",
   "metadata": {},
   "source": [
    "This function is used to draw samples from a logistic distribution.\n",
    "\n",
    "The parameters this function takes are as follows:\t\n",
    "-  loc (float or array_like of floats, optional):<br>\n",
    "Parameter of the distribution. Default is 0.\n",
    "-  scale (float or array_like of floats, optional):<br>\n",
    "This is the parameter of the distribution. Should be greater than zero. Default is 1.\n",
    "-  size (int or tuple of ints, optional):<br>\n",
    "This parameter defines the output shape. If size is None (default), a single value is returned if loc and scale are both scalars. Otherwise, np.broadcast(loc, scale).size samples are drawn.\n",
    "\n",
    "This function returns an *n* dimensional array or a scalar.\n",
    "\n",
    "The Logistic distribution is used in Extreme Value problems where it can act as a mixture of Gumbel distributions, in Epidemiology, and by the World Chess Federation (FIDE) where it is used in the Elo ranking system, assuming the performance of each player is a logistically distributed random variable.\n",
    "\n",
    "Draw samples from the distribution:"
   ]
  },
  {
   "cell_type": "code",
   "execution_count": 51,
   "metadata": {},
   "outputs": [
    {
     "data": {
      "image/png": "[encoded data removed]",
      "text/plain": [
       "<Figure size 432x288 with 1 Axes>"
      ]
     },
     "metadata": {},
     "output_type": "display_data"
    }
   ],
   "source": [
    "loc, scale = 10, 1\n",
    "s = np.random.logistic(loc, scale, 10000)\n",
    "count, bins, ignored = plt.hist(s, bins=50)"
   ]
  },
  {
   "cell_type": "markdown",
   "metadata": {},
   "source": [
    "### random.lognormal"
   ]
  },
  {
   "cell_type": "markdown",
   "metadata": {},
   "source": [
    "This function is udes to draw samples from a log-normal distribution with specified mean, standard deviation, and array shape. Note that the mean and standard deviation are not the values for the distribution itself, but of the underlying normal distribution it is derived from.\n",
    "\n",
    "The parameters of this function are as follows:\n",
    "-  mean (float or array_like of floats, optional)<br>\n",
    "The mean value of the underlying normal distribution. Default is 0.\n",
    "-  sigma (float or array_like of floats, optional)<br>\n",
    "The standard deviation of the underlying normal distribution. Should be greater than zero. Default is 1.\n",
    "-  size (int or tuple of ints, optional)<br>\n",
    "This parameter defines the output shape. If size is None (default), a single value is returned if mean and sigma are both scalars. Otherwise, np.broadcast(mean, sigma).size samples are drawn.\n",
    "\n",
    "This function returns an *n* dimensional array or a scalar.\n",
    "\n",
    "A log-normal distribution results if a random variable is the product of a large number of independent, identically-distributed variables in the same way that a normal distribution results if the variable is the sum of a large number of independent, identically-distributed variables.\n",
    "\n",
    "Draw samples from the distribution:"
   ]
  },
  {
   "cell_type": "code",
   "execution_count": 52,
   "metadata": {},
   "outputs": [],
   "source": [
    "mu, sigma = 3., 1. # mean and standard deviation\n",
    "s = np.random.lognormal(mu, sigma, 1000)"
   ]
  },
  {
   "cell_type": "markdown",
   "metadata": {},
   "source": [
    "Display the histogram of the samples, along with the probability density function:"
   ]
  },
  {
   "cell_type": "code",
   "execution_count": 53,
   "metadata": {},
   "outputs": [
    {
     "data": {
      "image/png": "[encoded data removed]",
      "text/plain": [
       "<Figure size 432x288 with 1 Axes>"
      ]
     },
     "metadata": {},
     "output_type": "display_data"
    }
   ],
   "source": [
    "import matplotlib.pyplot as plt\n",
    "count, bins, ignored = plt.hist(s, 100, density=True, align='mid')\n",
    "\n",
    "x = np.linspace(min(bins), max(bins), 10000)\n",
    "pdf = (np.exp(-(np.log(x) - mu)**2 / (2 * sigma**2)) / (x * sigma * np.sqrt(2 * np.pi)))\n",
    "\n",
    "plt.plot(x, pdf, linewidth=2, color='r')\n",
    "plt.axis('tight')\n",
    "plt.show()"
   ]
  },
  {
   "cell_type": "markdown",
   "metadata": {},
   "source": [
    "Demonstrate that taking the products of random samples from a uniform distribution can be fit well by a log-normal probability density function."
   ]
  },
  {
   "cell_type": "code",
   "execution_count": 54,
   "metadata": {},
   "outputs": [
    {
     "data": {
      "image/png": "[encoded data removed]",
      "text/plain": [
       "<Figure size 432x288 with 1 Axes>"
      ]
     },
     "metadata": {},
     "output_type": "display_data"
    }
   ],
   "source": [
    "#Generate a thousand samples: each is the product of 100 random\n",
    "#values, drawn from a normal distribution.\n",
    "b = []\n",
    "for i in range(1000):\n",
    "    a = 10. + np.random.random(100)\n",
    "    b.append(np.product(a))\n",
    "\n",
    "b = np.array(b) / np.min(b) # scale values to be positive\n",
    "count, bins, ignored = plt.hist(b, 100, density=True, align='mid')\n",
    "sigma = np.std(np.log(b))\n",
    "mu = np.mean(np.log(b))\n",
    "\n",
    "x = np.linspace(min(bins), max(bins), 10000)\n",
    "pdf = (np.exp(-(np.log(x) - mu)**2 / (2 * sigma**2)) / (x * sigma * np.sqrt(2 * np.pi)))\n",
    "\n",
    "plt.plot(x, pdf, color='r', linewidth=2)\n",
    "plt.show()"
   ]
  },
  {
   "cell_type": "markdown",
   "metadata": {},
   "source": [
    "### random.logseries"
   ]
  },
  {
   "cell_type": "markdown",
   "metadata": {},
   "source": [
    "This function is used to draw samples from a logarithmic series distribution with specified shape parameter, 0 < p < 1.\n",
    "\n",
    "The parameters this function takes are as follows:\n",
    "-  p (float or array_like of floats)<br>\n",
    "Shape parameter for the distribution. Must be in the range (0, 1).\n",
    "-  size (int or tuple of ints, optional)<br>\n",
    "This parameter defines the output shape. If size is None (default), a single value is returned if p is a scalar. Otherwise, np.array(p).size samples are drawn.\n",
    "\n",
    "This function returns an *n* dimensional array or a scalar.\n",
    "\n",
    "The log series distribution is frequently used to represent species richness and occurrence, first proposed by Fisher, Corbet, and Williams in 1943. It may also be used to model the numbers of occupants seen in cars.\n",
    "\n",
    "Draw samples from the distribution:"
   ]
  },
  {
   "cell_type": "code",
   "execution_count": 55,
   "metadata": {},
   "outputs": [
    {
     "data": {
      "image/png": "[encoded data removed]",
      "text/plain": [
       "<Figure size 432x288 with 1 Axes>"
      ]
     },
     "metadata": {},
     "output_type": "display_data"
    }
   ],
   "source": [
    "a = .6\n",
    "s = np.random.logseries(a, 10000)\n",
    "count, bins, ignored = plt.hist(s)"
   ]
  },
  {
   "cell_type": "markdown",
   "metadata": {},
   "source": [
    "### random.multinomial"
   ]
  },
  {
   "cell_type": "markdown",
   "metadata": {},
   "source": [
    "This function is used to draw samples from a multinomial distribution, which is a multivariate generalisation of the binomial distribution. \n",
    "\n",
    "The parameters this function takes are as follows:\n",
    "-  n (int)\n",
    "The number of experiments.\n",
    "-  pvals (sequence of floats, length p)<br>\n",
    "The probabilities of each of the p different outcomes. These should sum to 1 (however, the last element is always assumed to account for the remaining probability, as long as sum(pvals[:-1]) <= 1).\n",
    "-  size (int or tuple of ints, optional)<br>\n",
    "This parameter defines the output shape. Default is None, in which case a single value is returned.\n",
    "\n",
    "This function returns an *n* dimensional array.\n",
    "\n",
    "Throw a dice 20 times:"
   ]
  },
  {
   "cell_type": "code",
   "execution_count": 56,
   "metadata": {},
   "outputs": [
    {
     "data": {
      "text/plain": [
       "array([[6, 2, 2, 2, 7, 1]])"
      ]
     },
     "execution_count": 56,
     "metadata": {},
     "output_type": "execute_result"
    }
   ],
   "source": [
    "np.random.multinomial(20, [1/6.]*6, size=1)\n",
    "# It landed for example: 4 times on 1, once on 2, etc."
   ]
  },
  {
   "cell_type": "markdown",
   "metadata": {},
   "source": [
    "Now, throw the dice 20 times, and 20 times again:"
   ]
  },
  {
   "cell_type": "code",
   "execution_count": 57,
   "metadata": {},
   "outputs": [
    {
     "data": {
      "text/plain": [
       "array([[4, 3, 2, 7, 2, 2],\n",
       "       [0, 5, 5, 3, 3, 4]])"
      ]
     },
     "execution_count": 57,
     "metadata": {},
     "output_type": "execute_result"
    }
   ],
   "source": [
    "np.random.multinomial(20, [1/6.]*6, size=2)"
   ]
  },
  {
   "cell_type": "markdown",
   "metadata": {},
   "source": [
    "For the first run, we threw 3 times 1, 4 times 2, etc. For the second, we threw 2 times 1, 4 times 2, etc.\n",
    "\n",
    "A loaded die is more likely to land on number 6:"
   ]
  },
  {
   "cell_type": "code",
   "execution_count": 58,
   "metadata": {},
   "outputs": [
    {
     "data": {
      "text/plain": [
       "array([ 9, 17, 20, 15, 12, 27])"
      ]
     },
     "execution_count": 58,
     "metadata": {},
     "output_type": "execute_result"
    }
   ],
   "source": [
    "np.random.multinomial(100, [1/7.]*5 + [2/7.])"
   ]
  },
  {
   "cell_type": "markdown",
   "metadata": {},
   "source": [
    "The probability inputs should be normalized. As an implementation detail, the value of the last entry is ignored and assumed to take up any leftover probability mass, but this should not be relied on. A biased coin which has twice as much weight on one side as on the other should be sampled like so:"
   ]
  },
  {
   "cell_type": "code",
   "execution_count": 59,
   "metadata": {},
   "outputs": [
    {
     "name": "stdout",
     "output_type": "stream",
     "text": [
      "[25 75]\n",
      "[100   0]\n"
     ]
    }
   ],
   "source": [
    "# like this:\n",
    "r = np.random.multinomial(100, [1.0 / 3, 2.0 / 3])  # RIGHT\n",
    "print(r)\n",
    "# not like this:\n",
    "w = np.random.multinomial(100, [1.0, 2.0])  # WRONG\n",
    "print(w)"
   ]
  },
  {
   "cell_type": "markdown",
   "metadata": {},
   "source": [
    "### random.multivariate_normal"
   ]
  },
  {
   "cell_type": "markdown",
   "metadata": {},
   "source": [
    "This function is used to draw random samples from a multivariate normal distribution.\n",
    "\n",
    "The multivariate normal, multinormal or Gaussian distribution is a generalization of the one-dimensional normal distribution to higher dimensions. Such a distribution is specified by its mean and covariance matrix. These parameters are analogous to the mean (average or “center”) and variance (standard deviation, or “width,” squared) of the one-dimensional normal distribution.\n",
    "\n",
    "The parameters of this function are as follows:\t\n",
    "-  mean (1-D array_like, of length *n*):<br>\n",
    "Mean of the N-dimensional distribution.\n",
    "-  cov (2-D array_like, of shape (*n*, *n*)):<br>\n",
    "Covariance matrix of the distribution. It must be symmetric and positive-semidefinite for proper sampling.\n",
    "-  size (int or tuple of ints, optional):<br>\n",
    "This defines the output shape. Because each sample is N-dimensional, the output shape is (m,n,k,N). If no shape is specified, a single (N-D) sample is returned.\n",
    "-  check_valid ({‘warn’, ‘raise’, ‘ignore’}, optional):<br>\n",
    "Behavior when the covariance matrix is not positive semidefinite.\n",
    "-  tol (float, optional):<br>\n",
    "Tolerance when checking the singular values in covariance matrix.\n",
    "\n",
    "This function returns an *n* dimensional array.\n",
    "\n",
    "The mean is a coordinate in N-dimensional space, which represents the location where samples are most likely to be generated. This is analogous to the peak of the bell curve for the one-dimensional or univariate normal distribution.\n",
    "\n",
    "Covariance indicates the level to which two variables vary together. From the multivariate normal distribution, we draw N-dimensional samples, X = [x_1, x_2, ... x_N]. The covariance matrix element C_{ij} is the covariance of x_i and x_j. The element C_{ii} is the variance of x_i (i.e. its “spread”).\n",
    "\n",
    "Instead of specifying the full covariance matrix, popular approximations include:\n",
    "-  Spherical covariance (cov is a multiple of the identity matrix)\n",
    "-  Diagonal covariance (cov has non-negative elements, and only on the diagonal)\n",
    "\n",
    "This geometrical property can be seen in two dimensions by plotting generated data-points:"
   ]
  },
  {
   "cell_type": "code",
   "execution_count": 60,
   "metadata": {},
   "outputs": [],
   "source": [
    "mean = [0, 0]\n",
    "cov = [[1, 0], [0, 100]]  # diagonal covariance"
   ]
  },
  {
   "cell_type": "markdown",
   "metadata": {},
   "source": [
    "Diagonal covariance means that points are oriented along x or y-axis:"
   ]
  },
  {
   "cell_type": "code",
   "execution_count": 61,
   "metadata": {},
   "outputs": [
    {
     "data": {
      "image/png": "[encoded data removed]",
      "text/plain": [
       "<Figure size 432x288 with 1 Axes>"
      ]
     },
     "metadata": {},
     "output_type": "display_data"
    }
   ],
   "source": [
    "x, y = np.random.multivariate_normal(mean, cov, 5000).T\n",
    "plt.plot(x, y, 'x')\n",
    "plt.axis('equal')\n",
    "plt.show()"
   ]
  },
  {
   "cell_type": "markdown",
   "metadata": {},
   "source": [
    "Note that the covariance matrix must be positive semidefinite (a.k.a. nonnegative-definite). Otherwise, the behavior of this method is undefined and backwards compatibility is not guaranteed."
   ]
  },
  {
   "cell_type": "code",
   "execution_count": 62,
   "metadata": {},
   "outputs": [
    {
     "data": {
      "text/plain": [
       "(3, 3, 2)"
      ]
     },
     "execution_count": 62,
     "metadata": {},
     "output_type": "execute_result"
    }
   ],
   "source": [
    "mean = (1, 2)\n",
    "cov = [[1, 0], [0, 1]]\n",
    "x = np.random.multivariate_normal(mean, cov, (3, 3))\n",
    "x.shape"
   ]
  },
  {
   "cell_type": "markdown",
   "metadata": {},
   "source": [
    "The following is probably true, given that 0.6 is roughly twice the standard deviation:"
   ]
  },
  {
   "cell_type": "code",
   "execution_count": 63,
   "metadata": {},
   "outputs": [
    {
     "data": {
      "text/plain": [
       "[True, False]"
      ]
     },
     "execution_count": 63,
     "metadata": {},
     "output_type": "execute_result"
    }
   ],
   "source": [
    "list((x[0,0,:] - mean) < 0.6)"
   ]
  },
  {
   "cell_type": "markdown",
   "metadata": {},
   "source": [
    "### random.negative_binomial"
   ]
  },
  {
   "cell_type": "markdown",
   "metadata": {},
   "source": [
    "This function is used to drawn samples from a negative binomial distribution with specified parameters, n successes and p probability of success where n is an integer > 0 and p is in the interval [0, 1].\n",
    "\n",
    "The parameters of this function are as follows:\n",
    "-  n (int or array_like of ints):<br>\n",
    "Parameter of the distribution, > 0. Floats are also accepted, but they will be truncated to integers.\n",
    "-  p (float or array_like of floats):<br>\n",
    "Parameter of the distribution, >= 0 and <=1.\n",
    "-  size (int or tuple of ints, optional):<br>\n",
    "This parameter defines the output shape. If size is None (default), a single value is returned if n and p are both scalars. Otherwise, np.broadcast(n, p).size samples are drawn.\n",
    "\n",
    "The return of this function is an *n* dimensional array or a scalar."
   ]
  },
  {
   "cell_type": "markdown",
   "metadata": {},
   "source": [
    "Draw samples from the distribution:<br>\n",
    "A real world example. A company drills wild-cat oil exploration wells, each with an estimated probability of success of 0.1. What is the probability of having one success for each successive well, that is what is the probability of a single success after drilling 5 wells, after 6 wells, etc.?"
   ]
  },
  {
   "cell_type": "code",
   "execution_count": 64,
   "metadata": {},
   "outputs": [
    {
     "name": "stdout",
     "output_type": "stream",
     "text": [
      "1 wells drilled, probability of one success = 0.09943\n",
      "2 wells drilled, probability of one success = 0.188\n",
      "3 wells drilled, probability of one success = 0.26991\n",
      "4 wells drilled, probability of one success = 0.3433\n",
      "5 wells drilled, probability of one success = 0.40824\n",
      "6 wells drilled, probability of one success = 0.46855\n",
      "7 wells drilled, probability of one success = 0.52174\n",
      "8 wells drilled, probability of one success = 0.56938\n",
      "9 wells drilled, probability of one success = 0.61285\n",
      "10 wells drilled, probability of one success = 0.65095\n"
     ]
    }
   ],
   "source": [
    "s = np.random.negative_binomial(1, 0.1, 100000)\n",
    "for i in range(1, 11):\n",
    "    probability = sum(s<i) / 100000.\n",
    "    print (i, \"wells drilled, probability of one success =\", probability)"
   ]
  },
  {
   "cell_type": "markdown",
   "metadata": {},
   "source": [
    "### random.noncentral_chisquare"
   ]
  },
  {
   "cell_type": "markdown",
   "metadata": {},
   "source": [
    "This function is used to draw samples from a noncentral chi-square distribution, the noncentral  distribution is a generalisation of the  distribution.\n",
    "\n",
    "The parameters this function takes are as follows:\n",
    "-  df (float or array_like of floats):<br>\n",
    "Degrees of freedom, should be > 0. (Changed in version 1.10.0: Earlier NumPy versions required dfnum > 1.)\n",
    "-  nonc (float or array_like of floats):<br>\n",
    "Non-centrality, should be non-negative.\n",
    "-  size (int or tuple of ints, optional):<br>\n",
    "This parameter defines the output shape. If size is None (default), a single value is returned if df and nonc are both scalars. Otherwise, np.broadcast(df, nonc).size samples are drawn.\n",
    "\n",
    "This function returns an *n* dimensional array or a scalar.\n",
    "\n",
    "Draw values from the distribution and plot the histogram:"
   ]
  },
  {
   "cell_type": "code",
   "execution_count": 65,
   "metadata": {},
   "outputs": [
    {
     "data": {
      "image/png": "[encoded data removed]",
      "text/plain": [
       "<Figure size 432x288 with 1 Axes>"
      ]
     },
     "metadata": {},
     "output_type": "display_data"
    }
   ],
   "source": [
    "values = plt.hist(np.random.noncentral_chisquare(3, 20, 100000), bins=200, density=True)\n",
    "plt.show()"
   ]
  },
  {
   "cell_type": "markdown",
   "metadata": {},
   "source": [
    "Draw values from a noncentral chisquare with very small noncentrality, and compare to a chisquare."
   ]
  },
  {
   "cell_type": "code",
   "execution_count": 66,
   "metadata": {},
   "outputs": [
    {
     "data": {
      "image/png": "[encoded data removed]",
      "text/plain": [
       "<Figure size 432x288 with 1 Axes>"
      ]
     },
     "metadata": {},
     "output_type": "display_data"
    }
   ],
   "source": [
    "plt.figure()\n",
    "values = plt.hist(np.random.noncentral_chisquare(3, .0000001, 100000), bins=np.arange(0., 25, .1), density=True)\n",
    "values2 = plt.hist(np.random.chisquare(3, 100000), bins=np.arange(0., 25, .1), density=True)\n",
    "plt.plot(values[1][0:-1], values[0]-values2[0], 'ob')\n",
    "plt.show()"
   ]
  },
  {
   "cell_type": "markdown",
   "metadata": {},
   "source": [
    "Demonstrate how large values of non-centrality lead to a more symmetric distribution."
   ]
  },
  {
   "cell_type": "code",
   "execution_count": 67,
   "metadata": {},
   "outputs": [
    {
     "data": {
      "image/png": "[encoded data removed]",
      "text/plain": [
       "<Figure size 432x288 with 1 Axes>"
      ]
     },
     "metadata": {},
     "output_type": "display_data"
    }
   ],
   "source": [
    "plt.figure()\n",
    "values = plt.hist(np.random.noncentral_chisquare(3, 20, 100000), bins=200, density=True)\n",
    "plt.show()"
   ]
  },
  {
   "cell_type": "markdown",
   "metadata": {},
   "source": [
    "### random.noncentral_f"
   ]
  },
  {
   "cell_type": "markdown",
   "metadata": {},
   "source": [
    "This function is used to draw samples from the noncentral F distribution.\n",
    "\n",
    "The parameters of this function are as follows:\n",
    "-  dfnum (float or array_like of floats):<br>\n",
    "Numerator degrees of freedom, should be > 0.\n",
    "Changed in version 1.14.0: Earlier NumPy versions required dfnum > 1.\n",
    "-  dfden (float or array_like of floats):<br>\n",
    "Denominator degrees of freedom, should be > 0.\n",
    "-  nonc (float or array_like of floats):<br>\n",
    "Non-centrality parameter, the sum of the squares of the numerator means, should be >= 0.\n",
    "-  size (int or tuple of ints, optional):<br>\n",
    "This parameter defines the output shape. If size is None (default), a single value is returned if dfnum, dfden, and nonc are all scalars. Otherwise, np.broadcast(dfnum, dfden, nonc).size samples are drawn.\n",
    "\n",
    "This function returns an *n* dimensional array or a scalar.\n",
    "\n",
    "Drawn samples from the parameterized noncentral Fisher distribution."
   ]
  },
  {
   "cell_type": "markdown",
   "metadata": {},
   "source": [
    "In a study, testing for a specific alternative to the null hypothesis requires use of the Noncentral F distribution. We need to calculate the area in the tail of the distribution that exceeds the value of the F distribution for the null hypothesis. We’ll plot the two probability distributions for comparison."
   ]
  },
  {
   "cell_type": "code",
   "execution_count": 68,
   "metadata": {},
   "outputs": [
    {
     "data": {
      "image/png": "[encoded data removed]",
      "text/plain": [
       "<Figure size 432x288 with 1 Axes>"
      ]
     },
     "metadata": {},
     "output_type": "display_data"
    }
   ],
   "source": [
    "dfnum = 3 # between group deg of freedom\n",
    "dfden = 20 # within groups degrees of freedom\n",
    "nonc = 3.0\n",
    "nc_vals = np.random.noncentral_f(dfnum, dfden, nonc, 1000000)\n",
    "NF = np.histogram(nc_vals, bins=50, density=True)\n",
    "c_vals = np.random.f(dfnum, dfden, 1000000)\n",
    "F = np.histogram(c_vals, bins=50, density=True)\n",
    "plt.plot(F[1][1:], F[0])\n",
    "plt.plot(NF[1][1:], NF[0])\n",
    "plt.show()"
   ]
  },
  {
   "cell_type": "markdown",
   "metadata": {},
   "source": [
    "### random.normal"
   ]
  },
  {
   "cell_type": "markdown",
   "metadata": {},
   "source": [
    "This function is used to draw random samples from a normal (Gaussian) distribution.\n",
    "\n",
    "The probability density function of the normal distribution, first derived by De Moivre and 200 years later by both Gauss and Laplace independently, is often called the bell curve because of its characteristic shape (see the example below).\n",
    "The normal distributions occurs often in nature. For example, it describes the commonly occurring distribution of samples influenced by a large number of tiny, random disturbances, each with its own unique distribution.\n",
    "\n",
    "The parameters of this function are as follows:\n",
    "-  loc (float or array_like of floats):<br>\n",
    "Mean (“centre”) of the distribution.\n",
    "-  scale (float or array_like of floats):<br>\n",
    "Standard deviation (spread or “width”) of the distribution.\n",
    "-  size (int or tuple of ints, optional):<br>\n",
    "Output shape. If size is None (default), a single value is returned if loc and scale are both scalars. Otherwise, np.broadcast(loc, scale).size samples are drawn.\n",
    "\n",
    "This function returns an *n* dimensional array or a scalar.\n",
    "\n",
    "Draw samples from the distribution:"
   ]
  },
  {
   "cell_type": "code",
   "execution_count": 69,
   "metadata": {},
   "outputs": [],
   "source": [
    "mu, sigma = 0, 0.1 # mean and standard deviation\n",
    "s = np.random.normal(mu, sigma, 1000)"
   ]
  },
  {
   "cell_type": "markdown",
   "metadata": {},
   "source": [
    "Verify the mean and the variance:"
   ]
  },
  {
   "cell_type": "code",
   "execution_count": 70,
   "metadata": {},
   "outputs": [
    {
     "data": {
      "text/plain": [
       "True"
      ]
     },
     "execution_count": 70,
     "metadata": {},
     "output_type": "execute_result"
    }
   ],
   "source": [
    "abs(mu - np.mean(s)) < 0.01"
   ]
  },
  {
   "cell_type": "code",
   "execution_count": 71,
   "metadata": {},
   "outputs": [
    {
     "data": {
      "text/plain": [
       "True"
      ]
     },
     "execution_count": 71,
     "metadata": {},
     "output_type": "execute_result"
    }
   ],
   "source": [
    "abs(sigma - np.std(s, ddof=1)) < 0.01"
   ]
  },
  {
   "cell_type": "markdown",
   "metadata": {},
   "source": [
    "Display the histogram of the samples, along with the probability density function:"
   ]
  },
  {
   "cell_type": "code",
   "execution_count": 72,
   "metadata": {},
   "outputs": [
    {
     "data": {
      "image/png": "[encoded data removed]",
      "text/plain": [
       "<Figure size 432x288 with 1 Axes>"
      ]
     },
     "metadata": {},
     "output_type": "display_data"
    }
   ],
   "source": [
    "count, bins, ignored = plt.hist(s, 30, density=True)\n",
    "plt.plot(bins, 1/(sigma * np.sqrt(2 * np.pi)) * np.exp( - (bins - mu)**2 / (2 * sigma**2) ), linewidth=2, color='r')\n",
    "plt.show()"
   ]
  },
  {
   "cell_type": "markdown",
   "metadata": {},
   "source": [
    "### random.pareto"
   ]
  },
  {
   "cell_type": "markdown",
   "metadata": {},
   "source": [
    "This function is used to draw samples from a Pareto II or Lomax distribution with specified shape. \n",
    "\n",
    "The Lomax or Pareto II distribution is a shifted Pareto distribution. The classical Pareto distribution can be obtained from the Lomax distribution by adding 1 and multiplying by the scale parameter m. The smallest value of the Lomax distribution is zero while for the classical Pareto distribution it is mu, where the standard Pareto distribution has location mu = 1. Lomax can also be considered as a simplified version of the Generalized Pareto distribution (available in SciPy), with the scale set to one and the location set to zero.\n",
    "\n",
    "The Pareto distribution must be greater than zero, and is unbounded above. It is also known as the “80-20 rule”. In this distribution, 80 percent of the weights are in the lowest 20 percent of the range, while the other 20 percent fill the remaining 80 percent of the range.\n",
    "\n",
    "The parameters of this function are as follows:\n",
    "-  a (float or array_like of floats):<br>\n",
    "Shape of the distribution. Should be greater than zero.\n",
    "-  size (int or tuple of ints, optional):<br>\n",
    "This parameter defines the output shape. If size is None (default), a single value is returned if a is a scalar. Otherwise, np.array(a).size samples are drawn.\n",
    "\n",
    "This function returns an *n* dimensional array or a scalar.\t\n",
    "\n",
    "Draw samples from the distribution:"
   ]
  },
  {
   "cell_type": "code",
   "execution_count": 73,
   "metadata": {},
   "outputs": [],
   "source": [
    "a, m = 3., 2.  # shape and mode\n",
    "s = (np.random.pareto(a, 1000) + 1) * m"
   ]
  },
  {
   "cell_type": "markdown",
   "metadata": {},
   "source": [
    "Display the histogram of the samples, along with the probability density function:"
   ]
  },
  {
   "cell_type": "code",
   "execution_count": 74,
   "metadata": {},
   "outputs": [
    {
     "data": {
      "image/png": "[encoded data removed]",
      "text/plain": [
       "<Figure size 432x288 with 1 Axes>"
      ]
     },
     "metadata": {},
     "output_type": "display_data"
    }
   ],
   "source": [
    "count, bins, _ = plt.hist(s, 100, density=True)\n",
    "fit = a*m**a / bins**(a+1)\n",
    "plt.plot(bins, max(count)*fit/max(fit), linewidth=2, color='r')\n",
    "plt.show()"
   ]
  },
  {
   "cell_type": "markdown",
   "metadata": {},
   "source": [
    "### random.poisson"
   ]
  },
  {
   "cell_type": "markdown",
   "metadata": {},
   "source": [
    "This function is used to draw samples from a Poisson distribution.\n",
    "\n",
    "The Poisson distribution is the limit of the binomial distribution for large N.\n",
    "\n",
    "The parameters of this function are as follows:\n",
    "-  lam (float or array_like of floats):<br>\n",
    "Expectation of interval, should be >= 0. A sequence of expectation intervals must be broadcastable over the requested size.\n",
    "-  size (int or tuple of ints, optional):<br>\n",
    "This parameter defines the output shape. If size is None (default), a single value is returned if lam is a scalar. Otherwise, np.array(lam).size samples are drawn.\n",
    "\n",
    "This function returns an *n* dimensional array or a scalar.\n",
    "\n",
    "Draw samples from the distribution:"
   ]
  },
  {
   "cell_type": "code",
   "execution_count": 75,
   "metadata": {},
   "outputs": [],
   "source": [
    "s = np.random.poisson(5, 10000)"
   ]
  },
  {
   "cell_type": "markdown",
   "metadata": {},
   "source": [
    "Display histogram of the sample:"
   ]
  },
  {
   "cell_type": "code",
   "execution_count": 76,
   "metadata": {},
   "outputs": [
    {
     "data": {
      "image/png": "[encoded data removed]",
      "text/plain": [
       "<Figure size 432x288 with 1 Axes>"
      ]
     },
     "metadata": {},
     "output_type": "display_data"
    }
   ],
   "source": [
    "count, bins, ignored = plt.hist(s, 14, density=True)\n",
    "plt.show()"
   ]
  },
  {
   "cell_type": "markdown",
   "metadata": {},
   "source": [
    "### random.power"
   ]
  },
  {
   "cell_type": "markdown",
   "metadata": {},
   "source": [
    "This function is used to draw samples in [0, 1] from a power distribution with positive exponent a - 1. This is also known as the power function distribution.\n",
    "\n",
    "This function takes the following parameters:\n",
    "-  a (float or array_like of floats):<br>\n",
    "Parameter of the distribution. Should be greater than zero.\n",
    "-  size (int or tuple of ints, optional):<br>\n",
    "This parameter defines the output shape. If size is None (default), a single value is returned if a is a scalar. Otherwise, np.array(a).size samples are drawn.\n",
    "\n",
    "This function returns an *n* dimensional array or a scalar.\n",
    "\n",
    "Draw samples from the distribution:"
   ]
  },
  {
   "cell_type": "code",
   "execution_count": 77,
   "metadata": {},
   "outputs": [],
   "source": [
    "a = 5. # shape\n",
    "samples = 1000\n",
    "s = np.random.power(a, samples)"
   ]
  },
  {
   "cell_type": "markdown",
   "metadata": {},
   "source": [
    "Display the histogram of the samples, along with the probability density function:"
   ]
  },
  {
   "cell_type": "code",
   "execution_count": 78,
   "metadata": {},
   "outputs": [
    {
     "data": {
      "image/png": "[encoded data removed]",
      "text/plain": [
       "<Figure size 432x288 with 1 Axes>"
      ]
     },
     "metadata": {},
     "output_type": "display_data"
    }
   ],
   "source": [
    "count, bins, ignored = plt.hist(s, bins=30)\n",
    "x = np.linspace(0, 1, 100)\n",
    "y = a*x**(a-1.)\n",
    "normed_y = samples*np.diff(bins)[0]*y\n",
    "plt.plot(x, normed_y)\n",
    "plt.show()"
   ]
  },
  {
   "cell_type": "markdown",
   "metadata": {},
   "source": [
    "### random.rayleigh"
   ]
  },
  {
   "cell_type": "markdown",
   "metadata": {},
   "source": [
    "This function is used to draw samples from a Rayleigh distribution. The Χ(Chi) and Weibull distributions are generalizations of the Rayleigh.\n",
    "\n",
    "The parameters of this function are as follows:\n",
    "-  scale (float or array_like of floats, optional):<br> \n",
    "Scale, also equals the mode. Should be >= 0. Default is 1.\n",
    "-  size (int or tuple of ints, optional):<br>\n",
    "This parameter defines the output shape. If size is None (default), a single value is returned if scale is a scalar. Otherwise, np.array(scale).size samples are drawn.\n",
    "\n",
    "The Rayleigh distribution would arise, for example, if the East and North components of the wind velocity had identical zero-mean Gaussian distributions. Then the wind speed would have a Rayleigh distribution.\n",
    "\n",
    "This function returns an *n* dimensional array or a scalar.\n",
    "\n",
    "Draw values from the distribution and plot the histogram:"
   ]
  },
  {
   "cell_type": "code",
   "execution_count": 79,
   "metadata": {},
   "outputs": [
    {
     "data": {
      "image/png": "[encoded data removed]",
      "text/plain": [
       "<Figure size 432x288 with 1 Axes>"
      ]
     },
     "metadata": {},
     "output_type": "display_data"
    }
   ],
   "source": [
    "values = plt.hist(np.random.rayleigh(3, 100000), bins=200, density=True)"
   ]
  },
  {
   "cell_type": "markdown",
   "metadata": {},
   "source": [
    "Wave heights tend to follow a Rayleigh distribution. If the mean wave height is 1 meter, what fraction of waves are likely to be larger than 3 meters?"
   ]
  },
  {
   "cell_type": "code",
   "execution_count": 80,
   "metadata": {},
   "outputs": [],
   "source": [
    "meanvalue = 1\n",
    "modevalue = np.sqrt(2 / np.pi) * meanvalue\n",
    "s = np.random.rayleigh(modevalue, 1000000)"
   ]
  },
  {
   "cell_type": "code",
   "execution_count": 81,
   "metadata": {},
   "outputs": [
    {
     "data": {
      "image/png": "[encoded data removed]",
      "text/plain": [
       "<Figure size 432x288 with 1 Axes>"
      ]
     },
     "metadata": {},
     "output_type": "display_data"
    }
   ],
   "source": [
    "values = plt.hist(s, bins=200, density=True)"
   ]
  },
  {
   "cell_type": "markdown",
   "metadata": {},
   "source": [
    "### random.standard_cauchy"
   ]
  },
  {
   "cell_type": "markdown",
   "metadata": {},
   "source": [
    "This function is used to draw samples from a standard Cauchy distribution with mode = 0, this is also known as the Lorentz distribution.\n",
    "\n",
    "The parameters of this function are:\n",
    "-  size (int or tuple of ints, optional):<br>\n",
    "This parameter defines the output shape. Default is None, in which case a single value is returned.\n",
    "\n",
    "This function returns an *n* dimensional array or a scalar.\n",
    "\n",
    "The Cauchy distribution arises in the solution to the driven harmonic oscillator problem, and also describes spectral line broadening. It also describes the distribution of values at which a line tilted at a random angle will cut the x axis.\n",
    "\n",
    "When studying hypothesis tests that assume normality, seeing how the tests perform on data from a Cauchy distribution is a good indicator of their sensitivity to a heavy-tailed distribution, since the Cauchy looks very much like a Gaussian distribution, but with heavier tails.\n",
    "\n",
    "Draw samples and plot the distribution:"
   ]
  },
  {
   "cell_type": "code",
   "execution_count": 82,
   "metadata": {},
   "outputs": [
    {
     "data": {
      "image/png": "[encoded data removed]",
      "text/plain": [
       "<Figure size 432x288 with 1 Axes>"
      ]
     },
     "metadata": {},
     "output_type": "display_data"
    }
   ],
   "source": [
    "s = np.random.standard_cauchy(1000000)\n",
    "s = s[(s>-25) & (s<25)]  # truncate distribution so it plots well\n",
    "plt.hist(s, bins=100)\n",
    "plt.show()"
   ]
  },
  {
   "cell_type": "markdown",
   "metadata": {},
   "source": [
    "### random.standard_exponential"
   ]
  },
  {
   "cell_type": "markdown",
   "metadata": {},
   "source": [
    "This function is used to draw samples from the standard exponential distribution. Standard_exponential is identical to the exponential distribution with a scale parameter of 1."
   ]
  },
  {
   "cell_type": "markdown",
   "metadata": {},
   "source": [
    "This function takes the following parameter:\n",
    "-  size (int or tuple of ints, optional):<br>\n",
    "This parameter defines the output shape. Default is None, in which case a single value is returned.\n",
    "\n",
    "This fuction returns an *n* dimensional array or a float"
   ]
  },
  {
   "cell_type": "code",
   "execution_count": 84,
   "metadata": {},
   "outputs": [
    {
     "name": "stdout",
     "output_type": "stream",
     "text": [
      "[[1.22203080e+00 3.04977477e-01 2.35372969e+00 5.75870618e-01\n",
      "  9.08514907e-01 1.48751843e+00 4.11646046e-01 5.53289229e-01\n",
      "  9.82239345e-01 2.21689011e+00 2.99506171e+00 2.46128403e-01\n",
      "  3.70198635e-01 3.07817889e-01 4.30977181e-01 2.76942829e-01\n",
      "  1.94250886e+00 4.19566062e-01 1.15477876e+00 2.59285612e-01\n",
      "  1.96787483e+00 5.17740294e-01 2.61675473e-01 5.97792393e-01\n",
      "  1.35600461e+00 1.49305303e+00 8.37981978e-02 8.30067209e-02\n",
      "  4.53343107e-01 2.71187809e-01 5.19619797e-01 2.23449313e-01\n",
      "  3.06131685e+00 2.68009325e+00 9.33577016e-01 4.68842887e-01\n",
      "  4.53365065e-01 1.64545278e-01 1.38238993e+00 2.70363868e-01\n",
      "  4.68739930e-01 3.18537493e-02 2.61721642e-01 4.84492033e+00\n",
      "  1.01257375e+00 5.30642726e-01 1.21989760e+00 4.54825263e-01\n",
      "  3.54507704e-01 2.78361120e-01 7.31096765e-01 6.68591216e-01\n",
      "  2.57533720e+00 1.11199862e+00 1.65542439e-01 9.46357069e-01\n",
      "  1.19031915e+00 2.63843146e+00 5.10300671e-01 2.81562366e+00\n",
      "  3.21623811e-01 6.25229380e-01 2.74104994e-01 2.13291782e-01\n",
      "  1.61091839e-01 2.19875717e+00 2.95127070e-02 8.63518819e-01\n",
      "  5.00572620e-02 1.76714647e-01 7.33866996e-01 1.18841365e+00\n",
      "  1.56202818e-01 1.20750754e+00 8.80454653e-01 3.81040931e-01\n",
      "  5.61759607e-01 4.61589532e+00 3.85622363e-01 2.34863985e-01]\n",
      " [1.52936820e-02 6.77667869e-01 4.85748098e+00 1.09469011e-01\n",
      "  3.04108993e-01 2.18572415e-01 3.19954024e+00 4.77922595e-01\n",
      "  9.47702571e-01 7.06470880e-01 1.83579398e+00 9.68426941e-01\n",
      "  3.81437585e-01 3.12601041e+00 3.26987017e+00 8.47706359e-01\n",
      "  2.91150499e-01 3.13243155e+00 2.34560838e+00 2.93091523e-01\n",
      "  7.18505612e-01 1.97216106e-01 2.47832149e-01 3.09492572e-01\n",
      "  8.51937163e-01 2.35297793e-01 1.87948172e-01 2.33551394e-01\n",
      "  7.77562659e-02 4.87558735e-01 1.09996903e-02 6.53918855e-01\n",
      "  1.14871512e+00 7.59574899e-01 5.82617513e-01 2.94339314e-01\n",
      "  1.06571630e+00 1.16467402e+00 2.69454208e+00 2.79903886e-01\n",
      "  1.30864054e+00 5.99387682e-02 1.26133067e-01 9.56098795e-01\n",
      "  7.21938991e+00 2.22726264e-01 2.01671398e+00 1.24970332e+00\n",
      "  1.44326703e+00 4.21282759e-01 5.24356156e-01 1.67877202e+00\n",
      "  8.63632831e-02 3.26175811e+00 6.30875374e-01 2.66529731e-01\n",
      "  2.08231918e+00 1.20936740e+00 1.54391815e+00 1.21556474e+00\n",
      "  1.40189105e+00 2.60827233e-01 1.53884154e-01 8.87929223e-01\n",
      "  4.40526793e-01 4.71787012e-01 1.16189300e+00 1.05427972e-01\n",
      "  7.17543153e-01 6.57330242e-01 7.18427600e-01 2.89484923e-01\n",
      "  4.51535355e-01 5.96028972e-01 3.12058241e-01 1.25292861e+00\n",
      "  1.67657177e+00 9.93046390e-01 2.55627359e+00 4.50002600e-01]\n",
      " [1.22002596e+00 5.15773436e-01 1.85940744e+00 4.29718343e-01\n",
      "  1.68281186e+00 3.18545935e-01 4.15113410e+00 6.24806839e-01\n",
      "  1.61971916e+00 8.39105703e-01 4.10121702e+00 1.56580259e-01\n",
      "  1.37149752e+00 7.23659083e-02 8.87575394e-01 9.78421174e-01\n",
      "  5.42892041e-01 2.33642330e-02 2.76934463e+00 2.59813442e+00\n",
      "  1.98803172e+00 8.71277468e-01 6.46573341e-01 2.22906806e+00\n",
      "  3.76505256e-01 7.17076951e-01 3.82831636e-01 3.99819415e-01\n",
      "  6.98864652e-02 2.51924818e-02 1.05740753e-02 9.69094135e-02\n",
      "  3.83281160e-01 1.65853604e+00 2.35728762e-01 6.81344925e-01\n",
      "  3.33269247e+00 6.38731927e-01 6.51466195e-01 9.12604904e-01\n",
      "  3.00094656e-01 2.92849771e-01 9.74578118e-01 3.69082318e-03\n",
      "  9.26798392e-01 3.82111058e-02 1.16641312e+00 1.21258471e+00\n",
      "  2.13233843e-02 7.27269432e-01 8.27739652e-01 1.99676845e+00\n",
      "  2.06227448e+00 8.30266093e-02 6.72640375e-01 8.01229100e-01\n",
      "  3.15912024e+00 7.30637145e-01 4.52348565e-01 4.87124211e-01\n",
      "  5.84019003e-01 1.65676639e+00 1.62509511e+00 7.24890552e-01\n",
      "  2.05891299e+00 1.36390560e+00 1.46952751e+00 2.34590730e+00\n",
      "  1.70122210e+00 6.77771140e-01 1.09010814e+00 8.78338297e-01\n",
      "  3.21768075e-02 2.09060612e-01 8.24723753e-01 3.19989052e-01\n",
      "  9.40361245e-01 1.40961168e-01 3.86993896e+00 8.66834382e-02]]\n"
     ]
    }
   ],
   "source": [
    "n = np.random.standard_exponential((3, 80))\n",
    "print(n)"
   ]
  },
  {
   "cell_type": "markdown",
   "metadata": {},
   "source": [
    "### random.standard_gamma"
   ]
  },
  {
   "cell_type": "markdown",
   "metadata": {},
   "source": [
    "Draw samples from a standard Gamma distribution.\n",
    "\n",
    "Samples are drawn from a Gamma distribution with specified parameters, shape (sometimes designated “k”) and scale=1.\n",
    "\n",
    "The Gamma distribution is often used to model the times to failure of electronic components, and arises naturally in processes for which the waiting times between Poisson distributed events are relevant.\n",
    "\n",
    "The parameters of this function are as follows:\n",
    "-  shape : float or array_like of floats\n",
    "Parameter, should be > 0.\n",
    "-  size : int or tuple of ints, optional\n",
    "This parameter defines the output shape. If size is None (default), a single value is returned if shape is a scalar. Otherwise, np.array(shape).size samples are drawn.\n",
    "\n",
    "This function returns an *n* dimensional array or a scalar."
   ]
  },
  {
   "cell_type": "code",
   "execution_count": 88,
   "metadata": {},
   "outputs": [],
   "source": [
    "shape, scale = 2., 1. # mean and width\n",
    "s = np.random.standard_gamma(shape, 1000000)"
   ]
  },
  {
   "cell_type": "markdown",
   "metadata": {},
   "source": [
    "Display the histogram of the samples, along with the probability density function:"
   ]
  },
  {
   "cell_type": "code",
   "execution_count": 92,
   "metadata": {},
   "outputs": [
    {
     "data": {
      "image/png": "[encoded data removed]",
      "text/plain": [
       "<Figure size 432x288 with 1 Axes>"
      ]
     },
     "metadata": {},
     "output_type": "display_data"
    }
   ],
   "source": [
    "count, bins, ignored = plt.hist(s, 50, density=True)\n",
    "y = bins**(shape-1) * ((np.exp(-bins/scale))/(sps.gamma(shape) * scale**shape))\n",
    "plt.plot(bins, y, linewidth=2, color='r')\n",
    "plt.show()"
   ]
  },
  {
   "cell_type": "markdown",
   "metadata": {},
   "source": [
    "### random.standard_normal"
   ]
  },
  {
   "cell_type": "markdown",
   "metadata": {},
   "source": [
    "This function is used to draw samples from a standard Normal distribution (mean=0, stdev=1).\n",
    "\n",
    "The parameter of this function is as follows:\n",
    "-  size (int or tuple of ints, optional):<br>\n",
    "This parameter defines the output shape. If the given shape is, e.g., (m, n, k), then m * n * k samples are drawn. Default is None, in which case a single value is returned.\n",
    "\n",
    "Returns:\t\n",
    "This function returns an *n* dimensional array."
   ]
  },
  {
   "cell_type": "code",
   "execution_count": 94,
   "metadata": {},
   "outputs": [
    {
     "data": {
      "text/plain": [
       "array([-0.62585948,  0.29315658,  0.64642443, ...,  0.83741887,\n",
       "        0.27695964, -1.4222776 ])"
      ]
     },
     "execution_count": 94,
     "metadata": {},
     "output_type": "execute_result"
    }
   ],
   "source": [
    "s = np.random.standard_normal(8000)\n",
    "s"
   ]
  },
  {
   "cell_type": "code",
   "execution_count": 95,
   "metadata": {},
   "outputs": [
    {
     "data": {
      "text/plain": [
       "(8000,)"
      ]
     },
     "execution_count": 95,
     "metadata": {},
     "output_type": "execute_result"
    }
   ],
   "source": [
    "s.shape"
   ]
  },
  {
   "cell_type": "code",
   "execution_count": 96,
   "metadata": {},
   "outputs": [
    {
     "data": {
      "text/plain": [
       "(3, 4, 2)"
      ]
     },
     "execution_count": 96,
     "metadata": {},
     "output_type": "execute_result"
    }
   ],
   "source": [
    "s = np.random.standard_normal(size=(3, 4, 2))\n",
    "s.shape"
   ]
  },
  {
   "cell_type": "markdown",
   "metadata": {},
   "source": [
    "### random.standard_t"
   ]
  },
  {
   "cell_type": "markdown",
   "metadata": {},
   "source": [
    "This function is used to draw samples from a standard Student’s t distribution with df degrees of freedom.\n",
    "\n",
    "A special case of the hyperbolic distribution. As df gets large, the result resembles that of the standard normal distribution [standard_normal](#random.standard_normal).\n",
    "\t\n",
    "The parameters of this function are as follows:\n",
    "-  df (float or array_like of floats):<br>\n",
    "Degrees of freedom, should be > 0.\n",
    "-  size (int or tuple of ints, optional):<br>\n",
    "This parameter defines the output shape. If size is None (default), a single value is returned if df is a scalar. Otherwise, np.array(df).size samples are drawn.\n",
    "\n",
    "This function returns an *n* dimensional array or a scalar.\n",
    "\n",
    "The t test is based on an assumption that the data come from a Normal distribution. The t test provides a way to test whether the sample mean (that is the mean calculated from the data) is a good estimate of the true mean.\n",
    "\n",
    "The derivation of the t-distribution was first published in 1908 by William Gosset while working for the Guinness Brewery in Dublin. Due to proprietary issues, he had to publish under a pseudonym, and so he used the name Student.\n",
    "\n",
    "From Dalgaard, Peter, “Introductory Statistics With R”, Springer, 2002. page 83, suppose the daily energy intake for 11 women in Kj is:"
   ]
  },
  {
   "cell_type": "code",
   "execution_count": 97,
   "metadata": {},
   "outputs": [],
   "source": [
    "intake = np.array([5260., 5470, 5640, 6180, 6390, 6515, 6805, 7515, 7515, 8230, 8770])"
   ]
  },
  {
   "cell_type": "markdown",
   "metadata": {},
   "source": [
    "Does their energy intake deviate systematically from the recommended value of 7725 kJ?\n",
    "\n",
    "We have 10 degrees of freedom, so is the sample mean within 95% of the recommended value?"
   ]
  },
  {
   "cell_type": "code",
   "execution_count": 98,
   "metadata": {},
   "outputs": [
    {
     "data": {
      "text/plain": [
       "1142.1232221373727"
      ]
     },
     "execution_count": 98,
     "metadata": {},
     "output_type": "execute_result"
    }
   ],
   "source": [
    "s = np.random.standard_t(10, size=100000)\n",
    "np.mean(intake)\n",
    "\n",
    "intake.std(ddof=1)"
   ]
  },
  {
   "cell_type": "markdown",
   "metadata": {},
   "source": [
    "Calculate the t statistic, setting the ddof parameter to the unbiased value so the divisor in the standard deviation will be degrees of freedom, N-1."
   ]
  },
  {
   "cell_type": "code",
   "execution_count": 99,
   "metadata": {},
   "outputs": [
    {
     "data": {
      "image/png": "[encoded data removed]",
      "text/plain": [
       "<Figure size 432x288 with 1 Axes>"
      ]
     },
     "metadata": {},
     "output_type": "display_data"
    }
   ],
   "source": [
    "t = (np.mean(intake)-7725)/(intake.std(ddof=1)/np.sqrt(len(intake)))\n",
    "import matplotlib.pyplot as plt\n",
    "h = plt.hist(s, bins=100, density=True)"
   ]
  },
  {
   "cell_type": "markdown",
   "metadata": {},
   "source": [
    "For a one-sided t-test, how far out in the distribution does the t statistic appear?"
   ]
  },
  {
   "cell_type": "code",
   "execution_count": 100,
   "metadata": {},
   "outputs": [
    {
     "data": {
      "text/plain": [
       "0.00887"
      ]
     },
     "execution_count": 100,
     "metadata": {},
     "output_type": "execute_result"
    }
   ],
   "source": [
    "np.sum(s<t) / float(len(s))"
   ]
  },
  {
   "cell_type": "markdown",
   "metadata": {},
   "source": [
    "So the p-value is about 0.009, which says the null hypothesis has a probability of about 99% of being true."
   ]
  },
  {
   "cell_type": "markdown",
   "metadata": {},
   "source": [
    "### random.triangular"
   ]
  },
  {
   "cell_type": "markdown",
   "metadata": {},
   "source": []
  },
  {
   "cell_type": "code",
   "execution_count": null,
   "metadata": {},
   "outputs": [],
   "source": []
  },
  {
   "cell_type": "markdown",
   "metadata": {},
   "source": [
    "### random.uniform"
   ]
  },
  {
   "cell_type": "markdown",
   "metadata": {},
   "source": []
  },
  {
   "cell_type": "code",
   "execution_count": null,
   "metadata": {},
   "outputs": [],
   "source": []
  },
  {
   "cell_type": "markdown",
   "metadata": {},
   "source": [
    "### random.vonmises"
   ]
  },
  {
   "cell_type": "markdown",
   "metadata": {},
   "source": []
  },
  {
   "cell_type": "code",
   "execution_count": null,
   "metadata": {},
   "outputs": [],
   "source": []
  },
  {
   "cell_type": "markdown",
   "metadata": {},
   "source": [
    "### random.wald"
   ]
  },
  {
   "cell_type": "markdown",
   "metadata": {},
   "source": []
  },
  {
   "cell_type": "code",
   "execution_count": null,
   "metadata": {},
   "outputs": [],
   "source": []
  },
  {
   "cell_type": "markdown",
   "metadata": {},
   "source": [
    "### random.weibull"
   ]
  },
  {
   "cell_type": "markdown",
   "metadata": {},
   "source": []
  },
  {
   "cell_type": "code",
   "execution_count": null,
   "metadata": {},
   "outputs": [],
   "source": []
  },
  {
   "cell_type": "markdown",
   "metadata": {},
   "source": [
    "### random.zipf"
   ]
  },
  {
   "cell_type": "markdown",
   "metadata": {},
   "source": []
  },
  {
   "cell_type": "code",
   "execution_count": null,
   "metadata": {},
   "outputs": [],
   "source": []
  },
  {
   "cell_type": "markdown",
   "metadata": {},
   "source": [
    "<a id=\"RandomGenerator\"></a>\n",
    "## Random generator"
   ]
  },
  {
   "cell_type": "markdown",
   "metadata": {},
   "source": [
    "### random.RandomState"
   ]
  },
  {
   "cell_type": "markdown",
   "metadata": {},
   "source": []
  },
  {
   "cell_type": "code",
   "execution_count": null,
   "metadata": {},
   "outputs": [],
   "source": []
  },
  {
   "cell_type": "markdown",
   "metadata": {},
   "source": [
    "### random.seed"
   ]
  },
  {
   "cell_type": "markdown",
   "metadata": {},
   "source": []
  },
  {
   "cell_type": "code",
   "execution_count": null,
   "metadata": {},
   "outputs": [],
   "source": []
  },
  {
   "cell_type": "markdown",
   "metadata": {},
   "source": [
    "### random.get_state"
   ]
  },
  {
   "cell_type": "markdown",
   "metadata": {},
   "source": []
  },
  {
   "cell_type": "code",
   "execution_count": null,
   "metadata": {},
   "outputs": [],
   "source": []
  },
  {
   "cell_type": "markdown",
   "metadata": {},
   "source": [
    "### random.set_state"
   ]
  },
  {
   "cell_type": "markdown",
   "metadata": {},
   "source": []
  },
  {
   "cell_type": "code",
   "execution_count": null,
   "metadata": {},
   "outputs": [],
   "source": []
  },
  {
   "cell_type": "markdown",
   "metadata": {},
   "source": [
    "### random.random_sample"
   ]
  },
  {
   "cell_type": "markdown",
   "metadata": {},
   "source": []
  },
  {
   "cell_type": "code",
   "execution_count": null,
   "metadata": {},
   "outputs": [],
   "source": []
  },
  {
   "cell_type": "markdown",
   "metadata": {},
   "source": [
    "### random.standard_normal"
   ]
  },
  {
   "cell_type": "markdown",
   "metadata": {},
   "source": []
  },
  {
   "cell_type": "code",
   "execution_count": null,
   "metadata": {},
   "outputs": [],
   "source": []
  },
  {
   "cell_type": "code",
   "execution_count": 85,
   "metadata": {},
   "outputs": [
    {
     "data": {
      "text/plain": [
       "9.298938725878333"
      ]
     },
     "execution_count": 85,
     "metadata": {},
     "output_type": "execute_result"
    }
   ],
   "source": [
    "np.random.uniform(0.0, 10.0)"
   ]
  },
  {
   "cell_type": "code",
   "execution_count": 86,
   "metadata": {},
   "outputs": [
    {
     "data": {
      "text/plain": [
       "array([[ 0,  1,  2,  3,  4],\n",
       "       [ 5,  6,  7,  8,  9],\n",
       "       [10, 11, 12, 13, 14]])"
      ]
     },
     "execution_count": 86,
     "metadata": {},
     "output_type": "execute_result"
    }
   ],
   "source": [
    "np.arange(15).reshape(3,5)"
   ]
  },
  {
   "cell_type": "markdown",
   "metadata": {},
   "source": [
    "When using the .arange() and .reshape() together the parameters of the .reshape() method must multiply to equal the parameter of the .arange() method."
   ]
  },
  {
   "cell_type": "code",
   "execution_count": null,
   "metadata": {},
   "outputs": [],
   "source": []
  }
 ],
 "metadata": {
  "kernelspec": {
   "display_name": "Python 3",
   "language": "python",
   "name": "python3"
  },
  "language_info": {
   "codemirror_mode": {
    "name": "ipython",
    "version": 3
   },
   "file_extension": ".py",
   "mimetype": "text/x-python",
   "name": "python",
   "nbconvert_exporter": "python",
   "pygments_lexer": "ipython3",
   "version": "3.6.5"
  }
 },
 "nbformat": 4,
 "nbformat_minor": 2
}

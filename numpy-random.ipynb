{
 "cells": [
  {
   "cell_type": "markdown",
   "metadata": {},
   "source": [
    "# About the numpy random package\n",
    "[Numpy](http://www.numpy.org/) is a numerical package for Python. It has a subpackage called [random](https://docs.scipy.org/doc/numpy/reference/routines.random.html). This will be the main focus of this Jupyter Notebook."
   ]
  },
  {
   "cell_type": "markdown",
   "metadata": {},
   "source": [
    "## Table Of Contents\n",
    "-  [Simple Random Data](#SimpleRandomData)\n",
    "    -  [random.rand](#random.rand)\n",
    "    -  [random.randn](#random.randn)\n",
    "    -  [random.randint](#random.randint)    \n",
    "    -  [random.random_integers](#random.random_integers)\n",
    "    -  [random.random_sample](#random.random_sample)\n",
    "    -  [random.random](#random.random)\n",
    "    -  [random.ranf](#random.ranf)\n",
    "    -  [random.sample](#random.sample)\n",
    "    -  [random.choice](#random.choice)\n",
    "    -  [random.bytes](#random.bytes)\n",
    "-  [Permutations](#Permutations)\n",
    "    -  [random.shuffle](#random.shuffle)\n",
    "    -  [random.permutation](#random.permutation)\n",
    "-  [Distributions](#Distributions)\n",
    "    -  [random.beta](#random.beta)\n",
    "    -  [random.binomial](#random.binomial)\n",
    "    -  [random.chisquare](#random.chisquare)\n",
    "    -  [random.dirichlet](#random.dirichlet)\n",
    "    -  [random.exponential](#random.exponential)\n",
    "    -  [random.f](#random.f)\n",
    "    -  [random.gamma](#random.gamma)\n",
    "    -  [random.geometric](#random.geometric)\n",
    "    -  [random.gumbel](#random.gumbel)\n",
    "    -  [random.hypergeometric](#random.hypergeometric)\n",
    "    -  [random.laplace](#random.laplace)\n",
    "    -  [random.logistic](#random.logistic)\n",
    "    -  [random.lognormal](#random.lognormal)\n",
    "    -  [random.logseries](#random.logseries)\n",
    "    -  [random.multinomial](#random.multinomial)\n",
    "    -  [random.multivariate_normal](#random.multivariate_normal)\n",
    "    -  [random.negative_binomial](#random.negative_binomial)\n",
    "    -  [random.noncentral_chisquare](#random.noncentral_chisquare)\n",
    "    -  [random.noncentral_f](#random.noncentral_f)\n",
    "    -  [random.normal](#random.normal)\n",
    "    -  [random.pareto](#random.pareto)\n",
    "    -  [random.poisson](#random.poisson)\n",
    "    -  [random.power](#random.power)\n",
    "    -  [random.rayleigh](#random.rayleigh)\n",
    "    -  [random.standard_cauchy](#random.standard_cauchy)\n",
    "    -  [random.standard_exponential](#random.standard_exponential)\n",
    "    -  [random.standard_gamma](#random.standard_gamma)\n",
    "    -  [random.standard_normal](#random.standard_normal)\n",
    "    -  [random.standard_t](#random.standard_t)\n",
    "    -  [random.triangular](#random.triangular)\n",
    "    -  [random.uniform](#random.uniform)\n",
    "    -  [random.vonmises](#random.vonmises)\n",
    "    -  [random.wald](#random.wald)\n",
    "    -  [random.weibull](#random.weibull)\n",
    "    -  [random.zipf](#random.zipf)\n",
    "-  [Random generator](#RandomGenerator)\n",
    "    -  [random.RandomState](#random.RandomState)\n",
    "    -  [random.seed](#random.seed)\n",
    "    -  [random.get_state](#random.get_state)\n",
    "    -  [random.set_state](#random.set_state)"
   ]
  },
  {
   "cell_type": "code",
   "execution_count": 1,
   "metadata": {},
   "outputs": [],
   "source": [
    "import numpy as np"
   ]
  },
  {
   "cell_type": "markdown",
   "metadata": {},
   "source": [
    "The numpy namespace includes all names under the numpy.core and numpy.lib namespaces as well. This numpy import will\n",
    "also import the names from numpy.core and numpy.lib. This is the recommended way to use numpy."
   ]
  },
  {
   "cell_type": "markdown",
   "metadata": {},
   "source": [
    "<a id=\"SimpleRandomData\"></a>\n",
    "## Simple random data"
   ]
  },
  {
   "cell_type": "markdown",
   "metadata": {},
   "source": [
    "### random.rand"
   ]
  },
  {
   "cell_type": "code",
   "execution_count": 2,
   "metadata": {},
   "outputs": [
    {
     "data": {
      "text/plain": [
       "array([[0.36318136, 0.17037968, 0.59026796, 0.73604686, 0.02361892],\n",
       "       [0.88219362, 0.70934464, 0.52074618, 0.78820397, 0.57740095],\n",
       "       [0.65956035, 0.38859828, 0.96011082, 0.44264497, 0.34529522],\n",
       "       [0.44806548, 0.69769817, 0.69166249, 0.38715653, 0.43869397]])"
      ]
     },
     "execution_count": 2,
     "metadata": {},
     "output_type": "execute_result"
    }
   ],
   "source": [
    "np.random.rand(4,5)"
   ]
  },
  {
   "cell_type": "markdown",
   "metadata": {},
   "source": [
    "The above random.rand(*n*, *n*) outputs an array in the given shape, and popuates the array with random samples from a uniform distribution over [0, 1]."
   ]
  },
  {
   "cell_type": "code",
   "execution_count": 3,
   "metadata": {},
   "outputs": [
    {
     "data": {
      "text/plain": [
       "array([0.46434452, 0.05254348, 0.27678362, 0.99042007, 0.8781476 ])"
      ]
     },
     "execution_count": 3,
     "metadata": {},
     "output_type": "execute_result"
    }
   ],
   "source": [
    "np.random.rand(5)"
   ]
  },
  {
   "cell_type": "markdown",
   "metadata": {},
   "source": [
    "The dimensions of the returned array, should all be positive. If no argument is given a single Python float is returned."
   ]
  },
  {
   "cell_type": "code",
   "execution_count": 4,
   "metadata": {},
   "outputs": [
    {
     "data": {
      "text/plain": [
       "0.4025732628461596"
      ]
     },
     "execution_count": 4,
     "metadata": {},
     "output_type": "execute_result"
    }
   ],
   "source": [
    "np.random.rand()"
   ]
  },
  {
   "cell_type": "markdown",
   "metadata": {},
   "source": [
    "If an interface that takes a shape-tuple as the first argument is needed refer to the [random.random_sample()](#random.random_sample) below."
   ]
  },
  {
   "cell_type": "markdown",
   "metadata": {},
   "source": [
    "### random.randn"
   ]
  },
  {
   "cell_type": "code",
   "execution_count": 5,
   "metadata": {},
   "outputs": [
    {
     "data": {
      "text/plain": [
       "array([[-0.75700478,  1.08315378, -1.68039744, -0.01892834],\n",
       "       [ 0.7665825 ,  0.38713854, -1.00143517, -2.73466325],\n",
       "       [-0.43055843,  0.11921046,  0.30087898,  0.92578746]])"
      ]
     },
     "execution_count": 5,
     "metadata": {},
     "output_type": "execute_result"
    }
   ],
   "source": [
    "np.random.randn(3,4)"
   ]
  },
  {
   "cell_type": "markdown",
   "metadata": {},
   "source": [
    "The above random.randn(*n*, *n*) returns a random sample (or samples) if positive, randn generates an array of a shape using the parameters provided. If parameters are specified an array is filled with random floats sampled from a univariate “normal” (Gaussian) distribution of mean 0 and variance 1, if any are floats, they are first converted to integers by truncation. \n",
    "\n",
    "If an interface that takes a tuple as the first argument is needed refer to [random.standard_normal](#random.standard_normal) outlined below."
   ]
  },
  {
   "cell_type": "code",
   "execution_count": 6,
   "metadata": {},
   "outputs": [
    {
     "data": {
      "text/plain": [
       "array([-0.71690856,  0.28792799, -1.41312205])"
      ]
     },
     "execution_count": 6,
     "metadata": {},
     "output_type": "execute_result"
    }
   ],
   "source": [
    "np.random.randn(3)"
   ]
  },
  {
   "cell_type": "markdown",
   "metadata": {},
   "source": [
    "A single float randomly sampled from the distribution is returned if no argument is provided."
   ]
  },
  {
   "cell_type": "code",
   "execution_count": 7,
   "metadata": {},
   "outputs": [
    {
     "data": {
      "text/plain": [
       "-1.0672951099711945"
      ]
     },
     "execution_count": 7,
     "metadata": {},
     "output_type": "execute_result"
    }
   ],
   "source": [
    "np.random.randn()"
   ]
  },
  {
   "cell_type": "markdown",
   "metadata": {},
   "source": [
    "For random samples from normal distribution, with mean vector μ and standard deviation σ, use: \n",
    "N(μ, σ ^2)\n",
    "\n",
    "Which is implemented as follows:"
   ]
  },
  {
   "cell_type": "code",
   "execution_count": 8,
   "metadata": {},
   "outputs": [
    {
     "data": {
      "text/plain": [
       "array([[6.93674527, 9.19881884, 8.12909969, 5.91668203, 6.30284703],\n",
       "       [7.09043478, 6.2024257 , 7.16019301, 6.26251615, 8.07694555]])"
      ]
     },
     "execution_count": 8,
     "metadata": {},
     "output_type": "execute_result"
    }
   ],
   "source": [
    "np.random.randn(2, 5) + 7"
   ]
  },
  {
   "cell_type": "markdown",
   "metadata": {},
   "source": [
    "### random.randint"
   ]
  },
  {
   "cell_type": "markdown",
   "metadata": {},
   "source": [
    "This function returns random integers from low (inclusive) to high (exclusive).\n",
    "\n",
    "The parameters are as follows:\n",
    "\n",
    "low (int):<br>The lowest int to be drawn from the distribution, unless high=None, this parameter is one above the highest such integer."
   ]
  },
  {
   "cell_type": "code",
   "execution_count": 9,
   "metadata": {},
   "outputs": [
    {
     "data": {
      "text/plain": [
       "1"
      ]
     },
     "execution_count": 9,
     "metadata": {},
     "output_type": "execute_result"
    }
   ],
   "source": [
    "np.random.randint(3)"
   ]
  },
  {
   "cell_type": "markdown",
   "metadata": {},
   "source": [
    "high (int, optional):<br>If specified, one above the largest signed integer to be drawn from the distribution."
   ]
  },
  {
   "cell_type": "code",
   "execution_count": 10,
   "metadata": {},
   "outputs": [
    {
     "data": {
      "text/plain": [
       "6"
      ]
     },
     "execution_count": 10,
     "metadata": {},
     "output_type": "execute_result"
    }
   ],
   "source": [
    "np.random.randint(4, high=10)"
   ]
  },
  {
   "cell_type": "markdown",
   "metadata": {},
   "source": [
    "size (int or tuple of ints, optional):<br>Default is none which returns a single value, if specified defines the output shape."
   ]
  },
  {
   "cell_type": "code",
   "execution_count": 11,
   "metadata": {},
   "outputs": [
    {
     "data": {
      "text/plain": [
       "array([0, 0, 0, 1, 1, 0, 0])"
      ]
     },
     "execution_count": 11,
     "metadata": {},
     "output_type": "execute_result"
    }
   ],
   "source": [
    "np.random.randint(2, size=7)"
   ]
  },
  {
   "cell_type": "markdown",
   "metadata": {},
   "source": [
    "dtype (dtype, optional):<br>Desired data type object of the result."
   ]
  },
  {
   "cell_type": "code",
   "execution_count": 12,
   "metadata": {},
   "outputs": [
    {
     "data": {
      "text/plain": [
       "array([[3, 3],\n",
       "       [2, 3],\n",
       "       [2, 3]])"
      ]
     },
     "execution_count": 12,
     "metadata": {},
     "output_type": "execute_result"
    }
   ],
   "source": [
    "np.random.randint(2.0, high=4, size=(3,2), dtype='int_')"
   ]
  },
  {
   "cell_type": "markdown",
   "metadata": {},
   "source": [
    "This function returns an int or array of ints, depending on if the size is specified."
   ]
  },
  {
   "cell_type": "markdown",
   "metadata": {},
   "source": [
    "### random.random_integers"
   ]
  },
  {
   "cell_type": "markdown",
   "metadata": {},
   "source": [
    "Random integers of type np.int between low and high, inclusive.\n",
    "\n",
    "This function has been deprecated. Use [randint](#random.randint) instead.\n",
    "Deprecated since version 1.11.0."
   ]
  },
  {
   "cell_type": "markdown",
   "metadata": {},
   "source": [
    "### random.random_sample"
   ]
  },
  {
   "cell_type": "markdown",
   "metadata": {},
   "source": [
    "This function returns a random float (floats) in the half-open interval [0.0, 1.0]. Half-open interval is a set of numbers between two given numbers but including only one endpoint.\n",
    "\n",
    "Only has one optional parameter:\n",
    "size (int or tuple of ints, optional):\n",
    "If specified, outputs the given shape.\n",
    "\n",
    "Returns a float or an array of floats."
   ]
  },
  {
   "cell_type": "code",
   "execution_count": 13,
   "metadata": {},
   "outputs": [
    {
     "data": {
      "text/plain": [
       "0.7530901810653257"
      ]
     },
     "execution_count": 13,
     "metadata": {},
     "output_type": "execute_result"
    }
   ],
   "source": [
    "np.random.random_sample()"
   ]
  },
  {
   "cell_type": "code",
   "execution_count": 14,
   "metadata": {},
   "outputs": [
    {
     "data": {
      "text/plain": [
       "array([0.18478368, 0.75358217, 0.56197531])"
      ]
     },
     "execution_count": 14,
     "metadata": {},
     "output_type": "execute_result"
    }
   ],
   "source": [
    "np.random.random_sample(3)"
   ]
  },
  {
   "cell_type": "code",
   "execution_count": 15,
   "metadata": {},
   "outputs": [
    {
     "data": {
      "text/plain": [
       "array([[0.3358384 , 0.73130858, 0.82372217],\n",
       "       [0.77744651, 0.06042339, 0.44597659],\n",
       "       [0.02970275, 0.39728522, 0.20875337]])"
      ]
     },
     "execution_count": 15,
     "metadata": {},
     "output_type": "execute_result"
    }
   ],
   "source": [
    "np.random.random_sample((3, 3))"
   ]
  },
  {
   "cell_type": "markdown",
   "metadata": {},
   "source": [
    "### random.random"
   ]
  },
  {
   "cell_type": "markdown",
   "metadata": {},
   "source": [
    "This function is an alias to [random.random_sample](#random.random_sample).\n",
    "\n",
    "Proof in code:"
   ]
  },
  {
   "cell_type": "code",
   "execution_count": 16,
   "metadata": {},
   "outputs": [
    {
     "data": {
      "text/plain": [
       "True"
      ]
     },
     "execution_count": 16,
     "metadata": {},
     "output_type": "execute_result"
    }
   ],
   "source": [
    "np.random.random is np.random.random_sample"
   ]
  },
  {
   "cell_type": "markdown",
   "metadata": {},
   "source": [
    "### random.ranf"
   ]
  },
  {
   "cell_type": "markdown",
   "metadata": {},
   "source": [
    "This function is an alias to [random.random_sample](#random.random_sample)\n",
    "\n",
    "Proof in code:"
   ]
  },
  {
   "cell_type": "code",
   "execution_count": 17,
   "metadata": {},
   "outputs": [
    {
     "data": {
      "text/plain": [
       "True"
      ]
     },
     "execution_count": 17,
     "metadata": {},
     "output_type": "execute_result"
    }
   ],
   "source": [
    "np.random.ranf is np.random.random_sample"
   ]
  },
  {
   "cell_type": "markdown",
   "metadata": {},
   "source": [
    "### random.sample"
   ]
  },
  {
   "cell_type": "markdown",
   "metadata": {},
   "source": [
    "This function is an alias to [random.random_sample](#random.random_sample)\n",
    "\n",
    "Proof in code:"
   ]
  },
  {
   "cell_type": "code",
   "execution_count": 18,
   "metadata": {},
   "outputs": [
    {
     "data": {
      "text/plain": [
       "True"
      ]
     },
     "execution_count": 18,
     "metadata": {},
     "output_type": "execute_result"
    }
   ],
   "source": [
    "np.random.sample is np.random.random_sample"
   ]
  },
  {
   "cell_type": "markdown",
   "metadata": {},
   "source": [
    "### random.choice"
   ]
  },
  {
   "cell_type": "markdown",
   "metadata": {},
   "source": [
    "This function generates a random sample from a given 1-D array.\n",
    "\n",
    "The parameters it takes are as follows:\n",
    "\n",
    "a (1-D array-like or int):<br>If an ndarray, a random sample is generated from its elements. If an int, the random sample is generated as if a were np.arange(a)\n",
    "\n",
    "size (int or tuple of ints, optional):<br>Defines the output shape, the default is None, in which case a single value is returned.\n",
    "\n",
    "replace (boolean, optional):<br>Whether the sample is with or without replacement\n",
    "\n",
    "p (1-D array-like, optional):<br>The probabilities associated with each entry in a. If not given the sample assumes a uniform distribution over all entries in a.\n",
    "\n",
    "This function returns a single item or an array of random samples."
   ]
  },
  {
   "cell_type": "code",
   "execution_count": 19,
   "metadata": {},
   "outputs": [
    {
     "data": {
      "text/plain": [
       "0"
      ]
     },
     "execution_count": 19,
     "metadata": {},
     "output_type": "execute_result"
    }
   ],
   "source": [
    "np.random.choice(3)"
   ]
  },
  {
   "cell_type": "markdown",
   "metadata": {},
   "source": [
    "Generate a uniform random sample from np.arange(3) of size 5:"
   ]
  },
  {
   "cell_type": "code",
   "execution_count": 20,
   "metadata": {},
   "outputs": [
    {
     "data": {
      "text/plain": [
       "array([2, 0, 0, 1, 0])"
      ]
     },
     "execution_count": 20,
     "metadata": {},
     "output_type": "execute_result"
    }
   ],
   "source": [
    "np.random.choice(3, 5)"
   ]
  },
  {
   "cell_type": "markdown",
   "metadata": {},
   "source": [
    "Generate a non-uniform random sample from np.arange(3) of size 4:"
   ]
  },
  {
   "cell_type": "code",
   "execution_count": 21,
   "metadata": {},
   "outputs": [
    {
     "data": {
      "text/plain": [
       "array([2, 2, 2, 2], dtype=int64)"
      ]
     },
     "execution_count": 21,
     "metadata": {},
     "output_type": "execute_result"
    }
   ],
   "source": [
    "np.random.choice(3, 4, p=[0.2, 0.1, 0.7])"
   ]
  },
  {
   "cell_type": "markdown",
   "metadata": {},
   "source": [
    "Generate a uniform sample from np.arange(4) of size 3 with replacement:"
   ]
  },
  {
   "cell_type": "code",
   "execution_count": 22,
   "metadata": {},
   "outputs": [
    {
     "data": {
      "text/plain": [
       "array([2, 0, 0, 1])"
      ]
     },
     "execution_count": 22,
     "metadata": {},
     "output_type": "execute_result"
    }
   ],
   "source": [
    "np.random.choice(3, 4, replace=True)"
   ]
  },
  {
   "cell_type": "markdown",
   "metadata": {},
   "source": [
    "Any of the above can be repeated with an arbitrary array. For example:"
   ]
  },
  {
   "cell_type": "code",
   "execution_count": 23,
   "metadata": {},
   "outputs": [
    {
     "data": {
      "text/plain": [
       "array(['lizard', 'snake', 'dog'], dtype='<U8')"
      ]
     },
     "execution_count": 23,
     "metadata": {},
     "output_type": "execute_result"
    }
   ],
   "source": [
    "pet_array = ['rabbit', 'dog', 'cat', 'lizard', 'snake', 'goldfish']\n",
    "np.random.choice(pet_array, 3, p=[0.1, 0.1, 0.1, 0.4, 0.2, 0.1])"
   ]
  },
  {
   "cell_type": "markdown",
   "metadata": {},
   "source": [
    "### random.bytes"
   ]
  },
  {
   "cell_type": "markdown",
   "metadata": {},
   "source": [
    "This function returns random bytes.\n",
    "\n",
    "It takes one parameter, length, which determines the number of random bytes.\n",
    "\n",
    "It returns a String of length *length*."
   ]
  },
  {
   "cell_type": "code",
   "execution_count": 24,
   "metadata": {},
   "outputs": [
    {
     "data": {
      "text/plain": [
       "b'\\xdb\\x1fp^\\x14\\xfeL\\xa9\\x9fV\\xcaT\\rpAV\\xf6y\\x05\\x18\\xb5\\x8a\\xd7@]\\xbe\\x93+Mt\\x85P=v\\r\\x8a\\x9ct\\xbe\\xc1\\xaf\\xe8\\xeaVJ\\x15\\xd6\\x11\\\\r\\x01\\x14\\xb1\\x1ap\\x97\\x85\\xf14\\xd7g\\xb0\\xad\\xe0\\xb4\\x07~X=\\x80$h\\xe9\\x15\"\\xf5\\xe3\\xedT\\xf9\\x1b0\\x8bS\\x8c%C>\\xee\\xaa\\xff\\xf8\\xe1f$\\x11\\xea\\xd4u\\x9f'"
      ]
     },
     "execution_count": 24,
     "metadata": {},
     "output_type": "execute_result"
    }
   ],
   "source": [
    "np.random.bytes(100)"
   ]
  },
  {
   "cell_type": "markdown",
   "metadata": {},
   "source": [
    "## Permutations"
   ]
  },
  {
   "cell_type": "markdown",
   "metadata": {},
   "source": [
    "### random.shuffle"
   ]
  },
  {
   "cell_type": "markdown",
   "metadata": {},
   "source": [
    "This function is used to modify a sequesnce in-place by shuffling its contents."
   ]
  },
  {
   "cell_type": "code",
   "execution_count": 29,
   "metadata": {},
   "outputs": [
    {
     "data": {
      "text/plain": [
       "['Black', 'Blue', 'Yellow', 'Green', 'Red']"
      ]
     },
     "execution_count": 29,
     "metadata": {},
     "output_type": "execute_result"
    }
   ],
   "source": [
    "colour_array = [\"Black\", \"Blue\", \"Red\", \"Green\", \"Yellow\"]\n",
    "np.random.shuffle(colour_array)\n",
    "colour_array"
   ]
  },
  {
   "cell_type": "markdown",
   "metadata": {},
   "source": [
    "This function only shuffles the array along the first axis of a multi-dimensional array, the order of sub-arrays are changed but contents remain the same."
   ]
  },
  {
   "cell_type": "code",
   "execution_count": 77,
   "metadata": {},
   "outputs": [
    {
     "data": {
      "text/plain": [
       "array([[ 0,  1,  2,  3,  4],\n",
       "       [ 5,  6,  7,  8,  9],\n",
       "       [10, 11, 12, 13, 14]])"
      ]
     },
     "execution_count": 77,
     "metadata": {},
     "output_type": "execute_result"
    }
   ],
   "source": [
    "array = np.arange(15).reshape((3, 5))\n",
    "array"
   ]
  },
  {
   "cell_type": "code",
   "execution_count": 78,
   "metadata": {},
   "outputs": [
    {
     "data": {
      "text/plain": [
       "array([[10, 11, 12, 13, 14],\n",
       "       [ 0,  1,  2,  3,  4],\n",
       "       [ 5,  6,  7,  8,  9]])"
      ]
     },
     "execution_count": 78,
     "metadata": {},
     "output_type": "execute_result"
    }
   ],
   "source": [
    "np.random.shuffle(array)\n",
    "array"
   ]
  },
  {
   "cell_type": "markdown",
   "metadata": {},
   "source": [
    "### random.permutation"
   ]
  },
  {
   "cell_type": "markdown",
   "metadata": {},
   "source": [
    "This function randomly permutes a sequence, or returns a permuted range.\n",
    "\n",
    "This method takes one parameter, which can be either be an int or an array.\n",
    "If an int, randomly permute *np.arange(int)*.\n",
    "If an array, make a copy and shuffle the elements randomly."
   ]
  },
  {
   "cell_type": "code",
   "execution_count": 80,
   "metadata": {},
   "outputs": [
    {
     "data": {
      "text/plain": [
       "array([0, 2, 7, 3, 6, 9, 5, 4, 1, 8])"
      ]
     },
     "execution_count": 80,
     "metadata": {},
     "output_type": "execute_result"
    }
   ],
   "source": [
    "np.random.permutation(10)"
   ]
  },
  {
   "cell_type": "code",
   "execution_count": 84,
   "metadata": {},
   "outputs": [
    {
     "data": {
      "text/plain": [
       "array([[ 0,  1,  2,  3,  4],\n",
       "       [ 5,  6,  7,  8,  9],\n",
       "       [10, 11, 12, 13, 14]])"
      ]
     },
     "execution_count": 84,
     "metadata": {},
     "output_type": "execute_result"
    }
   ],
   "source": [
    "array = np.arange(15).reshape((3, 5))\n",
    "array"
   ]
  },
  {
   "cell_type": "code",
   "execution_count": 106,
   "metadata": {},
   "outputs": [
    {
     "data": {
      "text/plain": [
       "array([[10, 11, 12, 13, 14],\n",
       "       [ 5,  6,  7,  8,  9],\n",
       "       [ 0,  1,  2,  3,  4]])"
      ]
     },
     "execution_count": 106,
     "metadata": {},
     "output_type": "execute_result"
    }
   ],
   "source": [
    "np.random.permutation(array)"
   ]
  },
  {
   "cell_type": "markdown",
   "metadata": {},
   "source": [
    "## Distributions"
   ]
  },
  {
   "cell_type": "markdown",
   "metadata": {},
   "source": [
    "### random.beta"
   ]
  },
  {
   "cell_type": "markdown",
   "metadata": {},
   "source": [
    "This function is used to draw samples from a Beta distribution. The Beta distribution is a special case of the Dirichlet distribution, and is related to the Gamma distribution.<br><br>\n",
    "This function can take three parameters:\n",
    "<br>a (float or array of floats):\n",
    "Alpha, must be a positive value.<br>b (float or array of floats):\n",
    "Beta, must be a positive value.<br>size (int or tuple of ints, optional):\n",
    "Defines the output shape. If size=None (default), a single value is returned if a and b are both scalars. Otherwise, np.broadcast(a, b).size samples are drawn."
   ]
  },
  {
   "cell_type": "code",
   "execution_count": 107,
   "metadata": {},
   "outputs": [
    {
     "data": {
      "text/plain": [
       "0.21130959446868164"
      ]
     },
     "execution_count": 107,
     "metadata": {},
     "output_type": "execute_result"
    }
   ],
   "source": [
    "np.random.beta(2.1, 5.3)"
   ]
  },
  {
   "cell_type": "code",
   "execution_count": 108,
   "metadata": {},
   "outputs": [
    {
     "data": {
      "text/plain": [
       "array([0.26024536, 0.62359122, 0.55681808, 0.56948957, 0.24230463])"
      ]
     },
     "execution_count": 108,
     "metadata": {},
     "output_type": "execute_result"
    }
   ],
   "source": [
    "np.random.beta(2.4, 4.5, 5)"
   ]
  },
  {
   "cell_type": "markdown",
   "metadata": {},
   "source": [
    "### random.binomial"
   ]
  },
  {
   "cell_type": "markdown",
   "metadata": {},
   "source": [
    "This function is used to draw samples from a binomial distribution.\n",
    "\n",
    "Samples are drawn with specified parameters, n trials and p probability of success where n an integer >= 0 and p is in the interval [0,1]. (n may be input as a float, but it is truncated to an integer in use)\n",
    "\n",
    "This function takes the following parameters:\t\n",
    "n (int or array_like of ints):<br>\n",
    "Must be >= 0. Floats are also accepted, but they will be truncated to integers.<br>\n",
    "p (float or array_like of floats):<br>\n",
    "Must be between 0 and 1 inclusive.<br>\n",
    "size (int or tuple of ints, optional):<br>\n",
    "Defines the output shape. If size is None (default), a single value is returned if n and p are both scalars. Otherwise, np.broadcast(n, p).size samples are drawn.\n",
    "\n",
    "This function returns an *n* dimensional array or scalar.\n",
    "\n",
    "Draw samples from the distribution:"
   ]
  },
  {
   "cell_type": "code",
   "execution_count": 113,
   "metadata": {},
   "outputs": [
    {
     "data": {
      "text/plain": [
       "array([4, 4, 3, 8, 6, 5, 7, 2, 5, 4, 6, 6, 7, 2, 6, 5, 5, 5, 7, 6, 9, 5,\n",
       "       6, 5, 4, 5, 4, 4, 4, 6, 5, 6, 5, 7, 3, 5, 2, 4, 9, 5, 3, 6, 4, 6,\n",
       "       6, 8, 6, 7, 5, 5, 5, 5, 3, 6, 6, 5, 5, 2, 7, 6, 5, 7, 7, 2, 6, 8,\n",
       "       5, 3, 6, 6, 6, 5, 2, 5, 5, 5, 6, 4, 3, 5, 2, 5, 2, 8, 3, 4, 2, 6,\n",
       "       6, 5, 5, 6, 6, 8, 6, 4, 6, 4, 7, 7])"
      ]
     },
     "execution_count": 113,
     "metadata": {},
     "output_type": "execute_result"
    }
   ],
   "source": [
    "n, p = 10, .5  # number of trials, probability of each trial\n",
    "s = np.random.binomial(n, p, 100)\n",
    "# result of flipping a coin 10 times, tested 100 times.\n",
    "s"
   ]
  },
  {
   "cell_type": "markdown",
   "metadata": {},
   "source": [
    "### random.chisquare"
   ]
  },
  {
   "cell_type": "markdown",
   "metadata": {},
   "source": [
    "This function is used to draw samples from a chi-square distribution.\n",
    "\n",
    "Independent random variables, each with standard normal distributions (mean 0, variance 1), are squared and summed, the resulting distribution is chi-square. This distribution is often used in hypothesis testing.\n",
    "    \n",
    "This function takes the following parameters:\t\n",
    "\n",
    "df (float or array_like of floats):<br>\n",
    "Number of degrees of freedom, should be > 0.<br>\n",
    "size (int or tuple of ints, optional):<br>\n",
    "Defines the output shape. If size is None (default), a single value is returned if df is a scalar. Otherwise, np.array(df).size samples are drawn.\n",
    "\n",
    "This function returns an *n* dimensional array or scalar."
   ]
  },
  {
   "cell_type": "code",
   "execution_count": 114,
   "metadata": {},
   "outputs": [
    {
     "data": {
      "text/plain": [
       "array([0.70255726, 4.45202563, 0.40829309, 2.9825124 ])"
      ]
     },
     "execution_count": 114,
     "metadata": {},
     "output_type": "execute_result"
    }
   ],
   "source": [
    "np.random.chisquare(2,4)"
   ]
  },
  {
   "cell_type": "markdown",
   "metadata": {},
   "source": [
    "### random.dirichlet"
   ]
  },
  {
   "cell_type": "markdown",
   "metadata": {},
   "source": [
    "This function is used to draw samples from the Dirichlet distribution.\n",
    "\n",
    "A Dirichlet-distributed random variable can be seen as a multivariate generalization of a Beta distribution. Dirichlet pdf is the conjugate prior of a multinomial in Bayesian inference.\n",
    "    \n",
    "This function takes the following parameters:\t\n",
    "\n",
    "alpha (array):<br>\n",
    "Parameter of the distribution (k dimension for sample of dimension k).<br>\n",
    "size (int or tuple of ints, optional):\n",
    "Defines the output shape. Default is None, in which case a single value is returned.\n",
    "\n",
    "This function returns an *n* dimensional array.\t"
   ]
  },
  {
   "cell_type": "code",
   "execution_count": 119,
   "metadata": {},
   "outputs": [
    {
     "data": {
      "text/plain": [
       "array([[0.45757354, 0.63156503, 0.63180611, 0.52850831, 0.45129896,\n",
       "        0.50120469, 0.64884622, 0.57614129, 0.58641672, 0.47293778,\n",
       "        0.50121979, 0.66649591, 0.56461696, 0.59432749, 0.65688562,\n",
       "        0.43883279, 0.57924584, 0.5345307 , 0.41840738, 0.73371181],\n",
       "       [0.20686687, 0.20453422, 0.30405319, 0.23456431, 0.33609388,\n",
       "        0.3396103 , 0.32030861, 0.12189081, 0.25038251, 0.29321016,\n",
       "        0.21542393, 0.12679377, 0.42642993, 0.28703248, 0.27350939,\n",
       "        0.33197222, 0.29892129, 0.23560893, 0.13331945, 0.10749088],\n",
       "       [0.33555959, 0.16390075, 0.0641407 , 0.23692738, 0.21260716,\n",
       "        0.159185  , 0.03084518, 0.3019679 , 0.16320077, 0.23385206,\n",
       "        0.28335628, 0.20671032, 0.00895311, 0.11864003, 0.06960499,\n",
       "        0.22919498, 0.12183287, 0.22986037, 0.44827317, 0.15879731]])"
      ]
     },
     "execution_count": 119,
     "metadata": {},
     "output_type": "execute_result"
    }
   ],
   "source": [
    "s = np.random.dirichlet((10, 5, 3), 20).transpose()\n",
    "s"
   ]
  },
  {
   "cell_type": "markdown",
   "metadata": {},
   "source": [
    "### random.exponential"
   ]
  },
  {
   "cell_type": "markdown",
   "metadata": {},
   "source": [
    " numpy.random.exponential(scale=1.0, size=None)\n",
    "\n",
    "    Draw samples from an exponential distribution.\n",
    "    \n",
    "The exponential distribution is a continuous analogue of the geometric distribution. It describes many common situations, such as the size of raindrops measured over many rainstorms [1], or the time between page requests to Wikipedia [2].\n",
    "Parameters:\t\n",
    "\n",
    "scale : float or array_like of floats\n",
    "\n",
    "    The scale parameter, \\beta = 1/\\lambda.\n",
    "size : int or tuple of ints, optional\n",
    "\n",
    "    Output shape. If the given shape is, e.g., (m, n, k), then m * n * k samples are drawn. If size is None (default), a single value is returned if scale is a scalar. Otherwise, np.array(scale).size samples are drawn.\n",
    "\n",
    "Returns:\t\n",
    "\n",
    "out : ndarray or scalar\n",
    "\n",
    "    Drawn samples from the parameterized exponential distribution.\n",
    "\n"
   ]
  },
  {
   "cell_type": "code",
   "execution_count": null,
   "metadata": {},
   "outputs": [],
   "source": []
  },
  {
   "cell_type": "code",
   "execution_count": null,
   "metadata": {},
   "outputs": [],
   "source": []
  },
  {
   "cell_type": "markdown",
   "metadata": {},
   "source": [
    "### random.f"
   ]
  },
  {
   "cell_type": "markdown",
   "metadata": {},
   "source": [
    " numpy.random.f(dfnum, dfden, size=None)\n",
    "\n",
    "    Draw samples from an F distribution.\n",
    "\n",
    "    Samples are drawn from an F distribution with specified parameters, dfnum (degrees of freedom in numerator) and dfden (degrees of freedom in denominator), where both parameters should be greater than zero.\n",
    "\n",
    "    The random variate of the F distribution (also known as the Fisher distribution) is a continuous probability distribution that arises in ANOVA tests, and is the ratio of two chi-square variates.\n",
    "    Parameters:\t\n",
    "\n",
    "    dfnum : float or array_like of floats\n",
    "\n",
    "        Degrees of freedom in numerator, should be > 0.\n",
    "    dfden : float or array_like of float\n",
    "\n",
    "        Degrees of freedom in denominator, should be > 0.\n",
    "    size : int or tuple of ints, optional\n",
    "\n",
    "        Output shape. If the given shape is, e.g., (m, n, k), then m * n * k samples are drawn. If size is None (default), a single value is returned if dfnum and dfden are both scalars. Otherwise, np.broadcast(dfnum, dfden).size samples are drawn.\n",
    "\n",
    "    Returns:\t\n",
    "\n",
    "    out : ndarray or scalar\n",
    "\n",
    "        Drawn samples from the parameterized Fisher distribution.\n",
    "\n",
    "The F statistic is used to compare in-group variances to between-group variances. Calculating the distribution depends on the sampling, and so it is a function of the respective degrees of freedom in the problem. The variable dfnum is the number of samples minus one, the between-groups degrees of freedom, while dfden is the within-groups degrees of freedom, the sum of the number of samples in each group minus the number of groups.\n",
    "\n",
    "Glantz, Stanton A. “Primer of Biostatistics.”, McGraw-Hill, Fifth Edition, 2002.\n",
    "\n",
    "An example from Glantz[1], pp 47-40:\n",
    "\n",
    "Two groups, children of diabetics (25 people) and children from people without diabetes (25 controls). Fasting blood glucose was measured, case group had a mean value of 86.1, controls had a mean value of 82.2. Standard deviations were 2.09 and 2.49 respectively. Are these data consistent with the null hypothesis that the parents diabetic status does not affect their children’s blood glucose levels? Calculating the F statistic from the data gives a value of 36.01.\n",
    "\n",
    "Draw samples from the distribution:\n",
    ">>>\n",
    "\n",
    ">>> dfnum = 1. # between group degrees of freedom\n",
    ">>> dfden = 48. # within groups degrees of freedom\n",
    ">>> s = np.random.f(dfnum, dfden, 1000)\n",
    "\n",
    "The lower bound for the top 1% of the samples is :\n",
    ">>>\n",
    "\n",
    ">>> sort(s)[-10]\n",
    "7.61988120985\n",
    "\n",
    "So there is about a 1% chance that the F statistic will exceed 7.62, the measured value is 36, so the null hypothesis is rejected at the 1% level."
   ]
  },
  {
   "cell_type": "code",
   "execution_count": null,
   "metadata": {},
   "outputs": [],
   "source": []
  },
  {
   "cell_type": "code",
   "execution_count": null,
   "metadata": {},
   "outputs": [],
   "source": []
  },
  {
   "cell_type": "markdown",
   "metadata": {},
   "source": [
    "### random.gamma"
   ]
  },
  {
   "cell_type": "markdown",
   "metadata": {},
   "source": [
    " numpy.random.gamma(shape, scale=1.0, size=None)\n",
    "\n",
    "    Draw samples from a Gamma distribution.\n",
    "\n",
    "    Samples are drawn from a Gamma distribution with specified parameters, shape (sometimes designated “k”) and scale (sometimes designated “theta”), where both parameters are > 0.\n",
    "    Parameters:\t\n",
    "\n",
    "    shape : float or array_like of floats\n",
    "\n",
    "        The shape of the gamma distribution. Should be greater than zero.\n",
    "    scale : float or array_like of floats, optional\n",
    "\n",
    "        The scale of the gamma distribution. Should be greater than zero. Default is equal to 1.\n",
    "    size : int or tuple of ints, optional\n",
    "\n",
    "        Output shape. If the given shape is, e.g., (m, n, k), then m * n * k samples are drawn. If size is None (default), a single value is returned if shape and scale are both scalars. Otherwise, np.broadcast(shape, scale).size samples are drawn.\n",
    "\n",
    "    Returns:\t\n",
    "\n",
    "    out : ndarray or scalar\n",
    "\n",
    "        Drawn samples from the parameterized gamma distribution.\n",
    "\n",
    "The Gamma distribution is often used to model the times to failure of electronic components, and arises naturally in processes for which the waiting times between Poisson distributed events are relevant.\n",
    "\n",
    "Draw samples from the distribution:\n",
    ">>>\n",
    "\n",
    ">>> shape, scale = 2., 2.  # mean=4, std=2*sqrt(2)\n",
    ">>> s = np.random.gamma(shape, scale, 1000)\n",
    "\n",
    "Display the histogram of the samples, along with the probability density function:\n",
    ">>>\n",
    "\n",
    ">>> import matplotlib.pyplot as plt\n",
    ">>> import scipy.special as sps\n",
    ">>> count, bins, ignored = plt.hist(s, 50, density=True)\n",
    ">>> y = bins**(shape-1)*(np.exp(-bins/scale) /\n",
    "...                      (sps.gamma(shape)*scale**shape))\n",
    ">>> plt.plot(bins, y, linewidth=2, color='r')\n",
    ">>> plt.show()\n"
   ]
  },
  {
   "cell_type": "code",
   "execution_count": null,
   "metadata": {},
   "outputs": [],
   "source": []
  },
  {
   "cell_type": "code",
   "execution_count": null,
   "metadata": {},
   "outputs": [],
   "source": []
  },
  {
   "cell_type": "markdown",
   "metadata": {},
   "source": [
    "### random.geometric"
   ]
  },
  {
   "cell_type": "markdown",
   "metadata": {},
   "source": [
    " numpy.random.geometric(p, size=None)\n",
    "\n",
    "    Draw samples from the geometric distribution.\n",
    "\n",
    "    Bernoulli trials are experiments with one of two outcomes: success or failure (an example of such an experiment is flipping a coin). The geometric distribution models the number of trials that must be run in order to achieve success. It is therefore supported on the positive integers, k = 1, 2, ....\n",
    "\n",
    "    The probability mass function of the geometric distribution is\n",
    "\n",
    "    f(k) = (1 - p)^{k - 1} p\n",
    "\n",
    "    where p is the probability of success of an individual trial.\n",
    "    Parameters:\t\n",
    "\n",
    "    p : float or array_like of floats\n",
    "\n",
    "        The probability of success of an individual trial.\n",
    "    size : int or tuple of ints, optional\n",
    "\n",
    "        Output shape. If the given shape is, e.g., (m, n, k), then m * n * k samples are drawn. If size is None (default), a single value is returned if p is a scalar. Otherwise, np.array(p).size samples are drawn.\n",
    "\n",
    "    Returns:\t\n",
    "\n",
    "    out : ndarray or scalar\n",
    "\n",
    "        Drawn samples from the parameterized geometric distribution.\n",
    "\n",
    "Draw ten thousand values from the geometric distribution, with the probability of an individual success equal to 0.35:\n",
    ">>>\n",
    "\n",
    ">>> z = np.random.geometric(p=0.35, size=10000)\n",
    "\n",
    "How many trials succeeded after a single run?\n",
    ">>>\n",
    "\n",
    ">>> (z == 1).sum() / 10000.\n",
    "0.34889999999999999 #random"
   ]
  },
  {
   "cell_type": "code",
   "execution_count": null,
   "metadata": {},
   "outputs": [],
   "source": []
  },
  {
   "cell_type": "code",
   "execution_count": null,
   "metadata": {},
   "outputs": [],
   "source": []
  },
  {
   "cell_type": "markdown",
   "metadata": {},
   "source": [
    "### random.gumbel"
   ]
  },
  {
   "cell_type": "markdown",
   "metadata": {},
   "source": [
    " numpy.random.gumbel(loc=0.0, scale=1.0, size=None)\n",
    "\n",
    "    Draw samples from a Gumbel distribution.\n",
    "\n",
    "    Draw samples from a Gumbel distribution with specified location and scale. For more information on the Gumbel distribution, see Notes and References below.\n",
    "    Parameters:\t\n",
    "\n",
    "    loc : float or array_like of floats, optional\n",
    "\n",
    "        The location of the mode of the distribution. Default is 0.\n",
    "    scale : float or array_like of floats, optional\n",
    "\n",
    "        The scale parameter of the distribution. Default is 1.\n",
    "    size : int or tuple of ints, optional\n",
    "\n",
    "        Output shape. If the given shape is, e.g., (m, n, k), then m * n * k samples are drawn. If size is None (default), a single value is returned if loc and scale are both scalars. Otherwise, np.broadcast(loc, scale).size samples are drawn.\n",
    "\n",
    "    Returns:\t\n",
    "\n",
    "    out : ndarray or scalar\n",
    "\n",
    "        Drawn samples from the parameterized Gumbel distribution.\n",
    "\n",
    "The Gumbel (or Smallest Extreme Value (SEV) or the Smallest Extreme Value Type I) distribution is one of a class of Generalized Extreme Value (GEV) distributions used in modeling extreme value problems. The Gumbel is a special case of the Extreme Value Type I distribution for maximums from distributions with “exponential-like” tails.\n",
    "\n",
    "The Gumbel (named for German mathematician Emil Julius Gumbel) was used very early in the hydrology literature, for modeling the occurrence of flood events. It is also used for modeling maximum wind speed and rainfall rates. It is a “fat-tailed” distribution - the probability of an event in the tail of the distribution is larger than if one used a Gaussian, hence the surprisingly frequent occurrence of 100-year floods. Floods were initially modeled as a Gaussian process, which underestimated the frequency of extreme events.\n",
    "\n",
    "It is one of a class of extreme value distributions, the Generalized Extreme Value (GEV) distributions, which also includes the Weibull and Frechet.\n",
    "\n",
    "Draw samples from the distribution:\n",
    ">>>\n",
    "\n",
    ">>> mu, beta = 0, 0.1 # location and scale\n",
    ">>> s = np.random.gumbel(mu, beta, 1000)\n",
    "\n",
    "Display the histogram of the samples, along with the probability density function:\n",
    ">>>\n",
    "\n",
    ">>> import matplotlib.pyplot as plt\n",
    ">>> count, bins, ignored = plt.hist(s, 30, density=True)\n",
    ">>> plt.plot(bins, (1/beta)*np.exp(-(bins - mu)/beta)\n",
    "...          * np.exp( -np.exp( -(bins - mu) /beta) ),\n",
    "...          linewidth=2, color='r')\n",
    ">>> plt.show()\n",
    "\n",
    "Show how an extreme value distribution can arise from a Gaussian process and compare to a Gaussian:\n",
    ">>>\n",
    "\n",
    ">>> means = []\n",
    ">>> maxima = []\n",
    ">>> for i in range(0,1000) :\n",
    "...    a = np.random.normal(mu, beta, 1000)\n",
    "...    means.append(a.mean())\n",
    "...    maxima.append(a.max())\n",
    ">>> count, bins, ignored = plt.hist(maxima, 30, density=True)\n",
    ">>> beta = np.std(maxima) * np.sqrt(6) / np.pi\n",
    ">>> mu = np.mean(maxima) - 0.57721*beta\n",
    ">>> plt.plot(bins, (1/beta)*np.exp(-(bins - mu)/beta)\n",
    "...          * np.exp(-np.exp(-(bins - mu)/beta)),\n",
    "...          linewidth=2, color='r')\n",
    ">>> plt.plot(bins, 1/(beta * np.sqrt(2 * np.pi))\n",
    "...          * np.exp(-(bins - mu)**2 / (2 * beta**2)),\n",
    "...          linewidth=2, color='g')\n",
    ">>> plt.show()\n",
    "\n"
   ]
  },
  {
   "cell_type": "code",
   "execution_count": null,
   "metadata": {},
   "outputs": [],
   "source": []
  },
  {
   "cell_type": "code",
   "execution_count": null,
   "metadata": {},
   "outputs": [],
   "source": []
  },
  {
   "cell_type": "markdown",
   "metadata": {},
   "source": [
    "### random.hypergeometric"
   ]
  },
  {
   "cell_type": "markdown",
   "metadata": {},
   "source": [
    " numpy.random.hypergeometric(ngood, nbad, nsample, size=None)\n",
    "\n",
    "    Draw samples from a Hypergeometric distribution.\n",
    "\n",
    "    Samples are drawn from a hypergeometric distribution with specified parameters, ngood (ways to make a good selection), nbad (ways to make a bad selection), and nsample = number of items sampled, which is less than or equal to the sum ngood + nbad.\n",
    "    \n",
    "Parameters:\t\n",
    "\n",
    "ngood : int or array_like of ints\n",
    "\n",
    "    Number of ways to make a good selection. Must be nonnegative.\n",
    "nbad : int or array_like of ints\n",
    "\n",
    "    Number of ways to make a bad selection. Must be nonnegative.\n",
    "nsample : int or array_like of ints\n",
    "\n",
    "    Number of items sampled. Must be at least 1 and at most ngood + nbad.\n",
    "size : int or tuple of ints, optional\n",
    "\n",
    "    Output shape. If the given shape is, e.g., (m, n, k), then m * n * k samples are drawn. If size is None (default), a single value is returned if ngood, nbad, and nsample are all scalars. Otherwise, np.broadcast(ngood, nbad, nsample).size samples are drawn.\n",
    "\n",
    "Returns:\t\n",
    "\n",
    "out : ndarray or scalar\n",
    "\n",
    "    Drawn samples from the parameterized hypergeometric distribution.\n",
    "\n",
    "Consider an urn with black and white marbles in it, ngood of them black and nbad are white. If you draw nsample balls without replacement, then the hypergeometric distribution describes the distribution of black balls in the drawn sample.\n",
    "\n",
    "Note that this distribution is very similar to the binomial distribution, except that in this case, samples are drawn without replacement, whereas in the Binomial case samples are drawn with replacement (or the sample space is infinite). As the sample space becomes large, this distribution approaches the binomial.\n",
    "\n",
    "ngood, nbad, nsamp = 100, 2, 10\n",
    "#number of good, number of bad, and number of samples\n",
    ">>> s = np.random.hypergeometric(ngood, nbad, nsamp, 1000)\n",
    ">>> hist(s)\n",
    "#note that it is very unlikely to grab both bad items\n",
    "\n",
    "Suppose you have an urn with 15 white and 15 black marbles. If you pull 15 marbles at random, how likely is it that 12 or more of them are one color?\n",
    ">>>\n",
    "\n",
    ">>> s = np.random.hypergeometric(15, 15, 15, 100000)\n",
    ">>> sum(s>=12)/100000. + sum(s<=3)/100000.\n",
    "#answer = 0.003 ... pretty unlikely!\n",
    "\n"
   ]
  },
  {
   "cell_type": "code",
   "execution_count": null,
   "metadata": {},
   "outputs": [],
   "source": []
  },
  {
   "cell_type": "code",
   "execution_count": null,
   "metadata": {},
   "outputs": [],
   "source": []
  },
  {
   "cell_type": "markdown",
   "metadata": {},
   "source": [
    "### random.laplace"
   ]
  },
  {
   "cell_type": "markdown",
   "metadata": {},
   "source": [
    " numpy.random.laplace(loc=0.0, scale=1.0, size=None)\n",
    "\n",
    "    Draw samples from the Laplace or double exponential distribution with specified location (or mean) and scale (decay).\n",
    "\n",
    "    The Laplace distribution is similar to the Gaussian/normal distribution, but is sharper at the peak and has fatter tails. It represents the difference between two independent, identically distributed exponential random variables.\n",
    "    Parameters:\t\n",
    "\n",
    "    loc : float or array_like of floats, optional\n",
    "\n",
    "        The position, \\mu, of the distribution peak. Default is 0.\n",
    "    scale : float or array_like of floats, optional\n",
    "\n",
    "        \\lambda, the exponential decay. Default is 1.\n",
    "    size : int or tuple of ints, optional\n",
    "\n",
    "        Output shape. If the given shape is, e.g., (m, n, k), then m * n * k samples are drawn. If size is None (default), a single value is returned if loc and scale are both scalars. Otherwise, np.broadcast(loc, scale).size samples are drawn.\n",
    "\n",
    "    Returns:\t\n",
    "\n",
    "    out : ndarray or scalar\n",
    "\n",
    "        Drawn samples from the parameterized Laplace distribution.\n",
    "\n",
    "The first law of Laplace, from 1774, states that the frequency of an error can be expressed as an exponential function of the absolute magnitude of the error, which leads to the Laplace distribution. For many problems in economics and health sciences, this distribution seems to model the data better than the standard Gaussian distribution.\n",
    "\n",
    "loc, scale = 0., 1.\n",
    ">>> s = np.random.laplace(loc, scale, 1000)\n",
    "\n",
    "Display the histogram of the samples, along with the probability density function:\n",
    ">>>\n",
    "\n",
    ">>> import matplotlib.pyplot as plt\n",
    ">>> count, bins, ignored = plt.hist(s, 30, density=True)\n",
    ">>> x = np.arange(-8., 8., .01)\n",
    ">>> pdf = np.exp(-abs(x-loc)/scale)/(2.*scale)\n",
    ">>> plt.plot(x, pdf)\n",
    "\n",
    "Plot Gaussian for comparison:\n",
    ">>>\n",
    "\n",
    ">>> g = (1/(scale * np.sqrt(2 * np.pi)) *\n",
    "...      np.exp(-(x - loc)**2 / (2 * scale**2)))\n",
    ">>> plt.plot(x,g)"
   ]
  },
  {
   "cell_type": "code",
   "execution_count": null,
   "metadata": {},
   "outputs": [],
   "source": []
  },
  {
   "cell_type": "code",
   "execution_count": null,
   "metadata": {},
   "outputs": [],
   "source": []
  },
  {
   "cell_type": "markdown",
   "metadata": {},
   "source": [
    "### random.logistic"
   ]
  },
  {
   "cell_type": "markdown",
   "metadata": {},
   "source": [
    " numpy.random.logistic(loc=0.0, scale=1.0, size=None)\n",
    "\n",
    "    Draw samples from a logistic distribution.\n",
    "\n",
    "    Samples are drawn from a logistic distribution with specified parameters, loc (location or mean, also median), and scale (>0).\n",
    "    Parameters:\t\n",
    "\n",
    "    loc : float or array_like of floats, optional\n",
    "\n",
    "        Parameter of the distribution. Default is 0.\n",
    "    scale : float or array_like of floats, optional\n",
    "\n",
    "        Parameter of the distribution. Should be greater than zero. Default is 1.\n",
    "    size : int or tuple of ints, optional\n",
    "\n",
    "        Output shape. If the given shape is, e.g., (m, n, k), then m * n * k samples are drawn. If size is None (default), a single value is returned if loc and scale are both scalars. Otherwise, np.broadcast(loc, scale).size samples are drawn.\n",
    "\n",
    "    Returns:\t\n",
    "\n",
    "    out : ndarray or scalar\n",
    "\n",
    "        Drawn samples from the parameterized logistic distribution.\n",
    "\n",
    "The Logistic distribution is used in Extreme Value problems where it can act as a mixture of Gumbel distributions, in Epidemiology, and by the World Chess Federation (FIDE) where it is used in the Elo ranking system, assuming the performance of each player is a logistically distributed random variable.\n",
    "\n",
    "Draw samples from the distribution:\n",
    ">>>\n",
    "\n",
    ">>> loc, scale = 10, 1\n",
    ">>> s = np.random.logistic(loc, scale, 10000)\n",
    ">>> count, bins, ignored = plt.hist(s, bins=50)\n",
    "\n",
    "#plot against distribution\n",
    ">>>\n",
    "\n",
    ">>> def logist(x, loc, scale):\n",
    "...     return exp((loc-x)/scale)/(scale*(1+exp((loc-x)/scale))**2)\n",
    ">>> plt.plot(bins, logist(bins, loc, scale)*count.max()/\\\n",
    "... logist(bins, loc, scale).max())\n",
    ">>> plt.show()\n",
    "\n"
   ]
  },
  {
   "cell_type": "code",
   "execution_count": null,
   "metadata": {},
   "outputs": [],
   "source": []
  },
  {
   "cell_type": "code",
   "execution_count": null,
   "metadata": {},
   "outputs": [],
   "source": []
  },
  {
   "cell_type": "markdown",
   "metadata": {},
   "source": [
    "### random.lognormal"
   ]
  },
  {
   "cell_type": "markdown",
   "metadata": {},
   "source": [
    " numpy.random.lognormal(mean=0.0, sigma=1.0, size=None)\n",
    "\n",
    "    Draw samples from a log-normal distribution.\n",
    "\n",
    "    Draw samples from a log-normal distribution with specified mean, standard deviation, and array shape. Note that the mean and standard deviation are not the values for the distribution itself, but of the underlying normal distribution it is derived from.\n",
    "    Parameters:\t\n",
    "\n",
    "    mean : float or array_like of floats, optional\n",
    "\n",
    "        Mean value of the underlying normal distribution. Default is 0.\n",
    "    sigma : float or array_like of floats, optional\n",
    "\n",
    "        Standard deviation of the underlying normal distribution. Should be greater than zero. Default is 1.\n",
    "    size : int or tuple of ints, optional\n",
    "\n",
    "        Output shape. If the given shape is, e.g., (m, n, k), then m * n * k samples are drawn. If size is None (default), a single value is returned if mean and sigma are both scalars. Otherwise, np.broadcast(mean, sigma).size samples are drawn.\n",
    "\n",
    "    Returns:\t\n",
    "\n",
    "    out : ndarray or scalar\n",
    "\n",
    "        Drawn samples from the parameterized log-normal distribution.\n",
    "\n",
    "A log-normal distribution results if a random variable is the product of a large number of independent, identically-distributed variables in the same way that a normal distribution results if the variable is the sum of a large number of independent, identically-distributed variables.\n",
    "\n",
    "Draw samples from the distribution:\n",
    ">>>\n",
    "\n",
    ">>> mu, sigma = 3., 1. # mean and standard deviation\n",
    ">>> s = np.random.lognormal(mu, sigma, 1000)\n",
    "\n",
    "Display the histogram of the samples, along with the probability density function:\n",
    ">>>\n",
    "\n",
    ">>> import matplotlib.pyplot as plt\n",
    ">>> count, bins, ignored = plt.hist(s, 100, density=True, align='mid')\n",
    "\n",
    ">>>\n",
    "\n",
    ">>> x = np.linspace(min(bins), max(bins), 10000)\n",
    ">>> pdf = (np.exp(-(np.log(x) - mu)**2 / (2 * sigma**2))\n",
    "...        / (x * sigma * np.sqrt(2 * np.pi)))\n",
    "\n",
    ">>>\n",
    "\n",
    ">>> plt.plot(x, pdf, linewidth=2, color='r')\n",
    ">>> plt.axis('tight')\n",
    ">>> plt.show()\n",
    "\n",
    "Demonstrate that taking the products of random samples from a uniform distribution can be fit well by a log-normal probability density function.\n",
    ">>>\n",
    "\n",
    ">>> # Generate a thousand samples: each is the product of 100 random\n",
    ">>> # values, drawn from a normal distribution.\n",
    ">>> b = []\n",
    ">>> for i in range(1000):\n",
    "...    a = 10. + np.random.random(100)\n",
    "...    b.append(np.product(a))\n",
    "\n",
    ">>>\n",
    "\n",
    ">>> b = np.array(b) / np.min(b) # scale values to be positive\n",
    ">>> count, bins, ignored = plt.hist(b, 100, density=True, align='mid')\n",
    ">>> sigma = np.std(np.log(b))\n",
    ">>> mu = np.mean(np.log(b))\n",
    "\n",
    ">>>\n",
    "\n",
    ">>> x = np.linspace(min(bins), max(bins), 10000)\n",
    ">>> pdf = (np.exp(-(np.log(x) - mu)**2 / (2 * sigma**2))\n",
    "...        / (x * sigma * np.sqrt(2 * np.pi)))\n",
    "\n",
    ">>>\n",
    "\n",
    ">>> plt.plot(x, pdf, color='r', linewidth=2)\n",
    ">>> plt.show()"
   ]
  },
  {
   "cell_type": "code",
   "execution_count": null,
   "metadata": {},
   "outputs": [],
   "source": []
  },
  {
   "cell_type": "code",
   "execution_count": null,
   "metadata": {},
   "outputs": [],
   "source": []
  },
  {
   "cell_type": "markdown",
   "metadata": {},
   "source": [
    "### random.logseries"
   ]
  },
  {
   "cell_type": "markdown",
   "metadata": {},
   "source": [
    " numpy.random.logseries(p, size=None)\n",
    "\n",
    "    Draw samples from a logarithmic series distribution.\n",
    "\n",
    "    Samples are drawn from a log series distribution with specified shape parameter, 0 < p < 1.\n",
    "    Parameters:\t\n",
    "\n",
    "    p : float or array_like of floats\n",
    "\n",
    "        Shape parameter for the distribution. Must be in the range (0, 1).\n",
    "    size : int or tuple of ints, optional\n",
    "\n",
    "        Output shape. If the given shape is, e.g., (m, n, k), then m * n * k samples are drawn. If size is None (default), a single value is returned if p is a scalar. Otherwise, np.array(p).size samples are drawn.\n",
    "\n",
    "    Returns:\t\n",
    "\n",
    "    out : ndarray or scalar\n",
    "\n",
    "        Drawn samples from the parameterized logarithmic series distribution.\n",
    "\n",
    "The log series distribution is frequently used to represent species richness and occurrence, first proposed by Fisher, Corbet, and Williams in 1943 [2]. It may also be used to model the numbers of occupants seen in cars [3].\n",
    "\n",
    "Draw samples from the distribution:\n",
    ">>>\n",
    "\n",
    ">>> a = .6\n",
    ">>> s = np.random.logseries(a, 10000)\n",
    ">>> count, bins, ignored = plt.hist(s)\n",
    "\n",
    "#plot against distribution\n",
    ">>>\n",
    "\n",
    ">>> def logseries(k, p):\n",
    "...     return -p**k/(k*log(1-p))\n",
    ">>> plt.plot(bins, logseries(bins, a)*count.max()/\n",
    "             logseries(bins, a).max(), 'r')\n",
    ">>> plt.show()\n",
    "\n"
   ]
  },
  {
   "cell_type": "code",
   "execution_count": null,
   "metadata": {},
   "outputs": [],
   "source": []
  },
  {
   "cell_type": "code",
   "execution_count": null,
   "metadata": {},
   "outputs": [],
   "source": []
  },
  {
   "cell_type": "markdown",
   "metadata": {},
   "source": [
    "### random.multinomial"
   ]
  },
  {
   "cell_type": "markdown",
   "metadata": {},
   "source": [
    " numpy.random.multinomial(n, pvals, size=None)\n",
    "\n",
    "    Draw samples from a multinomial distribution.\n",
    "\n",
    "    The multinomial distribution is a multivariate generalisation of the binomial distribution. Take an experiment with one of p possible outcomes. An example of such an experiment is throwing a dice, where the outcome can be 1 through 6. Each sample drawn from the distribution represents n such experiments. Its values, X_i = [X_0, X_1, ..., X_p], represent the number of times the outcome was i.\n",
    "    Parameters:\t\n",
    "\n",
    "    n : int\n",
    "\n",
    "        Number of experiments.\n",
    "    pvals : sequence of floats, length p\n",
    "\n",
    "        Probabilities of each of the p different outcomes. These should sum to 1 (however, the last element is always assumed to account for the remaining probability, as long as sum(pvals[:-1]) <= 1).\n",
    "    size : int or tuple of ints, optional\n",
    "\n",
    "        Output shape. If the given shape is, e.g., (m, n, k), then m * n * k samples are drawn. Default is None, in which case a single value is returned.\n",
    "\n",
    "    Returns:\t\n",
    "\n",
    "    out : ndarray\n",
    "\n",
    "        The drawn samples, of shape size, if that was provided. If not, the shape is (N,).\n",
    "\n",
    "        In other words, each entry out[i,j,...,:] is an N-dimensional value drawn from the distribution.\n",
    "\n",
    "Throw a dice 20 times:\n",
    ">>>\n",
    "\n",
    ">>> np.random.multinomial(20, [1/6.]*6, size=1)\n",
    "array([[4, 1, 7, 5, 2, 1]])\n",
    "\n",
    "It landed 4 times on 1, once on 2, etc.\n",
    "\n",
    "Now, throw the dice 20 times, and 20 times again:\n",
    ">>>\n",
    "\n",
    ">>> np.random.multinomial(20, [1/6.]*6, size=2)\n",
    "array([[3, 4, 3, 3, 4, 3],\n",
    "       [2, 4, 3, 4, 0, 7]])\n",
    "\n",
    "For the first run, we threw 3 times 1, 4 times 2, etc. For the second, we threw 2 times 1, 4 times 2, etc.\n",
    "\n",
    "A loaded die is more likely to land on number 6:\n",
    ">>>\n",
    "\n",
    ">>> np.random.multinomial(100, [1/7.]*5 + [2/7.])\n",
    "array([11, 16, 14, 17, 16, 26])\n",
    "\n",
    "The probability inputs should be normalized. As an implementation detail, the value of the last entry is ignored and assumed to take up any leftover probability mass, but this should not be relied on. A biased coin which has twice as much weight on one side as on the other should be sampled like so:\n",
    ">>>\n",
    "\n",
    ">>> np.random.multinomial(100, [1.0 / 3, 2.0 / 3])  # RIGHT\n",
    "array([38, 62])\n",
    "\n",
    "not like:\n",
    ">>>\n",
    "\n",
    ">>> np.random.multinomial(100, [1.0, 2.0])  # WRONG\n",
    "array([100,   0])"
   ]
  },
  {
   "cell_type": "code",
   "execution_count": null,
   "metadata": {},
   "outputs": [],
   "source": []
  },
  {
   "cell_type": "code",
   "execution_count": null,
   "metadata": {},
   "outputs": [],
   "source": []
  },
  {
   "cell_type": "markdown",
   "metadata": {},
   "source": [
    "### random.multivariate_normal"
   ]
  },
  {
   "cell_type": "markdown",
   "metadata": {},
   "source": []
  },
  {
   "cell_type": "code",
   "execution_count": null,
   "metadata": {},
   "outputs": [],
   "source": []
  },
  {
   "cell_type": "code",
   "execution_count": null,
   "metadata": {},
   "outputs": [],
   "source": []
  },
  {
   "cell_type": "markdown",
   "metadata": {},
   "source": [
    "### random.negative_binomial"
   ]
  },
  {
   "cell_type": "markdown",
   "metadata": {},
   "source": []
  },
  {
   "cell_type": "code",
   "execution_count": null,
   "metadata": {},
   "outputs": [],
   "source": []
  },
  {
   "cell_type": "code",
   "execution_count": null,
   "metadata": {},
   "outputs": [],
   "source": []
  },
  {
   "cell_type": "markdown",
   "metadata": {},
   "source": [
    "### random.noncentral_chisquare"
   ]
  },
  {
   "cell_type": "markdown",
   "metadata": {},
   "source": []
  },
  {
   "cell_type": "code",
   "execution_count": null,
   "metadata": {},
   "outputs": [],
   "source": []
  },
  {
   "cell_type": "code",
   "execution_count": null,
   "metadata": {},
   "outputs": [],
   "source": []
  },
  {
   "cell_type": "markdown",
   "metadata": {},
   "source": [
    "### random.noncentral_f"
   ]
  },
  {
   "cell_type": "markdown",
   "metadata": {},
   "source": []
  },
  {
   "cell_type": "code",
   "execution_count": null,
   "metadata": {},
   "outputs": [],
   "source": []
  },
  {
   "cell_type": "code",
   "execution_count": null,
   "metadata": {},
   "outputs": [],
   "source": []
  },
  {
   "cell_type": "markdown",
   "metadata": {},
   "source": [
    "### random.normal"
   ]
  },
  {
   "cell_type": "markdown",
   "metadata": {},
   "source": []
  },
  {
   "cell_type": "code",
   "execution_count": null,
   "metadata": {},
   "outputs": [],
   "source": []
  },
  {
   "cell_type": "code",
   "execution_count": null,
   "metadata": {},
   "outputs": [],
   "source": []
  },
  {
   "cell_type": "markdown",
   "metadata": {},
   "source": [
    "### random.pareto"
   ]
  },
  {
   "cell_type": "markdown",
   "metadata": {},
   "source": []
  },
  {
   "cell_type": "code",
   "execution_count": null,
   "metadata": {},
   "outputs": [],
   "source": []
  },
  {
   "cell_type": "code",
   "execution_count": null,
   "metadata": {},
   "outputs": [],
   "source": []
  },
  {
   "cell_type": "markdown",
   "metadata": {},
   "source": [
    "### random.poisson"
   ]
  },
  {
   "cell_type": "markdown",
   "metadata": {},
   "source": []
  },
  {
   "cell_type": "code",
   "execution_count": null,
   "metadata": {},
   "outputs": [],
   "source": []
  },
  {
   "cell_type": "code",
   "execution_count": null,
   "metadata": {},
   "outputs": [],
   "source": []
  },
  {
   "cell_type": "markdown",
   "metadata": {},
   "source": [
    "### random.power"
   ]
  },
  {
   "cell_type": "markdown",
   "metadata": {},
   "source": []
  },
  {
   "cell_type": "code",
   "execution_count": null,
   "metadata": {},
   "outputs": [],
   "source": []
  },
  {
   "cell_type": "code",
   "execution_count": null,
   "metadata": {},
   "outputs": [],
   "source": []
  },
  {
   "cell_type": "markdown",
   "metadata": {},
   "source": [
    "### random.rayleigh"
   ]
  },
  {
   "cell_type": "markdown",
   "metadata": {},
   "source": []
  },
  {
   "cell_type": "code",
   "execution_count": null,
   "metadata": {},
   "outputs": [],
   "source": []
  },
  {
   "cell_type": "code",
   "execution_count": null,
   "metadata": {},
   "outputs": [],
   "source": []
  },
  {
   "cell_type": "markdown",
   "metadata": {},
   "source": [
    "### random.standard_cauchy"
   ]
  },
  {
   "cell_type": "markdown",
   "metadata": {},
   "source": []
  },
  {
   "cell_type": "code",
   "execution_count": null,
   "metadata": {},
   "outputs": [],
   "source": []
  },
  {
   "cell_type": "code",
   "execution_count": null,
   "metadata": {},
   "outputs": [],
   "source": []
  },
  {
   "cell_type": "markdown",
   "metadata": {},
   "source": [
    "### random.standard_exponential"
   ]
  },
  {
   "cell_type": "markdown",
   "metadata": {},
   "source": []
  },
  {
   "cell_type": "code",
   "execution_count": null,
   "metadata": {},
   "outputs": [],
   "source": []
  },
  {
   "cell_type": "code",
   "execution_count": null,
   "metadata": {},
   "outputs": [],
   "source": []
  },
  {
   "cell_type": "markdown",
   "metadata": {},
   "source": [
    "### random.standard_gamma"
   ]
  },
  {
   "cell_type": "markdown",
   "metadata": {},
   "source": []
  },
  {
   "cell_type": "code",
   "execution_count": null,
   "metadata": {},
   "outputs": [],
   "source": []
  },
  {
   "cell_type": "code",
   "execution_count": null,
   "metadata": {},
   "outputs": [],
   "source": []
  },
  {
   "cell_type": "markdown",
   "metadata": {},
   "source": [
    "### random.standard_normal"
   ]
  },
  {
   "cell_type": "markdown",
   "metadata": {},
   "source": []
  },
  {
   "cell_type": "code",
   "execution_count": null,
   "metadata": {},
   "outputs": [],
   "source": []
  },
  {
   "cell_type": "code",
   "execution_count": null,
   "metadata": {},
   "outputs": [],
   "source": []
  },
  {
   "cell_type": "markdown",
   "metadata": {},
   "source": [
    "### random.standard_t"
   ]
  },
  {
   "cell_type": "markdown",
   "metadata": {},
   "source": []
  },
  {
   "cell_type": "code",
   "execution_count": null,
   "metadata": {},
   "outputs": [],
   "source": []
  },
  {
   "cell_type": "code",
   "execution_count": null,
   "metadata": {},
   "outputs": [],
   "source": []
  },
  {
   "cell_type": "markdown",
   "metadata": {},
   "source": [
    "### random.triangular"
   ]
  },
  {
   "cell_type": "markdown",
   "metadata": {},
   "source": []
  },
  {
   "cell_type": "code",
   "execution_count": null,
   "metadata": {},
   "outputs": [],
   "source": []
  },
  {
   "cell_type": "code",
   "execution_count": null,
   "metadata": {},
   "outputs": [],
   "source": []
  },
  {
   "cell_type": "markdown",
   "metadata": {},
   "source": [
    "### random.uniform"
   ]
  },
  {
   "cell_type": "markdown",
   "metadata": {},
   "source": []
  },
  {
   "cell_type": "code",
   "execution_count": null,
   "metadata": {},
   "outputs": [],
   "source": []
  },
  {
   "cell_type": "code",
   "execution_count": null,
   "metadata": {},
   "outputs": [],
   "source": []
  },
  {
   "cell_type": "markdown",
   "metadata": {},
   "source": [
    "### random.vonmises"
   ]
  },
  {
   "cell_type": "markdown",
   "metadata": {},
   "source": []
  },
  {
   "cell_type": "code",
   "execution_count": null,
   "metadata": {},
   "outputs": [],
   "source": []
  },
  {
   "cell_type": "code",
   "execution_count": null,
   "metadata": {},
   "outputs": [],
   "source": []
  },
  {
   "cell_type": "markdown",
   "metadata": {},
   "source": [
    "### random.wald"
   ]
  },
  {
   "cell_type": "markdown",
   "metadata": {},
   "source": []
  },
  {
   "cell_type": "code",
   "execution_count": null,
   "metadata": {},
   "outputs": [],
   "source": []
  },
  {
   "cell_type": "code",
   "execution_count": null,
   "metadata": {},
   "outputs": [],
   "source": []
  },
  {
   "cell_type": "markdown",
   "metadata": {},
   "source": [
    "### random.weibull"
   ]
  },
  {
   "cell_type": "markdown",
   "metadata": {},
   "source": []
  },
  {
   "cell_type": "code",
   "execution_count": null,
   "metadata": {},
   "outputs": [],
   "source": []
  },
  {
   "cell_type": "code",
   "execution_count": null,
   "metadata": {},
   "outputs": [],
   "source": []
  },
  {
   "cell_type": "markdown",
   "metadata": {},
   "source": [
    "### random.zipf"
   ]
  },
  {
   "cell_type": "markdown",
   "metadata": {},
   "source": []
  },
  {
   "cell_type": "code",
   "execution_count": null,
   "metadata": {},
   "outputs": [],
   "source": []
  },
  {
   "cell_type": "code",
   "execution_count": null,
   "metadata": {},
   "outputs": [],
   "source": []
  },
  {
   "cell_type": "markdown",
   "metadata": {},
   "source": [
    "<a id=\"RandomGenerator\"></a>\n",
    "## Random generator"
   ]
  },
  {
   "cell_type": "markdown",
   "metadata": {},
   "source": [
    "### random.RandomState"
   ]
  },
  {
   "cell_type": "markdown",
   "metadata": {},
   "source": []
  },
  {
   "cell_type": "code",
   "execution_count": null,
   "metadata": {},
   "outputs": [],
   "source": []
  },
  {
   "cell_type": "code",
   "execution_count": null,
   "metadata": {},
   "outputs": [],
   "source": []
  },
  {
   "cell_type": "markdown",
   "metadata": {},
   "source": [
    "### random.seed"
   ]
  },
  {
   "cell_type": "markdown",
   "metadata": {},
   "source": []
  },
  {
   "cell_type": "code",
   "execution_count": null,
   "metadata": {},
   "outputs": [],
   "source": []
  },
  {
   "cell_type": "code",
   "execution_count": null,
   "metadata": {},
   "outputs": [],
   "source": []
  },
  {
   "cell_type": "markdown",
   "metadata": {},
   "source": [
    "### random.get_state"
   ]
  },
  {
   "cell_type": "markdown",
   "metadata": {},
   "source": []
  },
  {
   "cell_type": "code",
   "execution_count": null,
   "metadata": {},
   "outputs": [],
   "source": []
  },
  {
   "cell_type": "code",
   "execution_count": null,
   "metadata": {},
   "outputs": [],
   "source": []
  },
  {
   "cell_type": "markdown",
   "metadata": {},
   "source": [
    "### random.set_state"
   ]
  },
  {
   "cell_type": "markdown",
   "metadata": {},
   "source": []
  },
  {
   "cell_type": "code",
   "execution_count": null,
   "metadata": {},
   "outputs": [],
   "source": []
  },
  {
   "cell_type": "code",
   "execution_count": null,
   "metadata": {},
   "outputs": [],
   "source": []
  },
  {
   "cell_type": "markdown",
   "metadata": {},
   "source": [
    "### random.random_sample"
   ]
  },
  {
   "cell_type": "markdown",
   "metadata": {},
   "source": []
  },
  {
   "cell_type": "code",
   "execution_count": null,
   "metadata": {},
   "outputs": [],
   "source": []
  },
  {
   "cell_type": "code",
   "execution_count": null,
   "metadata": {},
   "outputs": [],
   "source": []
  },
  {
   "cell_type": "markdown",
   "metadata": {},
   "source": [
    "### random.standard_normal"
   ]
  },
  {
   "cell_type": "markdown",
   "metadata": {},
   "source": []
  },
  {
   "cell_type": "code",
   "execution_count": null,
   "metadata": {},
   "outputs": [],
   "source": []
  },
  {
   "cell_type": "code",
   "execution_count": null,
   "metadata": {},
   "outputs": [],
   "source": []
  },
  {
   "cell_type": "markdown",
   "metadata": {},
   "source": []
  },
  {
   "cell_type": "markdown",
   "metadata": {},
   "source": []
  },
  {
   "cell_type": "markdown",
   "metadata": {},
   "source": []
  },
  {
   "cell_type": "code",
   "execution_count": 25,
   "metadata": {},
   "outputs": [
    {
     "data": {
      "text/plain": [
       "8.383057963629755"
      ]
     },
     "execution_count": 25,
     "metadata": {},
     "output_type": "execute_result"
    }
   ],
   "source": [
    "np.random.uniform(0.0, 10.0)"
   ]
  },
  {
   "cell_type": "code",
   "execution_count": 26,
   "metadata": {},
   "outputs": [
    {
     "data": {
      "text/plain": [
       "array([[ 0,  1,  2,  3,  4],\n",
       "       [ 5,  6,  7,  8,  9],\n",
       "       [10, 11, 12, 13, 14]])"
      ]
     },
     "execution_count": 26,
     "metadata": {},
     "output_type": "execute_result"
    }
   ],
   "source": [
    "np.arange(15).reshape(3,5)"
   ]
  },
  {
   "cell_type": "markdown",
   "metadata": {},
   "source": [
    "When using the .arange() and .reshape() together the parameters of the .reshape() method must multiply to equal the parameter of the .arange() method."
   ]
  },
  {
   "cell_type": "code",
   "execution_count": null,
   "metadata": {},
   "outputs": [],
   "source": []
  }
 ],
 "metadata": {
  "kernelspec": {
   "display_name": "Python 3",
   "language": "python",
   "name": "python3"
  },
  "language_info": {
   "codemirror_mode": {
    "name": "ipython",
    "version": 3
   },
   "file_extension": ".py",
   "mimetype": "text/x-python",
   "name": "python",
   "nbconvert_exporter": "python",
   "pygments_lexer": "ipython3",
   "version": "3.6.5"
  }
 },
 "nbformat": 4,
 "nbformat_minor": 2
}

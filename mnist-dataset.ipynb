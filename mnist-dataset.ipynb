{
 "cells": [
  {
   "cell_type": "markdown",
   "metadata": {},
   "source": [
    "## Table Of Contents\n",
    "-  [Introduction](#introduction)\n",
    "-  [The Dataset](#dataset)\n",
    "-  [Displaying MNIST Dataset](#displaying)\n",
    "-  [Storing The Images Locally](#storing)\n",
    "-  [Sources](#sources)"
   ]
  },
  {
   "cell_type": "markdown",
   "metadata": {},
   "source": [
    "# Introduction<a id=\"introduction\"></a>\n",
    "\n",
    "The Modified National Institute of Standards and Technology database, or MNIST for short, is a large database of handwritten digits. The MNIST database is widely used for training and testing in the field of machine learning. The MNIST database is a combination of two of NIST's databases, the Special Database 1 and Special Database 3. The Special Database 1 consists of digits written by American high school students and Special Database 3 consist of digits written by employees of the United States Census Bureau. \n",
    "\n",
    "The MNIST database contains 60,000 training images and 10,000 testing images. The MNIST training set and test set are each comprised of half of the NIST training set and the NIST test set. \n",
    "\n",
    "There are several scientific papers with an aim of reducing the cost/ error rate using the MNIST dataset. One paper, using a hierarchical system of convolutional neural networks manages to get an error rate of 0.23%, the original paper used a support vector machine to get an error rate of 0.8%. \n",
    "\n",
    "An extended dataset similar to MNIST called EMNIST has been published in 2017, this dataset contains 240,000 training images, and 40,000 testing images. This dataset contains both digits and characters.\n",
    "\n",
    "# The Dataset<a id=\"dataset\"></a>\n",
    "\n",
    "The MNIST dataset can be downloaded [here](http://www.mlblog.net/2016/09/reading-mnist-in-python3.html). The file downloaded, once extracted in Python, has the .pkl extention, these types of files are serialized by the python module [pickle](https://docs.python.org/2/library/pickle.html). The reason for serializing, or 'pickling' as it's better known, is to save space when storing or transferring over a network.\n",
    "\n",
    "### Using Pickle"
   ]
  },
  {
   "cell_type": "code",
   "execution_count": 2,
   "metadata": {},
   "outputs": [],
   "source": [
    "import pickle as pkl\n",
    "import gzip"
   ]
  },
  {
   "cell_type": "markdown",
   "metadata": {},
   "source": [
    "Pickle is imported as above. We can populate the three datasets, train_set, valid_set and test_set with the MNIST pickle file by call the method pickle.load(), this method takes a file as a parameter.\n",
    "\n",
    "The file before extraction has .gz extention, in Python I used the [gzip](https://docs.python.org/2/library/gzip.html) module to extract the .pkl file, this is imported above. I also had to set the encoding to *latin1* because of an incompatibility issue encountered between python 2 and python 3, more information on this error can be found [here](https://stackoverflow.com/questions/11305790/pickle-incompatibility-of-numpy-arrays-between-python-2-and-3)."
   ]
  },
  {
   "cell_type": "code",
   "execution_count": 3,
   "metadata": {},
   "outputs": [],
   "source": [
    "# Load the dataset\n",
    "file = gzip.open('mnist.pkl.gz', 'rb')\n",
    "train_set, valid_set, test_set = pkl.load(file, encoding='latin1') \n",
    "file.close()"
   ]
  },
  {
   "cell_type": "markdown",
   "metadata": {},
   "source": [
    "# Displaying MNIST dataset<a id=\"displaying\"></a>"
   ]
  },
  {
   "cell_type": "code",
   "execution_count": 4,
   "metadata": {},
   "outputs": [],
   "source": [
    "import matplotlib.cm as cm\n",
    "import matplotlib.pyplot as plt\n",
    "import numpy as np"
   ]
  },
  {
   "cell_type": "markdown",
   "metadata": {},
   "source": [
    "To display this dataset I imported [matplotlib.cm](https://matplotlib.org/api/cm_api.html) and [mathplotlib.pyplot](https://matplotlib.org/api/_as_gen/matplotlib.pyplot.plot.html), these modules are not the core focus of this notebook so I have only provided links to them.\n",
    "\n",
    "The first step before we display the dataset is to further divide the 'train_set' from above:"
   ]
  },
  {
   "cell_type": "code",
   "execution_count": 5,
   "metadata": {},
   "outputs": [],
   "source": [
    "train_x, train_y = train_set"
   ]
  },
  {
   "cell_type": "markdown",
   "metadata": {},
   "source": [
    "This above splits them up into digit inputs, the train_x, and label outputs, the train_y. \n",
    "Below are some sample images from the train_x set, these have been set to greyscale and then displayed. The commented section is a loop that will output all of the training images."
   ]
  },
  {
   "cell_type": "code",
   "execution_count": 6,
   "metadata": {},
   "outputs": [
    {
     "data": {
      "image/png": "[encoded data removed]",
      "text/plain": [
       "<Figure size 432x288 with 1 Axes>"
      ]
     },
     "metadata": {},
     "output_type": "display_data"
    },
    {
     "data": {
      "image/png": "[encoded data removed]",
      "text/plain": [
       "<Figure size 432x288 with 1 Axes>"
      ]
     },
     "metadata": {},
     "output_type": "display_data"
    }
   ],
   "source": [
    "plt.imshow(train_x[4].reshape((28, 28)), cmap=cm.Greys_r)\n",
    "plt.show()\n",
    "plt.imshow(train_x[300].reshape((28, 28)), cmap=cm.Greys_r)\n",
    "plt.show()\n",
    "\n",
    "# The above will print a couple of sample images,\n",
    "# If you want to print the full dataset in this notebook (not recommended)\n",
    "# uncomment the following lines of code\n",
    "# for x in train_y:\n",
    "#     plt.imshow(train_x[x].reshape((28, 28)), cmap=cm.Greys_r)\n",
    "#     plt.show()"
   ]
  },
  {
   "cell_type": "markdown",
   "metadata": {},
   "source": [
    "## Storing the images locally<a id=\"storing\"></a>"
   ]
  },
  {
   "cell_type": "code",
   "execution_count": 8,
   "metadata": {},
   "outputs": [],
   "source": [
    "from skimage.io import imsave"
   ]
  },
  {
   "cell_type": "markdown",
   "metadata": {},
   "source": [
    "The [Scikit](https://scikit-image.org/) imsave module is imported above, this module allows us to save numpy arrays as an image file locally."
   ]
  },
  {
   "cell_type": "code",
   "execution_count": null,
   "metadata": {},
   "outputs": [
    {
     "name": "stderr",
     "output_type": "stream",
     "text": [
      "C:\\ProgramData\\Anaconda\\lib\\site-packages\\skimage\\util\\dtype.py:122: UserWarning: Possible precision loss when converting from float32 to uint16\n",
      "  .format(dtypeobj_in, dtypeobj_out))\n"
     ]
    }
   ],
   "source": [
    "# CAUTION: The following loop will save ALL images in the training set locally,\n",
    "#          Uncomment all lines below not marked 'COMMENT:' to store all images in this set locally.\n",
    "\n",
    "# for i in range(len(train_x)):\n",
    "    # COMMENT: create the file name as: index + '-' + image label + .png extention\n",
    "    # file_name = str(i) + \"-\" + str(train_y[i]) + \".png\"\n",
    "    # COMMENT: save the image with the created file name\n",
    "    # imsave(file_name, train_x[i].reshape((28, 28)))\n",
    "    # print(file_name) # COMMENT: optional file_name output"
   ]
  },
  {
   "cell_type": "markdown",
   "metadata": {},
   "source": [
    "# Sources<a id=\"sources\"></a>\n",
    "[MNIST dataset wiki](https://en.wikipedia.org/wiki/MNIST_database)<br>\n",
    "[Displaying MNIST Digits using mathplotlib](https://stackoverflow.com/questions/24906126/how-to-unpack-pkl-file)<br>\n",
    "[Getting started with the MNIST dataset](http://www.deeplearning.net/tutorial/gettingstarted.html)<br>"
   ]
  }
 ],
 "metadata": {
  "kernelspec": {
   "display_name": "Python 3",
   "language": "python",
   "name": "python3"
  },
  "language_info": {
   "codemirror_mode": {
    "name": "ipython",
    "version": 3
   },
   "file_extension": ".py",
   "mimetype": "text/x-python",
   "name": "python",
   "nbconvert_exporter": "python",
   "pygments_lexer": "ipython3",
   "version": "3.6.5"
  }
 },
 "nbformat": 4,
 "nbformat_minor": 2
}
